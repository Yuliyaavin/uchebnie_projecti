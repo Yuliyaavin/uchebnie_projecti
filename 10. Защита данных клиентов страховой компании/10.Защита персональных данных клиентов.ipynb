{
 "cells": [
  {
   "cell_type": "markdown",
   "id": "9759684d",
   "metadata": {},
   "source": [
    "# Защита персональных данных клиентов"
   ]
  },
  {
   "cell_type": "markdown",
   "id": "d9074705",
   "metadata": {},
   "source": [
    "## Описание проекта"
   ]
  },
  {
   "cell_type": "markdown",
   "id": "11eee727",
   "metadata": {},
   "source": [
    "    Вам нужно защитить данные клиентов страховой компании «Хоть потоп». Разработайте такой метод преобразования данных, чтобы по ним было сложно восстановить персональную информацию. Обоснуйте корректность его работы.\n",
    "   \n",
    "    Нужно защитить данные, чтобы при преобразовании качество моделей машинного обучения не ухудшилось. Подбирать наилучшую модель не требуется.\n",
    "   \n",
    "    Набор данных находится в файле /datasets/insurance.csv. Скачать датасет.\n",
    "    \n",
    "    Признаки: пол, возраст и зарплата застрахованного, количество членов его семьи.\n",
    "    Целевой признак: количество страховых выплат клиенту за последние 5 лет."
   ]
  },
  {
   "cell_type": "markdown",
   "id": "27b69f65",
   "metadata": {},
   "source": [
    "## 1. Загрузите и изучите данные."
   ]
  },
  {
   "cell_type": "code",
   "execution_count": 1,
   "id": "0069ec6f",
   "metadata": {},
   "outputs": [],
   "source": [
    "import pandas as pd\n",
    "import numpy as np\n",
    "from sklearn.linear_model import LinearRegression\n",
    "from sklearn.model_selection import train_test_split\n",
    "from sklearn.metrics import r2_score\n",
    "from sklearn.pipeline import Pipeline\n",
    "import warnings\n",
    "warnings.filterwarnings(\"ignore\")\n",
    "from IPython.display import display, Math, Latex"
   ]
  },
  {
   "cell_type": "code",
   "execution_count": 2,
   "id": "5a8abf49",
   "metadata": {},
   "outputs": [],
   "source": [
    "try:\n",
    "    df = pd.read_csv('insurance.csv', sep=',')\n",
    "except:\n",
    "    df = pd.read_csv('/datasets/insurance.csv', sep=',')"
   ]
  },
  {
   "cell_type": "markdown",
   "id": "c34a8c07",
   "metadata": {},
   "source": [
    "Изучим данные."
   ]
  },
  {
   "cell_type": "code",
   "execution_count": 3,
   "id": "ff69ada9",
   "metadata": {},
   "outputs": [
    {
     "name": "stdout",
     "output_type": "stream",
     "text": [
      "Явные дубликаты: 153\n",
      "========================================\n",
      "Пропуски:\n",
      "Пол                  0\n",
      "Возраст              0\n",
      "Зарплата             0\n",
      "Члены семьи          0\n",
      "Страховые выплаты    0\n",
      "dtype: int64\n",
      "==============================================\n",
      "Общая информация:\n",
      "<class 'pandas.core.frame.DataFrame'>\n",
      "RangeIndex: 5000 entries, 0 to 4999\n",
      "Data columns (total 5 columns):\n",
      " #   Column             Non-Null Count  Dtype  \n",
      "---  ------             --------------  -----  \n",
      " 0   Пол                5000 non-null   int64  \n",
      " 1   Возраст            5000 non-null   float64\n",
      " 2   Зарплата           5000 non-null   float64\n",
      " 3   Члены семьи        5000 non-null   int64  \n",
      " 4   Страховые выплаты  5000 non-null   int64  \n",
      "dtypes: float64(2), int64(3)\n",
      "memory usage: 195.4 KB\n",
      "None\n",
      "=============================================================================\n",
      "               Пол      Возраст      Зарплата  Члены семьи  Страховые выплаты\n",
      "count  5000.000000  5000.000000   5000.000000  5000.000000        5000.000000\n",
      "mean      0.499000    30.952800  39916.360000     1.194200           0.148000\n",
      "std       0.500049     8.440807   9900.083569     1.091387           0.463183\n",
      "min       0.000000    18.000000   5300.000000     0.000000           0.000000\n",
      "25%       0.000000    24.000000  33300.000000     0.000000           0.000000\n",
      "50%       0.000000    30.000000  40200.000000     1.000000           0.000000\n",
      "75%       1.000000    37.000000  46600.000000     2.000000           0.000000\n",
      "max       1.000000    65.000000  79000.000000     6.000000           5.000000\n"
     ]
    }
   ],
   "source": [
    "print('Явные дубликаты:', df.duplicated().sum())\n",
    "print('========================================')\n",
    "print('Пропуски:')\n",
    "print(df.isna().sum())\n",
    "print('==============================================')\n",
    "print('Общая информация:')\n",
    "print(df.info())\n",
    "print('=============================================================================')\n",
    "print(df.describe())"
   ]
  },
  {
   "cell_type": "code",
   "execution_count": 4,
   "id": "44dac2de",
   "metadata": {},
   "outputs": [
    {
     "data": {
      "text/html": [
       "<div>\n",
       "<style scoped>\n",
       "    .dataframe tbody tr th:only-of-type {\n",
       "        vertical-align: middle;\n",
       "    }\n",
       "\n",
       "    .dataframe tbody tr th {\n",
       "        vertical-align: top;\n",
       "    }\n",
       "\n",
       "    .dataframe thead th {\n",
       "        text-align: right;\n",
       "    }\n",
       "</style>\n",
       "<table border=\"1\" class=\"dataframe\">\n",
       "  <thead>\n",
       "    <tr style=\"text-align: right;\">\n",
       "      <th></th>\n",
       "      <th>Пол</th>\n",
       "      <th>Возраст</th>\n",
       "      <th>Зарплата</th>\n",
       "      <th>Члены семьи</th>\n",
       "      <th>Страховые выплаты</th>\n",
       "    </tr>\n",
       "  </thead>\n",
       "  <tbody>\n",
       "    <tr>\n",
       "      <th>0</th>\n",
       "      <td>1</td>\n",
       "      <td>41.0</td>\n",
       "      <td>49600.0</td>\n",
       "      <td>1</td>\n",
       "      <td>0</td>\n",
       "    </tr>\n",
       "    <tr>\n",
       "      <th>1</th>\n",
       "      <td>0</td>\n",
       "      <td>46.0</td>\n",
       "      <td>38000.0</td>\n",
       "      <td>1</td>\n",
       "      <td>1</td>\n",
       "    </tr>\n",
       "    <tr>\n",
       "      <th>2</th>\n",
       "      <td>0</td>\n",
       "      <td>29.0</td>\n",
       "      <td>21000.0</td>\n",
       "      <td>0</td>\n",
       "      <td>0</td>\n",
       "    </tr>\n",
       "    <tr>\n",
       "      <th>3</th>\n",
       "      <td>0</td>\n",
       "      <td>21.0</td>\n",
       "      <td>41700.0</td>\n",
       "      <td>2</td>\n",
       "      <td>0</td>\n",
       "    </tr>\n",
       "    <tr>\n",
       "      <th>4</th>\n",
       "      <td>1</td>\n",
       "      <td>28.0</td>\n",
       "      <td>26100.0</td>\n",
       "      <td>0</td>\n",
       "      <td>0</td>\n",
       "    </tr>\n",
       "  </tbody>\n",
       "</table>\n",
       "</div>"
      ],
      "text/plain": [
       "   Пол  Возраст  Зарплата  Члены семьи  Страховые выплаты\n",
       "0    1     41.0   49600.0            1                  0\n",
       "1    0     46.0   38000.0            1                  1\n",
       "2    0     29.0   21000.0            0                  0\n",
       "3    0     21.0   41700.0            2                  0\n",
       "4    1     28.0   26100.0            0                  0"
      ]
     },
     "execution_count": 4,
     "metadata": {},
     "output_type": "execute_result"
    }
   ],
   "source": [
    "df.head(5)"
   ]
  },
  {
   "cell_type": "markdown",
   "id": "fd3aaf9e",
   "metadata": {},
   "source": [
    "Выводы: \n",
    "    \n",
    "    1. В данных нет пропусков\n",
    "    2. Представленные значения в числовом формате\n",
    "    3. Признаки состоят из 4 столбцов и 5000 строк\n",
    "    4. Обнаруживаются явные дубликаты. Не претендую на истину, но думаю, что это могут быть совпадения, а не реальные дубликаты, поэтому оставлю как есть.\n",
    "    5. Выбросов не замечено."
   ]
  },
  {
   "cell_type": "markdown",
   "id": "96309608",
   "metadata": {},
   "source": [
    "## 2. Ответьте на вопрос и обоснуйте решение. \n",
    " Признаки умножают на обратимую матрицу P. Изменится ли качество линейной регрессии? "
   ]
  },
  {
   "attachments": {
    "image-2.png": {
     "image/png": "[encoded data removed]"
    },
    "image-3.png": {
     "image/png": "[encoded data removed]"
    },
    "image-4.png": {
     "image/png": "[encoded data removed]"
    },
    "image-5.png": {
     "image/png": "[encoded data removed]"
    },
    "image.png": {
     "image/png": "[encoded data removed]"
    }
   },
   "cell_type": "markdown",
   "id": "7069e332",
   "metadata": {},
   "source": [
    "Для выяснения вопроса воспользуемся свойствами матриц:\n",
    "1. Умножение исходной матрицы на обратную дает нам единичную матрицу:\n",
    "![image-3.png](attachment:image-3.png)\n",
    "2. Произведение любой матрицы и единичной матрицы подходящего размера равно самой матрице:\n",
    "![image-4.png](attachment:image-4.png)\n",
    "\n",
    "3. Свойство обратной матрицы:  \n",
    "![image-5.png](attachment:image-5.png)\n",
    "4. Ассоциативность:\n",
    "![image-2.png](attachment:image-2.png)\n",
    "5. Транспонированное произведение матриц равно произведению транспонированных матриц, взятых в обратном порядке:\n",
    "![image.png](attachment:image.png)"
   ]
  },
  {
   "cell_type": "markdown",
   "id": "0c93260e",
   "metadata": {},
   "source": [
    "Запишем формулы в исходном и преобразованном виде:"
   ]
  },
  {
   "cell_type": "code",
   "execution_count": 5,
   "id": "34d23a23",
   "metadata": {},
   "outputs": [
    {
     "data": {
      "text/latex": [
       "$\\displaystyle a = Xw = X (X^TX)^{-1} X^T y$"
      ],
      "text/plain": [
       "<IPython.core.display.Math object>"
      ]
     },
     "metadata": {},
     "output_type": "display_data"
    },
    {
     "data": {
      "text/latex": [
       "$\\displaystyle a' = (XP)w'$"
      ],
      "text/plain": [
       "<IPython.core.display.Math object>"
      ]
     },
     "metadata": {},
     "output_type": "display_data"
    }
   ],
   "source": [
    "# Модель с исходными данными\n",
    "display(Math(r\"a = Xw = X (X^TX)^{-1} X^T y\"))\n",
    "# Модельс преобразованными данными\n",
    "display(Math(r\"a' = (XP)w'\"))"
   ]
  },
  {
   "cell_type": "markdown",
   "id": "908d6539",
   "metadata": {},
   "source": [
    "Последовательно упростим выражение с помощью свойств выше:"
   ]
  },
  {
   "cell_type": "code",
   "execution_count": 6,
   "id": "c1211fbd",
   "metadata": {},
   "outputs": [
    {
     "data": {
      "text/latex": [
       "$\\displaystyle w' = ((XP)^TXP)^{-1} (XP)^T y$"
      ],
      "text/plain": [
       "<IPython.core.display.Math object>"
      ]
     },
     "metadata": {},
     "output_type": "display_data"
    },
    {
     "data": {
      "text/latex": [
       "$\\displaystyle a' = XP((XP)^TXP)^{-1} (XP)^T y = XP(P^T (X^T X) P)^{-1}(XP)^T y = XP P^{-1} (X^TX)^{-1} (P^T)^{-1}$"
      ],
      "text/plain": [
       "<IPython.core.display.Math object>"
      ]
     },
     "metadata": {},
     "output_type": "display_data"
    },
    {
     "data": {
      "text/latex": [
       "$\\displaystyle a' = XP P^{-1} (X^TX)^{-1} (P^T)^{-1}P^T X^T y = XE (X^TX)^{-1} E X^T y$"
      ],
      "text/plain": [
       "<IPython.core.display.Math object>"
      ]
     },
     "metadata": {},
     "output_type": "display_data"
    }
   ],
   "source": [
    "display(Math(r\"w' = ((XP)^TXP)^{-1} (XP)^T y\"))\n",
    "display(Math(r\"a' = XP((XP)^TXP)^{-1} (XP)^T y = XP(P^T (X^T X) P)^{-1}(XP)^T y = XP P^{-1} (X^TX)^{-1} (P^T)^{-1}\"))\n",
    "display(Math(r\"a' = XP P^{-1} (X^TX)^{-1} (P^T)^{-1}P^T X^T y = XE (X^TX)^{-1} E X^T y\"))"
   ]
  },
  {
   "cell_type": "markdown",
   "id": "1273fa8c",
   "metadata": {},
   "source": [
    "Используя свойтсво: \"Произведение любой матрицы и единичной матрицы подходящего размера равно самой матрице\", приводим выражение к виду:"
   ]
  },
  {
   "cell_type": "code",
   "execution_count": 7,
   "id": "e4a55098",
   "metadata": {},
   "outputs": [
    {
     "data": {
      "text/latex": [
       "$\\displaystyle a' = X (X^TX)^{-1} X^T y$"
      ],
      "text/plain": [
       "<IPython.core.display.Math object>"
      ]
     },
     "metadata": {},
     "output_type": "display_data"
    }
   ],
   "source": [
    "display(Math(r\"a' = X (X^TX)^{-1} X^T y\"))"
   ]
  },
  {
   "cell_type": "markdown",
   "id": "5ba1d6ed",
   "metadata": {},
   "source": [
    "Таким образом, получилось равенство:"
   ]
  },
  {
   "cell_type": "code",
   "execution_count": 8,
   "id": "a79ab403",
   "metadata": {},
   "outputs": [
    {
     "data": {
      "text/latex": [
       "$\\displaystyle a = a'$"
      ],
      "text/plain": [
       "<IPython.core.display.Math object>"
      ]
     },
     "metadata": {},
     "output_type": "display_data"
    }
   ],
   "source": [
    "display(Math(r\"a = a'\"))"
   ]
  },
  {
   "cell_type": "markdown",
   "id": "ee9ddaf4",
   "metadata": {},
   "source": [
    "ВЫВОД: Качество линейной регрессии при умножении признаков на обратимую матрицу не изменится."
   ]
  },
  {
   "cell_type": "markdown",
   "id": "2a0a434e",
   "metadata": {},
   "source": [
    "Исходный вариант   \n",
    "$$\n",
    "w = \\arg\\min_w MSE(Xw, y)\n",
    "$$\n",
    "    \n",
    "  \n",
    "и пребразованный    \n",
    "    \n",
    "$$\n",
    "w_P = \\arg\\min_w MSE(XPw_p, y)\n",
    "$$  \n",
    "    \n",
    "    \n",
    "И делая  замену    w_p, видим что задача  \n",
    "$$\n",
    "\\arg\\min_w MSE(XPw_p, y)\n",
    "$$\n",
    "\n",
    "$$\n",
    "w_p = P^{-1}w\n",
    "$$ \n",
    "\n",
    "$$\n",
    "\\arg\\min_w MSE(XPP^{-1}w, y)\n",
    "$$\n",
    "\n",
    "$$\n",
    "\\arg\\min_w MSE(XEw, y)\n",
    "$$\n",
    "\n",
    "    \n",
    "сводится к     \n",
    "  \n",
    "    \n",
    "$$\n",
    "\\arg\\min_w MSE(Xw, y)\n",
    "$$"
   ]
  },
  {
   "cell_type": "code",
   "execution_count": 9,
   "id": "fc5b2e98",
   "metadata": {},
   "outputs": [
    {
     "data": {
      "text/latex": [
       "$\\displaystyle w' = P^{-1}(X^TX)^{-1}EX^Ty  = P^{-1}(X^TX)^{-1}X^Ty$"
      ],
      "text/plain": [
       "<IPython.core.display.Math object>"
      ]
     },
     "metadata": {},
     "output_type": "display_data"
    },
    {
     "data": {
      "text/latex": [
       "$\\displaystyle w' =  P^{-1}w$"
      ],
      "text/plain": [
       "<IPython.core.display.Math object>"
      ]
     },
     "metadata": {},
     "output_type": "display_data"
    }
   ],
   "source": [
    "# display(Math(r\"w' = ((XP)^TXP)^{-1} (XP)^T y = (P^T(X^TX)P)^{-1} P^TX^T y = P^{-1}(X^TX)^{-1}(P^T)^{-1}P^TX^Ty \"))\n",
    "display(Math(r\"w' = P^{-1}(X^TX)^{-1}EX^Ty  = P^{-1}(X^TX)^{-1}X^Ty\"))\n",
    "display(Math(r\"w' =  P^{-1}w\"))\n"
   ]
  },
  {
   "cell_type": "markdown",
   "id": "d069ad61",
   "metadata": {},
   "source": [
    "## 3. Предложите алгоритм преобразования данных для решения задачи. Обоснуйте, почему качество линейной регрессии не поменяется."
   ]
  },
  {
   "cell_type": "markdown",
   "id": "efba62da",
   "metadata": {},
   "source": [
    "1. Создадим рандомную квадртантую матрицу 4х4\n",
    "2. Проверим на обратимость\n",
    "3. Если матрица не прошла проверку на обратимость - возвращаемся в п.1\n",
    "4. Перемножим признаки и обратную матрицу.\n",
    "5. Определим R2 на исходных и преобразованных данных\n",
    "6. Сравним полученные значения"
   ]
  },
  {
   "cell_type": "markdown",
   "id": "0d94e326",
   "metadata": {},
   "source": [
    "## 4. Запрограммируйте этот алгоритм, применив матричные операции. Проверьте, что качество линейной регрессии из sklearn не отличается до и после преобразования. Примените метрику R2."
   ]
  },
  {
   "cell_type": "markdown",
   "id": "af906663",
   "metadata": {},
   "source": [
    "Обучим модель и применим метрику R2 на исходных данных."
   ]
  },
  {
   "cell_type": "code",
   "execution_count": 10,
   "id": "5e2027aa",
   "metadata": {},
   "outputs": [
    {
     "name": "stdout",
     "output_type": "stream",
     "text": [
      "R2_first = 0.43522757127026546\n"
     ]
    }
   ],
   "source": [
    "features = df.drop(['Страховые выплаты'],axis=1)\n",
    "target = df['Страховые выплаты']\n",
    "features_train, features_test, target_train, target_test = train_test_split(\n",
    "    features, target, test_size=0.25, random_state=12345)\n",
    "\n",
    "model = LinearRegression()\n",
    "model.fit(features_train, target_train)\n",
    "print(\"R2_first =\", r2_score(target_test, model.predict(features_test)))"
   ]
  },
  {
   "cell_type": "markdown",
   "id": "78d1fe70",
   "metadata": {},
   "source": [
    "R2 для исходных данных равна 0,4352275"
   ]
  },
  {
   "cell_type": "markdown",
   "id": "89351c66",
   "metadata": {},
   "source": [
    "Преобразуем признаки с помощью обратимой матрицы. "
   ]
  },
  {
   "cell_type": "code",
   "execution_count": 11,
   "id": "726fa188",
   "metadata": {},
   "outputs": [
    {
     "data": {
      "text/html": [
       "<div>\n",
       "<style scoped>\n",
       "    .dataframe tbody tr th:only-of-type {\n",
       "        vertical-align: middle;\n",
       "    }\n",
       "\n",
       "    .dataframe tbody tr th {\n",
       "        vertical-align: top;\n",
       "    }\n",
       "\n",
       "    .dataframe thead th {\n",
       "        text-align: right;\n",
       "    }\n",
       "</style>\n",
       "<table border=\"1\" class=\"dataframe\">\n",
       "  <thead>\n",
       "    <tr style=\"text-align: right;\">\n",
       "      <th></th>\n",
       "      <th>Пол</th>\n",
       "      <th>Возраст</th>\n",
       "      <th>Зарплата</th>\n",
       "      <th>Члены семьи</th>\n",
       "    </tr>\n",
       "  </thead>\n",
       "  <tbody>\n",
       "    <tr>\n",
       "      <th>0</th>\n",
       "      <td>1</td>\n",
       "      <td>41.0</td>\n",
       "      <td>49600.0</td>\n",
       "      <td>1</td>\n",
       "    </tr>\n",
       "    <tr>\n",
       "      <th>1</th>\n",
       "      <td>0</td>\n",
       "      <td>46.0</td>\n",
       "      <td>38000.0</td>\n",
       "      <td>1</td>\n",
       "    </tr>\n",
       "    <tr>\n",
       "      <th>2</th>\n",
       "      <td>0</td>\n",
       "      <td>29.0</td>\n",
       "      <td>21000.0</td>\n",
       "      <td>0</td>\n",
       "    </tr>\n",
       "    <tr>\n",
       "      <th>3</th>\n",
       "      <td>0</td>\n",
       "      <td>21.0</td>\n",
       "      <td>41700.0</td>\n",
       "      <td>2</td>\n",
       "    </tr>\n",
       "    <tr>\n",
       "      <th>4</th>\n",
       "      <td>1</td>\n",
       "      <td>28.0</td>\n",
       "      <td>26100.0</td>\n",
       "      <td>0</td>\n",
       "    </tr>\n",
       "    <tr>\n",
       "      <th>...</th>\n",
       "      <td>...</td>\n",
       "      <td>...</td>\n",
       "      <td>...</td>\n",
       "      <td>...</td>\n",
       "    </tr>\n",
       "    <tr>\n",
       "      <th>4995</th>\n",
       "      <td>0</td>\n",
       "      <td>28.0</td>\n",
       "      <td>35700.0</td>\n",
       "      <td>2</td>\n",
       "    </tr>\n",
       "    <tr>\n",
       "      <th>4996</th>\n",
       "      <td>0</td>\n",
       "      <td>34.0</td>\n",
       "      <td>52400.0</td>\n",
       "      <td>1</td>\n",
       "    </tr>\n",
       "    <tr>\n",
       "      <th>4997</th>\n",
       "      <td>0</td>\n",
       "      <td>20.0</td>\n",
       "      <td>33900.0</td>\n",
       "      <td>2</td>\n",
       "    </tr>\n",
       "    <tr>\n",
       "      <th>4998</th>\n",
       "      <td>1</td>\n",
       "      <td>22.0</td>\n",
       "      <td>32700.0</td>\n",
       "      <td>3</td>\n",
       "    </tr>\n",
       "    <tr>\n",
       "      <th>4999</th>\n",
       "      <td>1</td>\n",
       "      <td>28.0</td>\n",
       "      <td>40600.0</td>\n",
       "      <td>1</td>\n",
       "    </tr>\n",
       "  </tbody>\n",
       "</table>\n",
       "<p>5000 rows × 4 columns</p>\n",
       "</div>"
      ],
      "text/plain": [
       "      Пол  Возраст  Зарплата  Члены семьи\n",
       "0       1     41.0   49600.0            1\n",
       "1       0     46.0   38000.0            1\n",
       "2       0     29.0   21000.0            0\n",
       "3       0     21.0   41700.0            2\n",
       "4       1     28.0   26100.0            0\n",
       "...   ...      ...       ...          ...\n",
       "4995    0     28.0   35700.0            2\n",
       "4996    0     34.0   52400.0            1\n",
       "4997    0     20.0   33900.0            2\n",
       "4998    1     22.0   32700.0            3\n",
       "4999    1     28.0   40600.0            1\n",
       "\n",
       "[5000 rows x 4 columns]"
      ]
     },
     "execution_count": 11,
     "metadata": {},
     "output_type": "execute_result"
    }
   ],
   "source": [
    "# Исходный вид\n",
    "features"
   ]
  },
  {
   "cell_type": "code",
   "execution_count": 12,
   "id": "abec7c7f",
   "metadata": {},
   "outputs": [],
   "source": [
    "# создадим квадратную матрицу из случайных чисел\n",
    "#p = np.random.rand(4,4)\n",
    "# проверим на обратимость\n",
    "#np.linalg.inv(p)"
   ]
  },
  {
   "cell_type": "code",
   "execution_count": 13,
   "id": "167f82b9",
   "metadata": {},
   "outputs": [
    {
     "data": {
      "text/plain": [
       "array([[ 2.00875304, -0.82458401,  0.43624959, -0.73208335],\n",
       "       [-0.96843717, -0.30118154,  0.19663429,  0.21549753],\n",
       "       [-0.48345097, -1.28825213, -0.55127793, -1.56655868],\n",
       "       [-1.16614303,  1.20438141,  1.96017336, -0.82054774]])"
      ]
     },
     "execution_count": 13,
     "metadata": {},
     "output_type": "execute_result"
    }
   ],
   "source": [
    "def get_rand_matrix(a):\n",
    "    det = 0\n",
    "    while det == 0:\n",
    "        matrix = np.random.normal(size=(a, a))\n",
    "        det = np.linalg.det(matrix)\n",
    "    return matrix\n",
    "get_rand_matrix(4)"
   ]
  },
  {
   "cell_type": "code",
   "execution_count": 14,
   "id": "4c7558aa",
   "metadata": {},
   "outputs": [
    {
     "data": {
      "text/html": [
       "<div>\n",
       "<style scoped>\n",
       "    .dataframe tbody tr th:only-of-type {\n",
       "        vertical-align: middle;\n",
       "    }\n",
       "\n",
       "    .dataframe tbody tr th {\n",
       "        vertical-align: top;\n",
       "    }\n",
       "\n",
       "    .dataframe thead th {\n",
       "        text-align: right;\n",
       "    }\n",
       "</style>\n",
       "<table border=\"1\" class=\"dataframe\">\n",
       "  <thead>\n",
       "    <tr style=\"text-align: right;\">\n",
       "      <th></th>\n",
       "      <th>0</th>\n",
       "      <th>1</th>\n",
       "      <th>2</th>\n",
       "      <th>3</th>\n",
       "    </tr>\n",
       "  </thead>\n",
       "  <tbody>\n",
       "    <tr>\n",
       "      <th>0</th>\n",
       "      <td>-15328.953327</td>\n",
       "      <td>-36217.034915</td>\n",
       "      <td>201.855734</td>\n",
       "      <td>6646.505556</td>\n",
       "    </tr>\n",
       "    <tr>\n",
       "      <th>1</th>\n",
       "      <td>-11714.379127</td>\n",
       "      <td>-27735.800856</td>\n",
       "      <td>154.322503</td>\n",
       "      <td>5077.053052</td>\n",
       "    </tr>\n",
       "    <tr>\n",
       "      <th>2</th>\n",
       "      <td>-6464.994695</td>\n",
       "      <td>-15324.644522</td>\n",
       "      <td>85.178052</td>\n",
       "      <td>2801.973545</td>\n",
       "    </tr>\n",
       "    <tr>\n",
       "      <th>3</th>\n",
       "      <td>-12918.701143</td>\n",
       "      <td>-30459.485292</td>\n",
       "      <td>170.133023</td>\n",
       "      <td>5603.164820</td>\n",
       "    </tr>\n",
       "    <tr>\n",
       "      <th>4</th>\n",
       "      <td>-8051.356601</td>\n",
       "      <td>-19052.578256</td>\n",
       "      <td>106.010529</td>\n",
       "      <td>3490.083995</td>\n",
       "    </tr>\n",
       "    <tr>\n",
       "      <th>...</th>\n",
       "      <td>...</td>\n",
       "      <td>...</td>\n",
       "      <td>...</td>\n",
       "      <td>...</td>\n",
       "    </tr>\n",
       "    <tr>\n",
       "      <th>4995</th>\n",
       "      <td>-11039.586427</td>\n",
       "      <td>-26069.285120</td>\n",
       "      <td>145.400494</td>\n",
       "      <td>4786.033194</td>\n",
       "    </tr>\n",
       "    <tr>\n",
       "      <th>4996</th>\n",
       "      <td>-16214.214210</td>\n",
       "      <td>-38268.597733</td>\n",
       "      <td>213.556239</td>\n",
       "      <td>7032.966370</td>\n",
       "    </tr>\n",
       "    <tr>\n",
       "      <th>4997</th>\n",
       "      <td>-10496.978344</td>\n",
       "      <td>-24759.975843</td>\n",
       "      <td>138.242353</td>\n",
       "      <td>4551.840813</td>\n",
       "    </tr>\n",
       "    <tr>\n",
       "      <th>4998</th>\n",
       "      <td>-10121.639708</td>\n",
       "      <td>-23882.059472</td>\n",
       "      <td>133.241390</td>\n",
       "      <td>4386.473746</td>\n",
       "    </tr>\n",
       "    <tr>\n",
       "      <th>4999</th>\n",
       "      <td>-12559.436581</td>\n",
       "      <td>-29649.768636</td>\n",
       "      <td>165.365656</td>\n",
       "      <td>5446.279106</td>\n",
       "    </tr>\n",
       "  </tbody>\n",
       "</table>\n",
       "<p>5000 rows × 4 columns</p>\n",
       "</div>"
      ],
      "text/plain": [
       "                 0             1           2            3\n",
       "0    -15328.953327 -36217.034915  201.855734  6646.505556\n",
       "1    -11714.379127 -27735.800856  154.322503  5077.053052\n",
       "2     -6464.994695 -15324.644522   85.178052  2801.973545\n",
       "3    -12918.701143 -30459.485292  170.133023  5603.164820\n",
       "4     -8051.356601 -19052.578256  106.010529  3490.083995\n",
       "...            ...           ...         ...          ...\n",
       "4995 -11039.586427 -26069.285120  145.400494  4786.033194\n",
       "4996 -16214.214210 -38268.597733  213.556239  7032.966370\n",
       "4997 -10496.978344 -24759.975843  138.242353  4551.840813\n",
       "4998 -10121.639708 -23882.059472  133.241390  4386.473746\n",
       "4999 -12559.436581 -29649.768636  165.365656  5446.279106\n",
       "\n",
       "[5000 rows x 4 columns]"
      ]
     },
     "execution_count": 14,
     "metadata": {},
     "output_type": "execute_result"
    }
   ],
   "source": [
    "# перемножением преобразуем признаки\n",
    "features_p = features@get_rand_matrix(4)\n",
    "# Выведем результат преобразования\n",
    "features_p"
   ]
  },
  {
   "cell_type": "code",
   "execution_count": 15,
   "id": "02ec93da",
   "metadata": {},
   "outputs": [
    {
     "name": "stdout",
     "output_type": "stream",
     "text": [
      "R2_second = 0.43522757127022393\n"
     ]
    }
   ],
   "source": [
    "#Обучим модель и применим метрику R2 на преобразованных данных.\n",
    "features_p_train, features_p_test, target_train, target_test = train_test_split(\n",
    "    features_p, target, test_size=0.25, random_state=12345)\n",
    "\n",
    "model = LinearRegression()\n",
    "model.fit(features_p_train, target_train)\n",
    "print(\"R2_second =\", r2_score(target_test, model.predict(features_p_test)))\n"
   ]
  },
  {
   "cell_type": "markdown",
   "id": "3c7fca37",
   "metadata": {},
   "source": [
    "R2 для преобразованных данных равна 0,4352275\n"
   ]
  },
  {
   "cell_type": "markdown",
   "id": "a0e3c0db",
   "metadata": {},
   "source": [
    "ВЫВОД:\n",
    "качество линейной регрессии не отличается до и после преобразования. Метрика R2 = 0,4352275."
   ]
  },
  {
   "cell_type": "markdown",
   "id": "51c332ce",
   "metadata": {},
   "source": [
    "    Данные были проверены на аномалии,пропуски и дубликаты.\n",
    "    В целях защиты данных клиентов страховой компании был разработан метод преобразования данных: Признаки умножают на обратимую матрицу.\n",
    "    В ходе работы было доказано, что данный метод не ухудшает качество модели машинного обучения после преобразования.\n",
    "    Моделирование производилось с помощью LinearRegression.\n",
    "    R2 для исходных данных равна 0,4352275\n",
    "    R2 для преобразованных данных равна 0,4352275"
   ]
  }
 ],
 "metadata": {
  "ExecuteTimeLog": [
   {
    "duration": 2703,
    "start_time": "2023-04-27T04:40:42.528Z"
   },
   {
    "duration": 73,
    "start_time": "2023-04-27T04:40:45.234Z"
   },
   {
    "duration": 43,
    "start_time": "2023-04-27T04:40:45.309Z"
   },
   {
    "duration": 22,
    "start_time": "2023-04-27T04:40:45.354Z"
   },
   {
    "duration": 137,
    "start_time": "2023-04-27T04:40:45.379Z"
   },
   {
    "duration": 150,
    "start_time": "2023-04-27T04:40:45.518Z"
   },
   {
    "duration": 40,
    "start_time": "2023-04-27T04:40:45.669Z"
   },
   {
    "duration": 41,
    "start_time": "2023-04-27T04:40:45.711Z"
   },
   {
    "duration": 12,
    "start_time": "2023-04-27T04:40:45.754Z"
   },
   {
    "duration": 15,
    "start_time": "2023-04-27T04:40:45.767Z"
   },
   {
    "duration": 21,
    "start_time": "2023-04-27T04:40:45.784Z"
   },
   {
    "duration": 40,
    "start_time": "2023-04-27T04:40:45.808Z"
   },
   {
    "duration": 90,
    "start_time": "2023-04-27T04:40:45.851Z"
   },
   {
    "duration": 45,
    "start_time": "2023-04-27T07:01:46.852Z"
   },
   {
    "duration": 1048,
    "start_time": "2023-04-27T07:01:53.972Z"
   },
   {
    "duration": 127,
    "start_time": "2023-04-27T07:01:55.022Z"
   },
   {
    "duration": 40,
    "start_time": "2023-04-27T07:01:56.347Z"
   },
   {
    "duration": 37,
    "start_time": "2023-04-27T07:02:08.919Z"
   },
   {
    "duration": 41,
    "start_time": "2023-04-27T07:02:23.245Z"
   },
   {
    "duration": 29,
    "start_time": "2023-04-27T07:02:36.999Z"
   },
   {
    "duration": 47,
    "start_time": "2023-04-27T12:12:32.391Z"
   },
   {
    "duration": 1027,
    "start_time": "2023-04-27T12:12:38.068Z"
   },
   {
    "duration": 156,
    "start_time": "2023-04-27T12:12:39.097Z"
   },
   {
    "duration": 31,
    "start_time": "2023-04-27T12:12:41.912Z"
   },
   {
    "duration": 36,
    "start_time": "2023-04-27T12:12:50.165Z"
   },
   {
    "duration": 96,
    "start_time": "2023-04-27T12:35:04.943Z"
   },
   {
    "duration": 83,
    "start_time": "2023-04-27T12:35:30.790Z"
   },
   {
    "duration": 95,
    "start_time": "2023-04-27T12:38:06.742Z"
   },
   {
    "duration": 82,
    "start_time": "2023-04-27T12:38:40.279Z"
   },
   {
    "duration": 100,
    "start_time": "2023-04-27T12:38:56.361Z"
   },
   {
    "duration": 99,
    "start_time": "2023-04-27T12:40:22.643Z"
   },
   {
    "duration": 4,
    "start_time": "2023-04-27T13:53:28.226Z"
   },
   {
    "duration": 78,
    "start_time": "2023-04-27T13:53:51.380Z"
   },
   {
    "duration": 12,
    "start_time": "2023-04-27T13:53:58.346Z"
   },
   {
    "duration": 4,
    "start_time": "2023-04-27T13:54:01.093Z"
   },
   {
    "duration": 8,
    "start_time": "2023-04-27T13:54:03.039Z"
   },
   {
    "duration": 7,
    "start_time": "2023-04-27T13:54:30.491Z"
   },
   {
    "duration": 9,
    "start_time": "2023-04-27T14:04:44.812Z"
   },
   {
    "duration": 13,
    "start_time": "2023-04-27T14:04:53.232Z"
   },
   {
    "duration": 3,
    "start_time": "2023-04-27T14:07:21.944Z"
   },
   {
    "duration": 12,
    "start_time": "2023-04-27T14:07:24.527Z"
   },
   {
    "duration": 3,
    "start_time": "2023-04-27T14:07:49.232Z"
   },
   {
    "duration": 9,
    "start_time": "2023-04-27T14:07:51.664Z"
   },
   {
    "duration": 3,
    "start_time": "2023-04-27T14:08:45.848Z"
   },
   {
    "duration": 15,
    "start_time": "2023-04-27T14:08:49.829Z"
   },
   {
    "duration": 10,
    "start_time": "2023-04-27T14:08:50.782Z"
   },
   {
    "duration": 3,
    "start_time": "2023-04-27T14:15:49.950Z"
   },
   {
    "duration": 53,
    "start_time": "2023-04-27T14:15:50.727Z"
   },
   {
    "duration": 12,
    "start_time": "2023-04-27T14:16:02.056Z"
   },
   {
    "duration": 3,
    "start_time": "2023-04-27T14:16:21.750Z"
   },
   {
    "duration": 9,
    "start_time": "2023-04-27T14:16:34.252Z"
   },
   {
    "duration": 8,
    "start_time": "2023-04-27T14:16:43.653Z"
   },
   {
    "duration": 2,
    "start_time": "2023-04-27T14:17:13.324Z"
   },
   {
    "duration": 8,
    "start_time": "2023-04-27T14:17:43.890Z"
   },
   {
    "duration": 5,
    "start_time": "2023-04-27T14:18:07.560Z"
   },
   {
    "duration": 13,
    "start_time": "2023-04-27T14:18:20.486Z"
   },
   {
    "duration": 6,
    "start_time": "2023-04-27T14:18:37.624Z"
   },
   {
    "duration": 6,
    "start_time": "2023-04-27T14:18:55.627Z"
   },
   {
    "duration": 14,
    "start_time": "2023-04-27T14:18:58.343Z"
   },
   {
    "duration": 12,
    "start_time": "2023-04-27T14:19:21.391Z"
   },
   {
    "duration": 12,
    "start_time": "2023-04-27T14:19:22.262Z"
   },
   {
    "duration": 3,
    "start_time": "2023-04-27T14:21:23.740Z"
   },
   {
    "duration": 4,
    "start_time": "2023-04-27T14:21:29.369Z"
   },
   {
    "duration": 10,
    "start_time": "2023-04-27T14:21:37.456Z"
   },
   {
    "duration": 3,
    "start_time": "2023-04-27T14:22:23.861Z"
   },
   {
    "duration": 12,
    "start_time": "2023-04-27T14:22:30.428Z"
   },
   {
    "duration": 5,
    "start_time": "2023-04-27T14:22:37.837Z"
   },
   {
    "duration": 5,
    "start_time": "2023-04-27T14:23:11.521Z"
   },
   {
    "duration": 5,
    "start_time": "2023-04-27T14:23:15.357Z"
   },
   {
    "duration": 11,
    "start_time": "2023-04-27T14:23:25.870Z"
   },
   {
    "duration": 10,
    "start_time": "2023-04-27T14:24:08.216Z"
   },
   {
    "duration": 9,
    "start_time": "2023-04-27T14:49:18.752Z"
   },
   {
    "duration": 6,
    "start_time": "2023-04-27T14:49:36.677Z"
   },
   {
    "duration": 9,
    "start_time": "2023-04-27T14:49:41.179Z"
   },
   {
    "duration": 1019,
    "start_time": "2023-04-27T14:51:55.058Z"
   },
   {
    "duration": 53,
    "start_time": "2023-04-27T14:51:56.078Z"
   },
   {
    "duration": 30,
    "start_time": "2023-04-27T14:51:56.132Z"
   },
   {
    "duration": 14,
    "start_time": "2023-04-27T14:51:56.163Z"
   },
   {
    "duration": 60,
    "start_time": "2023-04-27T14:51:56.179Z"
   },
   {
    "duration": 69,
    "start_time": "2023-04-27T14:51:56.241Z"
   },
   {
    "duration": 30,
    "start_time": "2023-04-27T14:51:56.312Z"
   },
   {
    "duration": 23,
    "start_time": "2023-04-27T14:51:56.344Z"
   },
   {
    "duration": 76,
    "start_time": "2023-04-27T14:51:56.369Z"
   },
   {
    "duration": 13,
    "start_time": "2023-04-27T14:51:56.448Z"
   },
   {
    "duration": 12,
    "start_time": "2023-04-27T14:51:56.463Z"
   },
   {
    "duration": 20,
    "start_time": "2023-04-27T14:51:56.477Z"
   },
   {
    "duration": 14,
    "start_time": "2023-04-27T14:51:56.499Z"
   },
   {
    "duration": 11,
    "start_time": "2023-04-27T14:51:56.517Z"
   },
   {
    "duration": 10,
    "start_time": "2023-04-27T14:51:56.530Z"
   },
   {
    "duration": 58,
    "start_time": "2023-04-27T17:19:45.888Z"
   },
   {
    "duration": 8,
    "start_time": "2023-04-27T17:20:03.782Z"
   },
   {
    "duration": 2442,
    "start_time": "2023-04-27T17:21:30.694Z"
   },
   {
    "duration": 145,
    "start_time": "2023-04-27T17:21:33.138Z"
   },
   {
    "duration": 29,
    "start_time": "2023-04-27T17:21:33.285Z"
   },
   {
    "duration": 12,
    "start_time": "2023-04-27T17:21:33.316Z"
   },
   {
    "duration": 87,
    "start_time": "2023-04-27T17:21:33.329Z"
   },
   {
    "duration": 315,
    "start_time": "2023-04-27T17:21:33.417Z"
   },
   {
    "duration": 114,
    "start_time": "2023-04-27T17:21:33.733Z"
   },
   {
    "duration": 61,
    "start_time": "2023-04-27T17:21:33.848Z"
   },
   {
    "duration": 123,
    "start_time": "2023-04-27T17:21:33.910Z"
   },
   {
    "duration": 10,
    "start_time": "2023-04-27T17:21:34.035Z"
   },
   {
    "duration": 12,
    "start_time": "2023-04-27T17:21:34.046Z"
   },
   {
    "duration": 3,
    "start_time": "2023-04-27T17:21:34.059Z"
   },
   {
    "duration": 6,
    "start_time": "2023-04-27T17:21:34.064Z"
   },
   {
    "duration": 14,
    "start_time": "2023-04-27T17:21:34.072Z"
   },
   {
    "duration": 10,
    "start_time": "2023-04-27T17:21:34.087Z"
   }
  ],
  "kernelspec": {
   "display_name": "Python 3 (ipykernel)",
   "language": "python",
   "name": "python3"
  },
  "language_info": {
   "codemirror_mode": {
    "name": "ipython",
    "version": 3
   },
   "file_extension": ".py",
   "mimetype": "text/x-python",
   "name": "python",
   "nbconvert_exporter": "python",
   "pygments_lexer": "ipython3",
   "version": "3.9.13"
  },
  "toc": {
   "base_numbering": 1,
   "nav_menu": {},
   "number_sections": true,
   "sideBar": true,
   "skip_h1_title": true,
   "title_cell": "Table of Contents",
   "title_sidebar": "Contents",
   "toc_cell": false,
   "toc_position": {},
   "toc_section_display": true,
   "toc_window_display": false
  }
 },
 "nbformat": 4,
 "nbformat_minor": 5
}

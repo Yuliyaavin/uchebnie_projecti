{
 "cells": [
  {
   "cell_type": "markdown",
   "id": "a42cbf75",
   "metadata": {},
   "source": [
    "# Проект: \"Рекомендация тарифов\""
   ]
  },
  {
   "cell_type": "markdown",
   "id": "6528cc4e",
   "metadata": {},
   "source": [
    "# Описание проекта "
   ]
  },
  {
   "cell_type": "markdown",
   "id": "7707f62f",
   "metadata": {},
   "source": [
    " \n",
    "        \n",
    "Оператор мобильной связи «Мегалайн» выяснил: многие клиенты пользуются архивными тарифами. Они хотят построить систему, способную проанализировать поведение клиентов и предложить пользователям новый тариф: «Смарт» или «Ультра».\n",
    "\n",
    "Каждый объект в наборе данных — это информация о поведении одного пользователя за месяц.\n",
    "\n",
    "Известно:\n",
    "\n",
    "        сalls — количество звонков,\n",
    "        minutes — суммарная длительность звонков в минутах,\n",
    "        messages — количество sms-сообщений,\n",
    "        mb_used — израсходованный интернет-трафик в Мб,\n",
    "        is_ultra — каким тарифом пользовался в течение месяца («Ультра» — 1, «Смарт» — 0).\n",
    "        \n",
    "Нужно построить модель, которая выберет подходящий тариф.         \n"
   ]
  },
  {
   "cell_type": "code",
   "execution_count": 8,
   "id": "8f208f0f",
   "metadata": {},
   "outputs": [],
   "source": [
    "import pandas as pd\n",
    "import numpy as np\n",
    "from sklearn.tree import DecisionTreeClassifier\n",
    "from sklearn.metrics import accuracy_score \n",
    "from sklearn.ensemble import RandomForestClassifier\n",
    "from sklearn.linear_model import LogisticRegression "
   ]
  },
  {
   "cell_type": "markdown",
   "id": "4937c583",
   "metadata": {},
   "source": [
    "# Открыть и изучить данные."
   ]
  },
  {
   "cell_type": "code",
   "execution_count": 9,
   "id": "d4f27b1e",
   "metadata": {},
   "outputs": [
    {
     "name": "stdout",
     "output_type": "stream",
     "text": [
      "<class 'pandas.core.frame.DataFrame'>\n",
      "RangeIndex: 3214 entries, 0 to 3213\n",
      "Data columns (total 5 columns):\n",
      " #   Column    Non-Null Count  Dtype  \n",
      "---  ------    --------------  -----  \n",
      " 0   calls     3214 non-null   float64\n",
      " 1   minutes   3214 non-null   float64\n",
      " 2   messages  3214 non-null   float64\n",
      " 3   mb_used   3214 non-null   float64\n",
      " 4   is_ultra  3214 non-null   int64  \n",
      "dtypes: float64(4), int64(1)\n",
      "memory usage: 125.7 KB\n"
     ]
    }
   ],
   "source": [
    "df = pd.read_csv('/datasets/users_behavior.csv', sep=',')\n",
    "df.info()"
   ]
  },
  {
   "cell_type": "markdown",
   "id": "3a518571",
   "metadata": {},
   "source": [
    "        Целевой признак является категориальным, значит предстоит решить задачу классификации.\n",
    "        Видим, что нет пропусков, все форматы соответствуют, также видим два столбика 'calls' и 'minutes', \n",
    "        котрые отражают объем использвания разговоров в тарифах.\n",
    "        Подтвердим или опровергнем наличие их зависимоти с помощью измерения корреляции."
   ]
  },
  {
   "cell_type": "code",
   "execution_count": 10,
   "id": "1c84b8e0",
   "metadata": {},
   "outputs": [
    {
     "data": {
      "text/html": [
       "<div>\n",
       "<style scoped>\n",
       "    .dataframe tbody tr th:only-of-type {\n",
       "        vertical-align: middle;\n",
       "    }\n",
       "\n",
       "    .dataframe tbody tr th {\n",
       "        vertical-align: top;\n",
       "    }\n",
       "\n",
       "    .dataframe thead th {\n",
       "        text-align: right;\n",
       "    }\n",
       "</style>\n",
       "<table border=\"1\" class=\"dataframe\">\n",
       "  <thead>\n",
       "    <tr style=\"text-align: right;\">\n",
       "      <th></th>\n",
       "      <th>calls</th>\n",
       "      <th>minutes</th>\n",
       "      <th>messages</th>\n",
       "      <th>mb_used</th>\n",
       "      <th>is_ultra</th>\n",
       "    </tr>\n",
       "  </thead>\n",
       "  <tbody>\n",
       "    <tr>\n",
       "      <th>calls</th>\n",
       "      <td>1.000000</td>\n",
       "      <td>0.982083</td>\n",
       "      <td>0.177385</td>\n",
       "      <td>0.286442</td>\n",
       "      <td>0.207122</td>\n",
       "    </tr>\n",
       "    <tr>\n",
       "      <th>minutes</th>\n",
       "      <td>0.982083</td>\n",
       "      <td>1.000000</td>\n",
       "      <td>0.173110</td>\n",
       "      <td>0.280967</td>\n",
       "      <td>0.206955</td>\n",
       "    </tr>\n",
       "    <tr>\n",
       "      <th>messages</th>\n",
       "      <td>0.177385</td>\n",
       "      <td>0.173110</td>\n",
       "      <td>1.000000</td>\n",
       "      <td>0.195721</td>\n",
       "      <td>0.203830</td>\n",
       "    </tr>\n",
       "    <tr>\n",
       "      <th>mb_used</th>\n",
       "      <td>0.286442</td>\n",
       "      <td>0.280967</td>\n",
       "      <td>0.195721</td>\n",
       "      <td>1.000000</td>\n",
       "      <td>0.198568</td>\n",
       "    </tr>\n",
       "    <tr>\n",
       "      <th>is_ultra</th>\n",
       "      <td>0.207122</td>\n",
       "      <td>0.206955</td>\n",
       "      <td>0.203830</td>\n",
       "      <td>0.198568</td>\n",
       "      <td>1.000000</td>\n",
       "    </tr>\n",
       "  </tbody>\n",
       "</table>\n",
       "</div>"
      ],
      "text/plain": [
       "             calls   minutes  messages   mb_used  is_ultra\n",
       "calls     1.000000  0.982083  0.177385  0.286442  0.207122\n",
       "minutes   0.982083  1.000000  0.173110  0.280967  0.206955\n",
       "messages  0.177385  0.173110  1.000000  0.195721  0.203830\n",
       "mb_used   0.286442  0.280967  0.195721  1.000000  0.198568\n",
       "is_ultra  0.207122  0.206955  0.203830  0.198568  1.000000"
      ]
     },
     "execution_count": 10,
     "metadata": {},
     "output_type": "execute_result"
    }
   ],
   "source": [
    "df.corr()"
   ]
  },
  {
   "cell_type": "markdown",
   "id": "15011759",
   "metadata": {},
   "source": [
    "Связь двух параметров подтвердилась. Коэф.корреляции calls/minutes =  0.98.\n"
   ]
  },
  {
   "cell_type": "markdown",
   "id": "a6f00f80",
   "metadata": {},
   "source": [
    "# Разделим исходные данные на обучающую, валидационную и тестовую выборки."
   ]
  },
  {
   "cell_type": "markdown",
   "id": "9a2d588b",
   "metadata": {},
   "source": [
    "Разделим датасет на выборки в соотношении 60%/ 20%/ 20%  ."
   ]
  },
  {
   "cell_type": "code",
   "execution_count": 11,
   "id": "cad9b4f9",
   "metadata": {},
   "outputs": [],
   "source": [
    "df_train, df_valid, df_test = np.split(df, [int(.6*len(df)), int(.8*len(df))])"
   ]
  },
  {
   "cell_type": "markdown",
   "id": "1f1576c9",
   "metadata": {},
   "source": [
    "     Сохраненим признаки в отдельные переменные features и target.\n",
    "     Не будем испоьзовать столбец 'calls', тк включение обоих параметров('calls' и 'minutes') во множество\n",
    "     признаков для моделирования приведет к мультиколлинеарности. Оставляем 'minutes', тк обычно в пакет тарифов\n",
    "     включают количество минут, а не звонков."
   ]
  },
  {
   "cell_type": "code",
   "execution_count": 12,
   "id": "db3c4d21",
   "metadata": {},
   "outputs": [],
   "source": [
    "features_train = df_train.drop(['is_ultra', 'calls'], axis=1)\n",
    "target_train = df_train['is_ultra']\n",
    "\n",
    "features_valid = df_valid.drop(['is_ultra', 'calls'], axis=1)\n",
    "target_valid  = df_valid['is_ultra']\n",
    "\n",
    "features_test= df_test.drop(['is_ultra', 'calls'], axis=1)\n",
    "target_test = df_test['is_ultra']"
   ]
  },
  {
   "cell_type": "markdown",
   "id": "46b09844",
   "metadata": {},
   "source": [
    "# Исследуем качество разных моделей"
   ]
  },
  {
   "cell_type": "markdown",
   "id": "3261dfd7",
   "metadata": {},
   "source": [
    "Построим разные модели."
   ]
  },
  {
   "cell_type": "code",
   "execution_count": 16,
   "id": "cf3bd667",
   "metadata": {
    "scrolled": false
   },
   "outputs": [
    {
     "name": "stdout",
     "output_type": "stream",
     "text": [
      "Accuracy лучшей модели на валидационной выборке: 0.8118195956454122 Глубина дерева: 9\n"
     ]
    }
   ],
   "source": [
    "#Дерево решений\n",
    "best_model = None\n",
    "best_result = 0\n",
    "for depth in range(1, 11):\n",
    "    model = DecisionTreeClassifier(random_state=12345, max_depth= depth) \n",
    "    model.fit(features_train, target_train)\n",
    "    accuracy_train = model.score(features_train, target_train)\n",
    "    accuracy_valid = model.score(features_valid, target_valid)\n",
    "        \n",
    "    if accuracy_valid > best_result:\n",
    "        best_result = accuracy_valid\n",
    "        best_depth = depth\n",
    "        \n",
    "print(\"Accuracy лучшей модели на валидационной выборке:\", best_result, 'Глубина дерева:', best_depth)"
   ]
  },
  {
   "cell_type": "markdown",
   "id": "c7ca262f",
   "metadata": {},
   "source": [
    "Модель \"Дерево решений\" показала наилучшие результаты при глубине дерева = 9.\n"
   ]
  },
  {
   "cell_type": "code",
   "execution_count": 17,
   "id": "c23b66b5",
   "metadata": {},
   "outputs": [
    {
     "name": "stdout",
     "output_type": "stream",
     "text": [
      "Accuracy лучшей модели на валидационной выборке: 0.8149300155520995 Количество деревьев: 45 Максимальная глубина: 10\n"
     ]
    }
   ],
   "source": [
    "# Random forest\n",
    "best_model = None\n",
    "best_result = 0\n",
    "best_est = 0\n",
    "best_depth = 0\n",
    "for est in range(10, 60, 5):\n",
    "    for depth in range (1, 11):\n",
    "        model_rand = RandomForestClassifier(random_state=12345, n_estimators=est, max_depth= depth)\n",
    "        model_rand.fit(features_train, target_train)\n",
    "        accuracy_train = model_rand.score(features_train, target_train)\n",
    "        accuracy_valid = model_rand.score(features_valid, target_valid)\n",
    "        if accuracy_valid > best_result:\n",
    "            best_result = accuracy_valid\n",
    "            best_est = est\n",
    "            best_depth = depth       \n",
    "\n",
    "print(\"Accuracy лучшей модели на валидационной выборке:\", best_result, \"Количество деревьев:\", best_est, \"Максимальная глубина:\", best_depth)"
   ]
  },
  {
   "cell_type": "markdown",
   "id": "70f2201c",
   "metadata": {},
   "source": [
    "Модель \"Случайный лес\" показала наилучшие результаты при количетве деревьев = 45 и глубине = 10."
   ]
  },
  {
   "cell_type": "code",
   "execution_count": 15,
   "id": "a0c3d3ae",
   "metadata": {},
   "outputs": [
    {
     "name": "stdout",
     "output_type": "stream",
     "text": [
      "Accuracy наилучшей модели на валидационной выборке: 0.7480559875583204 Алгоритм: newton-cg\n"
     ]
    },
    {
     "name": "stderr",
     "output_type": "stream",
     "text": [
      "/opt/conda/lib/python3.9/site-packages/scipy/optimize/_linesearch.py:456: LineSearchWarning: The line search algorithm did not converge\n",
      "  warn('The line search algorithm did not converge', LineSearchWarning)\n",
      "/opt/conda/lib/python3.9/site-packages/scipy/optimize/_linesearch.py:305: LineSearchWarning: The line search algorithm did not converge\n",
      "  warn('The line search algorithm did not converge', LineSearchWarning)\n",
      "/opt/conda/lib/python3.9/site-packages/scipy/optimize/_linesearch.py:456: LineSearchWarning: The line search algorithm did not converge\n",
      "  warn('The line search algorithm did not converge', LineSearchWarning)\n",
      "/opt/conda/lib/python3.9/site-packages/scipy/optimize/_linesearch.py:305: LineSearchWarning: The line search algorithm did not converge\n",
      "  warn('The line search algorithm did not converge', LineSearchWarning)\n",
      "/opt/conda/lib/python3.9/site-packages/scipy/optimize/_linesearch.py:456: LineSearchWarning: The line search algorithm did not converge\n",
      "  warn('The line search algorithm did not converge', LineSearchWarning)\n",
      "/opt/conda/lib/python3.9/site-packages/scipy/optimize/_linesearch.py:305: LineSearchWarning: The line search algorithm did not converge\n",
      "  warn('The line search algorithm did not converge', LineSearchWarning)\n",
      "/opt/conda/lib/python3.9/site-packages/sklearn/linear_model/_sag.py:328: ConvergenceWarning: The max_iter was reached which means the coef_ did not converge\n",
      "  warnings.warn(\"The max_iter was reached which means \"\n",
      "/opt/conda/lib/python3.9/site-packages/sklearn/linear_model/_sag.py:328: ConvergenceWarning: The max_iter was reached which means the coef_ did not converge\n",
      "  warnings.warn(\"The max_iter was reached which means \"\n"
     ]
    }
   ],
   "source": [
    "#Логистическая регрессия\n",
    "\n",
    "parametrs = ['lbfgs', 'liblinear', 'newton-cg', 'sag', 'saga']\n",
    "best_result = 0\n",
    "for param in parametrs:\n",
    "    model_log = LogisticRegression(random_state=123456, solver=param, max_iter=200) \n",
    "    model_log.fit(features_train, target_train)\n",
    "    accuracy_valid = model_log.score(features_valid, target_valid)\n",
    "   #accuracy_test = model_log.score(features_test, target_test)\n",
    "    if accuracy_valid > best_result:\n",
    "        best_result = accuracy_valid\n",
    "        best_solver = param\n",
    "print(\"Accuracy наилучшей модели на валидационной выборке:\", best_result, \"Алгоритм:\", best_solver)        "
   ]
  },
  {
   "cell_type": "markdown",
   "id": "0c8a5e40",
   "metadata": {},
   "source": [
    "Модель \"Логистическая регрессия\" показала наилучшие результаты при использовании алгоритма \"newton-cg\"."
   ]
  },
  {
   "cell_type": "markdown",
   "id": "ea792bd0",
   "metadata": {},
   "source": [
    "    ВОПРОС:\n",
    "    \n",
    "        'newton-cholesky'\n",
    "        ValueError: Logistic Regression supports only solvers in ['liblinear', 'newton-cg', 'lbfgs', 'sag', 'saga'], got newton-cholesky.\n",
    "        Почему так? Что-то надо подкрутить в версиях? Каких"
   ]
  },
  {
   "cell_type": "markdown",
   "id": "bff89fe1",
   "metadata": {},
   "source": [
    "Вывод: Наилучшей моделью оказалась \"Случайный лес\", accuracy на валидационной выборке = 0.8149300155520995.\n",
    "    "
   ]
  },
  {
   "cell_type": "markdown",
   "id": "5ab67d8a",
   "metadata": {},
   "source": [
    "# Проверим качество модели на тестовой выборке"
   ]
  },
  {
   "cell_type": "code",
   "execution_count": 382,
   "id": "8aa81a82",
   "metadata": {},
   "outputs": [
    {
     "data": {
      "text/plain": [
       "0.8180404354587869"
      ]
     },
     "execution_count": 382,
     "metadata": {},
     "output_type": "execute_result"
    }
   ],
   "source": [
    "model_rand = RandomForestClassifier(random_state=12345, n_estimators=45, max_depth= 10)\n",
    "model_rand.fit(features_train, target_train)\n",
    "accuracy_test_model_rand = model_rand.score(features_test, target_test)\n",
    "accuracy_test_model_rand"
   ]
  },
  {
   "cell_type": "markdown",
   "id": "d9fe8eb5",
   "metadata": {},
   "source": [
    "Мы видим, что на тестовой выборке модель предсказывает не хуже, чем на валидационной. Это хороший результат, оставляем эту модель."
   ]
  },
  {
   "cell_type": "markdown",
   "id": "301ffbcc",
   "metadata": {},
   "source": [
    "# Дополнительное задание: проверьте модели на вменяемость."
   ]
  },
  {
   "cell_type": "markdown",
   "id": "a2745cad",
   "metadata": {},
   "source": [
    "Выполним проврку, используя сравнение с часто встречающимся классом. В данных чаще всего встречается тариф Smart. \n",
    "Оценим его долю."
   ]
  },
  {
   "cell_type": "code",
   "execution_count": 364,
   "id": "1151f207",
   "metadata": {},
   "outputs": [
    {
     "data": {
      "text/plain": [
       "0.693528313627878"
      ]
     },
     "execution_count": 364,
     "metadata": {},
     "output_type": "execute_result"
    }
   ],
   "source": [
    "df.query('is_ultra == 0')\n",
    "#2229 строк из 3214\n",
    "part_0 = 2229/3214\n",
    "part_0"
   ]
  },
  {
   "cell_type": "markdown",
   "id": "3469b39d",
   "metadata": {},
   "source": [
    "Получили 69% - 0, тариф Smart\n",
    "Если модель неадекватна и будет выдавать одни нули, она угадает 69% тарифов,\n",
    "тогда accuracy такой кривой модели = 0.69. \n",
    "Мои модели имеют accuracy выше.\n",
    "Таким образом все три модели по этому критерию соответсвуют вменяемым моделям."
   ]
  }
 ],
 "metadata": {
  "ExecuteTimeLog": [
   {
    "duration": 43,
    "start_time": "2023-02-20T17:46:25.359Z"
   },
   {
    "duration": 1609,
    "start_time": "2023-02-20T17:46:33.388Z"
   },
   {
    "duration": 110,
    "start_time": "2023-02-20T17:46:48.092Z"
   },
   {
    "duration": 71,
    "start_time": "2023-02-20T17:47:08.925Z"
   },
   {
    "duration": 5,
    "start_time": "2023-02-20T17:47:13.646Z"
   },
   {
    "duration": 6,
    "start_time": "2023-02-20T17:47:15.296Z"
   },
   {
    "duration": 143,
    "start_time": "2023-02-20T17:47:21.988Z"
   },
   {
    "duration": 184,
    "start_time": "2023-02-20T17:49:36.621Z"
   },
   {
    "duration": 53,
    "start_time": "2023-02-20T22:56:10.634Z"
   },
   {
    "duration": 1145,
    "start_time": "2023-02-20T22:56:15.349Z"
   },
   {
    "duration": 118,
    "start_time": "2023-02-20T22:56:18.228Z"
   },
   {
    "duration": 138,
    "start_time": "2023-02-20T22:56:48.086Z"
   },
   {
    "duration": 2,
    "start_time": "2023-02-20T23:03:58.662Z"
   },
   {
    "duration": 42,
    "start_time": "2023-02-20T23:04:00.433Z"
   },
   {
    "duration": 18,
    "start_time": "2023-02-20T23:04:04.918Z"
   },
   {
    "duration": 3,
    "start_time": "2023-02-20T23:15:46.318Z"
   },
   {
    "duration": 41,
    "start_time": "2023-02-20T23:15:48.388Z"
   },
   {
    "duration": 11,
    "start_time": "2023-02-20T23:16:01.393Z"
   },
   {
    "duration": 4,
    "start_time": "2023-02-20T23:16:21.705Z"
   },
   {
    "duration": 8,
    "start_time": "2023-02-20T23:16:23.307Z"
   },
   {
    "duration": 90,
    "start_time": "2023-02-20T23:16:25.754Z"
   },
   {
    "duration": 7895,
    "start_time": "2023-02-20T23:16:31.117Z"
   },
   {
    "duration": 217,
    "start_time": "2023-02-20T23:16:39.014Z"
   },
   {
    "duration": 85,
    "start_time": "2023-02-20T23:16:39.232Z"
   },
   {
    "duration": 7998,
    "start_time": "2023-02-20T23:16:40.436Z"
   }
  ],
  "kernelspec": {
   "display_name": "Python 3 (ipykernel)",
   "language": "python",
   "name": "python3"
  },
  "language_info": {
   "codemirror_mode": {
    "name": "ipython",
    "version": 3
   },
   "file_extension": ".py",
   "mimetype": "text/x-python",
   "name": "python",
   "nbconvert_exporter": "python",
   "pygments_lexer": "ipython3",
   "version": "3.9.13"
  },
  "toc": {
   "base_numbering": 1,
   "nav_menu": {},
   "number_sections": true,
   "sideBar": true,
   "skip_h1_title": true,
   "title_cell": "Table of Contents",
   "title_sidebar": "Contents",
   "toc_cell": false,
   "toc_position": {},
   "toc_section_display": true,
   "toc_window_display": false
  }
 },
 "nbformat": 4,
 "nbformat_minor": 5
}

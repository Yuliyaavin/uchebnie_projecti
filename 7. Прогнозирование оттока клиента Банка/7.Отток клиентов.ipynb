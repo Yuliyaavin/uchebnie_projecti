{
 "cells": [
  {
   "cell_type": "markdown",
   "id": "8612c788",
   "metadata": {},
   "source": [
    "# Отток клиентов"
   ]
  },
  {
   "cell_type": "markdown",
   "id": "a00c305d",
   "metadata": {},
   "source": [
    "## Описание проекта"
   ]
  },
  {
   "cell_type": "markdown",
   "id": "51973498",
   "metadata": {},
   "source": [
    "Из «Бета-Банка» стали уходить клиенты. Каждый месяц. Немного, но заметно. Банковские маркетологи посчитали: сохранять текущих клиентов дешевле, чем привлекать новых.\n",
    "Нужно спрогнозировать, уйдёт клиент из банка в ближайшее время или нет. Вам предоставлены исторические данные о поведении клиентов и расторжении договоров с банком. \n",
    "Постройте модель с предельно большим значением F1-меры. Чтобы сдать проект успешно, нужно довести метрику до 0.59. Проверьте F1-меру на тестовой выборке самостоятельно.\n",
    "Дополнительно измеряйте AUC-ROC, сравнивайте её значение с F1-мерой."
   ]
  },
  {
   "cell_type": "markdown",
   "id": "e6a50117",
   "metadata": {},
   "source": [
    "### Описание данных "
   ]
  },
  {
   "cell_type": "markdown",
   "id": "27b0a604",
   "metadata": {},
   "source": [
    "Данные находятся в файле /datasets/Churn.csv"
   ]
  },
  {
   "cell_type": "markdown",
   "id": "b4a5fc3a",
   "metadata": {},
   "source": [
    "         Признаки\n",
    "    RowNumber — индекс строки в данных\n",
    "    CustomerId — уникальный идентификатор клиента\n",
    "    Surname — фамилия\n",
    "    CreditScore — кредитный рейтинг\n",
    "    Geography — страна проживания\n",
    "    Gender — пол\n",
    "    Age — возраст\n",
    "    Tenure — сколько лет человек является клиентом банка\n",
    "    Balance — баланс на счёте\n",
    "    NumOfProducts — количество продуктов банка, используемых клиентом\n",
    "    HasCrCard — наличие кредитной карты\n",
    "    IsActiveMember — активность клиента\n",
    "    EstimatedSalary — предполагаемая зарплата\n",
    "    \n",
    "        Целевой признак\n",
    "    Exited — факт ухода клиента"
   ]
  },
  {
   "cell_type": "markdown",
   "id": "fc0334b7",
   "metadata": {},
   "source": [
    "## Открыть и изучить данные. "
   ]
  },
  {
   "cell_type": "code",
   "execution_count": 1,
   "id": "86ccb01e",
   "metadata": {},
   "outputs": [],
   "source": [
    "import pandas as pd\n",
    "import numpy as np\n",
    "import random\n",
    "from sklearn.model_selection import train_test_split\n",
    "from sklearn.preprocessing import StandardScaler \n",
    "from sklearn.metrics import f1_score, roc_auc_score, roc_curve \n",
    "from sklearn.tree import DecisionTreeClassifier\n",
    "from sklearn.ensemble import RandomForestClassifier\n",
    "from sklearn.linear_model import LogisticRegression\n",
    "import matplotlib.pyplot as plt\n",
    "from sklearn.utils import shuffle\n"
   ]
  },
  {
   "cell_type": "code",
   "execution_count": 37,
   "id": "f9d8e012",
   "metadata": {},
   "outputs": [
    {
     "name": "stdout",
     "output_type": "stream",
     "text": [
      "<class 'pandas.core.frame.DataFrame'>\n",
      "RangeIndex: 10000 entries, 0 to 9999\n",
      "Data columns (total 14 columns):\n",
      " #   Column           Non-Null Count  Dtype  \n",
      "---  ------           --------------  -----  \n",
      " 0   RowNumber        10000 non-null  int64  \n",
      " 1   CustomerId       10000 non-null  int64  \n",
      " 2   Surname          10000 non-null  object \n",
      " 3   CreditScore      10000 non-null  int64  \n",
      " 4   Geography        10000 non-null  object \n",
      " 5   Gender           10000 non-null  object \n",
      " 6   Age              10000 non-null  int64  \n",
      " 7   Tenure           9091 non-null   float64\n",
      " 8   Balance          10000 non-null  float64\n",
      " 9   NumOfProducts    10000 non-null  int64  \n",
      " 10  HasCrCard        10000 non-null  int64  \n",
      " 11  IsActiveMember   10000 non-null  int64  \n",
      " 12  EstimatedSalary  10000 non-null  float64\n",
      " 13  Exited           10000 non-null  int64  \n",
      "dtypes: float64(3), int64(8), object(3)\n",
      "memory usage: 1.1+ MB\n"
     ]
    }
   ],
   "source": [
    "df = pd.read_csv('/datasets/Churn.csv', sep=',')\n",
    "df.info()"
   ]
  },
  {
   "cell_type": "code",
   "execution_count": 38,
   "id": "49f03f76",
   "metadata": {},
   "outputs": [
    {
     "data": {
      "text/html": [
       "<div>\n",
       "<style scoped>\n",
       "    .dataframe tbody tr th:only-of-type {\n",
       "        vertical-align: middle;\n",
       "    }\n",
       "\n",
       "    .dataframe tbody tr th {\n",
       "        vertical-align: top;\n",
       "    }\n",
       "\n",
       "    .dataframe thead th {\n",
       "        text-align: right;\n",
       "    }\n",
       "</style>\n",
       "<table border=\"1\" class=\"dataframe\">\n",
       "  <thead>\n",
       "    <tr style=\"text-align: right;\">\n",
       "      <th></th>\n",
       "      <th>row_number</th>\n",
       "      <th>customer_id</th>\n",
       "      <th>surname</th>\n",
       "      <th>credit_score</th>\n",
       "      <th>geography</th>\n",
       "      <th>gender</th>\n",
       "      <th>age</th>\n",
       "      <th>tenure</th>\n",
       "      <th>balance</th>\n",
       "      <th>num_of_products</th>\n",
       "      <th>has_cr_card</th>\n",
       "      <th>is_active_member</th>\n",
       "      <th>estimated_salary</th>\n",
       "      <th>exited</th>\n",
       "    </tr>\n",
       "  </thead>\n",
       "  <tbody>\n",
       "    <tr>\n",
       "      <th>0</th>\n",
       "      <td>1</td>\n",
       "      <td>15634602</td>\n",
       "      <td>Hargrave</td>\n",
       "      <td>619</td>\n",
       "      <td>France</td>\n",
       "      <td>Female</td>\n",
       "      <td>42</td>\n",
       "      <td>2.00</td>\n",
       "      <td>0.00</td>\n",
       "      <td>1</td>\n",
       "      <td>1</td>\n",
       "      <td>1</td>\n",
       "      <td>101,348.88</td>\n",
       "      <td>1</td>\n",
       "    </tr>\n",
       "    <tr>\n",
       "      <th>1</th>\n",
       "      <td>2</td>\n",
       "      <td>15647311</td>\n",
       "      <td>Hill</td>\n",
       "      <td>608</td>\n",
       "      <td>Spain</td>\n",
       "      <td>Female</td>\n",
       "      <td>41</td>\n",
       "      <td>1.00</td>\n",
       "      <td>83,807.86</td>\n",
       "      <td>1</td>\n",
       "      <td>0</td>\n",
       "      <td>1</td>\n",
       "      <td>112,542.58</td>\n",
       "      <td>0</td>\n",
       "    </tr>\n",
       "    <tr>\n",
       "      <th>2</th>\n",
       "      <td>3</td>\n",
       "      <td>15619304</td>\n",
       "      <td>Onio</td>\n",
       "      <td>502</td>\n",
       "      <td>France</td>\n",
       "      <td>Female</td>\n",
       "      <td>42</td>\n",
       "      <td>8.00</td>\n",
       "      <td>159,660.80</td>\n",
       "      <td>3</td>\n",
       "      <td>1</td>\n",
       "      <td>0</td>\n",
       "      <td>113,931.57</td>\n",
       "      <td>1</td>\n",
       "    </tr>\n",
       "    <tr>\n",
       "      <th>3</th>\n",
       "      <td>4</td>\n",
       "      <td>15701354</td>\n",
       "      <td>Boni</td>\n",
       "      <td>699</td>\n",
       "      <td>France</td>\n",
       "      <td>Female</td>\n",
       "      <td>39</td>\n",
       "      <td>1.00</td>\n",
       "      <td>0.00</td>\n",
       "      <td>2</td>\n",
       "      <td>0</td>\n",
       "      <td>0</td>\n",
       "      <td>93,826.63</td>\n",
       "      <td>0</td>\n",
       "    </tr>\n",
       "    <tr>\n",
       "      <th>4</th>\n",
       "      <td>5</td>\n",
       "      <td>15737888</td>\n",
       "      <td>Mitchell</td>\n",
       "      <td>850</td>\n",
       "      <td>Spain</td>\n",
       "      <td>Female</td>\n",
       "      <td>43</td>\n",
       "      <td>2.00</td>\n",
       "      <td>125,510.82</td>\n",
       "      <td>1</td>\n",
       "      <td>1</td>\n",
       "      <td>1</td>\n",
       "      <td>79,084.10</td>\n",
       "      <td>0</td>\n",
       "    </tr>\n",
       "    <tr>\n",
       "      <th>5</th>\n",
       "      <td>6</td>\n",
       "      <td>15574012</td>\n",
       "      <td>Chu</td>\n",
       "      <td>645</td>\n",
       "      <td>Spain</td>\n",
       "      <td>Male</td>\n",
       "      <td>44</td>\n",
       "      <td>8.00</td>\n",
       "      <td>113,755.78</td>\n",
       "      <td>2</td>\n",
       "      <td>1</td>\n",
       "      <td>0</td>\n",
       "      <td>149,756.71</td>\n",
       "      <td>1</td>\n",
       "    </tr>\n",
       "    <tr>\n",
       "      <th>6</th>\n",
       "      <td>7</td>\n",
       "      <td>15592531</td>\n",
       "      <td>Bartlett</td>\n",
       "      <td>822</td>\n",
       "      <td>France</td>\n",
       "      <td>Male</td>\n",
       "      <td>50</td>\n",
       "      <td>7.00</td>\n",
       "      <td>0.00</td>\n",
       "      <td>2</td>\n",
       "      <td>1</td>\n",
       "      <td>1</td>\n",
       "      <td>10,062.80</td>\n",
       "      <td>0</td>\n",
       "    </tr>\n",
       "    <tr>\n",
       "      <th>7</th>\n",
       "      <td>8</td>\n",
       "      <td>15656148</td>\n",
       "      <td>Obinna</td>\n",
       "      <td>376</td>\n",
       "      <td>Germany</td>\n",
       "      <td>Female</td>\n",
       "      <td>29</td>\n",
       "      <td>4.00</td>\n",
       "      <td>115,046.74</td>\n",
       "      <td>4</td>\n",
       "      <td>1</td>\n",
       "      <td>0</td>\n",
       "      <td>119,346.88</td>\n",
       "      <td>1</td>\n",
       "    </tr>\n",
       "    <tr>\n",
       "      <th>8</th>\n",
       "      <td>9</td>\n",
       "      <td>15792365</td>\n",
       "      <td>He</td>\n",
       "      <td>501</td>\n",
       "      <td>France</td>\n",
       "      <td>Male</td>\n",
       "      <td>44</td>\n",
       "      <td>4.00</td>\n",
       "      <td>142,051.07</td>\n",
       "      <td>2</td>\n",
       "      <td>0</td>\n",
       "      <td>1</td>\n",
       "      <td>74,940.50</td>\n",
       "      <td>0</td>\n",
       "    </tr>\n",
       "    <tr>\n",
       "      <th>9</th>\n",
       "      <td>10</td>\n",
       "      <td>15592389</td>\n",
       "      <td>H?</td>\n",
       "      <td>684</td>\n",
       "      <td>France</td>\n",
       "      <td>Male</td>\n",
       "      <td>27</td>\n",
       "      <td>2.00</td>\n",
       "      <td>134,603.88</td>\n",
       "      <td>1</td>\n",
       "      <td>1</td>\n",
       "      <td>1</td>\n",
       "      <td>71,725.73</td>\n",
       "      <td>0</td>\n",
       "    </tr>\n",
       "  </tbody>\n",
       "</table>\n",
       "</div>"
      ],
      "text/plain": [
       "   row_number  customer_id   surname  credit_score geography  gender  age  \\\n",
       "0           1     15634602  Hargrave           619    France  Female   42   \n",
       "1           2     15647311      Hill           608     Spain  Female   41   \n",
       "2           3     15619304      Onio           502    France  Female   42   \n",
       "3           4     15701354      Boni           699    France  Female   39   \n",
       "4           5     15737888  Mitchell           850     Spain  Female   43   \n",
       "5           6     15574012       Chu           645     Spain    Male   44   \n",
       "6           7     15592531  Bartlett           822    France    Male   50   \n",
       "7           8     15656148    Obinna           376   Germany  Female   29   \n",
       "8           9     15792365        He           501    France    Male   44   \n",
       "9          10     15592389        H?           684    France    Male   27   \n",
       "\n",
       "   tenure    balance  num_of_products  has_cr_card  is_active_member  \\\n",
       "0    2.00       0.00                1            1                 1   \n",
       "1    1.00  83,807.86                1            0                 1   \n",
       "2    8.00 159,660.80                3            1                 0   \n",
       "3    1.00       0.00                2            0                 0   \n",
       "4    2.00 125,510.82                1            1                 1   \n",
       "5    8.00 113,755.78                2            1                 0   \n",
       "6    7.00       0.00                2            1                 1   \n",
       "7    4.00 115,046.74                4            1                 0   \n",
       "8    4.00 142,051.07                2            0                 1   \n",
       "9    2.00 134,603.88                1            1                 1   \n",
       "\n",
       "   estimated_salary  exited  \n",
       "0        101,348.88       1  \n",
       "1        112,542.58       0  \n",
       "2        113,931.57       1  \n",
       "3         93,826.63       0  \n",
       "4         79,084.10       0  \n",
       "5        149,756.71       1  \n",
       "6         10,062.80       0  \n",
       "7        119,346.88       1  \n",
       "8         74,940.50       0  \n",
       "9         71,725.73       0  "
      ]
     },
     "execution_count": 38,
     "metadata": {},
     "output_type": "execute_result"
    }
   ],
   "source": [
    "# Приведем названия столбцов к змеиному регистру\n",
    "df.columns = df.columns.str.lower()\n",
    "df = df.rename(\n",
    "    columns={'rownumber': 'row_number', 'customerid': 'customer_id', \n",
    "             'creditscore': 'credit_score', 'numofproducts': 'num_of_products', \n",
    "             'hascrcard': 'has_cr_card', 'isactivemember': 'is_active_member', \n",
    "             'estimatedsalary': 'estimated_salary'}\n",
    ") \n",
    "df.head(10)"
   ]
  },
  {
   "cell_type": "code",
   "execution_count": 39,
   "id": "60dfc87c",
   "metadata": {},
   "outputs": [
    {
     "name": "stdout",
     "output_type": "stream",
     "text": [
      "Явные дубликаты: 0\n"
     ]
    },
    {
     "data": {
      "text/html": [
       "<div>\n",
       "<style scoped>\n",
       "    .dataframe tbody tr th:only-of-type {\n",
       "        vertical-align: middle;\n",
       "    }\n",
       "\n",
       "    .dataframe tbody tr th {\n",
       "        vertical-align: top;\n",
       "    }\n",
       "\n",
       "    .dataframe thead th {\n",
       "        text-align: right;\n",
       "    }\n",
       "</style>\n",
       "<table border=\"1\" class=\"dataframe\">\n",
       "  <thead>\n",
       "    <tr style=\"text-align: right;\">\n",
       "      <th></th>\n",
       "      <th>row_number</th>\n",
       "      <th>customer_id</th>\n",
       "      <th>credit_score</th>\n",
       "      <th>age</th>\n",
       "      <th>tenure</th>\n",
       "      <th>balance</th>\n",
       "      <th>num_of_products</th>\n",
       "      <th>has_cr_card</th>\n",
       "      <th>is_active_member</th>\n",
       "      <th>estimated_salary</th>\n",
       "      <th>exited</th>\n",
       "    </tr>\n",
       "  </thead>\n",
       "  <tbody>\n",
       "    <tr>\n",
       "      <th>row_number</th>\n",
       "      <td>1.00</td>\n",
       "      <td>0.00</td>\n",
       "      <td>0.01</td>\n",
       "      <td>0.00</td>\n",
       "      <td>-0.01</td>\n",
       "      <td>-0.01</td>\n",
       "      <td>0.01</td>\n",
       "      <td>0.00</td>\n",
       "      <td>0.01</td>\n",
       "      <td>-0.01</td>\n",
       "      <td>-0.02</td>\n",
       "    </tr>\n",
       "    <tr>\n",
       "      <th>customer_id</th>\n",
       "      <td>0.00</td>\n",
       "      <td>1.00</td>\n",
       "      <td>0.01</td>\n",
       "      <td>0.01</td>\n",
       "      <td>-0.02</td>\n",
       "      <td>-0.01</td>\n",
       "      <td>0.02</td>\n",
       "      <td>-0.01</td>\n",
       "      <td>0.00</td>\n",
       "      <td>0.02</td>\n",
       "      <td>-0.01</td>\n",
       "    </tr>\n",
       "    <tr>\n",
       "      <th>credit_score</th>\n",
       "      <td>0.01</td>\n",
       "      <td>0.01</td>\n",
       "      <td>1.00</td>\n",
       "      <td>-0.00</td>\n",
       "      <td>-0.00</td>\n",
       "      <td>0.01</td>\n",
       "      <td>0.01</td>\n",
       "      <td>-0.01</td>\n",
       "      <td>0.03</td>\n",
       "      <td>-0.00</td>\n",
       "      <td>-0.03</td>\n",
       "    </tr>\n",
       "    <tr>\n",
       "      <th>age</th>\n",
       "      <td>0.00</td>\n",
       "      <td>0.01</td>\n",
       "      <td>-0.00</td>\n",
       "      <td>1.00</td>\n",
       "      <td>-0.01</td>\n",
       "      <td>0.03</td>\n",
       "      <td>-0.03</td>\n",
       "      <td>-0.01</td>\n",
       "      <td>0.09</td>\n",
       "      <td>-0.01</td>\n",
       "      <td>0.29</td>\n",
       "    </tr>\n",
       "    <tr>\n",
       "      <th>tenure</th>\n",
       "      <td>-0.01</td>\n",
       "      <td>-0.02</td>\n",
       "      <td>-0.00</td>\n",
       "      <td>-0.01</td>\n",
       "      <td>1.00</td>\n",
       "      <td>-0.01</td>\n",
       "      <td>0.01</td>\n",
       "      <td>0.03</td>\n",
       "      <td>-0.03</td>\n",
       "      <td>0.01</td>\n",
       "      <td>-0.02</td>\n",
       "    </tr>\n",
       "    <tr>\n",
       "      <th>balance</th>\n",
       "      <td>-0.01</td>\n",
       "      <td>-0.01</td>\n",
       "      <td>0.01</td>\n",
       "      <td>0.03</td>\n",
       "      <td>-0.01</td>\n",
       "      <td>1.00</td>\n",
       "      <td>-0.30</td>\n",
       "      <td>-0.01</td>\n",
       "      <td>-0.01</td>\n",
       "      <td>0.01</td>\n",
       "      <td>0.12</td>\n",
       "    </tr>\n",
       "    <tr>\n",
       "      <th>num_of_products</th>\n",
       "      <td>0.01</td>\n",
       "      <td>0.02</td>\n",
       "      <td>0.01</td>\n",
       "      <td>-0.03</td>\n",
       "      <td>0.01</td>\n",
       "      <td>-0.30</td>\n",
       "      <td>1.00</td>\n",
       "      <td>0.00</td>\n",
       "      <td>0.01</td>\n",
       "      <td>0.01</td>\n",
       "      <td>-0.05</td>\n",
       "    </tr>\n",
       "    <tr>\n",
       "      <th>has_cr_card</th>\n",
       "      <td>0.00</td>\n",
       "      <td>-0.01</td>\n",
       "      <td>-0.01</td>\n",
       "      <td>-0.01</td>\n",
       "      <td>0.03</td>\n",
       "      <td>-0.01</td>\n",
       "      <td>0.00</td>\n",
       "      <td>1.00</td>\n",
       "      <td>-0.01</td>\n",
       "      <td>-0.01</td>\n",
       "      <td>-0.01</td>\n",
       "    </tr>\n",
       "    <tr>\n",
       "      <th>is_active_member</th>\n",
       "      <td>0.01</td>\n",
       "      <td>0.00</td>\n",
       "      <td>0.03</td>\n",
       "      <td>0.09</td>\n",
       "      <td>-0.03</td>\n",
       "      <td>-0.01</td>\n",
       "      <td>0.01</td>\n",
       "      <td>-0.01</td>\n",
       "      <td>1.00</td>\n",
       "      <td>-0.01</td>\n",
       "      <td>-0.16</td>\n",
       "    </tr>\n",
       "    <tr>\n",
       "      <th>estimated_salary</th>\n",
       "      <td>-0.01</td>\n",
       "      <td>0.02</td>\n",
       "      <td>-0.00</td>\n",
       "      <td>-0.01</td>\n",
       "      <td>0.01</td>\n",
       "      <td>0.01</td>\n",
       "      <td>0.01</td>\n",
       "      <td>-0.01</td>\n",
       "      <td>-0.01</td>\n",
       "      <td>1.00</td>\n",
       "      <td>0.01</td>\n",
       "    </tr>\n",
       "    <tr>\n",
       "      <th>exited</th>\n",
       "      <td>-0.02</td>\n",
       "      <td>-0.01</td>\n",
       "      <td>-0.03</td>\n",
       "      <td>0.29</td>\n",
       "      <td>-0.02</td>\n",
       "      <td>0.12</td>\n",
       "      <td>-0.05</td>\n",
       "      <td>-0.01</td>\n",
       "      <td>-0.16</td>\n",
       "      <td>0.01</td>\n",
       "      <td>1.00</td>\n",
       "    </tr>\n",
       "  </tbody>\n",
       "</table>\n",
       "</div>"
      ],
      "text/plain": [
       "                  row_number  customer_id  credit_score   age  tenure  \\\n",
       "row_number              1.00         0.00          0.01  0.00   -0.01   \n",
       "customer_id             0.00         1.00          0.01  0.01   -0.02   \n",
       "credit_score            0.01         0.01          1.00 -0.00   -0.00   \n",
       "age                     0.00         0.01         -0.00  1.00   -0.01   \n",
       "tenure                 -0.01        -0.02         -0.00 -0.01    1.00   \n",
       "balance                -0.01        -0.01          0.01  0.03   -0.01   \n",
       "num_of_products         0.01         0.02          0.01 -0.03    0.01   \n",
       "has_cr_card             0.00        -0.01         -0.01 -0.01    0.03   \n",
       "is_active_member        0.01         0.00          0.03  0.09   -0.03   \n",
       "estimated_salary       -0.01         0.02         -0.00 -0.01    0.01   \n",
       "exited                 -0.02        -0.01         -0.03  0.29   -0.02   \n",
       "\n",
       "                  balance  num_of_products  has_cr_card  is_active_member  \\\n",
       "row_number          -0.01             0.01         0.00              0.01   \n",
       "customer_id         -0.01             0.02        -0.01              0.00   \n",
       "credit_score         0.01             0.01        -0.01              0.03   \n",
       "age                  0.03            -0.03        -0.01              0.09   \n",
       "tenure              -0.01             0.01         0.03             -0.03   \n",
       "balance              1.00            -0.30        -0.01             -0.01   \n",
       "num_of_products     -0.30             1.00         0.00              0.01   \n",
       "has_cr_card         -0.01             0.00         1.00             -0.01   \n",
       "is_active_member    -0.01             0.01        -0.01              1.00   \n",
       "estimated_salary     0.01             0.01        -0.01             -0.01   \n",
       "exited               0.12            -0.05        -0.01             -0.16   \n",
       "\n",
       "                  estimated_salary  exited  \n",
       "row_number                   -0.01   -0.02  \n",
       "customer_id                   0.02   -0.01  \n",
       "credit_score                 -0.00   -0.03  \n",
       "age                          -0.01    0.29  \n",
       "tenure                        0.01   -0.02  \n",
       "balance                       0.01    0.12  \n",
       "num_of_products               0.01   -0.05  \n",
       "has_cr_card                  -0.01   -0.01  \n",
       "is_active_member             -0.01   -0.16  \n",
       "estimated_salary              1.00    0.01  \n",
       "exited                        0.01    1.00  "
      ]
     },
     "execution_count": 39,
     "metadata": {},
     "output_type": "execute_result"
    }
   ],
   "source": [
    "pd.options.display.float_format = '{:,.2f}'.format\n",
    "# Проверка дубликатов\n",
    "print('Явные дубликаты:', df.duplicated().sum())\n",
    "# Изучим корреляции признаков\n",
    "df.corr()"
   ]
  },
  {
   "cell_type": "code",
   "execution_count": 40,
   "id": "6d6cd72d",
   "metadata": {},
   "outputs": [
    {
     "data": {
      "text/html": [
       "<div>\n",
       "<style scoped>\n",
       "    .dataframe tbody tr th:only-of-type {\n",
       "        vertical-align: middle;\n",
       "    }\n",
       "\n",
       "    .dataframe tbody tr th {\n",
       "        vertical-align: top;\n",
       "    }\n",
       "\n",
       "    .dataframe thead th {\n",
       "        text-align: right;\n",
       "    }\n",
       "</style>\n",
       "<table border=\"1\" class=\"dataframe\">\n",
       "  <thead>\n",
       "    <tr style=\"text-align: right;\">\n",
       "      <th></th>\n",
       "      <th>row_number</th>\n",
       "      <th>customer_id</th>\n",
       "      <th>credit_score</th>\n",
       "      <th>age</th>\n",
       "      <th>tenure</th>\n",
       "      <th>balance</th>\n",
       "      <th>num_of_products</th>\n",
       "      <th>has_cr_card</th>\n",
       "      <th>is_active_member</th>\n",
       "      <th>estimated_salary</th>\n",
       "      <th>exited</th>\n",
       "    </tr>\n",
       "  </thead>\n",
       "  <tbody>\n",
       "    <tr>\n",
       "      <th>count</th>\n",
       "      <td>10,000.00</td>\n",
       "      <td>10,000.00</td>\n",
       "      <td>10,000.00</td>\n",
       "      <td>10,000.00</td>\n",
       "      <td>9,091.00</td>\n",
       "      <td>10,000.00</td>\n",
       "      <td>10,000.00</td>\n",
       "      <td>10,000.00</td>\n",
       "      <td>10,000.00</td>\n",
       "      <td>10,000.00</td>\n",
       "      <td>10,000.00</td>\n",
       "    </tr>\n",
       "    <tr>\n",
       "      <th>mean</th>\n",
       "      <td>5,000.50</td>\n",
       "      <td>15,690,940.57</td>\n",
       "      <td>650.53</td>\n",
       "      <td>38.92</td>\n",
       "      <td>5.00</td>\n",
       "      <td>76,485.89</td>\n",
       "      <td>1.53</td>\n",
       "      <td>0.71</td>\n",
       "      <td>0.52</td>\n",
       "      <td>100,090.24</td>\n",
       "      <td>0.20</td>\n",
       "    </tr>\n",
       "    <tr>\n",
       "      <th>std</th>\n",
       "      <td>2,886.90</td>\n",
       "      <td>71,936.19</td>\n",
       "      <td>96.65</td>\n",
       "      <td>10.49</td>\n",
       "      <td>2.89</td>\n",
       "      <td>62,397.41</td>\n",
       "      <td>0.58</td>\n",
       "      <td>0.46</td>\n",
       "      <td>0.50</td>\n",
       "      <td>57,510.49</td>\n",
       "      <td>0.40</td>\n",
       "    </tr>\n",
       "    <tr>\n",
       "      <th>min</th>\n",
       "      <td>1.00</td>\n",
       "      <td>15,565,701.00</td>\n",
       "      <td>350.00</td>\n",
       "      <td>18.00</td>\n",
       "      <td>0.00</td>\n",
       "      <td>0.00</td>\n",
       "      <td>1.00</td>\n",
       "      <td>0.00</td>\n",
       "      <td>0.00</td>\n",
       "      <td>11.58</td>\n",
       "      <td>0.00</td>\n",
       "    </tr>\n",
       "    <tr>\n",
       "      <th>25%</th>\n",
       "      <td>2,500.75</td>\n",
       "      <td>15,628,528.25</td>\n",
       "      <td>584.00</td>\n",
       "      <td>32.00</td>\n",
       "      <td>2.00</td>\n",
       "      <td>0.00</td>\n",
       "      <td>1.00</td>\n",
       "      <td>0.00</td>\n",
       "      <td>0.00</td>\n",
       "      <td>51,002.11</td>\n",
       "      <td>0.00</td>\n",
       "    </tr>\n",
       "    <tr>\n",
       "      <th>50%</th>\n",
       "      <td>5,000.50</td>\n",
       "      <td>15,690,738.00</td>\n",
       "      <td>652.00</td>\n",
       "      <td>37.00</td>\n",
       "      <td>5.00</td>\n",
       "      <td>97,198.54</td>\n",
       "      <td>1.00</td>\n",
       "      <td>1.00</td>\n",
       "      <td>1.00</td>\n",
       "      <td>100,193.91</td>\n",
       "      <td>0.00</td>\n",
       "    </tr>\n",
       "    <tr>\n",
       "      <th>75%</th>\n",
       "      <td>7,500.25</td>\n",
       "      <td>15,753,233.75</td>\n",
       "      <td>718.00</td>\n",
       "      <td>44.00</td>\n",
       "      <td>7.00</td>\n",
       "      <td>127,644.24</td>\n",
       "      <td>2.00</td>\n",
       "      <td>1.00</td>\n",
       "      <td>1.00</td>\n",
       "      <td>149,388.25</td>\n",
       "      <td>0.00</td>\n",
       "    </tr>\n",
       "    <tr>\n",
       "      <th>max</th>\n",
       "      <td>10,000.00</td>\n",
       "      <td>15,815,690.00</td>\n",
       "      <td>850.00</td>\n",
       "      <td>92.00</td>\n",
       "      <td>10.00</td>\n",
       "      <td>250,898.09</td>\n",
       "      <td>4.00</td>\n",
       "      <td>1.00</td>\n",
       "      <td>1.00</td>\n",
       "      <td>199,992.48</td>\n",
       "      <td>1.00</td>\n",
       "    </tr>\n",
       "  </tbody>\n",
       "</table>\n",
       "</div>"
      ],
      "text/plain": [
       "       row_number   customer_id  credit_score       age   tenure    balance  \\\n",
       "count   10,000.00     10,000.00     10,000.00 10,000.00 9,091.00  10,000.00   \n",
       "mean     5,000.50 15,690,940.57        650.53     38.92     5.00  76,485.89   \n",
       "std      2,886.90     71,936.19         96.65     10.49     2.89  62,397.41   \n",
       "min          1.00 15,565,701.00        350.00     18.00     0.00       0.00   \n",
       "25%      2,500.75 15,628,528.25        584.00     32.00     2.00       0.00   \n",
       "50%      5,000.50 15,690,738.00        652.00     37.00     5.00  97,198.54   \n",
       "75%      7,500.25 15,753,233.75        718.00     44.00     7.00 127,644.24   \n",
       "max     10,000.00 15,815,690.00        850.00     92.00    10.00 250,898.09   \n",
       "\n",
       "       num_of_products  has_cr_card  is_active_member  estimated_salary  \\\n",
       "count        10,000.00    10,000.00         10,000.00         10,000.00   \n",
       "mean              1.53         0.71              0.52        100,090.24   \n",
       "std               0.58         0.46              0.50         57,510.49   \n",
       "min               1.00         0.00              0.00             11.58   \n",
       "25%               1.00         0.00              0.00         51,002.11   \n",
       "50%               1.00         1.00              1.00        100,193.91   \n",
       "75%               2.00         1.00              1.00        149,388.25   \n",
       "max               4.00         1.00              1.00        199,992.48   \n",
       "\n",
       "         exited  \n",
       "count 10,000.00  \n",
       "mean       0.20  \n",
       "std        0.40  \n",
       "min        0.00  \n",
       "25%        0.00  \n",
       "50%        0.00  \n",
       "75%        0.00  \n",
       "max        1.00  "
      ]
     },
     "execution_count": 40,
     "metadata": {},
     "output_type": "execute_result"
    }
   ],
   "source": [
    "# Проверим выбросы\n",
    "df.describe()"
   ]
  },
  {
   "cell_type": "markdown",
   "id": "6aaef520",
   "metadata": {},
   "source": [
    "1. Мы видим в данных есть пропуски в столбце 'tenure', которые состовляют почти 10% от числа записей, поэтому их нужно постараться заполнить.\n",
    "2. Проверила коррляцию признаков, чтобы избежать мультиколлинеарность. Не обнаружено.\n",
    "3. Явных дубликатов и выбросов не нашла.\n",
    "4. Есть столбцы, котрые можно удалить: RowNumber, CustomerId, Surname.\n",
    "5. \tgeography,\tgender -столбцы с категориальными признаками, к ним применим кодирование.\n",
    "6. Числовые признаки масштабирую."
   ]
  },
  {
   "cell_type": "markdown",
   "id": "007e78e5",
   "metadata": {},
   "source": [
    "## Подготовка данных. "
   ]
  },
  {
   "cell_type": "code",
   "execution_count": 41,
   "id": "4d7126e0",
   "metadata": {},
   "outputs": [],
   "source": [
    "# Удалим ненужные столбцы\n",
    "df.drop(['row_number', 'customer_id', 'surname'], axis=1, inplace=True)\n",
    "# Заполним пропуски и изменим тип данных\n",
    "df['tenure'] = df['tenure'].fillna(method='ffill').astype('int')\n",
    "# Перемешаем строки\n",
    "df = shuffle(df, random_state=12345)\n",
    "# Закодируем категориальные признаки\n",
    "df_ohe = pd.get_dummies(df, drop_first=True)"
   ]
  },
  {
   "cell_type": "code",
   "execution_count": 42,
   "id": "7355d560",
   "metadata": {},
   "outputs": [
    {
     "name": "stdout",
     "output_type": "stream",
     "text": [
      "<class 'pandas.core.frame.DataFrame'>\n",
      "Int64Index: 10000 entries, 7867 to 4578\n",
      "Data columns (total 12 columns):\n",
      " #   Column             Non-Null Count  Dtype  \n",
      "---  ------             --------------  -----  \n",
      " 0   credit_score       10000 non-null  int64  \n",
      " 1   age                10000 non-null  int64  \n",
      " 2   tenure             10000 non-null  int64  \n",
      " 3   balance            10000 non-null  float64\n",
      " 4   num_of_products    10000 non-null  int64  \n",
      " 5   has_cr_card        10000 non-null  int64  \n",
      " 6   is_active_member   10000 non-null  int64  \n",
      " 7   estimated_salary   10000 non-null  float64\n",
      " 8   exited             10000 non-null  int64  \n",
      " 9   geography_Germany  10000 non-null  uint8  \n",
      " 10  geography_Spain    10000 non-null  uint8  \n",
      " 11  gender_Male        10000 non-null  uint8  \n",
      "dtypes: float64(2), int64(7), uint8(3)\n",
      "memory usage: 810.5 KB\n"
     ]
    }
   ],
   "source": [
    "# Разделим датасет по признакам на обучающую, валидационную, тестовую выборки\n",
    "features = df_ohe.drop(['exited'], axis=1)\n",
    "target = df_ohe['exited']\n",
    "features_train, features_valid_test, target_train, target_valid_test = train_test_split(\n",
    "    features, target, test_size=0.4, random_state=12345,stratify=target\n",
    ")\n",
    "features_valid, features_test, target_valid, target_test = train_test_split(\n",
    "    features_valid_test, target_valid_test, test_size=0.5, random_state=12345, stratify=target_valid_test\n",
    ")\n",
    "#features_train, features_valid, features_test = np.split(features,  [int(.6*len(df)), int(.8*len(df))])\n",
    "#target_train, target_valid, target_test = np.split(target,  [int(.6*len(df)), int(.8*len(df))])\n",
    "#df_train, df_valid, df_test = np.split(df_ohe, [int(.6*len(df)), int(.8*len(df))])\n",
    "#features_train = df_train.drop(['exited'], axis=1)\n",
    "#target_train = df_train['exited']\n",
    "#features_valid = df_valid.drop(['exited'], axis=1)\n",
    "#target_valid = df_valid['exited']\n",
    "#features_test = df_test.drop(['exited'], axis=1)\n",
    "#target_test = df_test['exited']\n",
    "df_ohe.info()"
   ]
  },
  {
   "cell_type": "code",
   "execution_count": 43,
   "id": "a3f009c4",
   "metadata": {},
   "outputs": [],
   "source": [
    "# Произведм масштабирование числовых значений\n",
    "pd.options.mode.chained_assignment = None\n",
    "numeric = ['credit_score', 'age', 'tenure', 'balance', 'estimated_salary']\n",
    "scaler = StandardScaler()\n",
    "scaler.fit(features_train[numeric])\n",
    "features_train[numeric] = scaler.transform(features_train[numeric])\n",
    "features_valid[numeric] = scaler.transform(features_valid[numeric]) \n",
    "features_test[numeric] = scaler.transform(features_test[numeric]) "
   ]
  },
  {
   "cell_type": "markdown",
   "id": "e18058f6",
   "metadata": {},
   "source": [
    "## Обучение модели без  учета дисбаланса."
   ]
  },
  {
   "cell_type": "code",
   "execution_count": 44,
   "id": "1f1de430",
   "metadata": {},
   "outputs": [
    {
     "name": "stdout",
     "output_type": "stream",
     "text": [
      "F1 на валидационной выборке: 0.570162481536189 Максимальная глубина: 8 AUC_ROC: 0.814760844664499\n"
     ]
    }
   ],
   "source": [
    "# DecisionTree\n",
    "best_model = None\n",
    "best_result = 0\n",
    "best_depth = 0\n",
    "for depth in range(1, 10, 1):\n",
    "    model = DecisionTreeClassifier(random_state=12345, max_depth= depth) \n",
    "    model.fit(features_train, target_train)\n",
    "    predicted_valid = model.predict(features_valid)\n",
    "    result = f1_score(target_valid, predicted_valid)\n",
    "    probabilities_valid = model.predict_proba(features_valid)\n",
    "    probabilities_one_valid = probabilities_valid[:, 1]\n",
    "    auc_roc_DTC = roc_auc_score(target_valid, probabilities_one_valid)\n",
    "    if result > best_result:\n",
    "        best_result = result\n",
    "        best_depth = depth \n",
    "        auc_roc = auc_roc_DTC\n",
    "\n",
    "print(\n",
    "    'F1 на валидационной выборке:',best_result, \n",
    "    'Максимальная глубина:', best_depth, \n",
    "    'AUC_ROC:', auc_roc\n",
    ")"
   ]
  },
  {
   "cell_type": "markdown",
   "id": "a2c3a56e",
   "metadata": {},
   "source": [
    "Модель \"Дерево решений\" показала наилучший результат при глубине = 8. F1 на валидационной выборке: 0.57"
   ]
  },
  {
   "cell_type": "code",
   "execution_count": 45,
   "id": "32bf5f90",
   "metadata": {},
   "outputs": [
    {
     "name": "stdout",
     "output_type": "stream",
     "text": [
      "F1 на валидационной выборке: 0.6027397260273972 Количество деревьев: 14 Максимальная глубина: 10 AUC_ROC: 0.8469507463789535\n"
     ]
    }
   ],
   "source": [
    "# Random forest\n",
    "best_model = None\n",
    "best_result = 0\n",
    "best_est = 0\n",
    "best_depth = 0\n",
    "for est in range(1, 20, 1):\n",
    "    for depth in range (1, 15, 1):\n",
    "        model_rand = RandomForestClassifier(random_state=12345, n_estimators=est, max_depth= depth)\n",
    "        model_rand.fit(features_train, target_train)\n",
    "        predicted_valid = model_rand.predict(features_valid)\n",
    "        result_valid = f1_score(target_valid, predicted_valid)\n",
    "        probabilities_valid = model_rand.predict_proba(features_valid)\n",
    "        probabilities_one_valid = probabilities_valid[:, 1]\n",
    "        auc_roc_RFC = roc_auc_score(target_valid, probabilities_one_valid)\n",
    "        if result_valid > best_result:\n",
    "            best_result = result_valid\n",
    "            best_est = est\n",
    "            best_depth = depth  \n",
    "            auc_roc = auc_roc_RFC\n",
    "            \n",
    "\n",
    "print(\n",
    "    \"F1 на валидационной выборке:\", best_result,\n",
    "    \"Количество деревьев:\", best_est, \"Максимальная глубина:\", best_depth, 'AUC_ROC:', auc_roc\n",
    ")"
   ]
  },
  {
   "cell_type": "markdown",
   "id": "99b2e733",
   "metadata": {},
   "source": [
    "Модель \"Случайный лес\" показала наилучшие результаты при количеcтве деревьев = 14 и глубине = 10. F1 на валидационной выборке: 0.602"
   ]
  },
  {
   "cell_type": "code",
   "execution_count": 46,
   "id": "c6dd2a58",
   "metadata": {},
   "outputs": [
    {
     "name": "stdout",
     "output_type": "stream",
     "text": [
      "F1 на валидационной выборке: 0.33752244165170553\n",
      "AUC_ROC: 0.7777244063454527\n"
     ]
    }
   ],
   "source": [
    "# Логистическая регрессия\n",
    "model_log = LogisticRegression(random_state=12345, solver='lbfgs', max_iter=100) \n",
    "model_log.fit(features_train, target_train)\n",
    "predicted_valid = model_log.predict(features_valid)\n",
    "result_valid = f1_score(target_valid, predicted_valid)\n",
    "   \n",
    "print(\"F1 на валидационной выборке:\", result_valid)\n",
    "probabilities_valid = model_log.predict_proba(features_valid)\n",
    "probabilities_one_valid = probabilities_valid[:, 1]\n",
    "auc_roc_LR = roc_auc_score(target_valid, probabilities_one_valid)\n",
    "print('AUC_ROC:',auc_roc_LR)"
   ]
  },
  {
   "cell_type": "code",
   "execution_count": 47,
   "id": "406c2612",
   "metadata": {},
   "outputs": [
    {
     "data": {
      "image/png": "[encoded data removed]",
      "text/plain": [
       "<Figure size 432x288 with 1 Axes>"
      ]
     },
     "metadata": {
      "needs_background": "light"
     },
     "output_type": "display_data"
    }
   ],
   "source": [
    "# Построим график с ROC-кривыми моделей \n",
    "# Строим кривую по модели \"Дерево решений\"\n",
    "model = DecisionTreeClassifier(random_state=12345, max_depth= 8) \n",
    "model.fit(features_train, target_train)\n",
    "probabilities_valid = model.predict_proba(features_valid)\n",
    "probabilities_DTC_valid = probabilities_valid[:, 1]\n",
    "t_fpr, t_tpr, t_thresholds = roc_curve(target_valid, probabilities_DTC_valid)\n",
    "plt.plot(t_fpr, t_tpr, label=\"DTC\")\n",
    "\n",
    "# Строим кривую по модели \"Случайный лес\"\n",
    "model_rand = RandomForestClassifier(random_state=12345, n_estimators=14, max_depth= 10)\n",
    "model_rand.fit(features_train, target_train)\n",
    "probabilities_valid = model_rand.predict_proba(features_valid)\n",
    "probabilities_RFC_valid = probabilities_valid[:, 1]\n",
    "auc_roc_RFC = roc_auc_score(target_valid, probabilities_one_valid)\n",
    "rf_fpr, rf_tpr, rf_thresholds = roc_curve(target_valid, probabilities_RFC_valid)\n",
    "plt.plot(rf_fpr, rf_tpr,label=\"RFC\")\n",
    "\n",
    "# Строим кривую по модели \"Логистическая регрессия\"\n",
    "model_log = LogisticRegression(random_state=12345, solver='lbfgs', max_iter=100) \n",
    "model_log.fit(features_train, target_train)\n",
    "probabilities_valid = model_log.predict_proba(features_valid)\n",
    "probabilities_LR_valid = probabilities_valid[:, 1]\n",
    "lr_fpr, lr_tpr, lr_thresholds = roc_curve(target_valid, probabilities_LR_valid)\n",
    "plt.plot(lr_fpr, lr_tpr, label=\"LR\")\n",
    "\n",
    "\n",
    "# ROC-кривая случайной модели \n",
    "plt.plot([0, 1], [0, 1], label=\"Random\", linestyle='--')\n",
    "plt.xlabel(\"False Positive Rate\")\n",
    "plt.ylabel(\"True Positive Rate\")\n",
    "plt.title(\"ROC-кривая\")\n",
    "plt.xlim([0, 1])\n",
    "plt.ylim([0, 1])\n",
    "plt.legend(fontsize=10)\n",
    "plt.show()"
   ]
  },
  {
   "cell_type": "markdown",
   "id": "5a5a9529",
   "metadata": {},
   "source": [
    "    Вывод: \n",
    "    Наилучшей моделью оказалась \"Случайный лес\", F1 на валидационной выборке = 0.602, AUC_ROC = 0.84.\n",
    "    На графике наглядно видим, что \"Случайный лес\" более точен."
   ]
  },
  {
   "cell_type": "markdown",
   "id": "0c95d28a",
   "metadata": {},
   "source": [
    "## Улучшение модели с учетом дисбаланса. Выбор лучшей модели."
   ]
  },
  {
   "cell_type": "markdown",
   "id": "97d1d7fe",
   "metadata": {},
   "source": [
    "Построим модели учитывая дисбаланс классов."
   ]
  },
  {
   "cell_type": "code",
   "execution_count": 15,
   "id": "1a0b7723",
   "metadata": {},
   "outputs": [
    {
     "data": {
      "text/plain": [
       "0    4778\n",
       "1    1222\n",
       "Name: exited, dtype: int64"
      ]
     },
     "execution_count": 15,
     "metadata": {},
     "output_type": "execute_result"
    }
   ],
   "source": [
    "# Исследуем баланс классов на обучающей выборке\n",
    "target_train.value_counts()"
   ]
  },
  {
   "cell_type": "code",
   "execution_count": 48,
   "id": "9ac23df7",
   "metadata": {},
   "outputs": [],
   "source": [
    "# с помощью техники upsampling увеличим вес меньшего класса\n",
    "def upsample(features, target, repeat):\n",
    "    features_zeros = features[target == 0]\n",
    "    features_ones = features[target == 1]\n",
    "    target_zeros = target[target == 0]\n",
    "    target_ones = target[target == 1]\n",
    "\n",
    "    features_upsampled = pd.concat([features_zeros] + [features_ones] * repeat)\n",
    "    target_upsampled = pd.concat([target_zeros] + [target_ones] * repeat)\n",
    "    \n",
    "    features_upsampled, target_upsampled = shuffle(\n",
    "        features_upsampled, target_upsampled, random_state=12345)\n",
    "    \n",
    "    return features_upsampled, target_upsampled\n",
    "\n",
    "features_upsampled, target_upsampled = upsample(features_train, target_train, 4)\n",
    "\n"
   ]
  },
  {
   "cell_type": "code",
   "execution_count": 49,
   "id": "8ee141f9",
   "metadata": {},
   "outputs": [
    {
     "name": "stdout",
     "output_type": "stream",
     "text": [
      "f1 на валидационной выборке: 0.5847826086956522 Максимальная глубина: 5 AUC_ROC: 0.8225910496107992\n"
     ]
    }
   ],
   "source": [
    "# Построим DecisionTree на сбалансированной обучающей выборке\n",
    "best_model = None\n",
    "best_result = 0\n",
    "best_depth = 0\n",
    "for depth in range(1, 10):\n",
    "    model = DecisionTreeClassifier(random_state=12345, max_depth=depth) \n",
    "    model.fit(features_upsampled, target_upsampled)\n",
    "    predicted_valid = model.predict(features_valid)\n",
    "    result = f1_score(target_valid, predicted_valid)\n",
    "    probabilities_valid = model.predict_proba(features_valid)\n",
    "    probabilities_one_valid = probabilities_valid[:, 1]\n",
    "    auc_roc_DTC = roc_auc_score(target_valid, probabilities_one_valid)\n",
    "    if result > best_result:\n",
    "        best_result = result\n",
    "        best_depth = depth \n",
    "        auc_roc = auc_roc_DTC\n",
    " \n",
    "print(\n",
    "    'f1 на валидационной выборке:',best_result, \n",
    "    'Максимальная глубина:', best_depth, \n",
    "    'AUC_ROC:', auc_roc\n",
    ")"
   ]
  },
  {
   "cell_type": "markdown",
   "id": "74fc90ea",
   "metadata": {},
   "source": [
    "Модель \"Дерево решений\" показала наилучший результат при глубине = 5. F1-мера повысилась по сравнению с моделью обученной на несбалансированной выборке. Была 0.57, стала 0,584. Значение AUC_ROC также увеличилось."
   ]
  },
  {
   "cell_type": "code",
   "execution_count": 51,
   "id": "254f107e",
   "metadata": {},
   "outputs": [
    {
     "name": "stdout",
     "output_type": "stream",
     "text": [
      "F1 на валидационной выборке: 0.6109839816933639 Количество деревьев: 17 Максимальная глубина: 11 AUC_ROC: 0.8347428010148783\n"
     ]
    }
   ],
   "source": [
    "# Построим Random forest на сбалансированной обучающей выборке\n",
    "best_model = None\n",
    "best_result = 0\n",
    "best_est = 0\n",
    "best_depth = 0\n",
    "for est in range(1, 20, 1):\n",
    "    for depth in range (1, 15, 1):\n",
    "        model_rand = RandomForestClassifier(random_state=12345, n_estimators=est, max_depth= depth)\n",
    "        model_rand.fit(features_upsampled, target_upsampled)\n",
    "        predicted_valid = model_rand.predict(features_valid)\n",
    "        result_valid = f1_score(target_valid, predicted_valid)\n",
    "        probabilities_valid = model_rand.predict_proba(features_valid)\n",
    "        probabilities_one_valid = probabilities_valid[:, 1]\n",
    "        auc_roc_RFC = roc_auc_score(target_valid, probabilities_one_valid)\n",
    "        if result_valid > best_result:\n",
    "            best_result = result_valid\n",
    "            best_est = est\n",
    "            best_depth = depth  \n",
    "            auc_roc = auc_roc_RFC\n",
    "            \n",
    "            \n",
    "print(\n",
    "     \"F1 на валидационной выборке:\", best_result,\n",
    "    \"Количество деревьев:\", best_est, \"Максимальная глубина:\", best_depth, 'AUC_ROC:', auc_roc\n",
    ")"
   ]
  },
  {
   "cell_type": "markdown",
   "id": "9f703405",
   "metadata": {},
   "source": [
    "Модель \"Случайный лес\" показала наилучшие результаты при количетве деревьев = 17 и глубине = 11.\n",
    "F1- мера увеличилась с 0.602 и стала = 0.611, но понизилось значение AUC_ROC. Было 0,84, стало 0,834"
   ]
  },
  {
   "cell_type": "code",
   "execution_count": 52,
   "id": "13ab6b23",
   "metadata": {},
   "outputs": [
    {
     "name": "stdout",
     "output_type": "stream",
     "text": [
      "F1 на валидационной выборке: 0.5088028169014084\n",
      "AUC_ROC: 0.7807711966696226\n"
     ]
    }
   ],
   "source": [
    "# Построим Логистическую регрессию на сбалансированной обучающей выборке\n",
    "model_log = LogisticRegression(random_state=12345, solver='lbfgs', max_iter=100) \n",
    "model_log.fit(features_upsampled, target_upsampled)\n",
    "predicted_valid = model_log.predict(features_valid)\n",
    "result_valid = f1_score(target_valid, predicted_valid)\n",
    "   \n",
    "print(\"F1 на валидационной выборке:\", result_valid)\n",
    "probabilities_valid = model_log.predict_proba(features_valid)\n",
    "probabilities_one_valid = probabilities_valid[:, 1]\n",
    "auc_roc_LR = roc_auc_score(target_valid, probabilities_one_valid)\n",
    "print('AUC_ROC:',auc_roc_LR)"
   ]
  },
  {
   "cell_type": "markdown",
   "id": "190c1212",
   "metadata": {},
   "source": [
    "Значение F1-меры для модели Логистической регрессии повысилось на сбалансированной выборке и стало 0,51 против 0,34."
   ]
  },
  {
   "cell_type": "code",
   "execution_count": 53,
   "id": "35c97c48",
   "metadata": {},
   "outputs": [
    {
     "data": {
      "image/png": "[encoded data removed]",
      "text/plain": [
       "<Figure size 432x288 with 1 Axes>"
      ]
     },
     "metadata": {
      "needs_background": "light"
     },
     "output_type": "display_data"
    }
   ],
   "source": [
    "# Построим график с ROC-кривыми моделей \n",
    "# Строим кривую по модели \"Дерево решений\"\n",
    "model = DecisionTreeClassifier(random_state=12345, max_depth= 5) \n",
    "model.fit(features_upsampled, target_upsampled)\n",
    "probabilities_valid = model.predict_proba(features_valid)\n",
    "probabilities_DTC_valid = probabilities_valid[:, 1]\n",
    "t_fpr, t_tpr, t_thresholds = roc_curve(target_valid, probabilities_DTC_valid)\n",
    "plt.plot(t_fpr, t_tpr, label=\"DTC\")\n",
    "\n",
    "# Строим кривую по модели \"Случайный лес\"\n",
    "model_rand = RandomForestClassifier(random_state=12345, n_estimators=17, max_depth= 11)\n",
    "model_rand.fit(features_upsampled, target_upsampled)\n",
    "probabilities_valid = model_rand.predict_proba(features_valid)\n",
    "probabilities_RFC_valid = probabilities_valid[:, 1]\n",
    "auc_roc_RFC = roc_auc_score(target_valid, probabilities_one_valid)\n",
    "rf_fpr, rf_tpr, rf_thresholds = roc_curve(target_valid, probabilities_RFC_valid)\n",
    "plt.plot(rf_fpr, rf_tpr,label=\"RFC\")\n",
    "\n",
    "# Строим кривую по модели \"Логистическая регрессия\"\n",
    "model_log = LogisticRegression(random_state=12345, solver='lbfgs', max_iter=100) \n",
    "model_log.fit(features_upsampled, target_upsampled)\n",
    "probabilities_valid = model_log.predict_proba(features_valid)\n",
    "probabilities_LR_valid = probabilities_valid[:, 1]\n",
    "lr_fpr, lr_tpr, lr_thresholds = roc_curve(target_valid, probabilities_LR_valid)\n",
    "plt.plot(lr_fpr, lr_tpr, label=\"LR\")\n",
    "\n",
    "\n",
    "# ROC-кривая случайной модели \n",
    "plt.plot([0, 1], [0, 1], label=\"Random\", linestyle='--')\n",
    "plt.xlabel(\"False Positive Rate\")\n",
    "plt.ylabel(\"True Positive Rate\")\n",
    "plt.title(\"ROC-кривая\")\n",
    "plt.xlim([0, 1])\n",
    "plt.ylim([0, 1])\n",
    "plt.legend(fontsize=10)\n",
    "plt.show()"
   ]
  },
  {
   "cell_type": "markdown",
   "id": "081fabe0",
   "metadata": {},
   "source": [
    "Вывод: \n",
    "После балансировки на обучающей выборке модели стали предсказывать лучше. Наилучшей моделью оказалась \"Случайный лес\", F1 на валидационной выборке = 0.61, AUC_ROC = 0.83."
   ]
  },
  {
   "cell_type": "markdown",
   "id": "94c34bea",
   "metadata": {},
   "source": [
    "### Рассмотрим модели, применив еще один вариант балансировки."
   ]
  },
  {
   "cell_type": "code",
   "execution_count": 54,
   "id": "69831995",
   "metadata": {},
   "outputs": [
    {
     "name": "stdout",
     "output_type": "stream",
     "text": [
      "F1 на валидационной выборке: 0.5847826086956522 Максимальная глубина: 5 AUC_ROC: 0.8225910496107992\n"
     ]
    }
   ],
   "source": [
    "# DecisionTree\n",
    "best_model = None\n",
    "best_result = 0\n",
    "best_depth = 0\n",
    "for depth in range(1, 10, 1):\n",
    "    model = DecisionTreeClassifier(random_state=12345, max_depth= depth, class_weight='balanced') \n",
    "    model.fit(features_train, target_train)\n",
    "    predicted_valid = model.predict(features_valid)\n",
    "    result = f1_score(target_valid, predicted_valid)\n",
    "    probabilities_valid = model.predict_proba(features_valid)\n",
    "    probabilities_one_valid = probabilities_valid[:, 1]\n",
    "    auc_roc_DTC = roc_auc_score(target_valid, probabilities_one_valid)\n",
    "    if result > best_result:\n",
    "        best_result = result\n",
    "        best_depth = depth \n",
    "        auc_roc = auc_roc_DTC\n",
    "\n",
    "print(\n",
    "    'F1 на валидационной выборке:',best_result, \n",
    "    'Максимальная глубина:', best_depth, \n",
    "    'AUC_ROC:', auc_roc\n",
    ")"
   ]
  },
  {
   "cell_type": "markdown",
   "id": "827315bd",
   "metadata": {},
   "source": [
    "Модель \"Дерево решений\" при использовании параметра class_weight='balanced' показала наилучший результат при глубине = 5. F1-мера осталась прежней по сравнению с моделью обученной на выборке сбалансированной с помощью апсемплинга. F1 на валидационной выборке: 0.584"
   ]
  },
  {
   "cell_type": "code",
   "execution_count": 57,
   "id": "92d8820a",
   "metadata": {},
   "outputs": [
    {
     "name": "stdout",
     "output_type": "stream",
     "text": [
      "F1 на валидационной выборке: 0.6139315230224321 Количество деревьев: 29 Максимальная глубина: 9 AUC_ROC: 0.8523746181889842\n"
     ]
    }
   ],
   "source": [
    "# Random forest\n",
    "best_model = None\n",
    "best_result = 0\n",
    "best_est = 0\n",
    "best_depth = 0\n",
    "for est in range(1, 30, 1):\n",
    "    for depth in range (1, 10, 1):\n",
    "        model_rand = RandomForestClassifier(random_state=12345, n_estimators=est, max_depth= depth, class_weight='balanced')\n",
    "        model_rand.fit(features_train, target_train)\n",
    "        predicted_valid = model_rand.predict(features_valid)\n",
    "        result_valid = f1_score(target_valid, predicted_valid)\n",
    "        probabilities_valid = model_rand.predict_proba(features_valid)\n",
    "        probabilities_one_valid = probabilities_valid[:, 1]\n",
    "        auc_roc_RFC = roc_auc_score(target_valid, probabilities_one_valid)\n",
    "        if result_valid > best_result:\n",
    "            best_result = result_valid\n",
    "            best_est = est\n",
    "            best_depth = depth  \n",
    "            auc_roc = auc_roc_RFC\n",
    "            \n",
    "            \n",
    "\n",
    "print(\n",
    "    \"F1 на валидационной выборке:\", best_result,\n",
    "    \"Количество деревьев:\", best_est, \"Максимальная глубина:\", best_depth, 'AUC_ROC:', auc_roc\n",
    ")"
   ]
  },
  {
   "cell_type": "markdown",
   "id": "3c0701eb",
   "metadata": {},
   "source": [
    "Модель \"Случайный лес\" показала наилучшие результаты при количетве деревьев = 29 и глубине = 9. F1- мера увеличилась с 0.611 и стала = 0.614, также повысилось значение AUC_ROC. Было 0,834, стало 0,852"
   ]
  },
  {
   "cell_type": "code",
   "execution_count": 58,
   "id": "5af126e9",
   "metadata": {},
   "outputs": [
    {
     "name": "stdout",
     "output_type": "stream",
     "text": [
      "F1 на валидационной выборке: 0.5088967971530249\n",
      "AUC_ROC: 0.7807588801852399\n"
     ]
    }
   ],
   "source": [
    "# Логистическая регрессия\n",
    "model_log = LogisticRegression(random_state=12345, solver='lbfgs', max_iter=100, class_weight='balanced') \n",
    "model_log.fit(features_train, target_train)\n",
    "predicted_valid = model_log.predict(features_valid)\n",
    "result_valid = f1_score(target_valid, predicted_valid)\n",
    "   \n",
    "print(\"F1 на валидационной выборке:\", result_valid)\n",
    "probabilities_valid = model_log.predict_proba(features_valid)\n",
    "probabilities_one_valid = probabilities_valid[:, 1]\n",
    "auc_roc_LR = roc_auc_score(target_valid, probabilities_one_valid)\n",
    "print('AUC_ROC:',auc_roc_LR)"
   ]
  },
  {
   "cell_type": "markdown",
   "id": "4b79a9b5",
   "metadata": {},
   "source": [
    "Значение F1-меры для модели Логистической регрессии не изменилось."
   ]
  },
  {
   "cell_type": "code",
   "execution_count": 60,
   "id": "d97297a9",
   "metadata": {},
   "outputs": [
    {
     "data": {
      "image/png": "[encoded data removed]",
      "text/plain": [
       "<Figure size 432x288 with 1 Axes>"
      ]
     },
     "metadata": {
      "needs_background": "light"
     },
     "output_type": "display_data"
    }
   ],
   "source": [
    "# Построим график с ROC-кривыми моделей \n",
    "# Строим кривую по модели \"Дерево решений\"\n",
    "model = DecisionTreeClassifier(random_state=12345, max_depth= 5, class_weight='balanced') \n",
    "model.fit(features_train, target_train)\n",
    "probabilities_valid = model.predict_proba(features_valid)\n",
    "probabilities_DTC_valid = probabilities_valid[:, 1]\n",
    "t_fpr, t_tpr, t_thresholds = roc_curve(target_valid, probabilities_DTC_valid)\n",
    "plt.plot(t_fpr, t_tpr, label=\"DTC\")\n",
    "\n",
    "# Строим кривую по модели \"Случайный лес\"\n",
    "model_rand = RandomForestClassifier(random_state=12345, n_estimators=29, max_depth= 9, class_weight='balanced')\n",
    "model_rand.fit(features_train, target_train)\n",
    "probabilities_valid = model_rand.predict_proba(features_valid)\n",
    "probabilities_RFC_valid = probabilities_valid[:, 1]\n",
    "auc_roc_RFC = roc_auc_score(target_valid, probabilities_one_valid)\n",
    "rf_fpr, rf_tpr, rf_thresholds = roc_curve(target_valid, probabilities_RFC_valid)\n",
    "plt.plot(rf_fpr, rf_tpr,label=\"RFC\")\n",
    "\n",
    "# Строим кривую по модели \"Логистическая регрессия\"\n",
    "model_log = LogisticRegression(random_state=12345, solver='lbfgs', max_iter=100, class_weight='balanced') \n",
    "model_log.fit(features_train, target_train)\n",
    "probabilities_valid = model_log.predict_proba(features_valid)\n",
    "probabilities_LR_valid = probabilities_valid[:, 1]\n",
    "lr_fpr, lr_tpr, lr_thresholds = roc_curve(target_valid, probabilities_LR_valid)\n",
    "plt.plot(lr_fpr, lr_tpr, label=\"LR\")\n",
    "\n",
    "\n",
    "# ROC-кривая случайной модели \n",
    "plt.plot([0, 1], [0, 1], label=\"Random\", linestyle='--')\n",
    "plt.xlabel(\"False Positive Rate\")\n",
    "plt.ylabel(\"True Positive Rate\")\n",
    "plt.title(\"ROC-кривая\")\n",
    "plt.xlim([0, 1])\n",
    "plt.ylim([0, 1])\n",
    "plt.legend(fontsize=10)\n",
    "plt.show()"
   ]
  },
  {
   "cell_type": "markdown",
   "id": "28df2d02",
   "metadata": {},
   "source": [
    "## Финальное тестирование модели."
   ]
  },
  {
   "cell_type": "code",
   "execution_count": 64,
   "id": "de356d4b",
   "metadata": {},
   "outputs": [
    {
     "name": "stdout",
     "output_type": "stream",
     "text": [
      "F1_test: 0.5969802555168408\n",
      "auc_roc_RFC: 0.8370751336853032\n"
     ]
    }
   ],
   "source": [
    "# Проведем проверку наилучшей модели на тестовой выборке\n",
    "# Выборка сбалансирована апсемплингом\n",
    "model_rand = RandomForestClassifier(random_state=12345, n_estimators=17, max_depth= 11)\n",
    "model_rand.fit(features_upsampled, target_upsampled)\n",
    "predicted_test = model_rand.predict(features_test)\n",
    "print('F1_test:', f1_score(target_test, predicted_test))\n",
    "probabilities_test = model_rand.predict_proba(features_test)\n",
    "probabilities_one_test = probabilities_test[:, 1]\n",
    "print('auc_roc_RFC:', roc_auc_score(target_test, probabilities_one_test))"
   ]
  },
  {
   "cell_type": "code",
   "execution_count": 65,
   "id": "89f462a0",
   "metadata": {},
   "outputs": [
    {
     "name": "stdout",
     "output_type": "stream",
     "text": [
      "F1_test: 0.5967365967365966\n",
      "auc_roc_RFC: 0.8432901314257246\n"
     ]
    }
   ],
   "source": [
    "# Проведем проверку наилучшей модели на тестовой выборке\n",
    "# Выборка сбалансирована с помощью class_weight='balanced'\n",
    "model_rand = RandomForestClassifier(random_state=12345, n_estimators=29, max_depth= 9, class_weight='balanced')\n",
    "model_rand.fit(features_train, target_train)\n",
    "predicted_test = model_rand.predict(features_test)\n",
    "print('F1_test:', f1_score(target_test, predicted_test))\n",
    "probabilities_test = model_rand.predict_proba(features_test)\n",
    "probabilities_one_test = probabilities_test[:, 1]\n",
    "print('auc_roc_RFC:', roc_auc_score(target_test, probabilities_one_test))"
   ]
  },
  {
   "cell_type": "markdown",
   "id": "3e60b1f9",
   "metadata": {},
   "source": [
    "Вывод: Мы видим, что оба варианта балансировки показывают примерно равные значения F1-меры на тестовых выборках, однако auc_roc говорит нам о том, что качественнее модель получается при исплльзовании параметра class_weight='balanced'."
   ]
  }
 ],
 "metadata": {
  "ExecuteTimeLog": [
   {
    "duration": 7342,
    "start_time": "2023-03-16T07:10:41.440Z"
   },
   {
    "duration": 52,
    "start_time": "2023-03-16T07:10:48.784Z"
   },
   {
    "duration": 20,
    "start_time": "2023-03-16T07:10:48.837Z"
   },
   {
    "duration": 26,
    "start_time": "2023-03-16T07:10:48.859Z"
   },
   {
    "duration": 55,
    "start_time": "2023-03-16T07:10:48.887Z"
   },
   {
    "duration": 25,
    "start_time": "2023-03-16T07:10:48.944Z"
   },
   {
    "duration": 21,
    "start_time": "2023-03-16T07:10:48.971Z"
   },
   {
    "duration": 24,
    "start_time": "2023-03-16T07:10:48.994Z"
   },
   {
    "duration": 182,
    "start_time": "2023-03-16T07:10:49.020Z"
   },
   {
    "duration": 14148,
    "start_time": "2023-03-16T07:10:49.205Z"
   },
   {
    "duration": 292,
    "start_time": "2023-03-16T07:11:03.355Z"
   },
   {
    "duration": 928,
    "start_time": "2023-03-16T07:11:03.649Z"
   },
   {
    "duration": 6,
    "start_time": "2023-03-16T07:11:04.578Z"
   },
   {
    "duration": 12,
    "start_time": "2023-03-16T07:11:04.585Z"
   },
   {
    "duration": 215,
    "start_time": "2023-03-16T07:11:04.599Z"
   },
   {
    "duration": 2841,
    "start_time": "2023-03-16T07:11:04.816Z"
   },
   {
    "duration": 390,
    "start_time": "2023-03-16T07:11:07.659Z"
   },
   {
    "duration": 925,
    "start_time": "2023-03-16T07:11:08.051Z"
   },
   {
    "duration": 82,
    "start_time": "2023-03-16T07:11:08.977Z"
   },
   {
    "duration": 4,
    "start_time": "2023-03-16T07:27:40.331Z"
   },
   {
    "duration": 99,
    "start_time": "2023-03-16T07:27:40.337Z"
   },
   {
    "duration": 14,
    "start_time": "2023-03-16T07:27:40.438Z"
   },
   {
    "duration": 53,
    "start_time": "2023-03-16T07:27:40.454Z"
   },
   {
    "duration": 47,
    "start_time": "2023-03-16T07:27:40.509Z"
   },
   {
    "duration": 12,
    "start_time": "2023-03-16T07:27:40.558Z"
   },
   {
    "duration": 17,
    "start_time": "2023-03-16T07:27:45.029Z"
   },
   {
    "duration": 142,
    "start_time": "2023-03-16T07:27:51.927Z"
   },
   {
    "duration": 4,
    "start_time": "2023-03-16T07:28:08.733Z"
   },
   {
    "duration": 78,
    "start_time": "2023-03-16T07:28:09.530Z"
   },
   {
    "duration": 4,
    "start_time": "2023-03-16T07:28:10.926Z"
   },
   {
    "duration": 3,
    "start_time": "2023-03-16T07:28:11.392Z"
   },
   {
    "duration": 4,
    "start_time": "2023-03-16T07:28:11.783Z"
   },
   {
    "duration": 4,
    "start_time": "2023-03-16T07:28:12.073Z"
   },
   {
    "duration": 4,
    "start_time": "2023-03-16T07:28:12.313Z"
   },
   {
    "duration": 4,
    "start_time": "2023-03-16T07:28:12.536Z"
   },
   {
    "duration": 4,
    "start_time": "2023-03-16T07:28:12.742Z"
   },
   {
    "duration": 4,
    "start_time": "2023-03-16T07:28:12.977Z"
   },
   {
    "duration": 4,
    "start_time": "2023-03-16T07:28:13.200Z"
   },
   {
    "duration": 4,
    "start_time": "2023-03-16T07:28:13.426Z"
   },
   {
    "duration": 4,
    "start_time": "2023-03-16T07:28:13.613Z"
   },
   {
    "duration": 4,
    "start_time": "2023-03-16T07:28:13.777Z"
   },
   {
    "duration": 4,
    "start_time": "2023-03-16T07:28:14.113Z"
   },
   {
    "duration": 4,
    "start_time": "2023-03-16T07:28:14.296Z"
   },
   {
    "duration": 1789,
    "start_time": "2023-03-22T16:45:07.641Z"
   },
   {
    "duration": 103,
    "start_time": "2023-03-22T16:45:09.470Z"
   },
   {
    "duration": 23,
    "start_time": "2023-03-22T16:45:17.946Z"
   },
   {
    "duration": 30,
    "start_time": "2023-03-22T16:45:27.837Z"
   },
   {
    "duration": 163,
    "start_time": "2023-03-22T16:46:46.110Z"
   },
   {
    "duration": 13,
    "start_time": "2023-03-22T16:47:29.264Z"
   },
   {
    "duration": 19,
    "start_time": "2023-03-22T17:41:38.692Z"
   },
   {
    "duration": 7,
    "start_time": "2023-03-22T17:41:43.759Z"
   },
   {
    "duration": 57,
    "start_time": "2023-03-22T17:42:05.038Z"
   },
   {
    "duration": 15,
    "start_time": "2023-03-22T17:42:10.682Z"
   },
   {
    "duration": 28,
    "start_time": "2023-03-22T17:42:15.863Z"
   },
   {
    "duration": 22,
    "start_time": "2023-03-22T17:42:22.695Z"
   },
   {
    "duration": 14,
    "start_time": "2023-03-22T17:42:24.795Z"
   },
   {
    "duration": 10,
    "start_time": "2023-03-22T17:44:18.411Z"
   },
   {
    "duration": 19,
    "start_time": "2023-03-22T17:44:57.593Z"
   },
   {
    "duration": 27,
    "start_time": "2023-03-22T17:45:48.729Z"
   },
   {
    "duration": 10,
    "start_time": "2023-03-22T17:45:59.035Z"
   },
   {
    "duration": 5,
    "start_time": "2023-03-22T17:46:00.598Z"
   },
   {
    "duration": 9,
    "start_time": "2023-03-22T17:46:12.319Z"
   },
   {
    "duration": 6,
    "start_time": "2023-03-22T17:46:38.186Z"
   },
   {
    "duration": 9,
    "start_time": "2023-03-22T17:46:47.340Z"
   },
   {
    "duration": 8,
    "start_time": "2023-03-22T17:46:51.042Z"
   },
   {
    "duration": 72,
    "start_time": "2023-03-22T17:47:04.645Z"
   },
   {
    "duration": 18,
    "start_time": "2023-03-22T17:47:06.374Z"
   },
   {
    "duration": 32,
    "start_time": "2023-03-22T17:47:09.054Z"
   },
   {
    "duration": 7,
    "start_time": "2023-03-22T17:47:14.352Z"
   },
   {
    "duration": 7,
    "start_time": "2023-03-22T17:47:19.828Z"
   },
   {
    "duration": 9,
    "start_time": "2023-03-22T17:47:56.051Z"
   },
   {
    "duration": 27,
    "start_time": "2023-03-22T17:48:22.686Z"
   },
   {
    "duration": 30,
    "start_time": "2023-03-22T17:48:24.384Z"
   },
   {
    "duration": 12,
    "start_time": "2023-03-22T17:48:32.216Z"
   },
   {
    "duration": 66,
    "start_time": "2023-03-22T17:48:33.237Z"
   },
   {
    "duration": 26,
    "start_time": "2023-03-22T17:48:35.443Z"
   },
   {
    "duration": 46,
    "start_time": "2023-03-22T17:48:36.946Z"
   },
   {
    "duration": 31,
    "start_time": "2023-03-22T17:48:39.390Z"
   },
   {
    "duration": 138,
    "start_time": "2023-03-22T17:50:07.290Z"
   },
   {
    "duration": 15,
    "start_time": "2023-03-22T17:50:38.179Z"
   },
   {
    "duration": 52,
    "start_time": "2023-03-22T17:50:44.126Z"
   },
   {
    "duration": 40,
    "start_time": "2023-03-22T17:50:56.531Z"
   },
   {
    "duration": 72,
    "start_time": "2023-03-22T17:55:02.559Z"
   },
   {
    "duration": 30,
    "start_time": "2023-03-22T17:55:04.330Z"
   },
   {
    "duration": 45,
    "start_time": "2023-03-22T17:55:05.627Z"
   },
   {
    "duration": 50,
    "start_time": "2023-03-22T17:55:08.330Z"
   },
   {
    "duration": 42,
    "start_time": "2023-03-22T17:55:10.995Z"
   },
   {
    "duration": 44,
    "start_time": "2023-03-22T17:55:41.290Z"
   },
   {
    "duration": 43,
    "start_time": "2023-03-22T17:55:45.329Z"
   },
   {
    "duration": 261,
    "start_time": "2023-03-22T17:55:49.828Z"
   },
   {
    "duration": 18827,
    "start_time": "2023-03-22T17:56:05.465Z"
   },
   {
    "duration": 22857,
    "start_time": "2023-03-22T17:57:47.636Z"
   },
   {
    "duration": 37197,
    "start_time": "2023-03-22T17:58:41.187Z"
   },
   {
    "duration": 15111,
    "start_time": "2023-03-22T17:59:59.692Z"
   },
   {
    "duration": 9929,
    "start_time": "2023-03-22T18:00:24.091Z"
   },
   {
    "duration": 25677,
    "start_time": "2023-03-22T18:00:54.560Z"
   },
   {
    "duration": 20946,
    "start_time": "2023-03-22T18:02:18.496Z"
   },
   {
    "duration": 484,
    "start_time": "2023-03-22T18:02:39.451Z"
   },
   {
    "duration": 929,
    "start_time": "2023-03-22T18:03:08.426Z"
   },
   {
    "duration": 1568,
    "start_time": "2023-03-22T18:03:29.387Z"
   },
   {
    "duration": 8,
    "start_time": "2023-03-22T18:04:01.529Z"
   },
   {
    "duration": 21,
    "start_time": "2023-03-22T18:04:07.422Z"
   },
   {
    "duration": 360,
    "start_time": "2023-03-22T18:06:37.177Z"
   },
   {
    "duration": 365,
    "start_time": "2023-03-22T18:06:40.055Z"
   },
   {
    "duration": 145,
    "start_time": "2023-03-22T18:06:57.392Z"
   },
   {
    "duration": 523,
    "start_time": "2023-03-22T18:07:05.690Z"
   },
   {
    "duration": 359,
    "start_time": "2023-03-22T18:07:14.822Z"
   },
   {
    "duration": 363,
    "start_time": "2023-03-22T18:07:27.622Z"
   },
   {
    "duration": 310,
    "start_time": "2023-03-22T18:08:03.537Z"
   },
   {
    "duration": 311,
    "start_time": "2023-03-22T18:08:07.591Z"
   },
   {
    "duration": 4673,
    "start_time": "2023-03-22T18:09:22.778Z"
   },
   {
    "duration": 16967,
    "start_time": "2023-03-22T18:09:56.802Z"
   },
   {
    "duration": 47636,
    "start_time": "2023-03-22T18:10:33.097Z"
   },
   {
    "duration": 71340,
    "start_time": "2023-03-22T18:11:35.851Z"
   },
   {
    "duration": 123837,
    "start_time": "2023-03-22T18:13:54.251Z"
   },
   {
    "duration": 166570,
    "start_time": "2023-03-22T18:17:42.890Z"
   },
   {
    "duration": 156211,
    "start_time": "2023-03-22T18:20:55.965Z"
   },
   {
    "duration": 171379,
    "start_time": "2023-03-22T18:24:03.458Z"
   },
   {
    "duration": 89460,
    "start_time": "2023-03-22T18:27:33.148Z"
   },
   {
    "duration": 39768,
    "start_time": "2023-03-22T18:34:23.248Z"
   },
   {
    "duration": 11,
    "start_time": "2023-03-22T18:35:30.498Z"
   },
   {
    "duration": 14407,
    "start_time": "2023-03-22T18:35:35.147Z"
   },
   {
    "duration": 24590,
    "start_time": "2023-03-22T18:36:11.038Z"
   },
   {
    "duration": 6918,
    "start_time": "2023-03-22T18:37:18.623Z"
   },
   {
    "duration": 9092,
    "start_time": "2023-03-22T18:38:17.145Z"
   },
   {
    "duration": 1777,
    "start_time": "2023-03-23T06:11:46.077Z"
   },
   {
    "duration": 184,
    "start_time": "2023-03-23T06:11:48.343Z"
   },
   {
    "duration": 23,
    "start_time": "2023-03-23T06:11:50.267Z"
   },
   {
    "duration": 37,
    "start_time": "2023-03-23T06:11:52.258Z"
   },
   {
    "duration": 58,
    "start_time": "2023-03-23T06:11:55.284Z"
   },
   {
    "duration": 22,
    "start_time": "2023-03-23T06:11:57.757Z"
   },
   {
    "duration": 32,
    "start_time": "2023-03-23T06:11:59.758Z"
   },
   {
    "duration": 39,
    "start_time": "2023-03-23T06:12:02.521Z"
   },
   {
    "duration": 1055,
    "start_time": "2023-03-23T06:12:16.920Z"
   },
   {
    "duration": 2354,
    "start_time": "2023-03-23T06:12:25.613Z"
   },
   {
    "duration": 199,
    "start_time": "2023-03-23T06:12:34.361Z"
   },
   {
    "duration": 16998,
    "start_time": "2023-03-23T06:12:43.464Z"
   },
   {
    "duration": 697,
    "start_time": "2023-03-23T06:13:24.417Z"
   },
   {
    "duration": 604,
    "start_time": "2023-03-23T06:13:56.589Z"
   },
   {
    "duration": 7,
    "start_time": "2023-03-23T06:14:14.050Z"
   },
   {
    "duration": 18,
    "start_time": "2023-03-23T06:14:17.420Z"
   },
   {
    "duration": 16,
    "start_time": "2023-03-23T06:14:20.441Z"
   },
   {
    "duration": 331,
    "start_time": "2023-03-23T06:14:33.562Z"
   },
   {
    "duration": 7679,
    "start_time": "2023-03-23T06:15:10.718Z"
   },
   {
    "duration": 191,
    "start_time": "2023-03-23T06:15:48.916Z"
   },
   {
    "duration": 727,
    "start_time": "2023-03-23T06:18:25.920Z"
   },
   {
    "duration": 976,
    "start_time": "2023-03-23T06:18:52.120Z"
   },
   {
    "duration": 222,
    "start_time": "2023-03-23T06:39:21.934Z"
   },
   {
    "duration": 17244,
    "start_time": "2023-03-23T06:39:30.383Z"
   },
   {
    "duration": 527,
    "start_time": "2023-03-23T06:43:35.971Z"
   },
   {
    "duration": 1545,
    "start_time": "2023-03-23T06:43:44.131Z"
   },
   {
    "duration": 257,
    "start_time": "2023-03-23T06:43:50.289Z"
   },
   {
    "duration": 270,
    "start_time": "2023-03-23T06:46:04.614Z"
   },
   {
    "duration": 29361,
    "start_time": "2023-03-23T06:46:31.437Z"
   },
   {
    "duration": 30540,
    "start_time": "2023-03-23T06:50:52.227Z"
   },
   {
    "duration": 65044,
    "start_time": "2023-03-23T06:54:15.074Z"
   },
   {
    "duration": 23569,
    "start_time": "2023-03-23T06:56:43.223Z"
   },
   {
    "duration": 51270,
    "start_time": "2023-03-23T06:58:11.392Z"
   },
   {
    "duration": 27622,
    "start_time": "2023-03-23T06:59:38.141Z"
   },
   {
    "duration": 14979,
    "start_time": "2023-03-23T07:00:47.188Z"
   },
   {
    "duration": 28520,
    "start_time": "2023-03-23T07:02:35.169Z"
   },
   {
    "duration": 61,
    "start_time": "2023-03-23T07:04:07.395Z"
   },
   {
    "duration": 22,
    "start_time": "2023-03-23T07:04:09.523Z"
   },
   {
    "duration": 41,
    "start_time": "2023-03-23T07:04:10.863Z"
   },
   {
    "duration": 55,
    "start_time": "2023-03-23T07:04:12.951Z"
   },
   {
    "duration": 21,
    "start_time": "2023-03-23T07:04:14.863Z"
   },
   {
    "duration": 32,
    "start_time": "2023-03-23T07:04:17.323Z"
   },
   {
    "duration": 28,
    "start_time": "2023-03-23T07:04:19.119Z"
   },
   {
    "duration": 274,
    "start_time": "2023-03-23T07:04:21.221Z"
   },
   {
    "duration": 20336,
    "start_time": "2023-03-23T07:04:24.994Z"
   },
   {
    "duration": 633,
    "start_time": "2023-03-23T07:04:53.884Z"
   },
   {
    "duration": 1294,
    "start_time": "2023-03-23T07:04:56.728Z"
   },
   {
    "duration": 20,
    "start_time": "2023-03-23T07:05:06.130Z"
   },
   {
    "duration": 234,
    "start_time": "2023-03-23T07:05:08.933Z"
   },
   {
    "duration": 28381,
    "start_time": "2023-03-23T07:05:10.976Z"
   },
   {
    "duration": 23395,
    "start_time": "2023-03-23T07:06:49.708Z"
   },
   {
    "duration": 154,
    "start_time": "2023-03-23T07:07:39.351Z"
   },
   {
    "duration": 1077,
    "start_time": "2023-03-23T07:07:53.338Z"
   },
   {
    "duration": 286,
    "start_time": "2023-03-23T07:08:08.075Z"
   },
   {
    "duration": 25645,
    "start_time": "2023-03-23T07:08:36.563Z"
   },
   {
    "duration": 21421,
    "start_time": "2023-03-23T07:10:22.823Z"
   },
   {
    "duration": 24836,
    "start_time": "2023-03-23T07:11:31.406Z"
   },
   {
    "duration": 392,
    "start_time": "2023-03-23T07:13:04.733Z"
   },
   {
    "duration": 1593,
    "start_time": "2023-03-23T07:14:04.493Z"
   },
   {
    "duration": 1237,
    "start_time": "2023-03-23T07:27:17.353Z"
   },
   {
    "duration": 211,
    "start_time": "2023-03-23T07:33:26.454Z"
   },
   {
    "duration": 219,
    "start_time": "2023-03-23T07:34:34.131Z"
   },
   {
    "duration": 230,
    "start_time": "2023-03-23T07:34:36.881Z"
   },
   {
    "duration": 237,
    "start_time": "2023-03-23T07:56:29.413Z"
   },
   {
    "duration": 268,
    "start_time": "2023-03-23T07:56:31.277Z"
   }
  ],
  "kernelspec": {
   "display_name": "Python 3 (ipykernel)",
   "language": "python",
   "name": "python3"
  },
  "language_info": {
   "codemirror_mode": {
    "name": "ipython",
    "version": 3
   },
   "file_extension": ".py",
   "mimetype": "text/x-python",
   "name": "python",
   "nbconvert_exporter": "python",
   "pygments_lexer": "ipython3",
   "version": "3.9.13"
  },
  "toc": {
   "base_numbering": 1,
   "nav_menu": {},
   "number_sections": true,
   "sideBar": true,
   "skip_h1_title": true,
   "title_cell": "Table of Contents",
   "title_sidebar": "Contents",
   "toc_cell": false,
   "toc_position": {},
   "toc_section_display": true,
   "toc_window_display": false
  }
 },
 "nbformat": 4,
 "nbformat_minor": 5
}

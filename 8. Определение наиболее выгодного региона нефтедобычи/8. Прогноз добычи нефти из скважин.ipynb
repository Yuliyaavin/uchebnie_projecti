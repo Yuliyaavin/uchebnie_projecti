{
 "cells": [
  {
   "cell_type": "markdown",
   "id": "5716efd5",
   "metadata": {},
   "source": [
    "#  Прогноз добычи нефти"
   ]
  },
  {
   "cell_type": "markdown",
   "id": "322ec94b",
   "metadata": {},
   "source": [
    "Вам предоставлены пробы нефти в трёх регионах. Характеристики для каждой скважины в регионе уже известны. Постройте модель для определения региона, где добыча принесёт наибольшую прибыль. Проанализируйте возможную прибыль и риски техникой Bootstrap."
   ]
  },
  {
   "cell_type": "markdown",
   "id": "a9871eab",
   "metadata": {},
   "source": [
    " Дано три датасета с данными геологоразведки трёх регионов: \n",
    "1. id — уникальный идентификатор скважины;\n",
    "2. f0, f1, f2 — три признака точек (неважно, что они означают, но сами признаки значимы);\n",
    "3. product — объём запасов в скважине (тыс. баррелей)."
   ]
  },
  {
   "cell_type": "markdown",
   "id": "e75e03db",
   "metadata": {},
   "source": [
    "   Путь к данным\n",
    "1. df0: /datasets/geo_data_0.csv\n",
    "2. df1: /datasets/geo_data_1.csv\n",
    "3. df2: /datasets/geo_data_2.csv"
   ]
  },
  {
   "cell_type": "markdown",
   "id": "1e744ab6",
   "metadata": {},
   "source": [
    "   Условия задачи:\n",
    "   1. Для обучения модели подходит только линейная регрессия (остальные — недостаточно предсказуемые).\n",
    "   2. При разведке региона исследуют 500 точек, из которых с помощью машинного обучения выбирают 200 лучших для разработки.\n",
    "   3. Бюджет на разработку скважин в регионе — 10 млрд рублей.\n",
    "   4. При нынешних ценах один баррель сырья приносит 450 рублей дохода. Доход с каждой единицы продукта составляет 450 тыс. рублей, поскольку объём указан в тысячах баррелей.\n",
    "   5. После оценки рисков нужно оставить лишь те регионы, в которых вероятность убытков меньше 2.5%. Среди них выбирают регион с наибольшей средней прибылью."
   ]
  },
  {
   "cell_type": "markdown",
   "id": "2c7de639",
   "metadata": {},
   "source": [
    "## Загрузка данных \n",
    "\n"
   ]
  },
  {
   "cell_type": "code",
   "execution_count": 1,
   "id": "79adfd45",
   "metadata": {},
   "outputs": [],
   "source": [
    "import pandas as pd\n",
    "import numpy as np\n",
    "from sklearn.model_selection import train_test_split\n",
    "from sklearn.preprocessing import StandardScaler \n",
    "from sklearn.linear_model import LinearRegression\n",
    "from sklearn.metrics import mean_squared_error\n",
    "from scipy import stats as st"
   ]
  },
  {
   "cell_type": "code",
   "execution_count": 2,
   "id": "df899e25",
   "metadata": {},
   "outputs": [
    {
     "name": "stdout",
     "output_type": "stream",
     "text": [
      "df0:\n",
      "Дубликаты df0: 0\n",
      "<class 'pandas.core.frame.DataFrame'>\n",
      "RangeIndex: 100000 entries, 0 to 99999\n",
      "Data columns (total 5 columns):\n",
      " #   Column   Non-Null Count   Dtype  \n",
      "---  ------   --------------   -----  \n",
      " 0   id       100000 non-null  object \n",
      " 1   f0       100000 non-null  float64\n",
      " 2   f1       100000 non-null  float64\n",
      " 3   f2       100000 non-null  float64\n",
      " 4   product  100000 non-null  float64\n",
      "dtypes: float64(4), object(1)\n",
      "memory usage: 3.8+ MB\n",
      "None\n",
      "df1:\n",
      "Дубликаты df1: 0\n",
      "<class 'pandas.core.frame.DataFrame'>\n",
      "RangeIndex: 100000 entries, 0 to 99999\n",
      "Data columns (total 5 columns):\n",
      " #   Column   Non-Null Count   Dtype  \n",
      "---  ------   --------------   -----  \n",
      " 0   id       100000 non-null  object \n",
      " 1   f0       100000 non-null  float64\n",
      " 2   f1       100000 non-null  float64\n",
      " 3   f2       100000 non-null  float64\n",
      " 4   product  100000 non-null  float64\n",
      "dtypes: float64(4), object(1)\n",
      "memory usage: 3.8+ MB\n",
      "None\n",
      "df2:\n",
      "Дубликаты df2: 0\n",
      "<class 'pandas.core.frame.DataFrame'>\n",
      "RangeIndex: 100000 entries, 0 to 99999\n",
      "Data columns (total 5 columns):\n",
      " #   Column   Non-Null Count   Dtype  \n",
      "---  ------   --------------   -----  \n",
      " 0   id       100000 non-null  object \n",
      " 1   f0       100000 non-null  float64\n",
      " 2   f1       100000 non-null  float64\n",
      " 3   f2       100000 non-null  float64\n",
      " 4   product  100000 non-null  float64\n",
      "dtypes: float64(4), object(1)\n",
      "memory usage: 3.8+ MB\n",
      "None\n"
     ]
    }
   ],
   "source": [
    "# Загружаем датасеты\n",
    "df0 = pd.read_csv('/datasets/geo_data_0.csv', sep = ',')\n",
    "df1 = pd.read_csv('/datasets/geo_data_1.csv', sep = ',')\n",
    "df2 = pd.read_csv('/datasets/geo_data_2.csv', sep = ',')\n",
    "\n",
    "# Для каждого датасета проверяем дубликаты и смотрим общую информацию\n",
    "print('df0:')\n",
    "print('Дубликаты df0:', df0.duplicated().sum())\n",
    "print(df0.info())\n",
    "print('df1:')\n",
    "print('Дубликаты df1:', df1.duplicated().sum())\n",
    "print(df1.info())\n",
    "print('df2:')\n",
    "print('Дубликаты df2:', df2.duplicated().sum())\n",
    "print(df2.info())"
   ]
  },
  {
   "cell_type": "code",
   "execution_count": 3,
   "id": "c9756348",
   "metadata": {},
   "outputs": [
    {
     "name": "stdout",
     "output_type": "stream",
     "text": [
      "Region 1\n"
     ]
    },
    {
     "data": {
      "text/html": [
       "<div>\n",
       "<style scoped>\n",
       "    .dataframe tbody tr th:only-of-type {\n",
       "        vertical-align: middle;\n",
       "    }\n",
       "\n",
       "    .dataframe tbody tr th {\n",
       "        vertical-align: top;\n",
       "    }\n",
       "\n",
       "    .dataframe thead th {\n",
       "        text-align: right;\n",
       "    }\n",
       "</style>\n",
       "<table border=\"1\" class=\"dataframe\">\n",
       "  <thead>\n",
       "    <tr style=\"text-align: right;\">\n",
       "      <th></th>\n",
       "      <th>f0</th>\n",
       "      <th>f1</th>\n",
       "      <th>f2</th>\n",
       "      <th>product</th>\n",
       "    </tr>\n",
       "  </thead>\n",
       "  <tbody>\n",
       "    <tr>\n",
       "      <th>f0</th>\n",
       "      <td>1.00</td>\n",
       "      <td>-0.44</td>\n",
       "      <td>-0.00</td>\n",
       "      <td>0.14</td>\n",
       "    </tr>\n",
       "    <tr>\n",
       "      <th>f1</th>\n",
       "      <td>-0.44</td>\n",
       "      <td>1.00</td>\n",
       "      <td>0.00</td>\n",
       "      <td>-0.19</td>\n",
       "    </tr>\n",
       "    <tr>\n",
       "      <th>f2</th>\n",
       "      <td>-0.00</td>\n",
       "      <td>0.00</td>\n",
       "      <td>1.00</td>\n",
       "      <td>0.48</td>\n",
       "    </tr>\n",
       "    <tr>\n",
       "      <th>product</th>\n",
       "      <td>0.14</td>\n",
       "      <td>-0.19</td>\n",
       "      <td>0.48</td>\n",
       "      <td>1.00</td>\n",
       "    </tr>\n",
       "  </tbody>\n",
       "</table>\n",
       "</div>"
      ],
      "text/plain": [
       "           f0    f1    f2  product\n",
       "f0       1.00 -0.44 -0.00     0.14\n",
       "f1      -0.44  1.00  0.00    -0.19\n",
       "f2      -0.00  0.00  1.00     0.48\n",
       "product  0.14 -0.19  0.48     1.00"
      ]
     },
     "execution_count": 3,
     "metadata": {},
     "output_type": "execute_result"
    }
   ],
   "source": [
    "pd.options.display.float_format = '{:,.2f}'.format\n",
    "# Для каждого датасета исключаем мультиколлинеарность\n",
    "print('Region 1')\n",
    "df0.corr()"
   ]
  },
  {
   "cell_type": "code",
   "execution_count": 4,
   "id": "080bf1b5",
   "metadata": {},
   "outputs": [
    {
     "name": "stdout",
     "output_type": "stream",
     "text": [
      "Region 2\n"
     ]
    },
    {
     "data": {
      "text/html": [
       "<div>\n",
       "<style scoped>\n",
       "    .dataframe tbody tr th:only-of-type {\n",
       "        vertical-align: middle;\n",
       "    }\n",
       "\n",
       "    .dataframe tbody tr th {\n",
       "        vertical-align: top;\n",
       "    }\n",
       "\n",
       "    .dataframe thead th {\n",
       "        text-align: right;\n",
       "    }\n",
       "</style>\n",
       "<table border=\"1\" class=\"dataframe\">\n",
       "  <thead>\n",
       "    <tr style=\"text-align: right;\">\n",
       "      <th></th>\n",
       "      <th>f0</th>\n",
       "      <th>f1</th>\n",
       "      <th>f2</th>\n",
       "      <th>product</th>\n",
       "    </tr>\n",
       "  </thead>\n",
       "  <tbody>\n",
       "    <tr>\n",
       "      <th>f0</th>\n",
       "      <td>1.00</td>\n",
       "      <td>0.18</td>\n",
       "      <td>-0.00</td>\n",
       "      <td>-0.03</td>\n",
       "    </tr>\n",
       "    <tr>\n",
       "      <th>f1</th>\n",
       "      <td>0.18</td>\n",
       "      <td>1.00</td>\n",
       "      <td>-0.00</td>\n",
       "      <td>-0.01</td>\n",
       "    </tr>\n",
       "    <tr>\n",
       "      <th>f2</th>\n",
       "      <td>-0.00</td>\n",
       "      <td>-0.00</td>\n",
       "      <td>1.00</td>\n",
       "      <td>1.00</td>\n",
       "    </tr>\n",
       "    <tr>\n",
       "      <th>product</th>\n",
       "      <td>-0.03</td>\n",
       "      <td>-0.01</td>\n",
       "      <td>1.00</td>\n",
       "      <td>1.00</td>\n",
       "    </tr>\n",
       "  </tbody>\n",
       "</table>\n",
       "</div>"
      ],
      "text/plain": [
       "           f0    f1    f2  product\n",
       "f0       1.00  0.18 -0.00    -0.03\n",
       "f1       0.18  1.00 -0.00    -0.01\n",
       "f2      -0.00 -0.00  1.00     1.00\n",
       "product -0.03 -0.01  1.00     1.00"
      ]
     },
     "execution_count": 4,
     "metadata": {},
     "output_type": "execute_result"
    }
   ],
   "source": [
    "print('Region 2')\n",
    "df1.corr()"
   ]
  },
  {
   "cell_type": "code",
   "execution_count": 5,
   "id": "983b693e",
   "metadata": {},
   "outputs": [
    {
     "name": "stdout",
     "output_type": "stream",
     "text": [
      "Region 3\n"
     ]
    },
    {
     "data": {
      "text/html": [
       "<div>\n",
       "<style scoped>\n",
       "    .dataframe tbody tr th:only-of-type {\n",
       "        vertical-align: middle;\n",
       "    }\n",
       "\n",
       "    .dataframe tbody tr th {\n",
       "        vertical-align: top;\n",
       "    }\n",
       "\n",
       "    .dataframe thead th {\n",
       "        text-align: right;\n",
       "    }\n",
       "</style>\n",
       "<table border=\"1\" class=\"dataframe\">\n",
       "  <thead>\n",
       "    <tr style=\"text-align: right;\">\n",
       "      <th></th>\n",
       "      <th>f0</th>\n",
       "      <th>f1</th>\n",
       "      <th>f2</th>\n",
       "      <th>product</th>\n",
       "    </tr>\n",
       "  </thead>\n",
       "  <tbody>\n",
       "    <tr>\n",
       "      <th>f0</th>\n",
       "      <td>1.00</td>\n",
       "      <td>0.00</td>\n",
       "      <td>-0.00</td>\n",
       "      <td>-0.00</td>\n",
       "    </tr>\n",
       "    <tr>\n",
       "      <th>f1</th>\n",
       "      <td>0.00</td>\n",
       "      <td>1.00</td>\n",
       "      <td>0.00</td>\n",
       "      <td>-0.00</td>\n",
       "    </tr>\n",
       "    <tr>\n",
       "      <th>f2</th>\n",
       "      <td>-0.00</td>\n",
       "      <td>0.00</td>\n",
       "      <td>1.00</td>\n",
       "      <td>0.45</td>\n",
       "    </tr>\n",
       "    <tr>\n",
       "      <th>product</th>\n",
       "      <td>-0.00</td>\n",
       "      <td>-0.00</td>\n",
       "      <td>0.45</td>\n",
       "      <td>1.00</td>\n",
       "    </tr>\n",
       "  </tbody>\n",
       "</table>\n",
       "</div>"
      ],
      "text/plain": [
       "           f0    f1    f2  product\n",
       "f0       1.00  0.00 -0.00    -0.00\n",
       "f1       0.00  1.00  0.00    -0.00\n",
       "f2      -0.00  0.00  1.00     0.45\n",
       "product -0.00 -0.00  0.45     1.00"
      ]
     },
     "execution_count": 5,
     "metadata": {},
     "output_type": "execute_result"
    }
   ],
   "source": [
    "print('Region 3')\n",
    "df2.corr()"
   ]
  },
  {
   "cell_type": "markdown",
   "id": "acdb1b2b",
   "metadata": {},
   "source": [
    "Выводы:\n",
    "1. Явных дубликатов нет.\n",
    "2. Пропусков нет, типы данных в норме.\n",
    "3. Корреляции между признаками нет - мультиколлинеарности нет. Корелляция между столбцами 'f2' и 'product' - корелляция между признаком и цедевым значением. Это не навредит, а наоборот поможет модели обучаться."
   ]
  },
  {
   "cell_type": "markdown",
   "id": "bf2c18b6",
   "metadata": {},
   "source": [
    "## Подготовка данных. Обучение и проверка модели для каждого региона."
   ]
  },
  {
   "cell_type": "code",
   "execution_count": 6,
   "id": "75a2385b",
   "metadata": {},
   "outputs": [],
   "source": [
    "# Удалим бесполезный столбец\n",
    "df0.drop(['id'], axis=1, inplace=True)\n",
    "df1.drop(['id'], axis=1, inplace=True)\n",
    "df2.drop(['id'], axis=1, inplace=True)"
   ]
  },
  {
   "cell_type": "code",
   "execution_count": 7,
   "id": "eae61b6b",
   "metadata": {
    "scrolled": false
   },
   "outputs": [
    {
     "name": "stdout",
     "output_type": "stream",
     "text": [
      "Region 1:\n",
      "Средний запас предсказанного сырья: 92.59\n",
      "RMSE = 37.58\n",
      "\n",
      "Region 2:\n",
      "Средний запас предсказанного сырья: 68.73\n",
      "RMSE = 0.89\n",
      "\n",
      "Region 3:\n",
      "Средний запас предсказанного сырья: 94.97\n",
      "RMSE = 40.03\n"
     ]
    }
   ],
   "source": [
    "# Создадим функцию для датасетов на выборки и обучения модели.\n",
    "def process(data):\n",
    "    # Разделение датасетов на выборки\n",
    "    features = data.drop(['product'], axis=1)\n",
    "    target = data['product']\n",
    "    features_train, features_valid, target_train, target_valid = train_test_split(\n",
    "    features, target, test_size=0.25, random_state=12345)\n",
    "    \n",
    "    # Масштабируем признаки\n",
    "    pd.options.mode.chained_assignment = None\n",
    "    scaler = StandardScaler()\n",
    "    scaler.fit(features_train[['f0', 'f1', 'f2']])\n",
    "    features_train[['f0', 'f1', 'f2']] = scaler.transform(features_train[['f0', 'f1', 'f2']])\n",
    "    features_valid[['f0', 'f1', 'f2']] = scaler.transform(features_valid[['f0', 'f1', 'f2']])\n",
    "    \n",
    "    # Обучим модель и получим предсказания среднего запаса сырья в скважине\n",
    "    model = LinearRegression()\n",
    "    model.fit(features_train, target_train)\n",
    "    predicted_valid = model.predict(features_valid)\n",
    "    predicted_valid = pd.Series(predicted_valid, index = target_valid.index)\n",
    "    rmse = mean_squared_error(target_valid, predicted_valid, squared=False)\n",
    "    \n",
    "    print('Средний запас предсказанного сырья: {0:.2f}'.format(predicted_valid.mean()))\n",
    "    print(\"RMSE = {0:.2f}\".format(rmse))\n",
    "    \n",
    "    return predicted_valid, target_valid, rmse\n",
    "\n",
    "# Применим функцию, сохраним результаты и выведем получившиеся данные\n",
    "print('Region 1:')\n",
    "predicted0_valid, target0_valid, rmse0 = process(df0)\n",
    "print()\n",
    "print('Region 2:')\n",
    "predicted1_valid, target1_valid, rmse1 = process(df1)\n",
    "print()\n",
    "print('Region 3:')\n",
    "predicted2_valid, target2_valid, rmse2 = process(df2)\n"
   ]
  },
  {
   "cell_type": "markdown",
   "id": "06c95f03",
   "metadata": {},
   "source": [
    "    Вывод:\n",
    "    \n",
    "    По результатам моделирования видим,что средний запас сырья в скважине больше в 3ем регионе и примерно такой же в 1ом, однако модель для второго региона более точная rmse = 0.89. Скорее всего в связи с тем, что корреляция между F2 и  product во втором наборе данных 100%, модель для второго региона точнее."
   ]
  },
  {
   "cell_type": "markdown",
   "id": "760b16ab",
   "metadata": {},
   "source": [
    "## Подготовка к расчету прибыли."
   ]
  },
  {
   "cell_type": "code",
   "execution_count": 8,
   "id": "ec06e40a",
   "metadata": {},
   "outputs": [
    {
     "name": "stdout",
     "output_type": "stream",
     "text": [
      "Средний объем сырья новой скважины для безубыточной разработки: 111.11 тыс. баррелей.\n"
     ]
    }
   ],
   "source": [
    "# Сохраним значения для расчетов в отдельные переменные\n",
    "budget = 10**10\n",
    "income = 450000\n",
    "points = 200\n",
    "# Рассчитаем достаточный объём сырья для безубыточной разработки новой скважины\n",
    "print(\n",
    "    'Средний объем сырья новой скважины для безубыточной разработки: {0:.2f}'.format(budget/(income*points)),\n",
    "    \"тыс. баррелей.\"\n",
    ")\n"
   ]
  },
  {
   "cell_type": "markdown",
   "id": "3cce564d",
   "metadata": {},
   "source": [
    "По предсказанным средним запасам сырья в скважине в регионах ни один из них не подходит при сравнении со значением достаточного объёма сырья для безубыточной разработки новой скважины."
   ]
  },
  {
   "cell_type": "markdown",
   "id": "c2adc211",
   "metadata": {},
   "source": [
    "\n"
   ]
  },
  {
   "cell_type": "markdown",
   "id": "c4760d7d",
   "metadata": {},
   "source": [
    "## Расчет прибыли по выбранным скважинам и предсказаниям модели. "
   ]
  },
  {
   "cell_type": "code",
   "execution_count": 9,
   "id": "f845b0e4",
   "metadata": {},
   "outputs": [
    {
     "name": "stdout",
     "output_type": "stream",
     "text": [
      "Прибыль для region 1, руб.: 3320826043.1398506\n",
      "Прибыль для region 2, руб.: 2415086696.681511\n",
      "Прибыль для region 3, руб.: 2710349963.5998325\n"
     ]
    }
   ],
   "source": [
    "# Напишем функцию для расчёта прибыли по выбранным скважинам и предсказаниям модели\n",
    "def profit_reg(predicts, target):\n",
    "    # Отсортируем скважины с максимальными значениями предсказаний\n",
    "    probs_sorted = predicts.sort_values(ascending=False)\n",
    "    selected = target[probs_sorted.index][:points]\n",
    "    # Рассчитаем прибыль для полученного объёма сырья\n",
    "    profit = selected.sum()*income - budget\n",
    "    return profit\n",
    "\n",
    "print('Прибыль для region 1, руб.:', profit_reg(predicted0_valid, target0_valid))\n",
    "print('Прибыль для region 2, руб.:', profit_reg(predicted1_valid, target1_valid))\n",
    "print('Прибыль для region 3, руб.:', profit_reg(predicted2_valid, target2_valid))\n",
    "\n"
   ]
  },
  {
   "cell_type": "markdown",
   "id": "6e5427d4",
   "metadata": {},
   "source": [
    "## Подсчет прибылей и рисков убытков для каждого региона"
   ]
  },
  {
   "cell_type": "code",
   "execution_count": 10,
   "id": "830f4785",
   "metadata": {},
   "outputs": [
    {
     "name": "stdout",
     "output_type": "stream",
     "text": [
      "Region 1:\n",
      "Средняя прибыль, руб.: 425938526.91059244\n",
      "95%-ый доверительный интервал: 0.03   -102,090,094.84\n",
      "0.97    947,976,353.36\n",
      "dtype: float64\n",
      "Риск убытков,%: 6.0\n",
      "Регион не подходит для разработки\n",
      "\n",
      "Region 2:\n",
      "Средняя прибыль, руб.: 515222773.4432899\n",
      "95%-ый доверительный интервал: 0.03    68,873,225.37\n",
      "0.97   931,547,591.26\n",
      "dtype: float64\n",
      "Риск убытков,%: 1.0\n",
      "Регион подходит для разработки\n",
      "\n",
      "Region 3:\n",
      "Средняя прибыль, руб.: 435008362.7827556\n",
      "95%-ый доверительный интервал: 0.03   -128,880,547.33\n",
      "0.97    969,706,954.18\n",
      "dtype: float64\n",
      "Риск убытков,%: 6.4\n",
      "Регион не подходит для разработки\n"
     ]
    }
   ],
   "source": [
    "# Создадим функцию для подсчета прибылей/рисков по регионам\n",
    "def boostrap(predicts, target):\n",
    "    # Применим технику Bootstrap с 1000 выборок\n",
    "    state = np.random.RandomState(12345)\n",
    "    values = []\n",
    "    for i in range(1000):\n",
    "        target_subsample = target.sample(n=500, replace=True, random_state=state)\n",
    "        probs_subsample = predicts[target_subsample.index] \n",
    "        bootstrap_dif = profit_reg(probs_subsample, target_subsample)\n",
    "        values.append(bootstrap_dif)\n",
    "\n",
    "    values = pd.Series(values)\n",
    "    # Найдем среднюю прибыль\n",
    "    mean = values.mean() \n",
    "    print(\"Средняя прибыль, руб.:\", mean)\n",
    "    \n",
    "    # Рассчитаем 95%-й доверительный интервал\n",
    "    confidence_interval = values.quantile([0.025, 0.975])\n",
    "    print(\"95%-ый доверительный интервал:\", confidence_interval)\n",
    "   \n",
    "    # Определим риск убытков\n",
    "    risk = (values < 0).mean()*100\n",
    "    print('Риск убытков,%:', risk)\n",
    "    \n",
    "    if risk < 2.5:\n",
    "        print('Регион подходит для разработки')\n",
    "    else:\n",
    "        print('Регион не подходит для разработки')\n",
    "\n",
    "    return \n",
    "\n",
    "# Выведем результаты функции\n",
    "print('Region 1:')\n",
    "boostrap(predicted0_valid, target0_valid)\n",
    "print()\n",
    "print('Region 2:')\n",
    "boostrap(predicted1_valid, target1_valid)\n",
    "print()\n",
    "print('Region 3:')\n",
    "boostrap(predicted2_valid, target2_valid)"
   ]
  },
  {
   "cell_type": "markdown",
   "id": "c566a1f8",
   "metadata": {},
   "source": [
    "Вывод: Для разработки предлагается выбрать 2ой регион, так как средняя прибыль наибольшая, а риск убытков - минимальный."
   ]
  }
 ],
 "metadata": {
  "ExecuteTimeLog": [
   {
    "duration": 1427,
    "start_time": "2023-03-27T10:47:47.009Z"
   },
   {
    "duration": 3114,
    "start_time": "2023-03-27T10:47:48.438Z"
   },
   {
    "duration": 29,
    "start_time": "2023-03-27T10:47:51.557Z"
   },
   {
    "duration": 20,
    "start_time": "2023-03-27T10:47:52.702Z"
   },
   {
    "duration": 530,
    "start_time": "2023-03-27T10:47:54.729Z"
   },
   {
    "duration": 7,
    "start_time": "2023-03-27T10:48:05.896Z"
   },
   {
    "duration": 28,
    "start_time": "2023-03-27T10:48:10.882Z"
   },
   {
    "duration": 3766,
    "start_time": "2023-03-27T10:50:30.595Z"
   },
   {
    "duration": 3841,
    "start_time": "2023-03-27T10:52:13.012Z"
   },
   {
    "duration": 3732,
    "start_time": "2023-03-27T10:52:21.980Z"
   },
   {
    "duration": 5351,
    "start_time": "2023-03-27T19:38:52.794Z"
   },
   {
    "duration": 676,
    "start_time": "2023-03-27T19:38:58.147Z"
   },
   {
    "duration": 30,
    "start_time": "2023-03-27T19:38:58.824Z"
   },
   {
    "duration": 44,
    "start_time": "2023-03-27T19:38:58.856Z"
   },
   {
    "duration": 21,
    "start_time": "2023-03-27T19:38:58.903Z"
   },
   {
    "duration": 19,
    "start_time": "2023-03-27T19:38:58.927Z"
   },
   {
    "duration": 627,
    "start_time": "2023-03-27T19:38:58.948Z"
   },
   {
    "duration": 9,
    "start_time": "2023-03-27T19:38:59.578Z"
   },
   {
    "duration": 101,
    "start_time": "2023-03-27T19:38:59.590Z"
   },
   {
    "duration": 4597,
    "start_time": "2023-03-27T19:38:59.693Z"
   }
  ],
  "kernelspec": {
   "display_name": "Python 3 (ipykernel)",
   "language": "python",
   "name": "python3"
  },
  "language_info": {
   "codemirror_mode": {
    "name": "ipython",
    "version": 3
   },
   "file_extension": ".py",
   "mimetype": "text/x-python",
   "name": "python",
   "nbconvert_exporter": "python",
   "pygments_lexer": "ipython3",
   "version": "3.9.13"
  },
  "toc": {
   "base_numbering": 1,
   "nav_menu": {},
   "number_sections": true,
   "sideBar": true,
   "skip_h1_title": true,
   "title_cell": "Table of Contents",
   "title_sidebar": "Contents",
   "toc_cell": false,
   "toc_position": {},
   "toc_section_display": true,
   "toc_window_display": false
  }
 },
 "nbformat": 4,
 "nbformat_minor": 5
}

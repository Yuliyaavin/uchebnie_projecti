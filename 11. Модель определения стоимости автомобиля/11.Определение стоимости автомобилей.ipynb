{
 "cells": [
  {
   "cell_type": "markdown",
   "id": "88d1805b",
   "metadata": {},
   "source": [
    "# Определение стоимости автомобилей"
   ]
  },
  {
   "cell_type": "markdown",
   "id": "94142577",
   "metadata": {},
   "source": [
    "## Описание проекта"
   ]
  },
  {
   "cell_type": "markdown",
   "id": "67b6b35f",
   "metadata": {},
   "source": [
    "    Сервис по продаже автомобилей с пробегом «Не бит, не крашен» разрабатывает приложение, чтобы привлечь новых клиентов. В нём можно будет узнать рыночную стоимость своего автомобиля. \n",
    "    Постройте модель, которая умеет её определять. В вашем распоряжении данные о технических характеристиках, комплектации и ценах других автомобилей.\n",
    "    Критерии, которые важны заказчику:\n",
    "1. качество предсказания;\n",
    "2. время обучения модели;\n",
    "3. время предсказания модели."
   ]
  },
  {
   "cell_type": "code",
   "execution_count": 1,
   "id": "ba5df3cd",
   "metadata": {},
   "outputs": [
    {
     "name": "stdout",
     "output_type": "stream",
     "text": [
      "Requirement already satisfied: catboost in c:\\users\\alexander\\anaconda3\\lib\\site-packages (1.1.1)\n",
      "Requirement already satisfied: plotly in c:\\users\\alexander\\anaconda3\\lib\\site-packages (from catboost) (5.9.0)\n",
      "Requirement already satisfied: numpy>=1.16.0 in c:\\users\\alexander\\anaconda3\\lib\\site-packages (from catboost) (1.21.5)\n",
      "Requirement already satisfied: matplotlib in c:\\users\\alexander\\anaconda3\\lib\\site-packages (from catboost) (3.5.2)\n",
      "Requirement already satisfied: scipy in c:\\users\\alexander\\anaconda3\\lib\\site-packages (from catboost) (1.9.1)\n",
      "Requirement already satisfied: pandas>=0.24.0 in c:\\users\\alexander\\anaconda3\\lib\\site-packages (from catboost) (1.4.4)\n",
      "Requirement already satisfied: six in c:\\users\\alexander\\anaconda3\\lib\\site-packages (from catboost) (1.16.0)\n",
      "Requirement already satisfied: graphviz in c:\\users\\alexander\\anaconda3\\lib\\site-packages (from catboost) (0.20.1)\n",
      "Requirement already satisfied: python-dateutil>=2.8.1 in c:\\users\\alexander\\anaconda3\\lib\\site-packages (from pandas>=0.24.0->catboost) (2.8.2)\n",
      "Requirement already satisfied: pytz>=2020.1 in c:\\users\\alexander\\anaconda3\\lib\\site-packages (from pandas>=0.24.0->catboost) (2022.1)\n",
      "Requirement already satisfied: pyparsing>=2.2.1 in c:\\users\\alexander\\anaconda3\\lib\\site-packages (from matplotlib->catboost) (3.0.9)\n",
      "Requirement already satisfied: kiwisolver>=1.0.1 in c:\\users\\alexander\\anaconda3\\lib\\site-packages (from matplotlib->catboost) (1.4.2)\n",
      "Requirement already satisfied: cycler>=0.10 in c:\\users\\alexander\\anaconda3\\lib\\site-packages (from matplotlib->catboost) (0.11.0)\n",
      "Requirement already satisfied: fonttools>=4.22.0 in c:\\users\\alexander\\anaconda3\\lib\\site-packages (from matplotlib->catboost) (4.25.0)\n",
      "Requirement already satisfied: pillow>=6.2.0 in c:\\users\\alexander\\anaconda3\\lib\\site-packages (from matplotlib->catboost) (9.2.0)\n",
      "Requirement already satisfied: packaging>=20.0 in c:\\users\\alexander\\anaconda3\\lib\\site-packages (from matplotlib->catboost) (21.3)\n",
      "Requirement already satisfied: tenacity>=6.2.0 in c:\\users\\alexander\\anaconda3\\lib\\site-packages (from plotly->catboost) (8.0.1)\n",
      "Requirement already satisfied: lightgbm in c:\\users\\alexander\\anaconda3\\lib\\site-packages (3.3.5)\n",
      "Requirement already satisfied: scipy in c:\\users\\alexander\\anaconda3\\lib\\site-packages (from lightgbm) (1.9.1)\n",
      "Requirement already satisfied: numpy in c:\\users\\alexander\\anaconda3\\lib\\site-packages (from lightgbm) (1.21.5)\n",
      "Requirement already satisfied: scikit-learn!=0.22.0 in c:\\users\\alexander\\anaconda3\\lib\\site-packages (from lightgbm) (1.0.2)\n",
      "Requirement already satisfied: wheel in c:\\users\\alexander\\anaconda3\\lib\\site-packages (from lightgbm) (0.37.1)\n",
      "Requirement already satisfied: threadpoolctl>=2.0.0 in c:\\users\\alexander\\anaconda3\\lib\\site-packages (from scikit-learn!=0.22.0->lightgbm) (2.2.0)\n",
      "Requirement already satisfied: joblib>=0.11 in c:\\users\\alexander\\anaconda3\\lib\\site-packages (from scikit-learn!=0.22.0->lightgbm) (1.1.0)\n"
     ]
    }
   ],
   "source": [
    "!pip install catboost\n",
    "!pip install lightgbm"
   ]
  },
  {
   "cell_type": "code",
   "execution_count": 2,
   "id": "c1ec700d",
   "metadata": {},
   "outputs": [],
   "source": [
    "import pandas as pd\n",
    "import numpy as np\n",
    "from sklearn.model_selection import train_test_split, RandomizedSearchCV\n",
    "from sklearn.metrics import mean_squared_error\n",
    "from sklearn.linear_model import LinearRegression\n",
    "from catboost import CatBoostRegressor\n",
    "from sklearn.preprocessing import StandardScaler, OrdinalEncoder \n",
    "import warnings\n",
    "warnings.filterwarnings(\"ignore\")\n",
    "from lightgbm import LGBMRegressor"
   ]
  },
  {
   "cell_type": "markdown",
   "id": "dca7f7ce",
   "metadata": {},
   "source": [
    "## Загрузка данных"
   ]
  },
  {
   "cell_type": "code",
   "execution_count": 3,
   "id": "905a6b6b",
   "metadata": {},
   "outputs": [],
   "source": [
    "try:\n",
    "    df = pd.read_csv('autos.csv', sep=',')\n",
    "except:\n",
    "    df = pd.read_csv('/datasets/autos.csv', sep=',')"
   ]
  },
  {
   "cell_type": "code",
   "execution_count": 4,
   "id": "5de5e140",
   "metadata": {},
   "outputs": [
    {
     "data": {
      "text/html": [
       "<div>\n",
       "<style scoped>\n",
       "    .dataframe tbody tr th:only-of-type {\n",
       "        vertical-align: middle;\n",
       "    }\n",
       "\n",
       "    .dataframe tbody tr th {\n",
       "        vertical-align: top;\n",
       "    }\n",
       "\n",
       "    .dataframe thead th {\n",
       "        text-align: right;\n",
       "    }\n",
       "</style>\n",
       "<table border=\"1\" class=\"dataframe\">\n",
       "  <thead>\n",
       "    <tr style=\"text-align: right;\">\n",
       "      <th></th>\n",
       "      <th>DateCrawled</th>\n",
       "      <th>Price</th>\n",
       "      <th>VehicleType</th>\n",
       "      <th>RegistrationYear</th>\n",
       "      <th>Gearbox</th>\n",
       "      <th>Power</th>\n",
       "      <th>Model</th>\n",
       "      <th>Kilometer</th>\n",
       "      <th>RegistrationMonth</th>\n",
       "      <th>FuelType</th>\n",
       "      <th>Brand</th>\n",
       "      <th>Repaired</th>\n",
       "      <th>DateCreated</th>\n",
       "      <th>NumberOfPictures</th>\n",
       "      <th>PostalCode</th>\n",
       "      <th>LastSeen</th>\n",
       "    </tr>\n",
       "  </thead>\n",
       "  <tbody>\n",
       "    <tr>\n",
       "      <th>0</th>\n",
       "      <td>2016-03-24 11:52:17</td>\n",
       "      <td>480</td>\n",
       "      <td>NaN</td>\n",
       "      <td>1993</td>\n",
       "      <td>manual</td>\n",
       "      <td>0</td>\n",
       "      <td>golf</td>\n",
       "      <td>150000</td>\n",
       "      <td>0</td>\n",
       "      <td>petrol</td>\n",
       "      <td>volkswagen</td>\n",
       "      <td>NaN</td>\n",
       "      <td>2016-03-24 00:00:00</td>\n",
       "      <td>0</td>\n",
       "      <td>70435</td>\n",
       "      <td>2016-04-07 03:16:57</td>\n",
       "    </tr>\n",
       "    <tr>\n",
       "      <th>1</th>\n",
       "      <td>2016-03-24 10:58:45</td>\n",
       "      <td>18300</td>\n",
       "      <td>coupe</td>\n",
       "      <td>2011</td>\n",
       "      <td>manual</td>\n",
       "      <td>190</td>\n",
       "      <td>NaN</td>\n",
       "      <td>125000</td>\n",
       "      <td>5</td>\n",
       "      <td>gasoline</td>\n",
       "      <td>audi</td>\n",
       "      <td>yes</td>\n",
       "      <td>2016-03-24 00:00:00</td>\n",
       "      <td>0</td>\n",
       "      <td>66954</td>\n",
       "      <td>2016-04-07 01:46:50</td>\n",
       "    </tr>\n",
       "    <tr>\n",
       "      <th>2</th>\n",
       "      <td>2016-03-14 12:52:21</td>\n",
       "      <td>9800</td>\n",
       "      <td>suv</td>\n",
       "      <td>2004</td>\n",
       "      <td>auto</td>\n",
       "      <td>163</td>\n",
       "      <td>grand</td>\n",
       "      <td>125000</td>\n",
       "      <td>8</td>\n",
       "      <td>gasoline</td>\n",
       "      <td>jeep</td>\n",
       "      <td>NaN</td>\n",
       "      <td>2016-03-14 00:00:00</td>\n",
       "      <td>0</td>\n",
       "      <td>90480</td>\n",
       "      <td>2016-04-05 12:47:46</td>\n",
       "    </tr>\n",
       "    <tr>\n",
       "      <th>3</th>\n",
       "      <td>2016-03-17 16:54:04</td>\n",
       "      <td>1500</td>\n",
       "      <td>small</td>\n",
       "      <td>2001</td>\n",
       "      <td>manual</td>\n",
       "      <td>75</td>\n",
       "      <td>golf</td>\n",
       "      <td>150000</td>\n",
       "      <td>6</td>\n",
       "      <td>petrol</td>\n",
       "      <td>volkswagen</td>\n",
       "      <td>no</td>\n",
       "      <td>2016-03-17 00:00:00</td>\n",
       "      <td>0</td>\n",
       "      <td>91074</td>\n",
       "      <td>2016-03-17 17:40:17</td>\n",
       "    </tr>\n",
       "    <tr>\n",
       "      <th>4</th>\n",
       "      <td>2016-03-31 17:25:20</td>\n",
       "      <td>3600</td>\n",
       "      <td>small</td>\n",
       "      <td>2008</td>\n",
       "      <td>manual</td>\n",
       "      <td>69</td>\n",
       "      <td>fabia</td>\n",
       "      <td>90000</td>\n",
       "      <td>7</td>\n",
       "      <td>gasoline</td>\n",
       "      <td>skoda</td>\n",
       "      <td>no</td>\n",
       "      <td>2016-03-31 00:00:00</td>\n",
       "      <td>0</td>\n",
       "      <td>60437</td>\n",
       "      <td>2016-04-06 10:17:21</td>\n",
       "    </tr>\n",
       "  </tbody>\n",
       "</table>\n",
       "</div>"
      ],
      "text/plain": [
       "           DateCrawled  Price VehicleType  RegistrationYear Gearbox  Power  \\\n",
       "0  2016-03-24 11:52:17    480         NaN              1993  manual      0   \n",
       "1  2016-03-24 10:58:45  18300       coupe              2011  manual    190   \n",
       "2  2016-03-14 12:52:21   9800         suv              2004    auto    163   \n",
       "3  2016-03-17 16:54:04   1500       small              2001  manual     75   \n",
       "4  2016-03-31 17:25:20   3600       small              2008  manual     69   \n",
       "\n",
       "   Model  Kilometer  RegistrationMonth  FuelType       Brand Repaired  \\\n",
       "0   golf     150000                  0    petrol  volkswagen      NaN   \n",
       "1    NaN     125000                  5  gasoline        audi      yes   \n",
       "2  grand     125000                  8  gasoline        jeep      NaN   \n",
       "3   golf     150000                  6    petrol  volkswagen       no   \n",
       "4  fabia      90000                  7  gasoline       skoda       no   \n",
       "\n",
       "           DateCreated  NumberOfPictures  PostalCode             LastSeen  \n",
       "0  2016-03-24 00:00:00                 0       70435  2016-04-07 03:16:57  \n",
       "1  2016-03-24 00:00:00                 0       66954  2016-04-07 01:46:50  \n",
       "2  2016-03-14 00:00:00                 0       90480  2016-04-05 12:47:46  \n",
       "3  2016-03-17 00:00:00                 0       91074  2016-03-17 17:40:17  \n",
       "4  2016-03-31 00:00:00                 0       60437  2016-04-06 10:17:21  "
      ]
     },
     "execution_count": 4,
     "metadata": {},
     "output_type": "execute_result"
    }
   ],
   "source": [
    "df.head(5)"
   ]
  },
  {
   "cell_type": "code",
   "execution_count": 5,
   "id": "5d9dc0c1",
   "metadata": {},
   "outputs": [],
   "source": [
    "# Приведем названия столбцов к змеиному регистру\n",
    "df.columns = df.columns.str.lower()\n",
    "df = df.rename(\n",
    "    columns={'datecrawled': 'date_crawled', 'vehicletype': 'vehicle_type', \n",
    "             'registrationyear': 'registration_year', 'registrationmonth': 'registration_month', \n",
    "             'fueltype': 'fuel_type', 'datecreated': 'date_created', \n",
    "             'numberofpictures': 'number_of_pictures', 'postalcode': 'postal_code', \n",
    "             'lastseen': 'last_seen'})"
   ]
  },
  {
   "cell_type": "markdown",
   "id": "bc5532f1",
   "metadata": {},
   "source": [
    "Данные загружены, наименования столбцов переведены в змеиный регистр."
   ]
  },
  {
   "cell_type": "markdown",
   "id": "85c16774",
   "metadata": {},
   "source": [
    "##  Изучите данные. Заполните пропущенные значения и обработайте аномалии в столбцах. Если среди признаков имеются неинформативные, удалите их."
   ]
  },
  {
   "cell_type": "code",
   "execution_count": 6,
   "id": "2f9f5e43",
   "metadata": {},
   "outputs": [
    {
     "name": "stdout",
     "output_type": "stream",
     "text": [
      "<class 'pandas.core.frame.DataFrame'>\n",
      "RangeIndex: 354369 entries, 0 to 354368\n",
      "Data columns (total 16 columns):\n",
      " #   Column              Non-Null Count   Dtype \n",
      "---  ------              --------------   ----- \n",
      " 0   date_crawled        354369 non-null  object\n",
      " 1   price               354369 non-null  int64 \n",
      " 2   vehicle_type        316879 non-null  object\n",
      " 3   registration_year   354369 non-null  int64 \n",
      " 4   gearbox             334536 non-null  object\n",
      " 5   power               354369 non-null  int64 \n",
      " 6   model               334664 non-null  object\n",
      " 7   kilometer           354369 non-null  int64 \n",
      " 8   registration_month  354369 non-null  int64 \n",
      " 9   fuel_type           321474 non-null  object\n",
      " 10  brand               354369 non-null  object\n",
      " 11  repaired            283215 non-null  object\n",
      " 12  date_created        354369 non-null  object\n",
      " 13  number_of_pictures  354369 non-null  int64 \n",
      " 14  postal_code         354369 non-null  int64 \n",
      " 15  last_seen           354369 non-null  object\n",
      "dtypes: int64(7), object(9)\n",
      "memory usage: 43.3+ MB\n",
      "date_crawled              0\n",
      "price                     0\n",
      "vehicle_type          37490\n",
      "registration_year         0\n",
      "gearbox               19833\n",
      "power                     0\n",
      "model                 19705\n",
      "kilometer                 0\n",
      "registration_month        0\n",
      "fuel_type             32895\n",
      "brand                     0\n",
      "repaired              71154\n",
      "date_created              0\n",
      "number_of_pictures        0\n",
      "postal_code               0\n",
      "last_seen                 0\n",
      "dtype: int64\n",
      "Явных дубликатов: 4\n"
     ]
    }
   ],
   "source": [
    "# Просмотрим общую информацию о данных, проверим на пропуски и дубликаты\n",
    "df.info()\n",
    "print(df.isna().sum())\n",
    "print('Явных дубликатов:', df.duplicated().sum())"
   ]
  },
  {
   "cell_type": "code",
   "execution_count": 7,
   "id": "50dcee49",
   "metadata": {},
   "outputs": [
    {
     "data": {
      "text/html": [
       "<div>\n",
       "<style scoped>\n",
       "    .dataframe tbody tr th:only-of-type {\n",
       "        vertical-align: middle;\n",
       "    }\n",
       "\n",
       "    .dataframe tbody tr th {\n",
       "        vertical-align: top;\n",
       "    }\n",
       "\n",
       "    .dataframe thead th {\n",
       "        text-align: right;\n",
       "    }\n",
       "</style>\n",
       "<table border=\"1\" class=\"dataframe\">\n",
       "  <thead>\n",
       "    <tr style=\"text-align: right;\">\n",
       "      <th></th>\n",
       "      <th>price</th>\n",
       "      <th>registration_year</th>\n",
       "      <th>power</th>\n",
       "      <th>kilometer</th>\n",
       "      <th>registration_month</th>\n",
       "      <th>number_of_pictures</th>\n",
       "      <th>postal_code</th>\n",
       "    </tr>\n",
       "  </thead>\n",
       "  <tbody>\n",
       "    <tr>\n",
       "      <th>count</th>\n",
       "      <td>354369.000000</td>\n",
       "      <td>354369.000000</td>\n",
       "      <td>354369.000000</td>\n",
       "      <td>354369.000000</td>\n",
       "      <td>354369.000000</td>\n",
       "      <td>354369.0</td>\n",
       "      <td>354369.000000</td>\n",
       "    </tr>\n",
       "    <tr>\n",
       "      <th>mean</th>\n",
       "      <td>4416.656776</td>\n",
       "      <td>2004.234448</td>\n",
       "      <td>110.094337</td>\n",
       "      <td>128211.172535</td>\n",
       "      <td>5.714645</td>\n",
       "      <td>0.0</td>\n",
       "      <td>50508.689087</td>\n",
       "    </tr>\n",
       "    <tr>\n",
       "      <th>std</th>\n",
       "      <td>4514.158514</td>\n",
       "      <td>90.227958</td>\n",
       "      <td>189.850405</td>\n",
       "      <td>37905.341530</td>\n",
       "      <td>3.726421</td>\n",
       "      <td>0.0</td>\n",
       "      <td>25783.096248</td>\n",
       "    </tr>\n",
       "    <tr>\n",
       "      <th>min</th>\n",
       "      <td>0.000000</td>\n",
       "      <td>1000.000000</td>\n",
       "      <td>0.000000</td>\n",
       "      <td>5000.000000</td>\n",
       "      <td>0.000000</td>\n",
       "      <td>0.0</td>\n",
       "      <td>1067.000000</td>\n",
       "    </tr>\n",
       "    <tr>\n",
       "      <th>25%</th>\n",
       "      <td>1050.000000</td>\n",
       "      <td>1999.000000</td>\n",
       "      <td>69.000000</td>\n",
       "      <td>125000.000000</td>\n",
       "      <td>3.000000</td>\n",
       "      <td>0.0</td>\n",
       "      <td>30165.000000</td>\n",
       "    </tr>\n",
       "    <tr>\n",
       "      <th>50%</th>\n",
       "      <td>2700.000000</td>\n",
       "      <td>2003.000000</td>\n",
       "      <td>105.000000</td>\n",
       "      <td>150000.000000</td>\n",
       "      <td>6.000000</td>\n",
       "      <td>0.0</td>\n",
       "      <td>49413.000000</td>\n",
       "    </tr>\n",
       "    <tr>\n",
       "      <th>75%</th>\n",
       "      <td>6400.000000</td>\n",
       "      <td>2008.000000</td>\n",
       "      <td>143.000000</td>\n",
       "      <td>150000.000000</td>\n",
       "      <td>9.000000</td>\n",
       "      <td>0.0</td>\n",
       "      <td>71083.000000</td>\n",
       "    </tr>\n",
       "    <tr>\n",
       "      <th>max</th>\n",
       "      <td>20000.000000</td>\n",
       "      <td>9999.000000</td>\n",
       "      <td>20000.000000</td>\n",
       "      <td>150000.000000</td>\n",
       "      <td>12.000000</td>\n",
       "      <td>0.0</td>\n",
       "      <td>99998.000000</td>\n",
       "    </tr>\n",
       "  </tbody>\n",
       "</table>\n",
       "</div>"
      ],
      "text/plain": [
       "               price  registration_year          power      kilometer  \\\n",
       "count  354369.000000      354369.000000  354369.000000  354369.000000   \n",
       "mean     4416.656776        2004.234448     110.094337  128211.172535   \n",
       "std      4514.158514          90.227958     189.850405   37905.341530   \n",
       "min         0.000000        1000.000000       0.000000    5000.000000   \n",
       "25%      1050.000000        1999.000000      69.000000  125000.000000   \n",
       "50%      2700.000000        2003.000000     105.000000  150000.000000   \n",
       "75%      6400.000000        2008.000000     143.000000  150000.000000   \n",
       "max     20000.000000        9999.000000   20000.000000  150000.000000   \n",
       "\n",
       "       registration_month  number_of_pictures    postal_code  \n",
       "count       354369.000000            354369.0  354369.000000  \n",
       "mean             5.714645                 0.0   50508.689087  \n",
       "std              3.726421                 0.0   25783.096248  \n",
       "min              0.000000                 0.0    1067.000000  \n",
       "25%              3.000000                 0.0   30165.000000  \n",
       "50%              6.000000                 0.0   49413.000000  \n",
       "75%              9.000000                 0.0   71083.000000  \n",
       "max             12.000000                 0.0   99998.000000  "
      ]
     },
     "execution_count": 7,
     "metadata": {},
     "output_type": "execute_result"
    }
   ],
   "source": [
    "df.describe()"
   ]
  },
  {
   "cell_type": "code",
   "execution_count": 8,
   "id": "e486bc72",
   "metadata": {},
   "outputs": [
    {
     "data": {
      "text/plain": [
       "323825    2016-04-07 00:00:00\n",
       "238423    2016-04-07 00:00:00\n",
       "218464    2016-04-07 00:00:00\n",
       "8823      2016-04-07 00:00:00\n",
       "136456    2016-04-07 00:00:00\n",
       "115388    2016-04-07 00:00:00\n",
       "124250    2016-04-07 00:00:00\n",
       "262235    2016-04-07 00:00:00\n",
       "140745    2016-04-07 00:00:00\n",
       "84280     2016-04-07 00:00:00\n",
       "Name: date_created, dtype: object"
      ]
     },
     "execution_count": 8,
     "metadata": {},
     "output_type": "execute_result"
    }
   ],
   "source": [
    "df['date_created'].sort_values(ascending=False).head(10)"
   ]
  },
  {
   "cell_type": "markdown",
   "id": "be4130f0",
   "metadata": {},
   "source": [
    "1. Обнаружены пропуски в столбцах vehicle_type, gearbox, model, fuel_type, repaired.\n",
    "2. Обнаужены явные дубликаты.\n",
    "3. В данных есть ненужные для обучения столбцы date_crawled, registration_month, date_created, last_seen, number_of_pictures, postal_code.\n",
    "     'brand', 'model', '\n",
    "4. Есть выбросы, например,в registration_year самый ранний год регистрации авто 1000 и самый поздний 9999, поэтому проверим дату последней регистрации объявления на сервисе - она равна 2016. "
   ]
  },
  {
   "cell_type": "markdown",
   "id": "19d4d2f5",
   "metadata": {},
   "source": [
    "1. Пропуски в gearbox и model удалим - бесполезные и невосстановимые строки, в которых отсутствуют почти все ключевые значения, в vehicle_type и  fuel_type заполним значением unknown, а repaired заполним yes, исходя из соображений, что если не указаны данные о ремонте, будем считать, что он был.\n",
    "2. Дубликаты удалим.\n",
    "3. Избавимся от ненужных столбцов, и объединим признаки 'brand' и 'model' в новый признак autos.\n",
    "4. Отфильтруем объявления по году регистрции с 1980 по 2016 год, по цене выше 0, восстнановим нулевую мощность по признаку autos, используя медиану,а также ограничим мощность от 5 до 1000. \n",
    "5. Также приведем тип числовых данных к единому - int"
   ]
  },
  {
   "cell_type": "code",
   "execution_count": 9,
   "id": "672af87b",
   "metadata": {},
   "outputs": [],
   "source": [
    "df = df.drop_duplicates()\n",
    "df.dropna(subset=['gearbox', 'model'], inplace = True) \n",
    "df['autos'] = df['brand'] + ' ' + df['model']\n",
    "df = df.drop(\n",
    "    ['date_crawled', 'registration_month', 'date_created', 'last_seen', 'number_of_pictures', \n",
    "     'brand', 'model', 'postal_code'], axis='columns'\n",
    ")\n"
   ]
  },
  {
   "cell_type": "code",
   "execution_count": 10,
   "id": "a8e05ac2",
   "metadata": {},
   "outputs": [],
   "source": [
    "df['vehicle_type'] = df['vehicle_type'].fillna('unknown')\n",
    "df['fuel_type'] = df['fuel_type'].fillna('unknown')\n",
    "df['repaired'] = df['repaired'].fillna('yes')"
   ]
  },
  {
   "cell_type": "code",
   "execution_count": 11,
   "id": "ce90c6a2",
   "metadata": {},
   "outputs": [
    {
     "name": "stdout",
     "output_type": "stream",
     "text": [
      "<class 'pandas.core.frame.DataFrame'>\n",
      "Int64Index: 318958 entries, 0 to 354368\n",
      "Data columns (total 9 columns):\n",
      " #   Column             Non-Null Count   Dtype \n",
      "---  ------             --------------   ----- \n",
      " 0   price              318958 non-null  int64 \n",
      " 1   vehicle_type       318958 non-null  object\n",
      " 2   registration_year  318958 non-null  int64 \n",
      " 3   gearbox            318958 non-null  object\n",
      " 4   power              318958 non-null  int64 \n",
      " 5   kilometer          318958 non-null  int64 \n",
      " 6   fuel_type          318958 non-null  object\n",
      " 7   repaired           318958 non-null  object\n",
      " 8   autos              318958 non-null  object\n",
      "dtypes: int64(4), object(5)\n",
      "memory usage: 24.3+ MB\n"
     ]
    }
   ],
   "source": [
    "df.info()\n"
   ]
  },
  {
   "cell_type": "code",
   "execution_count": 12,
   "id": "f6c9631b",
   "metadata": {},
   "outputs": [],
   "source": [
    "df = df[df['power'] < 1001]"
   ]
  },
  {
   "cell_type": "code",
   "execution_count": 13,
   "id": "ca88bc83",
   "metadata": {},
   "outputs": [],
   "source": [
    "for d in df['autos'].unique():\n",
    "    df.loc[(df['autos'] == d) & (df['power'] == 0), 'power'] = \\\n",
    "    df.loc[(df['autos'] == d) & (df['power'] > 0), 'power'].median()"
   ]
  },
  {
   "cell_type": "code",
   "execution_count": 14,
   "id": "70f1404b",
   "metadata": {},
   "outputs": [],
   "source": [
    "df = df[(df['price'] > 0) & (df['registration_year'] > 1979) & (df['registration_year'] < 2017) & (df['power'] > 4)].reset_index(drop=True)\n",
    "df[['price', 'registration_year', 'power', 'kilometer']] = df[['price', 'registration_year', 'power', 'kilometer']].astype(int)\n"
   ]
  },
  {
   "cell_type": "code",
   "execution_count": 15,
   "id": "6132515a",
   "metadata": {},
   "outputs": [
    {
     "data": {
      "text/html": [
       "<div>\n",
       "<style scoped>\n",
       "    .dataframe tbody tr th:only-of-type {\n",
       "        vertical-align: middle;\n",
       "    }\n",
       "\n",
       "    .dataframe tbody tr th {\n",
       "        vertical-align: top;\n",
       "    }\n",
       "\n",
       "    .dataframe thead th {\n",
       "        text-align: right;\n",
       "    }\n",
       "</style>\n",
       "<table border=\"1\" class=\"dataframe\">\n",
       "  <thead>\n",
       "    <tr style=\"text-align: right;\">\n",
       "      <th></th>\n",
       "      <th>price</th>\n",
       "      <th>registration_year</th>\n",
       "      <th>power</th>\n",
       "      <th>kilometer</th>\n",
       "    </tr>\n",
       "  </thead>\n",
       "  <tbody>\n",
       "    <tr>\n",
       "      <th>count</th>\n",
       "      <td>298967.000000</td>\n",
       "      <td>298967.000000</td>\n",
       "      <td>298967.000000</td>\n",
       "      <td>298967.000000</td>\n",
       "    </tr>\n",
       "    <tr>\n",
       "      <th>mean</th>\n",
       "      <td>4740.376724</td>\n",
       "      <td>2003.011747</td>\n",
       "      <td>120.330458</td>\n",
       "      <td>128856.629661</td>\n",
       "    </tr>\n",
       "    <tr>\n",
       "      <th>std</th>\n",
       "      <td>4576.848103</td>\n",
       "      <td>5.900269</td>\n",
       "      <td>53.390488</td>\n",
       "      <td>36386.485736</td>\n",
       "    </tr>\n",
       "    <tr>\n",
       "      <th>min</th>\n",
       "      <td>1.000000</td>\n",
       "      <td>1980.000000</td>\n",
       "      <td>5.000000</td>\n",
       "      <td>5000.000000</td>\n",
       "    </tr>\n",
       "    <tr>\n",
       "      <th>25%</th>\n",
       "      <td>1290.000000</td>\n",
       "      <td>1999.000000</td>\n",
       "      <td>77.000000</td>\n",
       "      <td>125000.000000</td>\n",
       "    </tr>\n",
       "    <tr>\n",
       "      <th>50%</th>\n",
       "      <td>3000.000000</td>\n",
       "      <td>2003.000000</td>\n",
       "      <td>110.000000</td>\n",
       "      <td>150000.000000</td>\n",
       "    </tr>\n",
       "    <tr>\n",
       "      <th>75%</th>\n",
       "      <td>6900.000000</td>\n",
       "      <td>2007.000000</td>\n",
       "      <td>150.000000</td>\n",
       "      <td>150000.000000</td>\n",
       "    </tr>\n",
       "    <tr>\n",
       "      <th>max</th>\n",
       "      <td>20000.000000</td>\n",
       "      <td>2016.000000</td>\n",
       "      <td>1000.000000</td>\n",
       "      <td>150000.000000</td>\n",
       "    </tr>\n",
       "  </tbody>\n",
       "</table>\n",
       "</div>"
      ],
      "text/plain": [
       "               price  registration_year          power      kilometer\n",
       "count  298967.000000      298967.000000  298967.000000  298967.000000\n",
       "mean     4740.376724        2003.011747     120.330458  128856.629661\n",
       "std      4576.848103           5.900269      53.390488   36386.485736\n",
       "min         1.000000        1980.000000       5.000000    5000.000000\n",
       "25%      1290.000000        1999.000000      77.000000  125000.000000\n",
       "50%      3000.000000        2003.000000     110.000000  150000.000000\n",
       "75%      6900.000000        2007.000000     150.000000  150000.000000\n",
       "max     20000.000000        2016.000000    1000.000000  150000.000000"
      ]
     },
     "execution_count": 15,
     "metadata": {},
     "output_type": "execute_result"
    }
   ],
   "source": [
    "df.describe()"
   ]
  },
  {
   "cell_type": "code",
   "execution_count": 16,
   "id": "af2f05bc",
   "metadata": {},
   "outputs": [
    {
     "name": "stdout",
     "output_type": "stream",
     "text": [
      "<class 'pandas.core.frame.DataFrame'>\n",
      "RangeIndex: 298967 entries, 0 to 298966\n",
      "Data columns (total 9 columns):\n",
      " #   Column             Non-Null Count   Dtype \n",
      "---  ------             --------------   ----- \n",
      " 0   price              298967 non-null  int32 \n",
      " 1   vehicle_type       298967 non-null  object\n",
      " 2   registration_year  298967 non-null  int32 \n",
      " 3   gearbox            298967 non-null  object\n",
      " 4   power              298967 non-null  int32 \n",
      " 5   kilometer          298967 non-null  int32 \n",
      " 6   fuel_type          298967 non-null  object\n",
      " 7   repaired           298967 non-null  object\n",
      " 8   autos              298967 non-null  object\n",
      "dtypes: int32(4), object(5)\n",
      "memory usage: 16.0+ MB\n"
     ]
    }
   ],
   "source": [
    "df.info()"
   ]
  },
  {
   "cell_type": "markdown",
   "id": "ba82453d",
   "metadata": {},
   "source": [
    "Пропущенные значения заполнены, аномалии в столбцах обработаны, неинформативные признаки удалены"
   ]
  },
  {
   "cell_type": "markdown",
   "id": "f3fa19ec",
   "metadata": {},
   "source": [
    "## Подготовьте выборки для обучения моделей"
   ]
  },
  {
   "cell_type": "code",
   "execution_count": 17,
   "id": "84d3a698",
   "metadata": {},
   "outputs": [
    {
     "data": {
      "text/html": [
       "<div>\n",
       "<style scoped>\n",
       "    .dataframe tbody tr th:only-of-type {\n",
       "        vertical-align: middle;\n",
       "    }\n",
       "\n",
       "    .dataframe tbody tr th {\n",
       "        vertical-align: top;\n",
       "    }\n",
       "\n",
       "    .dataframe thead th {\n",
       "        text-align: right;\n",
       "    }\n",
       "</style>\n",
       "<table border=\"1\" class=\"dataframe\">\n",
       "  <thead>\n",
       "    <tr style=\"text-align: right;\">\n",
       "      <th></th>\n",
       "      <th>price</th>\n",
       "      <th>registration_year</th>\n",
       "      <th>power</th>\n",
       "      <th>kilometer</th>\n",
       "    </tr>\n",
       "  </thead>\n",
       "  <tbody>\n",
       "    <tr>\n",
       "      <th>price</th>\n",
       "      <td>1.000000</td>\n",
       "      <td>0.570655</td>\n",
       "      <td>0.502706</td>\n",
       "      <td>-0.385482</td>\n",
       "    </tr>\n",
       "    <tr>\n",
       "      <th>registration_year</th>\n",
       "      <td>0.570655</td>\n",
       "      <td>1.000000</td>\n",
       "      <td>0.132992</td>\n",
       "      <td>-0.362248</td>\n",
       "    </tr>\n",
       "    <tr>\n",
       "      <th>power</th>\n",
       "      <td>0.502706</td>\n",
       "      <td>0.132992</td>\n",
       "      <td>1.000000</td>\n",
       "      <td>0.096879</td>\n",
       "    </tr>\n",
       "    <tr>\n",
       "      <th>kilometer</th>\n",
       "      <td>-0.385482</td>\n",
       "      <td>-0.362248</td>\n",
       "      <td>0.096879</td>\n",
       "      <td>1.000000</td>\n",
       "    </tr>\n",
       "  </tbody>\n",
       "</table>\n",
       "</div>"
      ],
      "text/plain": [
       "                      price  registration_year     power  kilometer\n",
       "price              1.000000           0.570655  0.502706  -0.385482\n",
       "registration_year  0.570655           1.000000  0.132992  -0.362248\n",
       "power              0.502706           0.132992  1.000000   0.096879\n",
       "kilometer         -0.385482          -0.362248  0.096879   1.000000"
      ]
     },
     "execution_count": 17,
     "metadata": {},
     "output_type": "execute_result"
    }
   ],
   "source": [
    "# Проверка на мультиколлинеарность перед обучением\n",
    "df.corr()"
   ]
  },
  {
   "cell_type": "markdown",
   "id": "a9abde05",
   "metadata": {},
   "source": [
    "Мультиколлинеарности нет, можно разделять выборки и обучать модели.\n",
    "Обучать будем три модели для каждой из них подготовим признаки."
   ]
  },
  {
   "cell_type": "code",
   "execution_count": 18,
   "id": "b198eaed",
   "metadata": {},
   "outputs": [],
   "source": [
    "# Разделим на фичи и таргет, далее разделим на тренировачную и тестовую выборки\n",
    "features = df.drop(['price'], axis=1)\n",
    "target = df['price']\n",
    "features_train, features_test, target_train, target_test = train_test_split(\n",
    "features, target, test_size=0.25, random_state=12345)\n",
    "#Масштабируем признаки  \n",
    "numeric = ['registration_year', 'power', 'kilometer']\n",
    "pd.options.mode.chained_assignment = None\n",
    "scaler = StandardScaler()\n",
    "scaler.fit(features_train[numeric])\n",
    "features_train[numeric] = scaler.transform(features_train[numeric])\n",
    "features_test[numeric] = scaler.transform(features_test[numeric])"
   ]
  },
  {
   "cell_type": "markdown",
   "id": "8ca0aeda",
   "metadata": {},
   "source": [
    "Для LGBMRegressor категориальные признаки необходимо превести в тип category"
   ]
  },
  {
   "cell_type": "code",
   "execution_count": 19,
   "id": "49b18d27",
   "metadata": {},
   "outputs": [],
   "source": [
    "# Зададим переменную с категориальными  признаками\n",
    "categorical = ['vehicle_type', 'gearbox', 'fuel_type', 'repaired', 'autos']\n",
    "# Скопируем фичи и изменим в них тип данных для модели\n",
    "features_train_lgbm = features_train.copy()\n",
    "features_test_lgbm = features_test.copy()\n",
    "features_train_lgbm[categorical] = features_train[categorical].astype('category')\n",
    "features_test_lgbm[categorical] = features_test[categorical].astype('category')"
   ]
  },
  {
   "cell_type": "markdown",
   "id": "e81437bc",
   "metadata": {},
   "source": [
    "Для LinearRegression категориальные признаки нужно закодировать, используем для этого get_dummies"
   ]
  },
  {
   "cell_type": "code",
   "execution_count": 20,
   "id": "3bef4b72",
   "metadata": {},
   "outputs": [],
   "source": [
    "# Закодируем категориальные признаки \n",
    "#features_train_ohe = features_train.copy()\n",
    "#features_test_ohe = features_test.copy()\n",
    "#features_train_ohe = pd.get_dummies(features_train_ohe, drop_first=True)\n",
    "#features_test_ohe = pd.get_dummies(features_test_ohe, drop_first=True)"
   ]
  },
  {
   "cell_type": "code",
   "execution_count": 21,
   "id": "4595f395",
   "metadata": {},
   "outputs": [],
   "source": [
    "df_ohe = df.copy()\n",
    "df_ohe = pd.get_dummies(df_ohe, drop_first=True)\n",
    "features_ohe = df_ohe.drop(['price'], axis=1)\n",
    "target_ohe = df_ohe['price']\n",
    "features_train_ohe, features_test_ohe, target_train_ohe, target_test_ohe = train_test_split(\n",
    "features_ohe, target_ohe, test_size=0.25, random_state=12345)\n",
    "#Масштабируем признаки  \n",
    "numeric = ['registration_year', 'power', 'kilometer']\n",
    "pd.options.mode.chained_assignment = None\n",
    "scaler = StandardScaler()\n",
    "scaler.fit(features_train_ohe[numeric])\n",
    "features_train_ohe[numeric] = scaler.transform(features_train_ohe[numeric])\n",
    "features_test_ohe[numeric] = scaler.transform(features_test_ohe[numeric])"
   ]
  },
  {
   "cell_type": "code",
   "execution_count": 22,
   "id": "030e0ecf",
   "metadata": {},
   "outputs": [],
   "source": [
    "#features_train_oe = features_train.copy()\n",
    "#features_test_oe = features_test.copy()\n",
    "# закодируем признаки с помощью порядкового кодирования\n",
    "#enc = OrdinalEncoder()\n",
    "#enc.fit(features_train_oe)\n",
    "#features_train_oe = enc.transform(features_train_oe)\n",
    "##enc.fit(features_test_oe)\n",
    "#features_test_oe = enc.transform(features_test_oe)"
   ]
  },
  {
   "cell_type": "markdown",
   "id": "c0de1ed8",
   "metadata": {},
   "source": [
    "Данные разделены и подготовлены для обучения"
   ]
  },
  {
   "cell_type": "markdown",
   "id": "53eb1fc9",
   "metadata": {},
   "source": [
    "## Обучите разные модели, одна из которых — LightGBM, как минимум одна — не бустинг. Для каждой модели попробуйте разные гиперпараметры."
   ]
  },
  {
   "cell_type": "markdown",
   "id": "1c1c8d6f",
   "metadata": {},
   "source": [
    "Обучим три модели: LGBMRegressor, CatBoostRegressor, LinearRegression.\n",
    "1. Подберем гиперпараметры"
   ]
  },
  {
   "cell_type": "code",
   "execution_count": 23,
   "id": "3f8a731c",
   "metadata": {},
   "outputs": [
    {
     "name": "stdout",
     "output_type": "stream",
     "text": [
      "Fitting 3 folds for each of 10 candidates, totalling 30 fits\n",
      "[LightGBM] [Warning] Unknown parameter: depth\n"
     ]
    },
    {
     "data": {
      "text/plain": [
       "{'num_leaves': 120, 'n_estimators': 97, 'learning_rate': 0.1, 'depth': 5}"
      ]
     },
     "metadata": {},
     "output_type": "display_data"
    },
    {
     "data": {
      "text/plain": [
       "1521.0809231969324"
      ]
     },
     "metadata": {},
     "output_type": "display_data"
    }
   ],
   "source": [
    "# Строим LGBMRegressor\n",
    "\n",
    "params_lgb = {\n",
    "    'n_estimators': [i for i in range(50, 100)], \n",
    "    'learning_rate': [0.01, 0.1],\n",
    "    'depth': [None] + [i for i in range(2, 12)],\n",
    "    'num_leaves': [n for n in range(20, 200, 20)]\n",
    "}\n",
    "\n",
    "model = LGBMRegressor(random_state=12345)\n",
    "\n",
    "model_lgb = RandomizedSearchCV(LGBMRegressor(random_state=12345), params_lgb, n_iter=10, scoring='neg_root_mean_squared_error', random_state=12345, n_jobs=-1, cv=3, verbose=10)\n",
    "\n",
    "# Обучаем LGBMRegressor\n",
    "model_lgb.fit(features_train_lgbm, target_train)\n",
    "# Определяем лучяший результат и его гиперпараметры\n",
    "display(model_lgb.best_params_)\n",
    "display(model_lgb.best_score_*-1)"
   ]
  },
  {
   "cell_type": "markdown",
   "id": "e061ac0a",
   "metadata": {},
   "source": [
    "Лучшими для модели оказались параметры: num_leaves= 120, n_estimators= 97, learning_rate= 0.1, depth= 5, RMSE = 1521.08"
   ]
  },
  {
   "cell_type": "code",
   "execution_count": 24,
   "id": "de77d026",
   "metadata": {
    "scrolled": true
   },
   "outputs": [
    {
     "name": "stdout",
     "output_type": "stream",
     "text": [
      "Fitting 3 folds for each of 10 candidates, totalling 30 fits\n",
      "0:\tlearn: 4248.4173439\ttotal: 286ms\tremaining: 23.2s\n",
      "1:\tlearn: 3954.3754840\ttotal: 421ms\tremaining: 16.8s\n",
      "2:\tlearn: 3698.7157039\ttotal: 588ms\tremaining: 15.5s\n",
      "3:\tlearn: 3471.3083070\ttotal: 761ms\tremaining: 14.8s\n",
      "4:\tlearn: 3268.9852048\ttotal: 916ms\tremaining: 14.1s\n",
      "5:\tlearn: 3094.0384550\ttotal: 1.05s\tremaining: 13.3s\n",
      "6:\tlearn: 2941.0664686\ttotal: 1.19s\tremaining: 12.8s\n",
      "7:\tlearn: 2809.9992427\ttotal: 1.34s\tremaining: 12.4s\n",
      "8:\tlearn: 2692.1174392\ttotal: 1.46s\tremaining: 11.9s\n",
      "9:\tlearn: 2591.8584787\ttotal: 1.58s\tremaining: 11.4s\n",
      "10:\tlearn: 2504.9270439\ttotal: 1.73s\tremaining: 11.2s\n",
      "11:\tlearn: 2428.4559999\ttotal: 1.88s\tremaining: 11s\n",
      "12:\tlearn: 2362.1187575\ttotal: 2.01s\tremaining: 10.7s\n",
      "13:\tlearn: 2306.0121746\ttotal: 2.14s\tremaining: 10.4s\n",
      "14:\tlearn: 2259.7836982\ttotal: 2.26s\tremaining: 10.1s\n",
      "15:\tlearn: 2216.6105990\ttotal: 2.39s\tremaining: 9.85s\n",
      "16:\tlearn: 2181.3353665\ttotal: 2.51s\tremaining: 9.61s\n",
      "17:\tlearn: 2147.6447555\ttotal: 2.64s\tremaining: 9.38s\n",
      "18:\tlearn: 2105.9674899\ttotal: 2.77s\tremaining: 9.2s\n",
      "19:\tlearn: 2069.9719214\ttotal: 2.9s\tremaining: 8.99s\n",
      "20:\tlearn: 2041.2733102\ttotal: 3.03s\tremaining: 8.81s\n",
      "21:\tlearn: 2015.0568811\ttotal: 3.16s\tremaining: 8.62s\n",
      "22:\tlearn: 1992.6922744\ttotal: 3.29s\tremaining: 8.43s\n",
      "23:\tlearn: 1973.3350310\ttotal: 3.41s\tremaining: 8.24s\n",
      "24:\tlearn: 1956.5319210\ttotal: 3.54s\tremaining: 8.07s\n",
      "25:\tlearn: 1940.6057862\ttotal: 3.72s\tremaining: 8.01s\n",
      "26:\tlearn: 1927.5108751\ttotal: 3.91s\tremaining: 7.97s\n",
      "27:\tlearn: 1916.0812749\ttotal: 4.1s\tremaining: 7.91s\n",
      "28:\tlearn: 1906.0173199\ttotal: 4.29s\tremaining: 7.84s\n",
      "29:\tlearn: 1897.2027143\ttotal: 4.47s\tremaining: 7.75s\n",
      "30:\tlearn: 1888.6674112\ttotal: 4.67s\tremaining: 7.68s\n",
      "31:\tlearn: 1878.2863601\ttotal: 4.81s\tremaining: 7.51s\n",
      "32:\tlearn: 1870.5149341\ttotal: 4.95s\tremaining: 7.35s\n",
      "33:\tlearn: 1864.3859973\ttotal: 5.12s\tremaining: 7.23s\n",
      "34:\tlearn: 1856.4270478\ttotal: 5.27s\tremaining: 7.08s\n",
      "35:\tlearn: 1844.2150738\ttotal: 5.45s\tremaining: 6.96s\n",
      "36:\tlearn: 1833.7472761\ttotal: 5.65s\tremaining: 6.87s\n",
      "37:\tlearn: 1823.7432872\ttotal: 5.79s\tremaining: 6.7s\n",
      "38:\tlearn: 1813.7256198\ttotal: 5.94s\tremaining: 6.55s\n",
      "39:\tlearn: 1805.9402557\ttotal: 6.13s\tremaining: 6.43s\n",
      "40:\tlearn: 1799.5500934\ttotal: 6.31s\tremaining: 6.31s\n",
      "41:\tlearn: 1792.2235059\ttotal: 6.5s\tremaining: 6.19s\n",
      "42:\tlearn: 1786.1916083\ttotal: 6.71s\tremaining: 6.08s\n",
      "43:\tlearn: 1780.5289490\ttotal: 6.9s\tremaining: 5.96s\n",
      "44:\tlearn: 1775.3949253\ttotal: 7.14s\tremaining: 5.87s\n",
      "45:\tlearn: 1769.2936167\ttotal: 7.37s\tremaining: 5.77s\n",
      "46:\tlearn: 1765.4160352\ttotal: 7.6s\tremaining: 5.66s\n",
      "47:\tlearn: 1761.6292026\ttotal: 7.84s\tremaining: 5.56s\n",
      "48:\tlearn: 1758.1160820\ttotal: 8.06s\tremaining: 5.43s\n",
      "49:\tlearn: 1755.2930721\ttotal: 8.22s\tremaining: 5.26s\n",
      "50:\tlearn: 1752.3090478\ttotal: 8.38s\tremaining: 5.09s\n",
      "51:\tlearn: 1748.7378540\ttotal: 8.56s\tremaining: 4.94s\n",
      "52:\tlearn: 1745.8200991\ttotal: 8.79s\tremaining: 4.81s\n",
      "53:\tlearn: 1743.4657344\ttotal: 9.03s\tremaining: 4.68s\n",
      "54:\tlearn: 1740.4272794\ttotal: 9.21s\tremaining: 4.52s\n",
      "55:\tlearn: 1738.3477436\ttotal: 9.37s\tremaining: 4.35s\n",
      "56:\tlearn: 1736.6917173\ttotal: 9.51s\tremaining: 4.17s\n",
      "57:\tlearn: 1734.1576071\ttotal: 9.67s\tremaining: 4s\n",
      "58:\tlearn: 1731.4303521\ttotal: 9.82s\tremaining: 3.83s\n",
      "59:\tlearn: 1729.1095236\ttotal: 9.98s\tremaining: 3.66s\n",
      "60:\tlearn: 1726.3772282\ttotal: 10.1s\tremaining: 3.49s\n",
      "61:\tlearn: 1724.8015907\ttotal: 10.3s\tremaining: 3.32s\n",
      "62:\tlearn: 1723.2709032\ttotal: 10.5s\tremaining: 3.15s\n",
      "63:\tlearn: 1721.2258771\ttotal: 10.7s\tremaining: 3s\n",
      "64:\tlearn: 1718.8962335\ttotal: 10.8s\tremaining: 2.83s\n",
      "65:\tlearn: 1716.6198073\ttotal: 10.9s\tremaining: 2.65s\n",
      "66:\tlearn: 1715.1406785\ttotal: 11.1s\tremaining: 2.48s\n",
      "67:\tlearn: 1713.5955487\ttotal: 11.2s\tremaining: 2.31s\n",
      "68:\tlearn: 1711.3708321\ttotal: 11.4s\tremaining: 2.14s\n",
      "69:\tlearn: 1709.4469897\ttotal: 11.5s\tremaining: 1.97s\n",
      "70:\tlearn: 1707.9913023\ttotal: 11.7s\tremaining: 1.81s\n",
      "71:\tlearn: 1705.5574767\ttotal: 11.8s\tremaining: 1.64s\n",
      "72:\tlearn: 1704.6023971\ttotal: 11.9s\tremaining: 1.47s\n",
      "73:\tlearn: 1702.9173330\ttotal: 12.1s\tremaining: 1.31s\n",
      "74:\tlearn: 1701.5144369\ttotal: 12.3s\tremaining: 1.14s\n",
      "75:\tlearn: 1700.0669540\ttotal: 12.4s\tremaining: 980ms\n",
      "76:\tlearn: 1698.3126309\ttotal: 12.6s\tremaining: 816ms\n",
      "77:\tlearn: 1696.6333135\ttotal: 12.7s\tremaining: 653ms\n",
      "78:\tlearn: 1694.9443778\ttotal: 12.9s\tremaining: 489ms\n",
      "79:\tlearn: 1693.2838415\ttotal: 13s\tremaining: 326ms\n",
      "80:\tlearn: 1692.3682594\ttotal: 13.2s\tremaining: 163ms\n",
      "81:\tlearn: 1691.1294279\ttotal: 13.3s\tremaining: 0us\n"
     ]
    },
    {
     "data": {
      "text/plain": [
       "{'n_estimators': 82, 'learning_rate': 0.1, 'depth': 9}"
      ]
     },
     "metadata": {},
     "output_type": "display_data"
    },
    {
     "data": {
      "text/plain": [
       "1712.160292687753"
      ]
     },
     "metadata": {},
     "output_type": "display_data"
    }
   ],
   "source": [
    "# Строим CatBoostRegressor\n",
    "params_cbr = {\n",
    "    'learning_rate': [0.01, 0.1],\n",
    "    'depth': [None] + [i for i in range(2, 12)],\n",
    "    'n_estimators': [i for i in range(50, 100)]\n",
    "}\n",
    "model_cbr = RandomizedSearchCV(CatBoostRegressor(random_state=12345, cat_features=categorical), params_cbr, n_iter=10, scoring='neg_root_mean_squared_error', random_state=12345, n_jobs=-1, cv=3, verbose=10)\n",
    "\n",
    "# Обучаем CatBoostRegressor\n",
    "model_cbr.fit(features_train, target_train)\n",
    "# Определяем лучяший результат и его гиперпараметры\n",
    "display(model_cbr.best_params_)\n",
    "display(model_cbr.best_score_*-1)"
   ]
  },
  {
   "cell_type": "markdown",
   "id": "ce39cd7f",
   "metadata": {},
   "source": [
    "Лучшими для модели оказались параметры: n_estimators= 82, learning_rate= 0.1, depth= 9, RMSE = 1712.16\n"
   ]
  },
  {
   "cell_type": "code",
   "execution_count": 25,
   "id": "281b0d07",
   "metadata": {},
   "outputs": [
    {
     "name": "stdout",
     "output_type": "stream",
     "text": [
      "Fitting 3 folds for each of 1 candidates, totalling 3 fits\n"
     ]
    },
    {
     "data": {
      "text/plain": [
       "{}"
      ]
     },
     "metadata": {},
     "output_type": "display_data"
    },
    {
     "data": {
      "text/plain": [
       "2408.866300912136"
      ]
     },
     "metadata": {},
     "output_type": "display_data"
    }
   ],
   "source": [
    "# Строим LinearRegression и обучаем\n",
    "params_lr = {}\n",
    "model_lr = RandomizedSearchCV(LinearRegression(), params_lr, scoring='neg_root_mean_squared_error', n_jobs=-1, random_state=12345, cv=3, verbose=10)\n",
    "model_lr.fit(features_train_ohe, target_train_ohe)\n",
    "display(model_lr.best_params_)\n",
    "display(model_lr.best_score_*-1)"
   ]
  },
  {
   "cell_type": "markdown",
   "id": "4b14b217",
   "metadata": {},
   "source": [
    "RMSE линейной модели = 2408,8"
   ]
  },
  {
   "cell_type": "markdown",
   "id": "50b19d2c",
   "metadata": {},
   "source": [
    "\n",
    "\n",
    "## Проанализируйте время обучения, время предсказания и качество моделей. "
   ]
  },
  {
   "cell_type": "markdown",
   "id": "0c69b485",
   "metadata": {},
   "source": [
    "Обучим модели на трейне с определенными гиперпараметрами и измерим время предсказания и обучения."
   ]
  },
  {
   "cell_type": "markdown",
   "id": "c24acbaa",
   "metadata": {},
   "source": [
    "LGBMRegressor "
   ]
  },
  {
   "cell_type": "code",
   "execution_count": 26,
   "id": "9ee53164",
   "metadata": {},
   "outputs": [
    {
     "name": "stdout",
     "output_type": "stream",
     "text": [
      "Wall time: 1.51 s\n"
     ]
    },
    {
     "data": {
      "text/plain": [
       "LGBMRegressor(depth=5, n_estimators=97, num_leaves=120, random_state=12345)"
      ]
     },
     "execution_count": 26,
     "metadata": {},
     "output_type": "execute_result"
    }
   ],
   "source": [
    "%%time\n",
    "\n",
    "model_lgbm = LGBMRegressor(random_state=12345, num_leaves=120, n_estimators=97, learning_rate=0.1, depth=5)\n",
    "model_lgbm.fit(features_train_lgbm, target_train)\n"
   ]
  },
  {
   "cell_type": "code",
   "execution_count": 27,
   "id": "04adfcbc",
   "metadata": {},
   "outputs": [
    {
     "name": "stdout",
     "output_type": "stream",
     "text": [
      "RMSE train lgbm: 1398.6915026842732\n",
      "Wall time: 392 ms\n"
     ]
    }
   ],
   "source": [
    "%%time\n",
    "predictions_lgbm = model_lgbm.predict(features_train_lgbm)\n",
    "print('RMSE train lgbm:', mean_squared_error(target_train, predictions_lgbm)**0.5)\n"
   ]
  },
  {
   "cell_type": "markdown",
   "id": "bb5c1ccd",
   "metadata": {},
   "source": [
    "Время обучения - 1.04 s, время предсказания - 306 ms. RMSE_train = 1398.69"
   ]
  },
  {
   "cell_type": "markdown",
   "id": "e623efa8",
   "metadata": {},
   "source": [
    "CatBoostRegressor"
   ]
  },
  {
   "cell_type": "code",
   "execution_count": 28,
   "id": "6efda0aa",
   "metadata": {
    "scrolled": true
   },
   "outputs": [
    {
     "name": "stdout",
     "output_type": "stream",
     "text": [
      "0:\tlearn: 4248.4173439\ttotal: 136ms\tremaining: 11.1s\n",
      "1:\tlearn: 3954.3754840\ttotal: 275ms\tremaining: 11s\n",
      "2:\tlearn: 3698.7157039\ttotal: 437ms\tremaining: 11.5s\n",
      "3:\tlearn: 3471.3083070\ttotal: 647ms\tremaining: 12.6s\n",
      "4:\tlearn: 3268.9852048\ttotal: 847ms\tremaining: 13s\n",
      "5:\tlearn: 3094.0384550\ttotal: 1.01s\tremaining: 12.8s\n",
      "6:\tlearn: 2941.0664686\ttotal: 1.16s\tremaining: 12.4s\n",
      "7:\tlearn: 2809.9992427\ttotal: 1.36s\tremaining: 12.6s\n",
      "8:\tlearn: 2692.1174392\ttotal: 1.53s\tremaining: 12.4s\n",
      "9:\tlearn: 2591.8584787\ttotal: 1.67s\tremaining: 12s\n",
      "10:\tlearn: 2504.9270439\ttotal: 1.84s\tremaining: 11.9s\n",
      "11:\tlearn: 2428.4559999\ttotal: 2.01s\tremaining: 11.7s\n",
      "12:\tlearn: 2362.1187575\ttotal: 2.15s\tremaining: 11.4s\n",
      "13:\tlearn: 2306.0121746\ttotal: 2.35s\tremaining: 11.4s\n",
      "14:\tlearn: 2259.7836982\ttotal: 2.47s\tremaining: 11.1s\n",
      "15:\tlearn: 2216.6105990\ttotal: 2.62s\tremaining: 10.8s\n",
      "16:\tlearn: 2181.3353665\ttotal: 2.77s\tremaining: 10.6s\n",
      "17:\tlearn: 2147.6447555\ttotal: 2.92s\tremaining: 10.4s\n",
      "18:\tlearn: 2105.9674899\ttotal: 3.07s\tremaining: 10.2s\n",
      "19:\tlearn: 2069.9719214\ttotal: 3.22s\tremaining: 9.99s\n",
      "20:\tlearn: 2041.2733102\ttotal: 3.38s\tremaining: 9.82s\n",
      "21:\tlearn: 2015.0568811\ttotal: 3.57s\tremaining: 9.75s\n",
      "22:\tlearn: 1992.6922744\ttotal: 3.72s\tremaining: 9.54s\n",
      "23:\tlearn: 1973.3350310\ttotal: 3.88s\tremaining: 9.38s\n",
      "24:\tlearn: 1956.5319210\ttotal: 4.03s\tremaining: 9.2s\n",
      "25:\tlearn: 1940.6057862\ttotal: 4.2s\tremaining: 9.05s\n",
      "26:\tlearn: 1927.5108751\ttotal: 4.43s\tremaining: 9.02s\n",
      "27:\tlearn: 1916.0812749\ttotal: 4.66s\tremaining: 8.99s\n",
      "28:\tlearn: 1906.0173199\ttotal: 4.84s\tremaining: 8.85s\n",
      "29:\tlearn: 1897.2027143\ttotal: 5.08s\tremaining: 8.8s\n",
      "30:\tlearn: 1888.6674112\ttotal: 5.28s\tremaining: 8.69s\n",
      "31:\tlearn: 1878.2863601\ttotal: 5.43s\tremaining: 8.49s\n",
      "32:\tlearn: 1870.5149341\ttotal: 5.61s\tremaining: 8.32s\n",
      "33:\tlearn: 1864.3859973\ttotal: 5.75s\tremaining: 8.12s\n",
      "34:\tlearn: 1856.4270478\ttotal: 5.89s\tremaining: 7.91s\n",
      "35:\tlearn: 1844.2150738\ttotal: 6.02s\tremaining: 7.69s\n",
      "36:\tlearn: 1833.7472761\ttotal: 6.16s\tremaining: 7.49s\n",
      "37:\tlearn: 1823.7432872\ttotal: 6.29s\tremaining: 7.28s\n",
      "38:\tlearn: 1813.7256198\ttotal: 6.43s\tremaining: 7.09s\n",
      "39:\tlearn: 1805.9402557\ttotal: 6.57s\tremaining: 6.9s\n",
      "40:\tlearn: 1799.5500934\ttotal: 6.75s\tremaining: 6.75s\n",
      "41:\tlearn: 1792.2235059\ttotal: 6.92s\tremaining: 6.59s\n",
      "42:\tlearn: 1786.1916083\ttotal: 7.06s\tremaining: 6.4s\n",
      "43:\tlearn: 1780.5289490\ttotal: 7.19s\tremaining: 6.21s\n",
      "44:\tlearn: 1775.3949253\ttotal: 7.35s\tremaining: 6.05s\n",
      "45:\tlearn: 1769.2936167\ttotal: 7.59s\tremaining: 5.94s\n",
      "46:\tlearn: 1765.4160352\ttotal: 7.75s\tremaining: 5.78s\n",
      "47:\tlearn: 1761.6292026\ttotal: 7.89s\tremaining: 5.59s\n",
      "48:\tlearn: 1758.1160820\ttotal: 8.02s\tremaining: 5.4s\n",
      "49:\tlearn: 1755.2930721\ttotal: 8.18s\tremaining: 5.24s\n",
      "50:\tlearn: 1752.3090478\ttotal: 8.31s\tremaining: 5.05s\n",
      "51:\tlearn: 1748.7378540\ttotal: 8.45s\tremaining: 4.87s\n",
      "52:\tlearn: 1745.8200991\ttotal: 8.58s\tremaining: 4.69s\n",
      "53:\tlearn: 1743.4657344\ttotal: 8.71s\tremaining: 4.52s\n",
      "54:\tlearn: 1740.4272794\ttotal: 8.84s\tremaining: 4.34s\n",
      "55:\tlearn: 1738.3477436\ttotal: 9s\tremaining: 4.18s\n",
      "56:\tlearn: 1736.6917173\ttotal: 9.12s\tremaining: 4s\n",
      "57:\tlearn: 1734.1576071\ttotal: 9.27s\tremaining: 3.83s\n",
      "58:\tlearn: 1731.4303521\ttotal: 9.41s\tremaining: 3.67s\n",
      "59:\tlearn: 1729.1095236\ttotal: 9.55s\tremaining: 3.5s\n",
      "60:\tlearn: 1726.3772282\ttotal: 9.69s\tremaining: 3.34s\n",
      "61:\tlearn: 1724.8015907\ttotal: 9.82s\tremaining: 3.17s\n",
      "62:\tlearn: 1723.2709032\ttotal: 9.94s\tremaining: 3s\n",
      "63:\tlearn: 1721.2258771\ttotal: 10.1s\tremaining: 2.83s\n",
      "64:\tlearn: 1718.8962335\ttotal: 10.2s\tremaining: 2.66s\n",
      "65:\tlearn: 1716.6198073\ttotal: 10.3s\tremaining: 2.5s\n",
      "66:\tlearn: 1715.1406785\ttotal: 10.4s\tremaining: 2.34s\n",
      "67:\tlearn: 1713.5955487\ttotal: 10.6s\tremaining: 2.18s\n",
      "68:\tlearn: 1711.3708321\ttotal: 10.7s\tremaining: 2.02s\n",
      "69:\tlearn: 1709.4469897\ttotal: 10.8s\tremaining: 1.86s\n",
      "70:\tlearn: 1707.9913023\ttotal: 11s\tremaining: 1.7s\n",
      "71:\tlearn: 1705.5574767\ttotal: 11.1s\tremaining: 1.54s\n",
      "72:\tlearn: 1704.6023971\ttotal: 11.2s\tremaining: 1.38s\n",
      "73:\tlearn: 1702.9173330\ttotal: 11.3s\tremaining: 1.22s\n",
      "74:\tlearn: 1701.5144369\ttotal: 11.5s\tremaining: 1.07s\n",
      "75:\tlearn: 1700.0669540\ttotal: 11.6s\tremaining: 915ms\n",
      "76:\tlearn: 1698.3126309\ttotal: 11.7s\tremaining: 761ms\n",
      "77:\tlearn: 1696.6333135\ttotal: 11.8s\tremaining: 608ms\n",
      "78:\tlearn: 1694.9443778\ttotal: 12s\tremaining: 454ms\n",
      "79:\tlearn: 1693.2838415\ttotal: 12.1s\tremaining: 302ms\n",
      "80:\tlearn: 1692.3682594\ttotal: 12.2s\tremaining: 151ms\n",
      "81:\tlearn: 1691.1294279\ttotal: 12.3s\tremaining: 0us\n",
      "Wall time: 13 s\n"
     ]
    },
    {
     "data": {
      "text/plain": [
       "<catboost.core.CatBoostRegressor at 0x24b4ef92f10>"
      ]
     },
     "execution_count": 28,
     "metadata": {},
     "output_type": "execute_result"
    }
   ],
   "source": [
    "%%time\n",
    "model_cbr = CatBoostRegressor(\n",
    "    random_state=12345, cat_features=categorical, n_estimators=82, learning_rate=0.1, depth=9\n",
    ")\n",
    "model_cbr.fit(features_train, target_train)\n"
   ]
  },
  {
   "cell_type": "code",
   "execution_count": 29,
   "id": "aa47b2f4",
   "metadata": {},
   "outputs": [
    {
     "name": "stdout",
     "output_type": "stream",
     "text": [
      "RMSE train cbr: 1689.1114767319955\n",
      "Wall time: 427 ms\n"
     ]
    }
   ],
   "source": [
    "%%time\n",
    "predictions_cbr = model_cbr.predict(features_train)\n",
    "print('RMSE train cbr:', mean_squared_error(target_train, predictions_cbr)**0.5)"
   ]
  },
  {
   "cell_type": "markdown",
   "id": "111d046e",
   "metadata": {},
   "source": [
    "Время обучения - 12.5 s, время предсказания - 429 ms. RMSE_train = 1689.11"
   ]
  },
  {
   "cell_type": "markdown",
   "id": "c68487dd",
   "metadata": {},
   "source": [
    "LinearRegression"
   ]
  },
  {
   "cell_type": "code",
   "execution_count": 30,
   "id": "9997d47f",
   "metadata": {},
   "outputs": [
    {
     "name": "stdout",
     "output_type": "stream",
     "text": [
      "Fitting 3 folds for each of 1 candidates, totalling 3 fits\n",
      "Wall time: 18.4 s\n"
     ]
    },
    {
     "data": {
      "text/plain": [
       "RandomizedSearchCV(cv=3, estimator=LinearRegression(), n_jobs=-1,\n",
       "                   param_distributions={}, random_state=12345,\n",
       "                   scoring='neg_root_mean_squared_error', verbose=10)"
      ]
     },
     "execution_count": 30,
     "metadata": {},
     "output_type": "execute_result"
    }
   ],
   "source": [
    "%%time\n",
    "model_lr.fit(features_train_ohe, target_train_ohe)"
   ]
  },
  {
   "cell_type": "code",
   "execution_count": 31,
   "id": "f080a979",
   "metadata": {},
   "outputs": [
    {
     "name": "stdout",
     "output_type": "stream",
     "text": [
      "RMSE train lr: 2403.283229286982\n",
      "Wall time: 394 ms\n"
     ]
    }
   ],
   "source": [
    "%%time\n",
    "predictions_lr = model_lr.predict(features_train_ohe)\n",
    "print('RMSE train lr:', mean_squared_error(target_train_ohe, predictions_lr)**0.5)"
   ]
  },
  {
   "cell_type": "markdown",
   "id": "d244fa49",
   "metadata": {},
   "source": [
    "Время обучения - 20.3 s, время предсказания - 435 ms. RMSE_train = 2403.28"
   ]
  },
  {
   "cell_type": "markdown",
   "id": "b6723429",
   "metadata": {},
   "source": [
    "Модели градинтного бустинга оказались фаворитами, однако LGBMRegressor показала лучшую скорость работы и лучшее значение RMSE."
   ]
  },
  {
   "cell_type": "markdown",
   "id": "d732be02",
   "metadata": {},
   "source": [
    "## Опираясь на критерии заказчика, выберете лучшую модель, проверьте её качество на тестовой выборке. "
   ]
  },
  {
   "cell_type": "markdown",
   "id": "6e56c89a",
   "metadata": {},
   "source": [
    "Проверим качество LGBMRegressor на тествовой выборке"
   ]
  },
  {
   "cell_type": "code",
   "execution_count": 32,
   "id": "b5062a1a",
   "metadata": {},
   "outputs": [
    {
     "name": "stdout",
     "output_type": "stream",
     "text": [
      "RMSE test lgbm: 1516.9358407534064\n",
      "Wall time: 136 ms\n"
     ]
    }
   ],
   "source": [
    "%%time\n",
    "predictions_lgbm_test = model_lgbm.predict(features_test_lgbm)\n",
    "print('RMSE test lgbm:', mean_squared_error(target_test, predictions_lgbm_test)**0.5)"
   ]
  },
  {
   "cell_type": "markdown",
   "id": "81501de9",
   "metadata": {},
   "source": [
    "RMSE на тестовой выборке лучшей модели = 1516,93"
   ]
  },
  {
   "cell_type": "markdown",
   "id": "ce460090",
   "metadata": {},
   "source": [
    "Полученные результаты оформим в таблицу."
   ]
  },
  {
   "cell_type": "code",
   "execution_count": 33,
   "id": "5e29f221",
   "metadata": {},
   "outputs": [
    {
     "data": {
      "text/html": [
       "<div>\n",
       "<style scoped>\n",
       "    .dataframe tbody tr th:only-of-type {\n",
       "        vertical-align: middle;\n",
       "    }\n",
       "\n",
       "    .dataframe tbody tr th {\n",
       "        vertical-align: top;\n",
       "    }\n",
       "\n",
       "    .dataframe thead th {\n",
       "        text-align: right;\n",
       "    }\n",
       "</style>\n",
       "<table border=\"1\" class=\"dataframe\">\n",
       "  <thead>\n",
       "    <tr style=\"text-align: right;\">\n",
       "      <th></th>\n",
       "      <th>Модель</th>\n",
       "      <th>время обучения, s</th>\n",
       "      <th>время предсказания, ms</th>\n",
       "      <th>RMSE</th>\n",
       "    </tr>\n",
       "  </thead>\n",
       "  <tbody>\n",
       "    <tr>\n",
       "      <th>0</th>\n",
       "      <td>LGBMRegressor</td>\n",
       "      <td>1.04</td>\n",
       "      <td>306</td>\n",
       "      <td>1521.00</td>\n",
       "    </tr>\n",
       "    <tr>\n",
       "      <th>1</th>\n",
       "      <td>CatBoostRegressor</td>\n",
       "      <td>12.50</td>\n",
       "      <td>429</td>\n",
       "      <td>1712.10</td>\n",
       "    </tr>\n",
       "    <tr>\n",
       "      <th>2</th>\n",
       "      <td>LinearRegression</td>\n",
       "      <td>20.30</td>\n",
       "      <td>435</td>\n",
       "      <td>2408.86</td>\n",
       "    </tr>\n",
       "  </tbody>\n",
       "</table>\n",
       "</div>"
      ],
      "text/plain": [
       "              Модель  время обучения, s  время предсказания, ms     RMSE\n",
       "0      LGBMRegressor               1.04                     306  1521.00\n",
       "1  CatBoostRegressor              12.50                     429  1712.10\n",
       "2   LinearRegression              20.30                     435  2408.86"
      ]
     },
     "execution_count": 33,
     "metadata": {},
     "output_type": "execute_result"
    }
   ],
   "source": [
    "table = pd.DataFrame({'Модель': ['LGBMRegressor', 'CatBoostRegressor', 'LinearRegression'], \n",
    "                      'время обучения, s': [1.04, 12.5, 20.3], \n",
    "                      'время предсказания, ms': [306, 429, 435], \n",
    "                      'RMSE': [1521, 1712.1, 2408.86] \n",
    "                     })\n",
    "                     \n",
    "table"
   ]
  },
  {
   "cell_type": "markdown",
   "id": "ccd76685",
   "metadata": {},
   "source": [
    "Опираясь на результаты проведенной работы, заказчику рекомендуется использовать LGBMRegressor. Она показала самые лучшие результаты по RMSE и времени предсказания."
   ]
  },
  {
   "cell_type": "markdown",
   "id": "15f2cfa6",
   "metadata": {},
   "source": [
    "*Полученное время с каждым запуском кода изменяется, но не меняется фаворит."
   ]
  },
  {
   "cell_type": "code",
   "execution_count": null,
   "id": "4a886399",
   "metadata": {},
   "outputs": [],
   "source": []
  }
 ],
 "metadata": {
  "ExecuteTimeLog": [
   {
    "duration": 1472,
    "start_time": "2023-05-16T23:09:55.584Z"
   },
   {
    "duration": 1010,
    "start_time": "2023-05-16T23:09:57.057Z"
   },
   {
    "duration": 19,
    "start_time": "2023-05-16T23:12:23.641Z"
   },
   {
    "duration": 117,
    "start_time": "2023-05-16T23:12:30.348Z"
   },
   {
    "duration": 656,
    "start_time": "2023-05-16T23:12:38.470Z"
   },
   {
    "duration": 88,
    "start_time": "2023-05-16T23:12:48.455Z"
   },
   {
    "duration": 250,
    "start_time": "2023-05-16T23:12:52.486Z"
   },
   {
    "duration": 707,
    "start_time": "2023-05-16T23:14:29.114Z"
   },
   {
    "duration": 44,
    "start_time": "2023-05-16T23:15:23.207Z"
   },
   {
    "duration": 48,
    "start_time": "2023-05-16T23:15:41.589Z"
   },
   {
    "duration": 61,
    "start_time": "2023-05-16T23:16:05.163Z"
   },
   {
    "duration": 26,
    "start_time": "2023-05-16T23:16:10.247Z"
   },
   {
    "duration": 9789,
    "start_time": "2023-05-16T23:16:12.466Z"
   },
   {
    "duration": 66,
    "start_time": "2023-05-16T23:17:11.103Z"
   },
   {
    "duration": 54,
    "start_time": "2023-05-16T23:17:24.669Z"
   },
   {
    "duration": 66,
    "start_time": "2023-05-16T23:17:36.680Z"
   },
   {
    "duration": 28,
    "start_time": "2023-05-16T23:18:05.336Z"
   },
   {
    "duration": 210,
    "start_time": "2023-05-16T23:19:09.321Z"
   },
   {
    "duration": 16,
    "start_time": "2023-05-16T23:19:17.339Z"
   },
   {
    "duration": 253,
    "start_time": "2023-05-16T23:20:05.071Z"
   },
   {
    "duration": 658,
    "start_time": "2023-05-16T23:20:15.793Z"
   }
  ],
  "kernelspec": {
   "display_name": "Python 3 (ipykernel)",
   "language": "python",
   "name": "python3"
  },
  "language_info": {
   "codemirror_mode": {
    "name": "ipython",
    "version": 3
   },
   "file_extension": ".py",
   "mimetype": "text/x-python",
   "name": "python",
   "nbconvert_exporter": "python",
   "pygments_lexer": "ipython3",
   "version": "3.9.13"
  },
  "toc": {
   "base_numbering": 1,
   "nav_menu": {},
   "number_sections": true,
   "sideBar": true,
   "skip_h1_title": true,
   "title_cell": "Table of Contents",
   "title_sidebar": "Contents",
   "toc_cell": false,
   "toc_position": {},
   "toc_section_display": true,
   "toc_window_display": true
  }
 },
 "nbformat": 4,
 "nbformat_minor": 5
}

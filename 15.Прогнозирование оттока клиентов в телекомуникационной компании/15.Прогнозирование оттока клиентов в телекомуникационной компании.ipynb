{
 "cells": [
  {
   "cell_type": "markdown",
   "id": "11c7f678",
   "metadata": {},
   "source": [
    "# Прогнозирование оттока клиентов в телекомуникационной компании"
   ]
  },
  {
   "cell_type": "markdown",
   "id": "54f4033a",
   "metadata": {},
   "source": [
    "## Описание проекта"
   ]
  },
  {
   "cell_type": "markdown",
   "id": "a8eade83",
   "metadata": {},
   "source": [
    "Оператор связи «Ниединогоразрыва.ком» хочет научиться прогнозировать отток клиентов. Если выяснится, что пользователь планирует уйти, ему будут предложены промокоды и специальные условия. Команда оператора собрала персональные данные о некоторых клиентах, информацию об их тарифах и договорах.\n",
    "   \n",
    "Описание услуг\n",
    "    \n",
    "Оператор предоставляет два основных типа услуг: \n",
    "  1. Стационарную телефонную связь. Возможно подключение телефонного аппарата к нескольким линиям одновременно.\n",
    "  2. Интернет. Подключение может быть двух типов: через телефонную линию (DSL, от англ. digital subscriber line, «цифровая абонентская линия») или оптоволоконный кабель (Fiber optic).\n",
    "    \n",
    "Также доступны такие услуги:\n",
    "  1. Интернет-безопасность: антивирус (DeviceProtection) и блокировка небезопасных сайтов (OnlineSecurity);\n",
    "  2. Выделенная линия технической поддержки (TechSupport);\n",
    "  3. Облачное хранилище файлов для резервного копирования данных (OnlineBackup);\n",
    "  4. Стриминговое телевидение (StreamingTV) и каталог фильмов (StreamingMovies).\n",
    "  \n",
    "За услуги клиенты могут платить каждый месяц или заключить договор на 1–2 года. Доступны различные способы расчёта и возможность получения электронного чека."
   ]
  },
  {
   "cell_type": "markdown",
   "id": "36955d08",
   "metadata": {},
   "source": [
    "   Цель проекта: научиться прогнозировать уход клиента"
   ]
  },
  {
   "cell_type": "markdown",
   "id": "df659cff",
   "metadata": {},
   "source": [
    "План проекта:\n",
    "1. Загрузка данных, ознакомление с данными\n",
    "- describe(), info()\n",
    "2. Объединение датасетов\n",
    "- выделение целевого признака\n",
    "3. Предобработка данных\n",
    "- заполнение пропусков\n",
    "- выделение новых признаков\n",
    "- проверка на мультиколлинеарность\n",
    "- удаление ненужных признаков\n",
    "4. Разделение на выборки\n",
    "- кодирование категориальных признаков\n",
    "5. Обучение моделей и проверка лучшей\n",
    "- Подбор гиперпараметров и обучение на кросс-валидации логистической регрессии, случайного леса, модели градиентного бустинга\n",
    "- выбор лучшей\n",
    "- проверка на тестовой выборке\n",
    "6.  Выводы\n",
    "- анализ важности признаков\n",
    "- матрица ошибок.\n"
   ]
  },
  {
   "cell_type": "markdown",
   "id": "4937c583",
   "metadata": {},
   "source": [
    "# Загрузка и изучение данных."
   ]
  },
  {
   "cell_type": "code",
   "execution_count": 1,
   "id": "2238c06c",
   "metadata": {},
   "outputs": [
    {
     "name": "stdout",
     "output_type": "stream",
     "text": [
      "Requirement already satisfied: phik in /opt/conda/lib/python3.9/site-packages (0.12.3)\n",
      "Requirement already satisfied: joblib>=0.14.1 in /opt/conda/lib/python3.9/site-packages (from phik) (1.1.0)\n",
      "Requirement already satisfied: numpy>=1.18.0 in /opt/conda/lib/python3.9/site-packages (from phik) (1.21.1)\n",
      "Requirement already satisfied: scipy>=1.5.2 in /opt/conda/lib/python3.9/site-packages (from phik) (1.9.1)\n",
      "Requirement already satisfied: pandas>=0.25.1 in /opt/conda/lib/python3.9/site-packages (from phik) (1.2.4)\n",
      "Requirement already satisfied: matplotlib>=2.2.3 in /opt/conda/lib/python3.9/site-packages (from phik) (3.3.4)\n",
      "Requirement already satisfied: kiwisolver>=1.0.1 in /opt/conda/lib/python3.9/site-packages (from matplotlib>=2.2.3->phik) (1.4.4)\n",
      "Requirement already satisfied: python-dateutil>=2.1 in /opt/conda/lib/python3.9/site-packages (from matplotlib>=2.2.3->phik) (2.8.1)\n",
      "Requirement already satisfied: pyparsing!=2.0.4,!=2.1.2,!=2.1.6,>=2.0.3 in /opt/conda/lib/python3.9/site-packages (from matplotlib>=2.2.3->phik) (2.4.7)\n",
      "Requirement already satisfied: pillow>=6.2.0 in /opt/conda/lib/python3.9/site-packages (from matplotlib>=2.2.3->phik) (8.4.0)\n",
      "Requirement already satisfied: cycler>=0.10 in /opt/conda/lib/python3.9/site-packages (from matplotlib>=2.2.3->phik) (0.11.0)\n",
      "Requirement already satisfied: pytz>=2017.3 in /opt/conda/lib/python3.9/site-packages (from pandas>=0.25.1->phik) (2021.1)\n",
      "Requirement already satisfied: six>=1.5 in /opt/conda/lib/python3.9/site-packages (from python-dateutil>=2.1->matplotlib>=2.2.3->phik) (1.16.0)\n"
     ]
    }
   ],
   "source": [
    "!pip install phik\n"
   ]
  },
  {
   "cell_type": "code",
   "execution_count": 2,
   "id": "d4f27b1e",
   "metadata": {},
   "outputs": [],
   "source": [
    "import pandas as pd\n",
    "import numpy as np\n",
    "import phik\n",
    "import seaborn as sns\n",
    "from sklearn.model_selection import train_test_split, RandomizedSearchCV, GridSearchCV\n",
    "from sklearn.preprocessing import StandardScaler \n",
    "from sklearn.metrics import roc_auc_score, roc_curve, accuracy_score\n",
    "from sklearn.ensemble import RandomForestClassifier\n",
    "from sklearn.linear_model import LogisticRegression \n",
    "from catboost import CatBoostClassifier\n",
    "import matplotlib.pyplot as plt\n",
    "from sklearn.utils import shuffle\n",
    "import warnings\n",
    "warnings.filterwarnings(\"ignore\")"
   ]
  },
  {
   "cell_type": "code",
   "execution_count": 3,
   "id": "3c439e9c",
   "metadata": {},
   "outputs": [
    {
     "data": {
      "text/html": [
       "<div>\n",
       "<style scoped>\n",
       "    .dataframe tbody tr th:only-of-type {\n",
       "        vertical-align: middle;\n",
       "    }\n",
       "\n",
       "    .dataframe tbody tr th {\n",
       "        vertical-align: top;\n",
       "    }\n",
       "\n",
       "    .dataframe thead th {\n",
       "        text-align: right;\n",
       "    }\n",
       "</style>\n",
       "<table border=\"1\" class=\"dataframe\">\n",
       "  <thead>\n",
       "    <tr style=\"text-align: right;\">\n",
       "      <th></th>\n",
       "      <th>customerID</th>\n",
       "      <th>BeginDate</th>\n",
       "      <th>EndDate</th>\n",
       "      <th>Type</th>\n",
       "      <th>PaperlessBilling</th>\n",
       "      <th>PaymentMethod</th>\n",
       "      <th>MonthlyCharges</th>\n",
       "      <th>TotalCharges</th>\n",
       "    </tr>\n",
       "  </thead>\n",
       "  <tbody>\n",
       "    <tr>\n",
       "      <th>0</th>\n",
       "      <td>7590-VHVEG</td>\n",
       "      <td>2020-01-01</td>\n",
       "      <td>No</td>\n",
       "      <td>Month-to-month</td>\n",
       "      <td>Yes</td>\n",
       "      <td>Electronic check</td>\n",
       "      <td>29.85</td>\n",
       "      <td>31.04</td>\n",
       "    </tr>\n",
       "    <tr>\n",
       "      <th>1</th>\n",
       "      <td>5575-GNVDE</td>\n",
       "      <td>2017-04-01</td>\n",
       "      <td>No</td>\n",
       "      <td>One year</td>\n",
       "      <td>No</td>\n",
       "      <td>Mailed check</td>\n",
       "      <td>56.95</td>\n",
       "      <td>2071.84</td>\n",
       "    </tr>\n",
       "    <tr>\n",
       "      <th>2</th>\n",
       "      <td>3668-QPYBK</td>\n",
       "      <td>2019-10-01</td>\n",
       "      <td>No</td>\n",
       "      <td>Month-to-month</td>\n",
       "      <td>Yes</td>\n",
       "      <td>Mailed check</td>\n",
       "      <td>53.85</td>\n",
       "      <td>226.17</td>\n",
       "    </tr>\n",
       "    <tr>\n",
       "      <th>3</th>\n",
       "      <td>7795-CFOCW</td>\n",
       "      <td>2016-05-01</td>\n",
       "      <td>No</td>\n",
       "      <td>One year</td>\n",
       "      <td>No</td>\n",
       "      <td>Bank transfer (automatic)</td>\n",
       "      <td>42.30</td>\n",
       "      <td>1960.6</td>\n",
       "    </tr>\n",
       "    <tr>\n",
       "      <th>4</th>\n",
       "      <td>9237-HQITU</td>\n",
       "      <td>2019-09-01</td>\n",
       "      <td>No</td>\n",
       "      <td>Month-to-month</td>\n",
       "      <td>Yes</td>\n",
       "      <td>Electronic check</td>\n",
       "      <td>70.70</td>\n",
       "      <td>353.5</td>\n",
       "    </tr>\n",
       "  </tbody>\n",
       "</table>\n",
       "</div>"
      ],
      "text/plain": [
       "   customerID   BeginDate EndDate            Type PaperlessBilling  \\\n",
       "0  7590-VHVEG  2020-01-01      No  Month-to-month              Yes   \n",
       "1  5575-GNVDE  2017-04-01      No        One year               No   \n",
       "2  3668-QPYBK  2019-10-01      No  Month-to-month              Yes   \n",
       "3  7795-CFOCW  2016-05-01      No        One year               No   \n",
       "4  9237-HQITU  2019-09-01      No  Month-to-month              Yes   \n",
       "\n",
       "               PaymentMethod  MonthlyCharges TotalCharges  \n",
       "0           Electronic check           29.85        31.04  \n",
       "1               Mailed check           56.95      2071.84  \n",
       "2               Mailed check           53.85       226.17  \n",
       "3  Bank transfer (automatic)           42.30       1960.6  \n",
       "4           Electronic check           70.70        353.5  "
      ]
     },
     "execution_count": 3,
     "metadata": {},
     "output_type": "execute_result"
    }
   ],
   "source": [
    "link_contract = 'https://code.s3.yandex.net/datasets/contract_new.csv'\n",
    "contract = pd.read_csv(link_contract,  sep=',')\n",
    "contract.head(5)"
   ]
  },
  {
   "cell_type": "code",
   "execution_count": 4,
   "id": "13502c67",
   "metadata": {},
   "outputs": [
    {
     "data": {
      "text/html": [
       "<div>\n",
       "<style scoped>\n",
       "    .dataframe tbody tr th:only-of-type {\n",
       "        vertical-align: middle;\n",
       "    }\n",
       "\n",
       "    .dataframe tbody tr th {\n",
       "        vertical-align: top;\n",
       "    }\n",
       "\n",
       "    .dataframe thead th {\n",
       "        text-align: right;\n",
       "    }\n",
       "</style>\n",
       "<table border=\"1\" class=\"dataframe\">\n",
       "  <thead>\n",
       "    <tr style=\"text-align: right;\">\n",
       "      <th></th>\n",
       "      <th>customerID</th>\n",
       "      <th>gender</th>\n",
       "      <th>SeniorCitizen</th>\n",
       "      <th>Partner</th>\n",
       "      <th>Dependents</th>\n",
       "    </tr>\n",
       "  </thead>\n",
       "  <tbody>\n",
       "    <tr>\n",
       "      <th>0</th>\n",
       "      <td>7590-VHVEG</td>\n",
       "      <td>Female</td>\n",
       "      <td>0</td>\n",
       "      <td>Yes</td>\n",
       "      <td>No</td>\n",
       "    </tr>\n",
       "    <tr>\n",
       "      <th>1</th>\n",
       "      <td>5575-GNVDE</td>\n",
       "      <td>Male</td>\n",
       "      <td>0</td>\n",
       "      <td>No</td>\n",
       "      <td>No</td>\n",
       "    </tr>\n",
       "    <tr>\n",
       "      <th>2</th>\n",
       "      <td>3668-QPYBK</td>\n",
       "      <td>Male</td>\n",
       "      <td>0</td>\n",
       "      <td>No</td>\n",
       "      <td>No</td>\n",
       "    </tr>\n",
       "    <tr>\n",
       "      <th>3</th>\n",
       "      <td>7795-CFOCW</td>\n",
       "      <td>Male</td>\n",
       "      <td>0</td>\n",
       "      <td>No</td>\n",
       "      <td>No</td>\n",
       "    </tr>\n",
       "    <tr>\n",
       "      <th>4</th>\n",
       "      <td>9237-HQITU</td>\n",
       "      <td>Female</td>\n",
       "      <td>0</td>\n",
       "      <td>No</td>\n",
       "      <td>No</td>\n",
       "    </tr>\n",
       "  </tbody>\n",
       "</table>\n",
       "</div>"
      ],
      "text/plain": [
       "   customerID  gender  SeniorCitizen Partner Dependents\n",
       "0  7590-VHVEG  Female              0     Yes         No\n",
       "1  5575-GNVDE    Male              0      No         No\n",
       "2  3668-QPYBK    Male              0      No         No\n",
       "3  7795-CFOCW    Male              0      No         No\n",
       "4  9237-HQITU  Female              0      No         No"
      ]
     },
     "execution_count": 4,
     "metadata": {},
     "output_type": "execute_result"
    }
   ],
   "source": [
    "link_personal = 'https://code.s3.yandex.net/datasets/personal_new.csv'\n",
    "personal = pd.read_csv(link_personal,  sep=',')\n",
    "personal.head(5)"
   ]
  },
  {
   "cell_type": "code",
   "execution_count": 5,
   "id": "4d78e2f3",
   "metadata": {},
   "outputs": [
    {
     "data": {
      "text/html": [
       "<div>\n",
       "<style scoped>\n",
       "    .dataframe tbody tr th:only-of-type {\n",
       "        vertical-align: middle;\n",
       "    }\n",
       "\n",
       "    .dataframe tbody tr th {\n",
       "        vertical-align: top;\n",
       "    }\n",
       "\n",
       "    .dataframe thead th {\n",
       "        text-align: right;\n",
       "    }\n",
       "</style>\n",
       "<table border=\"1\" class=\"dataframe\">\n",
       "  <thead>\n",
       "    <tr style=\"text-align: right;\">\n",
       "      <th></th>\n",
       "      <th>customerID</th>\n",
       "      <th>InternetService</th>\n",
       "      <th>OnlineSecurity</th>\n",
       "      <th>OnlineBackup</th>\n",
       "      <th>DeviceProtection</th>\n",
       "      <th>TechSupport</th>\n",
       "      <th>StreamingTV</th>\n",
       "      <th>StreamingMovies</th>\n",
       "    </tr>\n",
       "  </thead>\n",
       "  <tbody>\n",
       "    <tr>\n",
       "      <th>0</th>\n",
       "      <td>7590-VHVEG</td>\n",
       "      <td>DSL</td>\n",
       "      <td>No</td>\n",
       "      <td>Yes</td>\n",
       "      <td>No</td>\n",
       "      <td>No</td>\n",
       "      <td>No</td>\n",
       "      <td>No</td>\n",
       "    </tr>\n",
       "    <tr>\n",
       "      <th>1</th>\n",
       "      <td>5575-GNVDE</td>\n",
       "      <td>DSL</td>\n",
       "      <td>Yes</td>\n",
       "      <td>No</td>\n",
       "      <td>Yes</td>\n",
       "      <td>No</td>\n",
       "      <td>No</td>\n",
       "      <td>No</td>\n",
       "    </tr>\n",
       "    <tr>\n",
       "      <th>2</th>\n",
       "      <td>3668-QPYBK</td>\n",
       "      <td>DSL</td>\n",
       "      <td>Yes</td>\n",
       "      <td>Yes</td>\n",
       "      <td>No</td>\n",
       "      <td>No</td>\n",
       "      <td>No</td>\n",
       "      <td>No</td>\n",
       "    </tr>\n",
       "    <tr>\n",
       "      <th>3</th>\n",
       "      <td>7795-CFOCW</td>\n",
       "      <td>DSL</td>\n",
       "      <td>Yes</td>\n",
       "      <td>No</td>\n",
       "      <td>Yes</td>\n",
       "      <td>Yes</td>\n",
       "      <td>No</td>\n",
       "      <td>No</td>\n",
       "    </tr>\n",
       "    <tr>\n",
       "      <th>4</th>\n",
       "      <td>9237-HQITU</td>\n",
       "      <td>Fiber optic</td>\n",
       "      <td>No</td>\n",
       "      <td>No</td>\n",
       "      <td>No</td>\n",
       "      <td>No</td>\n",
       "      <td>No</td>\n",
       "      <td>No</td>\n",
       "    </tr>\n",
       "  </tbody>\n",
       "</table>\n",
       "</div>"
      ],
      "text/plain": [
       "   customerID InternetService OnlineSecurity OnlineBackup DeviceProtection  \\\n",
       "0  7590-VHVEG             DSL             No          Yes               No   \n",
       "1  5575-GNVDE             DSL            Yes           No              Yes   \n",
       "2  3668-QPYBK             DSL            Yes          Yes               No   \n",
       "3  7795-CFOCW             DSL            Yes           No              Yes   \n",
       "4  9237-HQITU     Fiber optic             No           No               No   \n",
       "\n",
       "  TechSupport StreamingTV StreamingMovies  \n",
       "0          No          No              No  \n",
       "1          No          No              No  \n",
       "2          No          No              No  \n",
       "3         Yes          No              No  \n",
       "4          No          No              No  "
      ]
     },
     "execution_count": 5,
     "metadata": {},
     "output_type": "execute_result"
    }
   ],
   "source": [
    "link_internet = 'https://code.s3.yandex.net/datasets/internet_new.csv'\n",
    "internet = pd.read_csv(link_internet,  sep=',')\n",
    "internet.head(5)"
   ]
  },
  {
   "cell_type": "code",
   "execution_count": 6,
   "id": "99c8a0ea",
   "metadata": {},
   "outputs": [
    {
     "data": {
      "text/html": [
       "<div>\n",
       "<style scoped>\n",
       "    .dataframe tbody tr th:only-of-type {\n",
       "        vertical-align: middle;\n",
       "    }\n",
       "\n",
       "    .dataframe tbody tr th {\n",
       "        vertical-align: top;\n",
       "    }\n",
       "\n",
       "    .dataframe thead th {\n",
       "        text-align: right;\n",
       "    }\n",
       "</style>\n",
       "<table border=\"1\" class=\"dataframe\">\n",
       "  <thead>\n",
       "    <tr style=\"text-align: right;\">\n",
       "      <th></th>\n",
       "      <th>customerID</th>\n",
       "      <th>MultipleLines</th>\n",
       "    </tr>\n",
       "  </thead>\n",
       "  <tbody>\n",
       "    <tr>\n",
       "      <th>0</th>\n",
       "      <td>5575-GNVDE</td>\n",
       "      <td>No</td>\n",
       "    </tr>\n",
       "    <tr>\n",
       "      <th>1</th>\n",
       "      <td>3668-QPYBK</td>\n",
       "      <td>No</td>\n",
       "    </tr>\n",
       "    <tr>\n",
       "      <th>2</th>\n",
       "      <td>9237-HQITU</td>\n",
       "      <td>No</td>\n",
       "    </tr>\n",
       "    <tr>\n",
       "      <th>3</th>\n",
       "      <td>9305-CDSKC</td>\n",
       "      <td>Yes</td>\n",
       "    </tr>\n",
       "    <tr>\n",
       "      <th>4</th>\n",
       "      <td>1452-KIOVK</td>\n",
       "      <td>Yes</td>\n",
       "    </tr>\n",
       "  </tbody>\n",
       "</table>\n",
       "</div>"
      ],
      "text/plain": [
       "   customerID MultipleLines\n",
       "0  5575-GNVDE            No\n",
       "1  3668-QPYBK            No\n",
       "2  9237-HQITU            No\n",
       "3  9305-CDSKC           Yes\n",
       "4  1452-KIOVK           Yes"
      ]
     },
     "execution_count": 6,
     "metadata": {},
     "output_type": "execute_result"
    }
   ],
   "source": [
    "link_phone = 'https://code.s3.yandex.net/datasets/phone_new.csv'\n",
    "phone = pd.read_csv(link_phone,  sep=',')\n",
    "phone.head(5)"
   ]
  },
  {
   "cell_type": "code",
   "execution_count": 7,
   "id": "577fd5cf",
   "metadata": {},
   "outputs": [
    {
     "name": "stdout",
     "output_type": "stream",
     "text": [
      "<class 'pandas.core.frame.DataFrame'>\n",
      "RangeIndex: 7043 entries, 0 to 7042\n",
      "Data columns (total 8 columns):\n",
      " #   Column            Non-Null Count  Dtype  \n",
      "---  ------            --------------  -----  \n",
      " 0   customerID        7043 non-null   object \n",
      " 1   BeginDate         7043 non-null   object \n",
      " 2   EndDate           7043 non-null   object \n",
      " 3   Type              7043 non-null   object \n",
      " 4   PaperlessBilling  7043 non-null   object \n",
      " 5   PaymentMethod     7043 non-null   object \n",
      " 6   MonthlyCharges    7043 non-null   float64\n",
      " 7   TotalCharges      7043 non-null   object \n",
      "dtypes: float64(1), object(7)\n",
      "memory usage: 440.3+ KB\n",
      "Информация о датасете: None\n",
      "Явные дубликаты: 0\n",
      "Статистика:        MonthlyCharges\n",
      "count     7043.000000\n",
      "mean        64.761692\n",
      "std         30.090047\n",
      "min         18.250000\n",
      "25%         35.500000\n",
      "50%         70.350000\n",
      "75%         89.850000\n",
      "max        118.750000\n"
     ]
    }
   ],
   "source": [
    "def observe(data):\n",
    "    print('Информация о датасете:', data.info())\n",
    "    print('Явные дубликаты:', data.duplicated().sum())   \n",
    "    print('Статистика:', data.describe()) \n",
    "    return\n",
    "observe(contract)"
   ]
  },
  {
   "cell_type": "code",
   "execution_count": 8,
   "id": "97cbad2f",
   "metadata": {},
   "outputs": [
    {
     "name": "stdout",
     "output_type": "stream",
     "text": [
      "<class 'pandas.core.frame.DataFrame'>\n",
      "RangeIndex: 7043 entries, 0 to 7042\n",
      "Data columns (total 5 columns):\n",
      " #   Column         Non-Null Count  Dtype \n",
      "---  ------         --------------  ----- \n",
      " 0   customerID     7043 non-null   object\n",
      " 1   gender         7043 non-null   object\n",
      " 2   SeniorCitizen  7043 non-null   int64 \n",
      " 3   Partner        7043 non-null   object\n",
      " 4   Dependents     7043 non-null   object\n",
      "dtypes: int64(1), object(4)\n",
      "memory usage: 275.2+ KB\n",
      "Информация о датасете: None\n",
      "Явные дубликаты: 0\n",
      "Статистика:        SeniorCitizen\n",
      "count    7043.000000\n",
      "mean        0.162147\n",
      "std         0.368612\n",
      "min         0.000000\n",
      "25%         0.000000\n",
      "50%         0.000000\n",
      "75%         0.000000\n",
      "max         1.000000\n"
     ]
    }
   ],
   "source": [
    "observe(personal)"
   ]
  },
  {
   "cell_type": "code",
   "execution_count": 9,
   "id": "9c8761c9",
   "metadata": {},
   "outputs": [
    {
     "name": "stdout",
     "output_type": "stream",
     "text": [
      "<class 'pandas.core.frame.DataFrame'>\n",
      "RangeIndex: 5517 entries, 0 to 5516\n",
      "Data columns (total 8 columns):\n",
      " #   Column            Non-Null Count  Dtype \n",
      "---  ------            --------------  ----- \n",
      " 0   customerID        5517 non-null   object\n",
      " 1   InternetService   5517 non-null   object\n",
      " 2   OnlineSecurity    5517 non-null   object\n",
      " 3   OnlineBackup      5517 non-null   object\n",
      " 4   DeviceProtection  5517 non-null   object\n",
      " 5   TechSupport       5517 non-null   object\n",
      " 6   StreamingTV       5517 non-null   object\n",
      " 7   StreamingMovies   5517 non-null   object\n",
      "dtypes: object(8)\n",
      "memory usage: 344.9+ KB\n",
      "Информация о датасете: None\n",
      "Явные дубликаты: 0\n",
      "Статистика:         customerID InternetService OnlineSecurity OnlineBackup  \\\n",
      "count         5517            5517           5517         5517   \n",
      "unique        5517               2              2            2   \n",
      "top     3566-VVORZ     Fiber optic             No           No   \n",
      "freq             1            3096           3498         3088   \n",
      "\n",
      "       DeviceProtection TechSupport StreamingTV StreamingMovies  \n",
      "count              5517        5517        5517            5517  \n",
      "unique                2           2           2               2  \n",
      "top                  No          No          No              No  \n",
      "freq               3095        3473        2810            2785  \n"
     ]
    }
   ],
   "source": [
    "observe(internet)"
   ]
  },
  {
   "cell_type": "code",
   "execution_count": 10,
   "id": "1b7b8438",
   "metadata": {},
   "outputs": [
    {
     "name": "stdout",
     "output_type": "stream",
     "text": [
      "<class 'pandas.core.frame.DataFrame'>\n",
      "RangeIndex: 6361 entries, 0 to 6360\n",
      "Data columns (total 2 columns):\n",
      " #   Column         Non-Null Count  Dtype \n",
      "---  ------         --------------  ----- \n",
      " 0   customerID     6361 non-null   object\n",
      " 1   MultipleLines  6361 non-null   object\n",
      "dtypes: object(2)\n",
      "memory usage: 99.5+ KB\n",
      "Информация о датасете: None\n",
      "Явные дубликаты: 0\n",
      "Статистика:         customerID MultipleLines\n",
      "count         6361          6361\n",
      "unique        6361             2\n",
      "top     2560-WBWXF            No\n",
      "freq             1          3390\n"
     ]
    }
   ],
   "source": [
    "observe(phone)"
   ]
  },
  {
   "cell_type": "markdown",
   "id": "120f4550",
   "metadata": {},
   "source": [
    "Мы ознакомились с 4мя датасетами. Не обнаружили пропусков в каждом из датасетов, не обнаружили дубликатов и каких-то аномалий в данных. В некоторых признаках определен \n",
    "неверно тип данных, например в таблице contract  в столбцах BeginDate, EndDate,TotalCharges  - изменим тип далее.\n"
   ]
  },
  {
   "cell_type": "markdown",
   "id": "b58f44f7",
   "metadata": {},
   "source": [
    "## Объединение датасетов"
   ]
  },
  {
   "cell_type": "markdown",
   "id": "ff171e1a",
   "metadata": {},
   "source": [
    "Объединим датасаты в один датафрейм по столбцу с уникльными значениями customerID."
   ]
  },
  {
   "cell_type": "code",
   "execution_count": 11,
   "id": "294a8d7e",
   "metadata": {},
   "outputs": [],
   "source": [
    "df = contract \\\n",
    "    .merge(personal, how='left', on='customerID') \\\n",
    "    .merge(internet, how='left', on='customerID') \\\n",
    "    .merge(phone, how='left', on='customerID') \n",
    "# назначим customerID индексами\n",
    "df = df.set_index('customerID')"
   ]
  },
  {
   "cell_type": "code",
   "execution_count": 12,
   "id": "fc4901cd",
   "metadata": {},
   "outputs": [
    {
     "name": "stdout",
     "output_type": "stream",
     "text": [
      "<class 'pandas.core.frame.DataFrame'>\n",
      "Index: 7043 entries, 7590-VHVEG to 3186-AJIEK\n",
      "Data columns (total 19 columns):\n",
      " #   Column            Non-Null Count  Dtype  \n",
      "---  ------            --------------  -----  \n",
      " 0   BeginDate         7043 non-null   object \n",
      " 1   EndDate           7043 non-null   object \n",
      " 2   Type              7043 non-null   object \n",
      " 3   PaperlessBilling  7043 non-null   object \n",
      " 4   PaymentMethod     7043 non-null   object \n",
      " 5   MonthlyCharges    7043 non-null   float64\n",
      " 6   TotalCharges      7043 non-null   object \n",
      " 7   gender            7043 non-null   object \n",
      " 8   SeniorCitizen     7043 non-null   int64  \n",
      " 9   Partner           7043 non-null   object \n",
      " 10  Dependents        7043 non-null   object \n",
      " 11  InternetService   5517 non-null   object \n",
      " 12  OnlineSecurity    5517 non-null   object \n",
      " 13  OnlineBackup      5517 non-null   object \n",
      " 14  DeviceProtection  5517 non-null   object \n",
      " 15  TechSupport       5517 non-null   object \n",
      " 16  StreamingTV       5517 non-null   object \n",
      " 17  StreamingMovies   5517 non-null   object \n",
      " 18  MultipleLines     6361 non-null   object \n",
      "dtypes: float64(1), int64(1), object(17)\n",
      "memory usage: 1.1+ MB\n"
     ]
    }
   ],
   "source": [
    "df.info()"
   ]
  },
  {
   "cell_type": "markdown",
   "id": "4f58e49b",
   "metadata": {},
   "source": [
    "После объединения таблицы видим, что количество строк соответствует количеству контрактов. 1526 пропусков в признаках получилось из таблицы с доп услугами интернета, это означает, что 1526 клиентов не проводили себе интернет и пользуются только телефонией. 682 пропуска в признаке из таблицы  с доп услугой связи, это означает, что  682 клиента не подключали телефон и пользуются только интерентом."
   ]
  },
  {
   "cell_type": "code",
   "execution_count": 13,
   "id": "d9a8f306",
   "metadata": {},
   "outputs": [],
   "source": [
    "num_cols = ['MonthlyCharges', 'TotalCharges', 'duration']\n",
    "cat_cols = [\n",
    "    'Type',\n",
    "    'PaperlessBilling',\n",
    "    'PaymentMethod',\n",
    "    'Gender',\n",
    "    'SeniorCitizen',\n",
    "    'Partner',\n",
    "    'Dependents',\n",
    "    'InternetService', \n",
    "    'OnlineSecurity', \n",
    "    'OnlineBackup', \n",
    "    'DeviceProtection', \n",
    "    'TechSupport', \n",
    "    'StreamingTV', \n",
    "    'StreamingMovies', \n",
    "    'MultipleLines',\n",
    "]"
   ]
  },
  {
   "cell_type": "markdown",
   "id": "aa2e8267",
   "metadata": {},
   "source": [
    "### Выделим целевой признак."
   ]
  },
  {
   "cell_type": "markdown",
   "id": "bfdb6c3d",
   "metadata": {},
   "source": [
    "Так как цель работы спрогнозировать уход клиента для выделения целевого признака воспользуемся колонкой с датой окончания контракта EndDate(если в столбце проставлена дата-значит пользователь ушел, если стоит значение 'No' - клиент продолжает пользоваться услугами).Создадим новый столбец, в котором  будут значения 0 - не ушел, 1 - ушел. "
   ]
  },
  {
   "cell_type": "code",
   "execution_count": 14,
   "id": "cade0cd1",
   "metadata": {},
   "outputs": [
    {
     "data": {
      "text/html": [
       "<div>\n",
       "<style scoped>\n",
       "    .dataframe tbody tr th:only-of-type {\n",
       "        vertical-align: middle;\n",
       "    }\n",
       "\n",
       "    .dataframe tbody tr th {\n",
       "        vertical-align: top;\n",
       "    }\n",
       "\n",
       "    .dataframe thead th {\n",
       "        text-align: right;\n",
       "    }\n",
       "</style>\n",
       "<table border=\"1\" class=\"dataframe\">\n",
       "  <thead>\n",
       "    <tr style=\"text-align: right;\">\n",
       "      <th></th>\n",
       "      <th>BeginDate</th>\n",
       "      <th>EndDate</th>\n",
       "      <th>Type</th>\n",
       "      <th>PaperlessBilling</th>\n",
       "      <th>PaymentMethod</th>\n",
       "      <th>MonthlyCharges</th>\n",
       "      <th>TotalCharges</th>\n",
       "      <th>gender</th>\n",
       "      <th>SeniorCitizen</th>\n",
       "      <th>Partner</th>\n",
       "      <th>Dependents</th>\n",
       "      <th>InternetService</th>\n",
       "      <th>OnlineSecurity</th>\n",
       "      <th>OnlineBackup</th>\n",
       "      <th>DeviceProtection</th>\n",
       "      <th>TechSupport</th>\n",
       "      <th>StreamingTV</th>\n",
       "      <th>StreamingMovies</th>\n",
       "      <th>MultipleLines</th>\n",
       "      <th>activity</th>\n",
       "    </tr>\n",
       "    <tr>\n",
       "      <th>customerID</th>\n",
       "      <th></th>\n",
       "      <th></th>\n",
       "      <th></th>\n",
       "      <th></th>\n",
       "      <th></th>\n",
       "      <th></th>\n",
       "      <th></th>\n",
       "      <th></th>\n",
       "      <th></th>\n",
       "      <th></th>\n",
       "      <th></th>\n",
       "      <th></th>\n",
       "      <th></th>\n",
       "      <th></th>\n",
       "      <th></th>\n",
       "      <th></th>\n",
       "      <th></th>\n",
       "      <th></th>\n",
       "      <th></th>\n",
       "      <th></th>\n",
       "    </tr>\n",
       "  </thead>\n",
       "  <tbody>\n",
       "    <tr>\n",
       "      <th>7590-VHVEG</th>\n",
       "      <td>2020-01-01</td>\n",
       "      <td>No</td>\n",
       "      <td>Month-to-month</td>\n",
       "      <td>Yes</td>\n",
       "      <td>Electronic check</td>\n",
       "      <td>29.85</td>\n",
       "      <td>31.04</td>\n",
       "      <td>Female</td>\n",
       "      <td>0</td>\n",
       "      <td>Yes</td>\n",
       "      <td>No</td>\n",
       "      <td>DSL</td>\n",
       "      <td>No</td>\n",
       "      <td>Yes</td>\n",
       "      <td>No</td>\n",
       "      <td>No</td>\n",
       "      <td>No</td>\n",
       "      <td>No</td>\n",
       "      <td>NaN</td>\n",
       "      <td>0</td>\n",
       "    </tr>\n",
       "    <tr>\n",
       "      <th>5575-GNVDE</th>\n",
       "      <td>2017-04-01</td>\n",
       "      <td>No</td>\n",
       "      <td>One year</td>\n",
       "      <td>No</td>\n",
       "      <td>Mailed check</td>\n",
       "      <td>56.95</td>\n",
       "      <td>2071.84</td>\n",
       "      <td>Male</td>\n",
       "      <td>0</td>\n",
       "      <td>No</td>\n",
       "      <td>No</td>\n",
       "      <td>DSL</td>\n",
       "      <td>Yes</td>\n",
       "      <td>No</td>\n",
       "      <td>Yes</td>\n",
       "      <td>No</td>\n",
       "      <td>No</td>\n",
       "      <td>No</td>\n",
       "      <td>No</td>\n",
       "      <td>0</td>\n",
       "    </tr>\n",
       "    <tr>\n",
       "      <th>3668-QPYBK</th>\n",
       "      <td>2019-10-01</td>\n",
       "      <td>No</td>\n",
       "      <td>Month-to-month</td>\n",
       "      <td>Yes</td>\n",
       "      <td>Mailed check</td>\n",
       "      <td>53.85</td>\n",
       "      <td>226.17</td>\n",
       "      <td>Male</td>\n",
       "      <td>0</td>\n",
       "      <td>No</td>\n",
       "      <td>No</td>\n",
       "      <td>DSL</td>\n",
       "      <td>Yes</td>\n",
       "      <td>Yes</td>\n",
       "      <td>No</td>\n",
       "      <td>No</td>\n",
       "      <td>No</td>\n",
       "      <td>No</td>\n",
       "      <td>No</td>\n",
       "      <td>0</td>\n",
       "    </tr>\n",
       "    <tr>\n",
       "      <th>7795-CFOCW</th>\n",
       "      <td>2016-05-01</td>\n",
       "      <td>No</td>\n",
       "      <td>One year</td>\n",
       "      <td>No</td>\n",
       "      <td>Bank transfer (automatic)</td>\n",
       "      <td>42.30</td>\n",
       "      <td>1960.6</td>\n",
       "      <td>Male</td>\n",
       "      <td>0</td>\n",
       "      <td>No</td>\n",
       "      <td>No</td>\n",
       "      <td>DSL</td>\n",
       "      <td>Yes</td>\n",
       "      <td>No</td>\n",
       "      <td>Yes</td>\n",
       "      <td>Yes</td>\n",
       "      <td>No</td>\n",
       "      <td>No</td>\n",
       "      <td>NaN</td>\n",
       "      <td>0</td>\n",
       "    </tr>\n",
       "    <tr>\n",
       "      <th>9237-HQITU</th>\n",
       "      <td>2019-09-01</td>\n",
       "      <td>No</td>\n",
       "      <td>Month-to-month</td>\n",
       "      <td>Yes</td>\n",
       "      <td>Electronic check</td>\n",
       "      <td>70.70</td>\n",
       "      <td>353.5</td>\n",
       "      <td>Female</td>\n",
       "      <td>0</td>\n",
       "      <td>No</td>\n",
       "      <td>No</td>\n",
       "      <td>Fiber optic</td>\n",
       "      <td>No</td>\n",
       "      <td>No</td>\n",
       "      <td>No</td>\n",
       "      <td>No</td>\n",
       "      <td>No</td>\n",
       "      <td>No</td>\n",
       "      <td>No</td>\n",
       "      <td>0</td>\n",
       "    </tr>\n",
       "  </tbody>\n",
       "</table>\n",
       "</div>"
      ],
      "text/plain": [
       "             BeginDate EndDate            Type PaperlessBilling  \\\n",
       "customerID                                                        \n",
       "7590-VHVEG  2020-01-01      No  Month-to-month              Yes   \n",
       "5575-GNVDE  2017-04-01      No        One year               No   \n",
       "3668-QPYBK  2019-10-01      No  Month-to-month              Yes   \n",
       "7795-CFOCW  2016-05-01      No        One year               No   \n",
       "9237-HQITU  2019-09-01      No  Month-to-month              Yes   \n",
       "\n",
       "                        PaymentMethod  MonthlyCharges TotalCharges  gender  \\\n",
       "customerID                                                                   \n",
       "7590-VHVEG           Electronic check           29.85        31.04  Female   \n",
       "5575-GNVDE               Mailed check           56.95      2071.84    Male   \n",
       "3668-QPYBK               Mailed check           53.85       226.17    Male   \n",
       "7795-CFOCW  Bank transfer (automatic)           42.30       1960.6    Male   \n",
       "9237-HQITU           Electronic check           70.70        353.5  Female   \n",
       "\n",
       "            SeniorCitizen Partner Dependents InternetService OnlineSecurity  \\\n",
       "customerID                                                                    \n",
       "7590-VHVEG              0     Yes         No             DSL             No   \n",
       "5575-GNVDE              0      No         No             DSL            Yes   \n",
       "3668-QPYBK              0      No         No             DSL            Yes   \n",
       "7795-CFOCW              0      No         No             DSL            Yes   \n",
       "9237-HQITU              0      No         No     Fiber optic             No   \n",
       "\n",
       "           OnlineBackup DeviceProtection TechSupport StreamingTV  \\\n",
       "customerID                                                         \n",
       "7590-VHVEG          Yes               No          No          No   \n",
       "5575-GNVDE           No              Yes          No          No   \n",
       "3668-QPYBK          Yes               No          No          No   \n",
       "7795-CFOCW           No              Yes         Yes          No   \n",
       "9237-HQITU           No               No          No          No   \n",
       "\n",
       "           StreamingMovies MultipleLines  activity  \n",
       "customerID                                          \n",
       "7590-VHVEG              No           NaN         0  \n",
       "5575-GNVDE              No            No         0  \n",
       "3668-QPYBK              No            No         0  \n",
       "7795-CFOCW              No           NaN         0  \n",
       "9237-HQITU              No            No         0  "
      ]
     },
     "execution_count": 14,
     "metadata": {},
     "output_type": "execute_result"
    }
   ],
   "source": [
    "df['activity'] =(df['EndDate'] != 'No').astype(int)\n",
    "df.head(5)"
   ]
  },
  {
   "cell_type": "code",
   "execution_count": 15,
   "id": "aca7518e",
   "metadata": {},
   "outputs": [],
   "source": [
    "# Переведем числовые данные в верный формат и найдем продолжительность пользования услугами в днях для каждого клиента\n",
    "# Так как дата выгрузки 01-02-2020 заменим 'No' в столбце EndDate этой датой\n",
    "df['EndDate'] = pd.to_datetime(df['EndDate'].replace(['No'], ['2020-02-01']), format='%Y-%m-%d')\n",
    "df['BeginDate'] =  pd.to_datetime(df['BeginDate'], format='%Y-%m-%d')\n",
    "df['duration'] = (df['EndDate'] - df['BeginDate']).dt.days\n",
    "# заменим тип данных в столбце TotalCharges\n",
    "#df['TotalCharges'] = df['TotalCharges'].astype(float)\n",
    "df['TotalCharges'] = pd.to_numeric(df['TotalCharges'], errors ='coerce')"
   ]
  },
  {
   "cell_type": "code",
   "execution_count": 16,
   "id": "f9c0826a",
   "metadata": {},
   "outputs": [
    {
     "name": "stdout",
     "output_type": "stream",
     "text": [
      "<class 'pandas.core.frame.DataFrame'>\n",
      "Index: 7043 entries, 7590-VHVEG to 3186-AJIEK\n",
      "Data columns (total 21 columns):\n",
      " #   Column            Non-Null Count  Dtype         \n",
      "---  ------            --------------  -----         \n",
      " 0   BeginDate         7043 non-null   datetime64[ns]\n",
      " 1   EndDate           7043 non-null   datetime64[ns]\n",
      " 2   Type              7043 non-null   object        \n",
      " 3   PaperlessBilling  7043 non-null   object        \n",
      " 4   PaymentMethod     7043 non-null   object        \n",
      " 5   MonthlyCharges    7043 non-null   float64       \n",
      " 6   TotalCharges      7032 non-null   float64       \n",
      " 7   gender            7043 non-null   object        \n",
      " 8   SeniorCitizen     7043 non-null   int64         \n",
      " 9   Partner           7043 non-null   object        \n",
      " 10  Dependents        7043 non-null   object        \n",
      " 11  InternetService   5517 non-null   object        \n",
      " 12  OnlineSecurity    5517 non-null   object        \n",
      " 13  OnlineBackup      5517 non-null   object        \n",
      " 14  DeviceProtection  5517 non-null   object        \n",
      " 15  TechSupport       5517 non-null   object        \n",
      " 16  StreamingTV       5517 non-null   object        \n",
      " 17  StreamingMovies   5517 non-null   object        \n",
      " 18  MultipleLines     6361 non-null   object        \n",
      " 19  activity          7043 non-null   int64         \n",
      " 20  duration          7043 non-null   int64         \n",
      "dtypes: datetime64[ns](2), float64(2), int64(3), object(14)\n",
      "memory usage: 1.2+ MB\n"
     ]
    }
   ],
   "source": [
    "df.info()"
   ]
  },
  {
   "cell_type": "markdown",
   "id": "2cb82601",
   "metadata": {},
   "source": [
    "Таблицы объединили, новые столбцы создали, изменили типы данных, где было необходимо. Однако появились пропуски, тк клиенты не обязательно пользуются всеми услугами компании. Заменим их на новые значения 'no_internet' для пропус в услугах интернета и 'not_used' для пропусков в услуге для телефонов. Также мы видим пропуски в TotalCharges, где их не было. Далее расмотрим поближе.\n"
   ]
  },
  {
   "cell_type": "code",
   "execution_count": 17,
   "id": "3cf13614",
   "metadata": {},
   "outputs": [
    {
     "data": {
      "text/html": [
       "<div>\n",
       "<style scoped>\n",
       "    .dataframe tbody tr th:only-of-type {\n",
       "        vertical-align: middle;\n",
       "    }\n",
       "\n",
       "    .dataframe tbody tr th {\n",
       "        vertical-align: top;\n",
       "    }\n",
       "\n",
       "    .dataframe thead th {\n",
       "        text-align: right;\n",
       "    }\n",
       "</style>\n",
       "<table border=\"1\" class=\"dataframe\">\n",
       "  <thead>\n",
       "    <tr style=\"text-align: right;\">\n",
       "      <th></th>\n",
       "      <th>BeginDate</th>\n",
       "      <th>EndDate</th>\n",
       "      <th>Type</th>\n",
       "      <th>PaperlessBilling</th>\n",
       "      <th>PaymentMethod</th>\n",
       "      <th>MonthlyCharges</th>\n",
       "      <th>TotalCharges</th>\n",
       "      <th>gender</th>\n",
       "      <th>SeniorCitizen</th>\n",
       "      <th>Partner</th>\n",
       "      <th>...</th>\n",
       "      <th>InternetService</th>\n",
       "      <th>OnlineSecurity</th>\n",
       "      <th>OnlineBackup</th>\n",
       "      <th>DeviceProtection</th>\n",
       "      <th>TechSupport</th>\n",
       "      <th>StreamingTV</th>\n",
       "      <th>StreamingMovies</th>\n",
       "      <th>MultipleLines</th>\n",
       "      <th>activity</th>\n",
       "      <th>duration</th>\n",
       "    </tr>\n",
       "    <tr>\n",
       "      <th>customerID</th>\n",
       "      <th></th>\n",
       "      <th></th>\n",
       "      <th></th>\n",
       "      <th></th>\n",
       "      <th></th>\n",
       "      <th></th>\n",
       "      <th></th>\n",
       "      <th></th>\n",
       "      <th></th>\n",
       "      <th></th>\n",
       "      <th></th>\n",
       "      <th></th>\n",
       "      <th></th>\n",
       "      <th></th>\n",
       "      <th></th>\n",
       "      <th></th>\n",
       "      <th></th>\n",
       "      <th></th>\n",
       "      <th></th>\n",
       "      <th></th>\n",
       "      <th></th>\n",
       "    </tr>\n",
       "  </thead>\n",
       "  <tbody>\n",
       "    <tr>\n",
       "      <th>4472-LVYGI</th>\n",
       "      <td>2020-02-01</td>\n",
       "      <td>2020-02-01</td>\n",
       "      <td>Two year</td>\n",
       "      <td>Yes</td>\n",
       "      <td>Bank transfer (automatic)</td>\n",
       "      <td>52.55</td>\n",
       "      <td>NaN</td>\n",
       "      <td>Female</td>\n",
       "      <td>0</td>\n",
       "      <td>Yes</td>\n",
       "      <td>...</td>\n",
       "      <td>DSL</td>\n",
       "      <td>Yes</td>\n",
       "      <td>No</td>\n",
       "      <td>Yes</td>\n",
       "      <td>Yes</td>\n",
       "      <td>Yes</td>\n",
       "      <td>No</td>\n",
       "      <td>NaN</td>\n",
       "      <td>0</td>\n",
       "      <td>0</td>\n",
       "    </tr>\n",
       "    <tr>\n",
       "      <th>3115-CZMZD</th>\n",
       "      <td>2020-02-01</td>\n",
       "      <td>2020-02-01</td>\n",
       "      <td>Two year</td>\n",
       "      <td>No</td>\n",
       "      <td>Mailed check</td>\n",
       "      <td>20.25</td>\n",
       "      <td>NaN</td>\n",
       "      <td>Male</td>\n",
       "      <td>0</td>\n",
       "      <td>No</td>\n",
       "      <td>...</td>\n",
       "      <td>NaN</td>\n",
       "      <td>NaN</td>\n",
       "      <td>NaN</td>\n",
       "      <td>NaN</td>\n",
       "      <td>NaN</td>\n",
       "      <td>NaN</td>\n",
       "      <td>NaN</td>\n",
       "      <td>No</td>\n",
       "      <td>0</td>\n",
       "      <td>0</td>\n",
       "    </tr>\n",
       "    <tr>\n",
       "      <th>5709-LVOEQ</th>\n",
       "      <td>2020-02-01</td>\n",
       "      <td>2020-02-01</td>\n",
       "      <td>Two year</td>\n",
       "      <td>No</td>\n",
       "      <td>Mailed check</td>\n",
       "      <td>80.85</td>\n",
       "      <td>NaN</td>\n",
       "      <td>Female</td>\n",
       "      <td>0</td>\n",
       "      <td>Yes</td>\n",
       "      <td>...</td>\n",
       "      <td>DSL</td>\n",
       "      <td>Yes</td>\n",
       "      <td>Yes</td>\n",
       "      <td>Yes</td>\n",
       "      <td>No</td>\n",
       "      <td>Yes</td>\n",
       "      <td>Yes</td>\n",
       "      <td>No</td>\n",
       "      <td>0</td>\n",
       "      <td>0</td>\n",
       "    </tr>\n",
       "    <tr>\n",
       "      <th>4367-NUYAO</th>\n",
       "      <td>2020-02-01</td>\n",
       "      <td>2020-02-01</td>\n",
       "      <td>Two year</td>\n",
       "      <td>No</td>\n",
       "      <td>Mailed check</td>\n",
       "      <td>25.75</td>\n",
       "      <td>NaN</td>\n",
       "      <td>Male</td>\n",
       "      <td>0</td>\n",
       "      <td>Yes</td>\n",
       "      <td>...</td>\n",
       "      <td>NaN</td>\n",
       "      <td>NaN</td>\n",
       "      <td>NaN</td>\n",
       "      <td>NaN</td>\n",
       "      <td>NaN</td>\n",
       "      <td>NaN</td>\n",
       "      <td>NaN</td>\n",
       "      <td>Yes</td>\n",
       "      <td>0</td>\n",
       "      <td>0</td>\n",
       "    </tr>\n",
       "    <tr>\n",
       "      <th>1371-DWPAZ</th>\n",
       "      <td>2020-02-01</td>\n",
       "      <td>2020-02-01</td>\n",
       "      <td>Two year</td>\n",
       "      <td>No</td>\n",
       "      <td>Credit card (automatic)</td>\n",
       "      <td>56.05</td>\n",
       "      <td>NaN</td>\n",
       "      <td>Female</td>\n",
       "      <td>0</td>\n",
       "      <td>Yes</td>\n",
       "      <td>...</td>\n",
       "      <td>DSL</td>\n",
       "      <td>Yes</td>\n",
       "      <td>Yes</td>\n",
       "      <td>Yes</td>\n",
       "      <td>Yes</td>\n",
       "      <td>Yes</td>\n",
       "      <td>No</td>\n",
       "      <td>NaN</td>\n",
       "      <td>0</td>\n",
       "      <td>0</td>\n",
       "    </tr>\n",
       "    <tr>\n",
       "      <th>7644-OMVMY</th>\n",
       "      <td>2020-02-01</td>\n",
       "      <td>2020-02-01</td>\n",
       "      <td>Two year</td>\n",
       "      <td>No</td>\n",
       "      <td>Mailed check</td>\n",
       "      <td>19.85</td>\n",
       "      <td>NaN</td>\n",
       "      <td>Male</td>\n",
       "      <td>0</td>\n",
       "      <td>Yes</td>\n",
       "      <td>...</td>\n",
       "      <td>NaN</td>\n",
       "      <td>NaN</td>\n",
       "      <td>NaN</td>\n",
       "      <td>NaN</td>\n",
       "      <td>NaN</td>\n",
       "      <td>NaN</td>\n",
       "      <td>NaN</td>\n",
       "      <td>No</td>\n",
       "      <td>0</td>\n",
       "      <td>0</td>\n",
       "    </tr>\n",
       "    <tr>\n",
       "      <th>3213-VVOLG</th>\n",
       "      <td>2020-02-01</td>\n",
       "      <td>2020-02-01</td>\n",
       "      <td>Two year</td>\n",
       "      <td>No</td>\n",
       "      <td>Mailed check</td>\n",
       "      <td>25.35</td>\n",
       "      <td>NaN</td>\n",
       "      <td>Male</td>\n",
       "      <td>0</td>\n",
       "      <td>Yes</td>\n",
       "      <td>...</td>\n",
       "      <td>NaN</td>\n",
       "      <td>NaN</td>\n",
       "      <td>NaN</td>\n",
       "      <td>NaN</td>\n",
       "      <td>NaN</td>\n",
       "      <td>NaN</td>\n",
       "      <td>NaN</td>\n",
       "      <td>Yes</td>\n",
       "      <td>0</td>\n",
       "      <td>0</td>\n",
       "    </tr>\n",
       "    <tr>\n",
       "      <th>2520-SGTTA</th>\n",
       "      <td>2020-02-01</td>\n",
       "      <td>2020-02-01</td>\n",
       "      <td>Two year</td>\n",
       "      <td>No</td>\n",
       "      <td>Mailed check</td>\n",
       "      <td>20.00</td>\n",
       "      <td>NaN</td>\n",
       "      <td>Female</td>\n",
       "      <td>0</td>\n",
       "      <td>Yes</td>\n",
       "      <td>...</td>\n",
       "      <td>NaN</td>\n",
       "      <td>NaN</td>\n",
       "      <td>NaN</td>\n",
       "      <td>NaN</td>\n",
       "      <td>NaN</td>\n",
       "      <td>NaN</td>\n",
       "      <td>NaN</td>\n",
       "      <td>No</td>\n",
       "      <td>0</td>\n",
       "      <td>0</td>\n",
       "    </tr>\n",
       "    <tr>\n",
       "      <th>2923-ARZLG</th>\n",
       "      <td>2020-02-01</td>\n",
       "      <td>2020-02-01</td>\n",
       "      <td>One year</td>\n",
       "      <td>Yes</td>\n",
       "      <td>Mailed check</td>\n",
       "      <td>19.70</td>\n",
       "      <td>NaN</td>\n",
       "      <td>Male</td>\n",
       "      <td>0</td>\n",
       "      <td>Yes</td>\n",
       "      <td>...</td>\n",
       "      <td>NaN</td>\n",
       "      <td>NaN</td>\n",
       "      <td>NaN</td>\n",
       "      <td>NaN</td>\n",
       "      <td>NaN</td>\n",
       "      <td>NaN</td>\n",
       "      <td>NaN</td>\n",
       "      <td>No</td>\n",
       "      <td>0</td>\n",
       "      <td>0</td>\n",
       "    </tr>\n",
       "    <tr>\n",
       "      <th>4075-WKNIU</th>\n",
       "      <td>2020-02-01</td>\n",
       "      <td>2020-02-01</td>\n",
       "      <td>Two year</td>\n",
       "      <td>No</td>\n",
       "      <td>Mailed check</td>\n",
       "      <td>73.35</td>\n",
       "      <td>NaN</td>\n",
       "      <td>Female</td>\n",
       "      <td>0</td>\n",
       "      <td>Yes</td>\n",
       "      <td>...</td>\n",
       "      <td>DSL</td>\n",
       "      <td>No</td>\n",
       "      <td>Yes</td>\n",
       "      <td>Yes</td>\n",
       "      <td>Yes</td>\n",
       "      <td>Yes</td>\n",
       "      <td>No</td>\n",
       "      <td>Yes</td>\n",
       "      <td>0</td>\n",
       "      <td>0</td>\n",
       "    </tr>\n",
       "    <tr>\n",
       "      <th>2775-SEFEE</th>\n",
       "      <td>2020-02-01</td>\n",
       "      <td>2020-02-01</td>\n",
       "      <td>Two year</td>\n",
       "      <td>Yes</td>\n",
       "      <td>Bank transfer (automatic)</td>\n",
       "      <td>61.90</td>\n",
       "      <td>NaN</td>\n",
       "      <td>Male</td>\n",
       "      <td>0</td>\n",
       "      <td>No</td>\n",
       "      <td>...</td>\n",
       "      <td>DSL</td>\n",
       "      <td>Yes</td>\n",
       "      <td>Yes</td>\n",
       "      <td>No</td>\n",
       "      <td>Yes</td>\n",
       "      <td>No</td>\n",
       "      <td>No</td>\n",
       "      <td>Yes</td>\n",
       "      <td>0</td>\n",
       "      <td>0</td>\n",
       "    </tr>\n",
       "  </tbody>\n",
       "</table>\n",
       "<p>11 rows × 21 columns</p>\n",
       "</div>"
      ],
      "text/plain": [
       "            BeginDate    EndDate      Type PaperlessBilling  \\\n",
       "customerID                                                    \n",
       "4472-LVYGI 2020-02-01 2020-02-01  Two year              Yes   \n",
       "3115-CZMZD 2020-02-01 2020-02-01  Two year               No   \n",
       "5709-LVOEQ 2020-02-01 2020-02-01  Two year               No   \n",
       "4367-NUYAO 2020-02-01 2020-02-01  Two year               No   \n",
       "1371-DWPAZ 2020-02-01 2020-02-01  Two year               No   \n",
       "7644-OMVMY 2020-02-01 2020-02-01  Two year               No   \n",
       "3213-VVOLG 2020-02-01 2020-02-01  Two year               No   \n",
       "2520-SGTTA 2020-02-01 2020-02-01  Two year               No   \n",
       "2923-ARZLG 2020-02-01 2020-02-01  One year              Yes   \n",
       "4075-WKNIU 2020-02-01 2020-02-01  Two year               No   \n",
       "2775-SEFEE 2020-02-01 2020-02-01  Two year              Yes   \n",
       "\n",
       "                        PaymentMethod  MonthlyCharges  TotalCharges  gender  \\\n",
       "customerID                                                                    \n",
       "4472-LVYGI  Bank transfer (automatic)           52.55           NaN  Female   \n",
       "3115-CZMZD               Mailed check           20.25           NaN    Male   \n",
       "5709-LVOEQ               Mailed check           80.85           NaN  Female   \n",
       "4367-NUYAO               Mailed check           25.75           NaN    Male   \n",
       "1371-DWPAZ    Credit card (automatic)           56.05           NaN  Female   \n",
       "7644-OMVMY               Mailed check           19.85           NaN    Male   \n",
       "3213-VVOLG               Mailed check           25.35           NaN    Male   \n",
       "2520-SGTTA               Mailed check           20.00           NaN  Female   \n",
       "2923-ARZLG               Mailed check           19.70           NaN    Male   \n",
       "4075-WKNIU               Mailed check           73.35           NaN  Female   \n",
       "2775-SEFEE  Bank transfer (automatic)           61.90           NaN    Male   \n",
       "\n",
       "            SeniorCitizen Partner  ... InternetService OnlineSecurity  \\\n",
       "customerID                         ...                                  \n",
       "4472-LVYGI              0     Yes  ...             DSL            Yes   \n",
       "3115-CZMZD              0      No  ...             NaN            NaN   \n",
       "5709-LVOEQ              0     Yes  ...             DSL            Yes   \n",
       "4367-NUYAO              0     Yes  ...             NaN            NaN   \n",
       "1371-DWPAZ              0     Yes  ...             DSL            Yes   \n",
       "7644-OMVMY              0     Yes  ...             NaN            NaN   \n",
       "3213-VVOLG              0     Yes  ...             NaN            NaN   \n",
       "2520-SGTTA              0     Yes  ...             NaN            NaN   \n",
       "2923-ARZLG              0     Yes  ...             NaN            NaN   \n",
       "4075-WKNIU              0     Yes  ...             DSL             No   \n",
       "2775-SEFEE              0      No  ...             DSL            Yes   \n",
       "\n",
       "           OnlineBackup DeviceProtection TechSupport StreamingTV  \\\n",
       "customerID                                                         \n",
       "4472-LVYGI           No              Yes         Yes         Yes   \n",
       "3115-CZMZD          NaN              NaN         NaN         NaN   \n",
       "5709-LVOEQ          Yes              Yes          No         Yes   \n",
       "4367-NUYAO          NaN              NaN         NaN         NaN   \n",
       "1371-DWPAZ          Yes              Yes         Yes         Yes   \n",
       "7644-OMVMY          NaN              NaN         NaN         NaN   \n",
       "3213-VVOLG          NaN              NaN         NaN         NaN   \n",
       "2520-SGTTA          NaN              NaN         NaN         NaN   \n",
       "2923-ARZLG          NaN              NaN         NaN         NaN   \n",
       "4075-WKNIU          Yes              Yes         Yes         Yes   \n",
       "2775-SEFEE          Yes               No         Yes          No   \n",
       "\n",
       "           StreamingMovies MultipleLines activity  duration  \n",
       "customerID                                                   \n",
       "4472-LVYGI              No           NaN        0         0  \n",
       "3115-CZMZD             NaN            No        0         0  \n",
       "5709-LVOEQ             Yes            No        0         0  \n",
       "4367-NUYAO             NaN           Yes        0         0  \n",
       "1371-DWPAZ              No           NaN        0         0  \n",
       "7644-OMVMY             NaN            No        0         0  \n",
       "3213-VVOLG             NaN           Yes        0         0  \n",
       "2520-SGTTA             NaN            No        0         0  \n",
       "2923-ARZLG             NaN            No        0         0  \n",
       "4075-WKNIU              No           Yes        0         0  \n",
       "2775-SEFEE              No           Yes        0         0  \n",
       "\n",
       "[11 rows x 21 columns]"
      ]
     },
     "execution_count": 17,
     "metadata": {},
     "output_type": "execute_result"
    }
   ],
   "source": [
    "# Рассмотрим пропуски в TotalCharges\n",
    "df[df['TotalCharges'].isnull()]"
   ]
  },
  {
   "cell_type": "markdown",
   "id": "ff49bd10",
   "metadata": {},
   "source": [
    "Всего 11 строк с NaN. По дате начала контракта видим, что пользователи стали клиентами компании в день выгрузки, поэтому вместо пропусков ставим 0, тк им еще не начислено ни одного платежа."
   ]
  },
  {
   "cell_type": "code",
   "execution_count": 18,
   "id": "a9c15b8d",
   "metadata": {},
   "outputs": [],
   "source": [
    "# заменяем пропуски связанные с неиспользованием интернета или телефона.\n",
    "df['InternetService'] = df['InternetService'].fillna('not_used')\n",
    "for column in('OnlineSecurity', 'OnlineBackup', 'DeviceProtection', 'TechSupport', 'StreamingTV', 'StreamingMovies'):\n",
    "    df[column] = df[column].fillna('No')\n",
    "df['MultipleLines'] = df['MultipleLines'].fillna('not_used')\n"
   ]
  },
  {
   "cell_type": "code",
   "execution_count": 19,
   "id": "a28fae67",
   "metadata": {},
   "outputs": [],
   "source": [
    "df['TotalCharges'] = df['TotalCharges'].fillna(0)"
   ]
  },
  {
   "cell_type": "markdown",
   "id": "d3bc3279",
   "metadata": {},
   "source": [
    "\n",
    "Так как решается задача классификации и мы вывели новые признаки на основе дат, можно столбцы с датами удалить."
   ]
  },
  {
   "cell_type": "code",
   "execution_count": 20,
   "id": "17ff5925",
   "metadata": {},
   "outputs": [],
   "source": [
    "df = df.drop(['EndDate', 'BeginDate'], axis = 1) "
   ]
  },
  {
   "cell_type": "code",
   "execution_count": 21,
   "id": "3be7b1b1",
   "metadata": {},
   "outputs": [
    {
     "name": "stdout",
     "output_type": "stream",
     "text": [
      "<class 'pandas.core.frame.DataFrame'>\n",
      "Index: 7043 entries, 7590-VHVEG to 3186-AJIEK\n",
      "Data columns (total 19 columns):\n",
      " #   Column            Non-Null Count  Dtype  \n",
      "---  ------            --------------  -----  \n",
      " 0   Type              7043 non-null   object \n",
      " 1   PaperlessBilling  7043 non-null   object \n",
      " 2   PaymentMethod     7043 non-null   object \n",
      " 3   MonthlyCharges    7043 non-null   float64\n",
      " 4   TotalCharges      7043 non-null   float64\n",
      " 5   gender            7043 non-null   object \n",
      " 6   SeniorCitizen     7043 non-null   int64  \n",
      " 7   Partner           7043 non-null   object \n",
      " 8   Dependents        7043 non-null   object \n",
      " 9   InternetService   7043 non-null   object \n",
      " 10  OnlineSecurity    7043 non-null   object \n",
      " 11  OnlineBackup      7043 non-null   object \n",
      " 12  DeviceProtection  7043 non-null   object \n",
      " 13  TechSupport       7043 non-null   object \n",
      " 14  StreamingTV       7043 non-null   object \n",
      " 15  StreamingMovies   7043 non-null   object \n",
      " 16  MultipleLines     7043 non-null   object \n",
      " 17  activity          7043 non-null   int64  \n",
      " 18  duration          7043 non-null   int64  \n",
      "dtypes: float64(2), int64(3), object(14)\n",
      "memory usage: 1.1+ MB\n"
     ]
    }
   ],
   "source": [
    "df.info()"
   ]
  },
  {
   "cell_type": "markdown",
   "id": "69af2400",
   "metadata": {},
   "source": [
    "Теперь рассмотрим корреляцию признаков, проверим признаки на мультиколлинеарность."
   ]
  },
  {
   "cell_type": "code",
   "execution_count": 22,
   "id": "6a1c23c0",
   "metadata": {},
   "outputs": [],
   "source": [
    "cor = df.phik_matrix(['MonthlyCharges', 'TotalCharges', 'duration']).round(2)"
   ]
  },
  {
   "cell_type": "code",
   "execution_count": 23,
   "id": "5382718c",
   "metadata": {},
   "outputs": [
    {
     "data": {
      "text/plain": [
       "<AxesSubplot:>"
      ]
     },
     "execution_count": 23,
     "metadata": {},
     "output_type": "execute_result"
    },
    {
     "data": {
      "image/png": "[encoded data removed]",
      "text/plain": [
       "<Figure size 1440x1080 with 2 Axes>"
      ]
     },
     "metadata": {
      "needs_background": "light"
     },
     "output_type": "display_data"
    }
   ],
   "source": [
    "fig, ax = plt.subplots(figsize=(20, 15))\n",
    "sns.heatmap(cor, annot = True)"
   ]
  },
  {
   "cell_type": "markdown",
   "id": "da0236d5",
   "metadata": {},
   "source": [
    "По матрице корреляции мы видим, что есть мультиколлинеарность признаков, а именно значение TotalCharges связано с длительностью пользования услугами компании. Удалим признак TotalCharges."
   ]
  },
  {
   "cell_type": "code",
   "execution_count": 24,
   "id": "d907c6cd",
   "metadata": {},
   "outputs": [],
   "source": [
    "df = df.drop(['TotalCharges'], axis = 1)"
   ]
  },
  {
   "cell_type": "markdown",
   "id": "106730b2",
   "metadata": {},
   "source": [
    "Также видим высокую корреляцию MonthlyCharges с признаками InternetService, OnlineBackup, DeviceProtection, StreamingTV, StreamingMovies, MultipleLines"
   ]
  },
  {
   "cell_type": "code",
   "execution_count": 25,
   "id": "3a5df2b7",
   "metadata": {},
   "outputs": [
    {
     "data": {
      "text/plain": [
       "MonthlyCharges      1.00\n",
       "InternetService     0.92\n",
       "StreamingTV         0.84\n",
       "StreamingMovies     0.83\n",
       "TotalCharges        0.71\n",
       "MultipleLines       0.71\n",
       "DeviceProtection    0.67\n",
       "OnlineBackup        0.63\n",
       "TechSupport         0.58\n",
       "OnlineSecurity      0.55\n",
       "PaperlessBilling    0.47\n",
       "PaymentMethod       0.40\n",
       "Type                0.39\n",
       "duration            0.39\n",
       "SeniorCitizen       0.30\n",
       "activity            0.23\n",
       "Partner             0.20\n",
       "Dependents          0.18\n",
       "gender              0.01\n",
       "Name: MonthlyCharges, dtype: float64"
      ]
     },
     "execution_count": 25,
     "metadata": {},
     "output_type": "execute_result"
    }
   ],
   "source": [
    "cor['MonthlyCharges'].sort_values(ascending=False)"
   ]
  },
  {
   "cell_type": "markdown",
   "id": "490666dd",
   "metadata": {},
   "source": [
    "Я думаю, что мы можем удалить эти признаки, тк величина платы уже отражает наличие доп услуг(чем больше цена, тем больше услуг подключено).\n"
   ]
  },
  {
   "cell_type": "code",
   "execution_count": 26,
   "id": "1b528d9f",
   "metadata": {},
   "outputs": [],
   "source": [
    "df = df.drop(['InternetService', 'OnlineBackup', 'DeviceProtection', 'StreamingTV', 'StreamingMovies', 'MultipleLines'], axis = 1)"
   ]
  },
  {
   "cell_type": "code",
   "execution_count": 27,
   "id": "59dffb19",
   "metadata": {},
   "outputs": [
    {
     "name": "stdout",
     "output_type": "stream",
     "text": [
      "<class 'pandas.core.frame.DataFrame'>\n",
      "Index: 7043 entries, 7590-VHVEG to 3186-AJIEK\n",
      "Data columns (total 12 columns):\n",
      " #   Column            Non-Null Count  Dtype  \n",
      "---  ------            --------------  -----  \n",
      " 0   Type              7043 non-null   object \n",
      " 1   PaperlessBilling  7043 non-null   object \n",
      " 2   PaymentMethod     7043 non-null   object \n",
      " 3   MonthlyCharges    7043 non-null   float64\n",
      " 4   gender            7043 non-null   object \n",
      " 5   SeniorCitizen     7043 non-null   int64  \n",
      " 6   Partner           7043 non-null   object \n",
      " 7   Dependents        7043 non-null   object \n",
      " 8   OnlineSecurity    7043 non-null   object \n",
      " 9   TechSupport       7043 non-null   object \n",
      " 10  activity          7043 non-null   int64  \n",
      " 11  duration          7043 non-null   int64  \n",
      "dtypes: float64(1), int64(3), object(8)\n",
      "memory usage: 715.3+ KB\n"
     ]
    }
   ],
   "source": [
    "df.info()"
   ]
  },
  {
   "cell_type": "code",
   "execution_count": null,
   "id": "a3ee6228",
   "metadata": {},
   "outputs": [],
   "source": []
  }
 ],
 "metadata": {
  "ExecuteTimeLog": [
   {
    "duration": 3377,
    "start_time": "2023-07-21T17:53:32.022Z"
   },
   {
    "duration": 1696,
    "start_time": "2023-07-21T17:53:35.402Z"
   },
   {
    "duration": 158,
    "start_time": "2023-07-21T17:53:37.100Z"
   },
   {
    "duration": 146,
    "start_time": "2023-07-21T17:53:37.260Z"
   },
   {
    "duration": 213,
    "start_time": "2023-07-21T17:53:37.408Z"
   },
   {
    "duration": 133,
    "start_time": "2023-07-21T17:53:37.623Z"
   },
   {
    "duration": 34,
    "start_time": "2023-07-21T17:53:37.758Z"
   },
   {
    "duration": 25,
    "start_time": "2023-07-21T17:53:37.794Z"
   },
   {
    "duration": 46,
    "start_time": "2023-07-21T17:53:37.821Z"
   },
   {
    "duration": 47,
    "start_time": "2023-07-21T17:53:37.869Z"
   },
   {
    "duration": 33,
    "start_time": "2023-07-21T17:53:37.918Z"
   },
   {
    "duration": 30,
    "start_time": "2023-07-21T17:53:37.954Z"
   },
   {
    "duration": 38,
    "start_time": "2023-07-21T17:53:37.985Z"
   },
   {
    "duration": 21,
    "start_time": "2023-07-21T17:53:38.026Z"
   },
   {
    "duration": 10,
    "start_time": "2023-07-21T17:53:38.048Z"
   },
   {
    "duration": 35,
    "start_time": "2023-07-21T17:53:38.060Z"
   },
   {
    "duration": 4,
    "start_time": "2023-07-21T17:53:38.113Z"
   },
   {
    "duration": 8,
    "start_time": "2023-07-21T17:53:38.119Z"
   },
   {
    "duration": 18,
    "start_time": "2023-07-21T17:53:38.129Z"
   },
   {
    "duration": 1130,
    "start_time": "2023-07-21T17:53:38.148Z"
   },
   {
    "duration": 2571,
    "start_time": "2023-07-21T17:53:39.280Z"
   },
   {
    "duration": 7,
    "start_time": "2023-07-21T17:53:41.853Z"
   },
   {
    "duration": 7,
    "start_time": "2023-07-21T17:53:41.862Z"
   },
   {
    "duration": 120,
    "start_time": "2023-07-21T17:56:18.224Z"
   },
   {
    "duration": 2220,
    "start_time": "2023-07-21T18:00:20.655Z"
   },
   {
    "duration": 53,
    "start_time": "2023-07-22T10:23:07.578Z"
   },
   {
    "duration": 7,
    "start_time": "2023-07-22T10:27:00.159Z"
   },
   {
    "duration": 3354,
    "start_time": "2023-07-22T10:27:06.772Z"
   },
   {
    "duration": 1747,
    "start_time": "2023-07-22T10:27:10.129Z"
   },
   {
    "duration": 122,
    "start_time": "2023-07-22T10:27:11.878Z"
   },
   {
    "duration": 65,
    "start_time": "2023-07-22T10:27:12.002Z"
   },
   {
    "duration": 79,
    "start_time": "2023-07-22T10:27:12.069Z"
   },
   {
    "duration": 57,
    "start_time": "2023-07-22T10:27:12.150Z"
   },
   {
    "duration": 28,
    "start_time": "2023-07-22T10:27:12.209Z"
   },
   {
    "duration": 21,
    "start_time": "2023-07-22T10:27:12.239Z"
   },
   {
    "duration": 43,
    "start_time": "2023-07-22T10:27:12.262Z"
   },
   {
    "duration": 21,
    "start_time": "2023-07-22T10:27:12.307Z"
   },
   {
    "duration": 47,
    "start_time": "2023-07-22T10:27:12.330Z"
   },
   {
    "duration": 16,
    "start_time": "2023-07-22T10:27:12.379Z"
   },
   {
    "duration": 19,
    "start_time": "2023-07-22T10:27:12.397Z"
   },
   {
    "duration": 26,
    "start_time": "2023-07-22T10:27:12.418Z"
   },
   {
    "duration": 33,
    "start_time": "2023-07-22T10:27:12.446Z"
   },
   {
    "duration": 11,
    "start_time": "2023-07-22T10:27:12.481Z"
   },
   {
    "duration": 31,
    "start_time": "2023-07-22T10:27:12.494Z"
   },
   {
    "duration": 3,
    "start_time": "2023-07-22T10:27:12.526Z"
   },
   {
    "duration": 14,
    "start_time": "2023-07-22T10:27:12.531Z"
   },
   {
    "duration": 30,
    "start_time": "2023-07-22T10:27:12.546Z"
   },
   {
    "duration": 1053,
    "start_time": "2023-07-22T10:27:12.578Z"
   },
   {
    "duration": 2548,
    "start_time": "2023-07-22T10:27:13.633Z"
   },
   {
    "duration": 5,
    "start_time": "2023-07-22T10:27:16.184Z"
   },
   {
    "duration": 18,
    "start_time": "2023-07-22T10:27:16.190Z"
   },
   {
    "duration": 9,
    "start_time": "2023-07-22T10:27:48.181Z"
   },
   {
    "duration": 1961,
    "start_time": "2023-07-22T10:27:55.456Z"
   },
   {
    "duration": 2168,
    "start_time": "2023-07-22T10:28:06.052Z"
   },
   {
    "duration": 1497,
    "start_time": "2023-07-22T10:28:08.222Z"
   },
   {
    "duration": 77,
    "start_time": "2023-07-22T10:28:09.722Z"
   },
   {
    "duration": 83,
    "start_time": "2023-07-22T10:28:09.802Z"
   },
   {
    "duration": 89,
    "start_time": "2023-07-22T10:28:09.887Z"
   },
   {
    "duration": 92,
    "start_time": "2023-07-22T10:28:09.978Z"
   },
   {
    "duration": 31,
    "start_time": "2023-07-22T10:28:10.071Z"
   },
   {
    "duration": 35,
    "start_time": "2023-07-22T10:28:10.104Z"
   },
   {
    "duration": 54,
    "start_time": "2023-07-22T10:28:10.141Z"
   },
   {
    "duration": 23,
    "start_time": "2023-07-22T10:28:10.198Z"
   },
   {
    "duration": 54,
    "start_time": "2023-07-22T10:28:10.223Z"
   },
   {
    "duration": 17,
    "start_time": "2023-07-22T10:28:10.279Z"
   },
   {
    "duration": 21,
    "start_time": "2023-07-22T10:28:10.298Z"
   },
   {
    "duration": 22,
    "start_time": "2023-07-22T10:28:10.321Z"
   },
   {
    "duration": 40,
    "start_time": "2023-07-22T10:28:10.345Z"
   },
   {
    "duration": 11,
    "start_time": "2023-07-22T10:28:10.387Z"
   },
   {
    "duration": 42,
    "start_time": "2023-07-22T10:28:10.400Z"
   },
   {
    "duration": 4,
    "start_time": "2023-07-22T10:28:10.443Z"
   },
   {
    "duration": 5,
    "start_time": "2023-07-22T10:28:10.466Z"
   },
   {
    "duration": 30,
    "start_time": "2023-07-22T10:28:10.473Z"
   },
   {
    "duration": 1072,
    "start_time": "2023-07-22T10:28:10.505Z"
   },
   {
    "duration": 2386,
    "start_time": "2023-07-22T10:28:11.579Z"
   },
   {
    "duration": 6,
    "start_time": "2023-07-22T10:28:13.968Z"
   },
   {
    "duration": 12,
    "start_time": "2023-07-22T10:28:13.976Z"
   },
   {
    "duration": 129,
    "start_time": "2023-07-22T10:45:45.803Z"
   },
   {
    "duration": 9,
    "start_time": "2023-07-22T10:45:49.284Z"
   },
   {
    "duration": 2285,
    "start_time": "2023-07-22T10:46:46.938Z"
   },
   {
    "duration": 1569,
    "start_time": "2023-07-22T10:46:49.226Z"
   },
   {
    "duration": 103,
    "start_time": "2023-07-22T10:46:50.798Z"
   },
   {
    "duration": 116,
    "start_time": "2023-07-22T10:46:50.903Z"
   },
   {
    "duration": 109,
    "start_time": "2023-07-22T10:46:51.022Z"
   },
   {
    "duration": 154,
    "start_time": "2023-07-22T10:46:51.133Z"
   },
   {
    "duration": 32,
    "start_time": "2023-07-22T10:46:51.289Z"
   },
   {
    "duration": 25,
    "start_time": "2023-07-22T10:46:51.322Z"
   },
   {
    "duration": 42,
    "start_time": "2023-07-22T10:46:51.366Z"
   },
   {
    "duration": 26,
    "start_time": "2023-07-22T10:46:51.410Z"
   },
   {
    "duration": 60,
    "start_time": "2023-07-22T10:46:51.438Z"
   },
   {
    "duration": 20,
    "start_time": "2023-07-22T10:46:51.501Z"
   },
   {
    "duration": 47,
    "start_time": "2023-07-22T10:46:51.522Z"
   },
   {
    "duration": 24,
    "start_time": "2023-07-22T10:46:51.573Z"
   },
   {
    "duration": 30,
    "start_time": "2023-07-22T10:46:51.599Z"
   },
   {
    "duration": 46,
    "start_time": "2023-07-22T10:46:51.632Z"
   },
   {
    "duration": 44,
    "start_time": "2023-07-22T10:46:51.681Z"
   },
   {
    "duration": 5,
    "start_time": "2023-07-22T10:46:51.728Z"
   },
   {
    "duration": 32,
    "start_time": "2023-07-22T10:46:51.735Z"
   },
   {
    "duration": 31,
    "start_time": "2023-07-22T10:46:51.772Z"
   },
   {
    "duration": 1240,
    "start_time": "2023-07-22T10:46:51.806Z"
   },
   {
    "duration": 2585,
    "start_time": "2023-07-22T10:46:53.048Z"
   },
   {
    "duration": 5,
    "start_time": "2023-07-22T10:46:55.635Z"
   },
   {
    "duration": 23,
    "start_time": "2023-07-22T10:46:55.641Z"
   },
   {
    "duration": 5,
    "start_time": "2023-07-22T10:51:52.590Z"
   },
   {
    "duration": 38,
    "start_time": "2023-07-22T10:52:00.530Z"
   },
   {
    "duration": 6,
    "start_time": "2023-07-22T10:52:33.101Z"
   },
   {
    "duration": 187,
    "start_time": "2023-07-22T10:52:44.011Z"
   },
   {
    "duration": 10,
    "start_time": "2023-07-22T10:57:14.252Z"
   },
   {
    "duration": 2407,
    "start_time": "2023-07-22T10:57:23.458Z"
   },
   {
    "duration": 968,
    "start_time": "2023-07-22T10:57:27.352Z"
   },
   {
    "duration": 2160,
    "start_time": "2023-07-22T10:57:34.982Z"
   },
   {
    "duration": 12,
    "start_time": "2023-07-22T11:02:11.162Z"
   },
   {
    "duration": 2311,
    "start_time": "2023-07-22T11:02:21.198Z"
   },
   {
    "duration": 1639,
    "start_time": "2023-07-22T11:02:23.511Z"
   },
   {
    "duration": 99,
    "start_time": "2023-07-22T11:02:25.152Z"
   },
   {
    "duration": 76,
    "start_time": "2023-07-22T11:02:25.253Z"
   },
   {
    "duration": 89,
    "start_time": "2023-07-22T11:02:25.332Z"
   },
   {
    "duration": 53,
    "start_time": "2023-07-22T11:02:25.423Z"
   },
   {
    "duration": 32,
    "start_time": "2023-07-22T11:02:25.477Z"
   },
   {
    "duration": 23,
    "start_time": "2023-07-22T11:02:25.511Z"
   },
   {
    "duration": 69,
    "start_time": "2023-07-22T11:02:25.536Z"
   },
   {
    "duration": 45,
    "start_time": "2023-07-22T11:02:25.606Z"
   },
   {
    "duration": 33,
    "start_time": "2023-07-22T11:02:25.652Z"
   },
   {
    "duration": 23,
    "start_time": "2023-07-22T11:02:25.687Z"
   },
   {
    "duration": 62,
    "start_time": "2023-07-22T11:02:25.713Z"
   },
   {
    "duration": 15,
    "start_time": "2023-07-22T11:02:25.778Z"
   },
   {
    "duration": 18,
    "start_time": "2023-07-22T11:02:25.795Z"
   },
   {
    "duration": 34,
    "start_time": "2023-07-22T11:02:25.815Z"
   },
   {
    "duration": 25,
    "start_time": "2023-07-22T11:02:25.851Z"
   },
   {
    "duration": 19,
    "start_time": "2023-07-22T11:02:25.878Z"
   },
   {
    "duration": 14,
    "start_time": "2023-07-22T11:02:25.899Z"
   },
   {
    "duration": 33,
    "start_time": "2023-07-22T11:02:25.915Z"
   },
   {
    "duration": 1163,
    "start_time": "2023-07-22T11:02:25.950Z"
   },
   {
    "duration": 2557,
    "start_time": "2023-07-22T11:02:27.116Z"
   },
   {
    "duration": 6,
    "start_time": "2023-07-22T11:02:29.676Z"
   },
   {
    "duration": 15,
    "start_time": "2023-07-22T11:02:29.684Z"
   },
   {
    "duration": 157,
    "start_time": "2023-07-22T11:02:29.701Z"
   },
   {
    "duration": 2305,
    "start_time": "2023-07-22T11:09:08.144Z"
   },
   {
    "duration": 131,
    "start_time": "2023-07-22T11:24:48.147Z"
   },
   {
    "duration": 164,
    "start_time": "2023-07-22T11:33:16.085Z"
   },
   {
    "duration": 4,
    "start_time": "2023-07-22T11:37:23.820Z"
   },
   {
    "duration": 268,
    "start_time": "2023-07-22T11:38:23.443Z"
   },
   {
    "duration": 298,
    "start_time": "2023-07-22T11:40:16.366Z"
   },
   {
    "duration": 5,
    "start_time": "2023-07-22T11:45:08.637Z"
   },
   {
    "duration": 2366,
    "start_time": "2023-07-22T11:45:16.629Z"
   },
   {
    "duration": 1612,
    "start_time": "2023-07-22T11:45:18.997Z"
   },
   {
    "duration": 180,
    "start_time": "2023-07-22T11:45:20.611Z"
   },
   {
    "duration": 87,
    "start_time": "2023-07-22T11:45:20.793Z"
   },
   {
    "duration": 100,
    "start_time": "2023-07-22T11:45:20.883Z"
   },
   {
    "duration": 63,
    "start_time": "2023-07-22T11:45:20.985Z"
   },
   {
    "duration": 39,
    "start_time": "2023-07-22T11:45:21.050Z"
   },
   {
    "duration": 24,
    "start_time": "2023-07-22T11:45:21.091Z"
   },
   {
    "duration": 56,
    "start_time": "2023-07-22T11:45:21.116Z"
   },
   {
    "duration": 26,
    "start_time": "2023-07-22T11:45:21.173Z"
   },
   {
    "duration": 36,
    "start_time": "2023-07-22T11:45:21.201Z"
   },
   {
    "duration": 44,
    "start_time": "2023-07-22T11:45:21.239Z"
   },
   {
    "duration": 4,
    "start_time": "2023-07-22T11:45:21.285Z"
   },
   {
    "duration": 43,
    "start_time": "2023-07-22T11:45:21.291Z"
   },
   {
    "duration": 18,
    "start_time": "2023-07-22T11:45:21.336Z"
   },
   {
    "duration": 39,
    "start_time": "2023-07-22T11:45:21.356Z"
   },
   {
    "duration": 31,
    "start_time": "2023-07-22T11:45:21.400Z"
   },
   {
    "duration": 10,
    "start_time": "2023-07-22T11:45:21.433Z"
   },
   {
    "duration": 13,
    "start_time": "2023-07-22T11:45:21.446Z"
   },
   {
    "duration": 19,
    "start_time": "2023-07-22T11:45:21.468Z"
   },
   {
    "duration": 20,
    "start_time": "2023-07-22T11:45:21.489Z"
   },
   {
    "duration": 1169,
    "start_time": "2023-07-22T11:45:21.511Z"
   },
   {
    "duration": 2738,
    "start_time": "2023-07-22T11:45:22.683Z"
   },
   {
    "duration": 6,
    "start_time": "2023-07-22T11:45:25.424Z"
   },
   {
    "duration": 36,
    "start_time": "2023-07-22T11:45:25.432Z"
   },
   {
    "duration": 28,
    "start_time": "2023-07-22T11:45:25.470Z"
   },
   {
    "duration": 15,
    "start_time": "2023-07-22T11:45:49.891Z"
   }
  ],
  "kernelspec": {
   "display_name": "Python 3 (ipykernel)",
   "language": "python",
   "name": "python3"
  },
  "language_info": {
   "codemirror_mode": {
    "name": "ipython",
    "version": 3
   },
   "file_extension": ".py",
   "mimetype": "text/x-python",
   "name": "python",
   "nbconvert_exporter": "python",
   "pygments_lexer": "ipython3",
   "version": "3.9.13"
  },
  "toc": {
   "base_numbering": 1,
   "nav_menu": {},
   "number_sections": true,
   "sideBar": true,
   "skip_h1_title": true,
   "title_cell": "Table of Contents",
   "title_sidebar": "Contents",
   "toc_cell": false,
   "toc_position": {},
   "toc_section_display": true,
   "toc_window_display": false
  }
 },
 "nbformat": 4,
 "nbformat_minor": 5
}

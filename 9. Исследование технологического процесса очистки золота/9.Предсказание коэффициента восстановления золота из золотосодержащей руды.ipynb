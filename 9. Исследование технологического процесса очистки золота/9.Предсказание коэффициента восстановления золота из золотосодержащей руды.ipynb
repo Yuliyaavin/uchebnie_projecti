{
 "cells": [
  {
   "cell_type": "markdown",
   "id": "d813f617",
   "metadata": {},
   "source": [
    "# Предсказание коэффициента восстановления золота из золотосодержащей руды."
   ]
  },
  {
   "cell_type": "markdown",
   "id": "f5489331",
   "metadata": {},
   "source": [
    "#### Описание проекта "
   ]
  },
  {
   "cell_type": "markdown",
   "id": "afeb47b0",
   "metadata": {},
   "source": [
    "   Данные находятся в трёх файлах: \n",
    "1. gold_recovery_train_new.csv — обучающая выборка; \n",
    "2. gold_recovery_test_new.csv — тестовая выборка; \n",
    "3. gold_recovery_full_new.csv — исходные данные. \n",
    "    Данные индексируются датой и временем получения информации (признак date). Соседние по времени параметры часто похожи. \n",
    "    Некоторые параметры недоступны, потому что замеряются и/или рассчитываются значительно позже. Из-за этого в тестовой выборке отсутствуют некоторые признаки, которые могут быть в обучающей. Также в тестовом наборе нет целевых признаков. \n",
    "    Исходный датасет содержит обучающую и тестовую выборки со всеми признаками. \n",
    "    В вашем распоряжении сырые данные: их просто выгрузили из хранилища. Прежде чем приступить к построению модели, проверьте по нашей инструкции их на корректность. "
   ]
  },
  {
   "cell_type": "markdown",
   "id": "bfa68b94",
   "metadata": {},
   "source": [
    "## Подготовьте данные "
   ]
  },
  {
   "cell_type": "markdown",
   "id": "812534c4",
   "metadata": {},
   "source": [
    "###  1.Открытие и изучение файлов"
   ]
  },
  {
   "cell_type": "code",
   "execution_count": 1,
   "id": "db95312f",
   "metadata": {},
   "outputs": [
    {
     "name": "stdout",
     "output_type": "stream",
     "text": [
      "Requirement already satisfied: catboost in c:\\users\\alexander\\anaconda3\\lib\\site-packages (1.1.1)\n",
      "Requirement already satisfied: matplotlib in c:\\users\\alexander\\anaconda3\\lib\\site-packages (from catboost) (3.5.2)\n",
      "Requirement already satisfied: plotly in c:\\users\\alexander\\anaconda3\\lib\\site-packages (from catboost) (5.9.0)\n",
      "Requirement already satisfied: numpy>=1.16.0 in c:\\users\\alexander\\anaconda3\\lib\\site-packages (from catboost) (1.21.5)\n",
      "Requirement already satisfied: graphviz in c:\\users\\alexander\\anaconda3\\lib\\site-packages (from catboost) (0.20.1)\n",
      "Requirement already satisfied: six in c:\\users\\alexander\\anaconda3\\lib\\site-packages (from catboost) (1.16.0)\n",
      "Requirement already satisfied: scipy in c:\\users\\alexander\\anaconda3\\lib\\site-packages (from catboost) (1.9.1)\n",
      "Requirement already satisfied: pandas>=0.24.0 in c:\\users\\alexander\\anaconda3\\lib\\site-packages (from catboost) (1.4.4)\n",
      "Requirement already satisfied: python-dateutil>=2.8.1 in c:\\users\\alexander\\anaconda3\\lib\\site-packages (from pandas>=0.24.0->catboost) (2.8.2)\n",
      "Requirement already satisfied: pytz>=2020.1 in c:\\users\\alexander\\anaconda3\\lib\\site-packages (from pandas>=0.24.0->catboost) (2022.1)\n",
      "Requirement already satisfied: kiwisolver>=1.0.1 in c:\\users\\alexander\\anaconda3\\lib\\site-packages (from matplotlib->catboost) (1.4.2)\n",
      "Requirement already satisfied: cycler>=0.10 in c:\\users\\alexander\\anaconda3\\lib\\site-packages (from matplotlib->catboost) (0.11.0)\n",
      "Requirement already satisfied: pillow>=6.2.0 in c:\\users\\alexander\\anaconda3\\lib\\site-packages (from matplotlib->catboost) (9.2.0)\n",
      "Requirement already satisfied: fonttools>=4.22.0 in c:\\users\\alexander\\anaconda3\\lib\\site-packages (from matplotlib->catboost) (4.25.0)\n",
      "Requirement already satisfied: pyparsing>=2.2.1 in c:\\users\\alexander\\anaconda3\\lib\\site-packages (from matplotlib->catboost) (3.0.9)\n",
      "Requirement already satisfied: packaging>=20.0 in c:\\users\\alexander\\anaconda3\\lib\\site-packages (from matplotlib->catboost) (21.3)\n",
      "Requirement already satisfied: tenacity>=6.2.0 in c:\\users\\alexander\\anaconda3\\lib\\site-packages (from plotly->catboost) (8.0.1)\n"
     ]
    }
   ],
   "source": [
    "!pip install catboost"
   ]
  },
  {
   "cell_type": "code",
   "execution_count": 2,
   "id": "f791cc2f",
   "metadata": {},
   "outputs": [],
   "source": [
    "import pandas as pd\n",
    "import numpy as np\n",
    "import seaborn as sns\n",
    "from sklearn.dummy import DummyRegressor\n",
    "from sklearn.linear_model import LinearRegression\n",
    "from sklearn.ensemble import RandomForestRegressor\n",
    "from catboost import CatBoostRegressor\n",
    "from sklearn.model_selection import RandomizedSearchCV\n",
    "from sklearn.preprocessing import StandardScaler \n",
    "from sklearn.metrics import mean_absolute_error, make_scorer\n",
    "import matplotlib.pyplot as plt\n",
    "import warnings\n",
    "warnings.filterwarnings(\"ignore\")"
   ]
  },
  {
   "cell_type": "code",
   "execution_count": 3,
   "id": "b5a30c92",
   "metadata": {},
   "outputs": [],
   "source": [
    "# открываем датасеты, за индексы принимаем дату.\n",
    "try:\n",
    "    train = pd.read_csv('gold_recovery_train_new.csv', sep=',', index_col='date')\n",
    "    test = pd.read_csv('gold_recovery_test_new.csv', sep=',', index_col='date')\n",
    "    full = pd.read_csv('gold_recovery_full_new.csv', sep=',', index_col='date')\n",
    "except:\n",
    "    train = pd.read_csv('/datasets/gold_recovery_train_new.csv', sep=',', index_col='date') \n",
    "    test = pd.read_csv('/datasets/gold_recovery_test_new.csv', sep=',', index_col='date') \n",
    "    full = pd.read_csv('/datasets/gold_recovery_full_new.csv', sep=',', index_col='date')"
   ]
  },
  {
   "cell_type": "code",
   "execution_count": 4,
   "id": "f052c61a",
   "metadata": {},
   "outputs": [
    {
     "name": "stdout",
     "output_type": "stream",
     "text": [
      "Явные дубликаты: 0\n"
     ]
    }
   ],
   "source": [
    "# Изучаем данные, проверяем дубликаты\n",
    "print('Явные дубликаты:', full.duplicated().sum())"
   ]
  },
  {
   "cell_type": "code",
   "execution_count": 5,
   "id": "6a2c078e",
   "metadata": {
    "scrolled": true
   },
   "outputs": [
    {
     "name": "stdout",
     "output_type": "stream",
     "text": [
      "<class 'pandas.core.frame.DataFrame'>\n",
      "Index: 14149 entries, 2016-01-15 00:00:00 to 2018-08-18 10:59:59\n",
      "Data columns (total 86 columns):\n",
      " #   Column                                              Non-Null Count  Dtype  \n",
      "---  ------                                              --------------  -----  \n",
      " 0   final.output.concentrate_ag                         14148 non-null  float64\n",
      " 1   final.output.concentrate_pb                         14148 non-null  float64\n",
      " 2   final.output.concentrate_sol                        13938 non-null  float64\n",
      " 3   final.output.concentrate_au                         14149 non-null  float64\n",
      " 4   final.output.recovery                               14149 non-null  float64\n",
      " 5   final.output.tail_ag                                14149 non-null  float64\n",
      " 6   final.output.tail_pb                                14049 non-null  float64\n",
      " 7   final.output.tail_sol                               14144 non-null  float64\n",
      " 8   final.output.tail_au                                14149 non-null  float64\n",
      " 9   primary_cleaner.input.sulfate                       14129 non-null  float64\n",
      " 10  primary_cleaner.input.depressant                    14117 non-null  float64\n",
      " 11  primary_cleaner.input.feed_size                     14149 non-null  float64\n",
      " 12  primary_cleaner.input.xanthate                      14049 non-null  float64\n",
      " 13  primary_cleaner.output.concentrate_ag               14149 non-null  float64\n",
      " 14  primary_cleaner.output.concentrate_pb               14063 non-null  float64\n",
      " 15  primary_cleaner.output.concentrate_sol              13863 non-null  float64\n",
      " 16  primary_cleaner.output.concentrate_au               14149 non-null  float64\n",
      " 17  primary_cleaner.output.tail_ag                      14148 non-null  float64\n",
      " 18  primary_cleaner.output.tail_pb                      14134 non-null  float64\n",
      " 19  primary_cleaner.output.tail_sol                     14103 non-null  float64\n",
      " 20  primary_cleaner.output.tail_au                      14149 non-null  float64\n",
      " 21  primary_cleaner.state.floatbank8_a_air              14145 non-null  float64\n",
      " 22  primary_cleaner.state.floatbank8_a_level            14148 non-null  float64\n",
      " 23  primary_cleaner.state.floatbank8_b_air              14145 non-null  float64\n",
      " 24  primary_cleaner.state.floatbank8_b_level            14148 non-null  float64\n",
      " 25  primary_cleaner.state.floatbank8_c_air              14147 non-null  float64\n",
      " 26  primary_cleaner.state.floatbank8_c_level            14148 non-null  float64\n",
      " 27  primary_cleaner.state.floatbank8_d_air              14146 non-null  float64\n",
      " 28  primary_cleaner.state.floatbank8_d_level            14148 non-null  float64\n",
      " 29  rougher.calculation.sulfate_to_au_concentrate       14148 non-null  float64\n",
      " 30  rougher.calculation.floatbank10_sulfate_to_au_feed  14148 non-null  float64\n",
      " 31  rougher.calculation.floatbank11_sulfate_to_au_feed  14148 non-null  float64\n",
      " 32  rougher.calculation.au_pb_ratio                     14149 non-null  float64\n",
      " 33  rougher.input.feed_ag                               14149 non-null  float64\n",
      " 34  rougher.input.feed_pb                               14049 non-null  float64\n",
      " 35  rougher.input.feed_rate                             14141 non-null  float64\n",
      " 36  rougher.input.feed_size                             14005 non-null  float64\n",
      " 37  rougher.input.feed_sol                              14071 non-null  float64\n",
      " 38  rougher.input.feed_au                               14149 non-null  float64\n",
      " 39  rougher.input.floatbank10_sulfate                   14120 non-null  float64\n",
      " 40  rougher.input.floatbank10_xanthate                  14141 non-null  float64\n",
      " 41  rougher.input.floatbank11_sulfate                   14113 non-null  float64\n",
      " 42  rougher.input.floatbank11_xanthate                  13721 non-null  float64\n",
      " 43  rougher.output.concentrate_ag                       14149 non-null  float64\n",
      " 44  rougher.output.concentrate_pb                       14149 non-null  float64\n",
      " 45  rougher.output.concentrate_sol                      14127 non-null  float64\n",
      " 46  rougher.output.concentrate_au                       14149 non-null  float64\n",
      " 47  rougher.output.recovery                             14149 non-null  float64\n",
      " 48  rougher.output.tail_ag                              14148 non-null  float64\n",
      " 49  rougher.output.tail_pb                              14149 non-null  float64\n",
      " 50  rougher.output.tail_sol                             14149 non-null  float64\n",
      " 51  rougher.output.tail_au                              14149 non-null  float64\n",
      " 52  rougher.state.floatbank10_a_air                     14148 non-null  float64\n",
      " 53  rougher.state.floatbank10_a_level                   14148 non-null  float64\n",
      " 54  rougher.state.floatbank10_b_air                     14148 non-null  float64\n",
      " 55  rougher.state.floatbank10_b_level                   14148 non-null  float64\n",
      " 56  rougher.state.floatbank10_c_air                     14148 non-null  float64\n",
      " 57  rougher.state.floatbank10_c_level                   14148 non-null  float64\n",
      " 58  rougher.state.floatbank10_d_air                     14149 non-null  float64\n",
      " 59  rougher.state.floatbank10_d_level                   14149 non-null  float64\n",
      " 60  rougher.state.floatbank10_e_air                     13713 non-null  float64\n",
      " 61  rougher.state.floatbank10_e_level                   14149 non-null  float64\n",
      " 62  rougher.state.floatbank10_f_air                     14149 non-null  float64\n",
      " 63  rougher.state.floatbank10_f_level                   14149 non-null  float64\n",
      " 64  secondary_cleaner.output.tail_ag                    14147 non-null  float64\n",
      " 65  secondary_cleaner.output.tail_pb                    14139 non-null  float64\n",
      " 66  secondary_cleaner.output.tail_sol                   12544 non-null  float64\n",
      " 67  secondary_cleaner.output.tail_au                    14149 non-null  float64\n",
      " 68  secondary_cleaner.state.floatbank2_a_air            13932 non-null  float64\n",
      " 69  secondary_cleaner.state.floatbank2_a_level          14148 non-null  float64\n",
      " 70  secondary_cleaner.state.floatbank2_b_air            14128 non-null  float64\n",
      " 71  secondary_cleaner.state.floatbank2_b_level          14148 non-null  float64\n",
      " 72  secondary_cleaner.state.floatbank3_a_air            14145 non-null  float64\n",
      " 73  secondary_cleaner.state.floatbank3_a_level          14148 non-null  float64\n",
      " 74  secondary_cleaner.state.floatbank3_b_air            14148 non-null  float64\n",
      " 75  secondary_cleaner.state.floatbank3_b_level          14148 non-null  float64\n",
      " 76  secondary_cleaner.state.floatbank4_a_air            14143 non-null  float64\n",
      " 77  secondary_cleaner.state.floatbank4_a_level          14148 non-null  float64\n",
      " 78  secondary_cleaner.state.floatbank4_b_air            14148 non-null  float64\n",
      " 79  secondary_cleaner.state.floatbank4_b_level          14148 non-null  float64\n",
      " 80  secondary_cleaner.state.floatbank5_a_air            14148 non-null  float64\n",
      " 81  secondary_cleaner.state.floatbank5_a_level          14148 non-null  float64\n",
      " 82  secondary_cleaner.state.floatbank5_b_air            14148 non-null  float64\n",
      " 83  secondary_cleaner.state.floatbank5_b_level          14148 non-null  float64\n",
      " 84  secondary_cleaner.state.floatbank6_a_air            14147 non-null  float64\n",
      " 85  secondary_cleaner.state.floatbank6_a_level          14148 non-null  float64\n",
      "dtypes: float64(86)\n",
      "memory usage: 9.4+ MB\n",
      "secondary_cleaner.output.tail_sol           1605\n",
      "rougher.state.floatbank10_e_air              436\n",
      "rougher.input.floatbank11_xanthate           428\n",
      "primary_cleaner.output.concentrate_sol       286\n",
      "secondary_cleaner.state.floatbank2_a_air     217\n",
      "                                            ... \n",
      "rougher.state.floatbank10_d_air                0\n",
      "rougher.output.concentrate_au                  0\n",
      "rougher.output.recovery                        0\n",
      "rougher.output.tail_pb                         0\n",
      "rougher.output.concentrate_ag                  0\n",
      "Length: 86, dtype: int64\n"
     ]
    }
   ],
   "source": [
    "# Смотрим общую информацию  наличие пропусков\n",
    "train.info()\n",
    "print(train.isna().sum().sort_values(ascending=False))"
   ]
  },
  {
   "cell_type": "code",
   "execution_count": 6,
   "id": "d499875a",
   "metadata": {},
   "outputs": [
    {
     "name": "stdout",
     "output_type": "stream",
     "text": [
      "<class 'pandas.core.frame.DataFrame'>\n",
      "Index: 5290 entries, 2016-09-01 00:59:59 to 2017-12-31 23:59:59\n",
      "Data columns (total 52 columns):\n",
      " #   Column                                      Non-Null Count  Dtype  \n",
      "---  ------                                      --------------  -----  \n",
      " 0   primary_cleaner.input.sulfate               5286 non-null   float64\n",
      " 1   primary_cleaner.input.depressant            5285 non-null   float64\n",
      " 2   primary_cleaner.input.feed_size             5290 non-null   float64\n",
      " 3   primary_cleaner.input.xanthate              5286 non-null   float64\n",
      " 4   primary_cleaner.state.floatbank8_a_air      5290 non-null   float64\n",
      " 5   primary_cleaner.state.floatbank8_a_level    5290 non-null   float64\n",
      " 6   primary_cleaner.state.floatbank8_b_air      5290 non-null   float64\n",
      " 7   primary_cleaner.state.floatbank8_b_level    5290 non-null   float64\n",
      " 8   primary_cleaner.state.floatbank8_c_air      5290 non-null   float64\n",
      " 9   primary_cleaner.state.floatbank8_c_level    5290 non-null   float64\n",
      " 10  primary_cleaner.state.floatbank8_d_air      5290 non-null   float64\n",
      " 11  primary_cleaner.state.floatbank8_d_level    5290 non-null   float64\n",
      " 12  rougher.input.feed_ag                       5290 non-null   float64\n",
      " 13  rougher.input.feed_pb                       5290 non-null   float64\n",
      " 14  rougher.input.feed_rate                     5287 non-null   float64\n",
      " 15  rougher.input.feed_size                     5289 non-null   float64\n",
      " 16  rougher.input.feed_sol                      5269 non-null   float64\n",
      " 17  rougher.input.feed_au                       5290 non-null   float64\n",
      " 18  rougher.input.floatbank10_sulfate           5285 non-null   float64\n",
      " 19  rougher.input.floatbank10_xanthate          5290 non-null   float64\n",
      " 20  rougher.input.floatbank11_sulfate           5282 non-null   float64\n",
      " 21  rougher.input.floatbank11_xanthate          5265 non-null   float64\n",
      " 22  rougher.state.floatbank10_a_air             5290 non-null   float64\n",
      " 23  rougher.state.floatbank10_a_level           5290 non-null   float64\n",
      " 24  rougher.state.floatbank10_b_air             5290 non-null   float64\n",
      " 25  rougher.state.floatbank10_b_level           5290 non-null   float64\n",
      " 26  rougher.state.floatbank10_c_air             5290 non-null   float64\n",
      " 27  rougher.state.floatbank10_c_level           5290 non-null   float64\n",
      " 28  rougher.state.floatbank10_d_air             5290 non-null   float64\n",
      " 29  rougher.state.floatbank10_d_level           5290 non-null   float64\n",
      " 30  rougher.state.floatbank10_e_air             5290 non-null   float64\n",
      " 31  rougher.state.floatbank10_e_level           5290 non-null   float64\n",
      " 32  rougher.state.floatbank10_f_air             5290 non-null   float64\n",
      " 33  rougher.state.floatbank10_f_level           5290 non-null   float64\n",
      " 34  secondary_cleaner.state.floatbank2_a_air    5287 non-null   float64\n",
      " 35  secondary_cleaner.state.floatbank2_a_level  5290 non-null   float64\n",
      " 36  secondary_cleaner.state.floatbank2_b_air    5288 non-null   float64\n",
      " 37  secondary_cleaner.state.floatbank2_b_level  5290 non-null   float64\n",
      " 38  secondary_cleaner.state.floatbank3_a_air    5281 non-null   float64\n",
      " 39  secondary_cleaner.state.floatbank3_a_level  5290 non-null   float64\n",
      " 40  secondary_cleaner.state.floatbank3_b_air    5290 non-null   float64\n",
      " 41  secondary_cleaner.state.floatbank3_b_level  5290 non-null   float64\n",
      " 42  secondary_cleaner.state.floatbank4_a_air    5290 non-null   float64\n",
      " 43  secondary_cleaner.state.floatbank4_a_level  5290 non-null   float64\n",
      " 44  secondary_cleaner.state.floatbank4_b_air    5290 non-null   float64\n",
      " 45  secondary_cleaner.state.floatbank4_b_level  5290 non-null   float64\n",
      " 46  secondary_cleaner.state.floatbank5_a_air    5290 non-null   float64\n",
      " 47  secondary_cleaner.state.floatbank5_a_level  5290 non-null   float64\n",
      " 48  secondary_cleaner.state.floatbank5_b_air    5290 non-null   float64\n",
      " 49  secondary_cleaner.state.floatbank5_b_level  5290 non-null   float64\n",
      " 50  secondary_cleaner.state.floatbank6_a_air    5290 non-null   float64\n",
      " 51  secondary_cleaner.state.floatbank6_a_level  5290 non-null   float64\n",
      "dtypes: float64(52)\n",
      "memory usage: 2.1+ MB\n",
      "rougher.input.floatbank11_xanthate            25\n",
      "rougher.input.feed_sol                        21\n",
      "secondary_cleaner.state.floatbank3_a_air       9\n",
      "rougher.input.floatbank11_sulfate              8\n",
      "primary_cleaner.input.depressant               5\n",
      "rougher.input.floatbank10_sulfate              5\n",
      "primary_cleaner.input.sulfate                  4\n",
      "primary_cleaner.input.xanthate                 4\n",
      "rougher.input.feed_rate                        3\n",
      "secondary_cleaner.state.floatbank2_a_air       3\n",
      "secondary_cleaner.state.floatbank2_b_air       2\n",
      "rougher.input.feed_size                        1\n",
      "secondary_cleaner.state.floatbank3_b_level     0\n",
      "secondary_cleaner.state.floatbank3_b_air       0\n",
      "rougher.state.floatbank10_f_air                0\n",
      "rougher.state.floatbank10_f_level              0\n",
      "secondary_cleaner.state.floatbank6_a_air       0\n",
      "secondary_cleaner.state.floatbank5_b_level     0\n",
      "secondary_cleaner.state.floatbank2_a_level     0\n",
      "secondary_cleaner.state.floatbank5_b_air       0\n",
      "secondary_cleaner.state.floatbank2_b_level     0\n",
      "secondary_cleaner.state.floatbank5_a_level     0\n",
      "secondary_cleaner.state.floatbank5_a_air       0\n",
      "secondary_cleaner.state.floatbank4_b_level     0\n",
      "secondary_cleaner.state.floatbank4_b_air       0\n",
      "secondary_cleaner.state.floatbank3_a_level     0\n",
      "secondary_cleaner.state.floatbank4_a_level     0\n",
      "rougher.state.floatbank10_e_air                0\n",
      "secondary_cleaner.state.floatbank4_a_air       0\n",
      "rougher.state.floatbank10_e_level              0\n",
      "rougher.state.floatbank10_c_air                0\n",
      "rougher.state.floatbank10_d_level              0\n",
      "primary_cleaner.state.floatbank8_d_level       0\n",
      "primary_cleaner.input.feed_size                0\n",
      "primary_cleaner.state.floatbank8_a_air         0\n",
      "primary_cleaner.state.floatbank8_a_level       0\n",
      "primary_cleaner.state.floatbank8_b_air         0\n",
      "primary_cleaner.state.floatbank8_b_level       0\n",
      "primary_cleaner.state.floatbank8_c_air         0\n",
      "primary_cleaner.state.floatbank8_c_level       0\n",
      "primary_cleaner.state.floatbank8_d_air         0\n",
      "rougher.input.feed_ag                          0\n",
      "rougher.state.floatbank10_d_air                0\n",
      "rougher.input.feed_pb                          0\n",
      "rougher.input.feed_au                          0\n",
      "rougher.input.floatbank10_xanthate             0\n",
      "rougher.state.floatbank10_a_air                0\n",
      "rougher.state.floatbank10_a_level              0\n",
      "rougher.state.floatbank10_b_air                0\n",
      "rougher.state.floatbank10_b_level              0\n",
      "rougher.state.floatbank10_c_level              0\n",
      "secondary_cleaner.state.floatbank6_a_level     0\n",
      "dtype: int64\n"
     ]
    }
   ],
   "source": [
    "test.info()\n",
    "print(test.isna().sum().sort_values(ascending=False))"
   ]
  },
  {
   "cell_type": "code",
   "execution_count": 7,
   "id": "fe159f69",
   "metadata": {
    "scrolled": true
   },
   "outputs": [
    {
     "name": "stdout",
     "output_type": "stream",
     "text": [
      "<class 'pandas.core.frame.DataFrame'>\n",
      "Index: 19439 entries, 2016-01-15 00:00:00 to 2018-08-18 10:59:59\n",
      "Data columns (total 86 columns):\n",
      " #   Column                                              Non-Null Count  Dtype  \n",
      "---  ------                                              --------------  -----  \n",
      " 0   final.output.concentrate_ag                         19438 non-null  float64\n",
      " 1   final.output.concentrate_pb                         19438 non-null  float64\n",
      " 2   final.output.concentrate_sol                        19228 non-null  float64\n",
      " 3   final.output.concentrate_au                         19439 non-null  float64\n",
      " 4   final.output.recovery                               19439 non-null  float64\n",
      " 5   final.output.tail_ag                                19438 non-null  float64\n",
      " 6   final.output.tail_pb                                19338 non-null  float64\n",
      " 7   final.output.tail_sol                               19433 non-null  float64\n",
      " 8   final.output.tail_au                                19439 non-null  float64\n",
      " 9   primary_cleaner.input.sulfate                       19415 non-null  float64\n",
      " 10  primary_cleaner.input.depressant                    19402 non-null  float64\n",
      " 11  primary_cleaner.input.feed_size                     19439 non-null  float64\n",
      " 12  primary_cleaner.input.xanthate                      19335 non-null  float64\n",
      " 13  primary_cleaner.output.concentrate_ag               19439 non-null  float64\n",
      " 14  primary_cleaner.output.concentrate_pb               19323 non-null  float64\n",
      " 15  primary_cleaner.output.concentrate_sol              19069 non-null  float64\n",
      " 16  primary_cleaner.output.concentrate_au               19439 non-null  float64\n",
      " 17  primary_cleaner.output.tail_ag                      19435 non-null  float64\n",
      " 18  primary_cleaner.output.tail_pb                      19418 non-null  float64\n",
      " 19  primary_cleaner.output.tail_sol                     19377 non-null  float64\n",
      " 20  primary_cleaner.output.tail_au                      19439 non-null  float64\n",
      " 21  primary_cleaner.state.floatbank8_a_air              19435 non-null  float64\n",
      " 22  primary_cleaner.state.floatbank8_a_level            19438 non-null  float64\n",
      " 23  primary_cleaner.state.floatbank8_b_air              19435 non-null  float64\n",
      " 24  primary_cleaner.state.floatbank8_b_level            19438 non-null  float64\n",
      " 25  primary_cleaner.state.floatbank8_c_air              19437 non-null  float64\n",
      " 26  primary_cleaner.state.floatbank8_c_level            19438 non-null  float64\n",
      " 27  primary_cleaner.state.floatbank8_d_air              19436 non-null  float64\n",
      " 28  primary_cleaner.state.floatbank8_d_level            19438 non-null  float64\n",
      " 29  rougher.calculation.sulfate_to_au_concentrate       19437 non-null  float64\n",
      " 30  rougher.calculation.floatbank10_sulfate_to_au_feed  19437 non-null  float64\n",
      " 31  rougher.calculation.floatbank11_sulfate_to_au_feed  19437 non-null  float64\n",
      " 32  rougher.calculation.au_pb_ratio                     19439 non-null  float64\n",
      " 33  rougher.input.feed_ag                               19439 non-null  float64\n",
      " 34  rougher.input.feed_pb                               19339 non-null  float64\n",
      " 35  rougher.input.feed_rate                             19428 non-null  float64\n",
      " 36  rougher.input.feed_size                             19294 non-null  float64\n",
      " 37  rougher.input.feed_sol                              19340 non-null  float64\n",
      " 38  rougher.input.feed_au                               19439 non-null  float64\n",
      " 39  rougher.input.floatbank10_sulfate                   19405 non-null  float64\n",
      " 40  rougher.input.floatbank10_xanthate                  19431 non-null  float64\n",
      " 41  rougher.input.floatbank11_sulfate                   19395 non-null  float64\n",
      " 42  rougher.input.floatbank11_xanthate                  18986 non-null  float64\n",
      " 43  rougher.output.concentrate_ag                       19439 non-null  float64\n",
      " 44  rougher.output.concentrate_pb                       19439 non-null  float64\n",
      " 45  rougher.output.concentrate_sol                      19416 non-null  float64\n",
      " 46  rougher.output.concentrate_au                       19439 non-null  float64\n",
      " 47  rougher.output.recovery                             19439 non-null  float64\n",
      " 48  rougher.output.tail_ag                              19438 non-null  float64\n",
      " 49  rougher.output.tail_pb                              19439 non-null  float64\n",
      " 50  rougher.output.tail_sol                             19439 non-null  float64\n",
      " 51  rougher.output.tail_au                              19439 non-null  float64\n",
      " 52  rougher.state.floatbank10_a_air                     19438 non-null  float64\n",
      " 53  rougher.state.floatbank10_a_level                   19438 non-null  float64\n",
      " 54  rougher.state.floatbank10_b_air                     19438 non-null  float64\n",
      " 55  rougher.state.floatbank10_b_level                   19438 non-null  float64\n",
      " 56  rougher.state.floatbank10_c_air                     19438 non-null  float64\n",
      " 57  rougher.state.floatbank10_c_level                   19438 non-null  float64\n",
      " 58  rougher.state.floatbank10_d_air                     19439 non-null  float64\n",
      " 59  rougher.state.floatbank10_d_level                   19439 non-null  float64\n",
      " 60  rougher.state.floatbank10_e_air                     19003 non-null  float64\n",
      " 61  rougher.state.floatbank10_e_level                   19439 non-null  float64\n",
      " 62  rougher.state.floatbank10_f_air                     19439 non-null  float64\n",
      " 63  rougher.state.floatbank10_f_level                   19439 non-null  float64\n",
      " 64  secondary_cleaner.output.tail_ag                    19437 non-null  float64\n",
      " 65  secondary_cleaner.output.tail_pb                    19427 non-null  float64\n",
      " 66  secondary_cleaner.output.tail_sol                   17691 non-null  float64\n",
      " 67  secondary_cleaner.output.tail_au                    19439 non-null  float64\n",
      " 68  secondary_cleaner.state.floatbank2_a_air            19219 non-null  float64\n",
      " 69  secondary_cleaner.state.floatbank2_a_level          19438 non-null  float64\n",
      " 70  secondary_cleaner.state.floatbank2_b_air            19416 non-null  float64\n",
      " 71  secondary_cleaner.state.floatbank2_b_level          19438 non-null  float64\n",
      " 72  secondary_cleaner.state.floatbank3_a_air            19426 non-null  float64\n",
      " 73  secondary_cleaner.state.floatbank3_a_level          19438 non-null  float64\n",
      " 74  secondary_cleaner.state.floatbank3_b_air            19438 non-null  float64\n",
      " 75  secondary_cleaner.state.floatbank3_b_level          19438 non-null  float64\n",
      " 76  secondary_cleaner.state.floatbank4_a_air            19433 non-null  float64\n",
      " 77  secondary_cleaner.state.floatbank4_a_level          19438 non-null  float64\n",
      " 78  secondary_cleaner.state.floatbank4_b_air            19438 non-null  float64\n",
      " 79  secondary_cleaner.state.floatbank4_b_level          19438 non-null  float64\n",
      " 80  secondary_cleaner.state.floatbank5_a_air            19438 non-null  float64\n",
      " 81  secondary_cleaner.state.floatbank5_a_level          19438 non-null  float64\n",
      " 82  secondary_cleaner.state.floatbank5_b_air            19438 non-null  float64\n",
      " 83  secondary_cleaner.state.floatbank5_b_level          19438 non-null  float64\n",
      " 84  secondary_cleaner.state.floatbank6_a_air            19437 non-null  float64\n",
      " 85  secondary_cleaner.state.floatbank6_a_level          19438 non-null  float64\n",
      "dtypes: float64(86)\n",
      "memory usage: 12.9+ MB\n"
     ]
    }
   ],
   "source": [
    "full.info()\n",
    "     "
   ]
  },
  {
   "cell_type": "markdown",
   "id": "59792e36",
   "metadata": {},
   "source": [
    "1. Мы видим, что данные не сожержат дубликатов.\n",
    "2. Есть пропуски в разных колонках\n",
    "3. В датасетах различается количество столбцов\n",
    "4. Тип данных в порядке."
   ]
  },
  {
   "cell_type": "markdown",
   "id": "586faf32",
   "metadata": {},
   "source": [
    "### 2. Проверьте, что эффективность обогащения рассчитана правильно. Вычислите её на обучающей выборке для признака rougher.output.recovery. Найдите MAE между вашими расчётами и значением признака. Опишите выводы. "
   ]
  },
  {
   "attachments": {
    "image.png": {
     "image/png": "[encoded data removed]"
    }
   },
   "cell_type": "markdown",
   "id": "3308e8d4",
   "metadata": {},
   "source": [
    "![image.png](attachment:image.png)"
   ]
  },
  {
   "cell_type": "markdown",
   "id": "f0acd8c6",
   "metadata": {},
   "source": [
    "    где:\n",
    "    C — доля золота в концентрате после флотации/очистки;\n",
    "    F — доля золота в сырье/концентрате до флотации/очистки;\n",
    "    T — доля золота в отвальных хвостах после флотации/очистки.\n",
    "    \n",
    "    Для прогноза коэффициента нужно найти долю золота в концентратах и хвостах. Причём важен не только финальный продукт, но и черновой концентрат."
   ]
  },
  {
   "cell_type": "code",
   "execution_count": 8,
   "id": "be619dea",
   "metadata": {},
   "outputs": [
    {
     "name": "stdout",
     "output_type": "stream",
     "text": [
      "9.73512347450521e-15\n"
     ]
    }
   ],
   "source": [
    "# Рассчитаем эффективность обогащения \n",
    "c =  train['rougher.output.concentrate_au']\n",
    "f = train['rougher.input.feed_au']\n",
    "t = train['rougher.output.tail_au']\n",
    "recovery = ((c*(f-t))/(f*(c -t))) * 100\n",
    "# Вычислим MAE\n",
    "print(mean_absolute_error(train['rougher.output.recovery'], recovery))"
   ]
  },
  {
   "cell_type": "markdown",
   "id": "a0adca17",
   "metadata": {},
   "source": [
    "Мы видим, что значение MAE стремиться к 0 - это значит, что значения признака rougher.output.recovery верны.\n"
   ]
  },
  {
   "cell_type": "markdown",
   "id": "1a114ae5",
   "metadata": {},
   "source": [
    "###   3. Проанализируйте признаки, недоступные в тестовой выборке. Что это за параметры? К какому типу относятся? "
   ]
  },
  {
   "cell_type": "code",
   "execution_count": 9,
   "id": "5dfac425",
   "metadata": {},
   "outputs": [
    {
     "name": "stdout",
     "output_type": "stream",
     "text": [
      "<class 'pandas.core.frame.DataFrame'>\n",
      "Index: 14149 entries, 2016-01-15 00:00:00 to 2018-08-18 10:59:59\n",
      "Data columns (total 34 columns):\n",
      " #   Column                                              Non-Null Count  Dtype  \n",
      "---  ------                                              --------------  -----  \n",
      " 0   rougher.calculation.au_pb_ratio                     14149 non-null  float64\n",
      " 1   secondary_cleaner.output.tail_pb                    14139 non-null  float64\n",
      " 2   rougher.output.tail_au                              14149 non-null  float64\n",
      " 3   rougher.calculation.floatbank10_sulfate_to_au_feed  14148 non-null  float64\n",
      " 4   rougher.output.recovery                             14149 non-null  float64\n",
      " 5   final.output.concentrate_au                         14149 non-null  float64\n",
      " 6   rougher.calculation.sulfate_to_au_concentrate       14148 non-null  float64\n",
      " 7   primary_cleaner.output.tail_pb                      14134 non-null  float64\n",
      " 8   final.output.tail_pb                                14049 non-null  float64\n",
      " 9   primary_cleaner.output.concentrate_au               14149 non-null  float64\n",
      " 10  rougher.output.concentrate_au                       14149 non-null  float64\n",
      " 11  primary_cleaner.output.concentrate_ag               14149 non-null  float64\n",
      " 12  final.output.concentrate_ag                         14148 non-null  float64\n",
      " 13  primary_cleaner.output.tail_ag                      14148 non-null  float64\n",
      " 14  rougher.output.concentrate_ag                       14149 non-null  float64\n",
      " 15  secondary_cleaner.output.tail_sol                   12544 non-null  float64\n",
      " 16  rougher.output.concentrate_sol                      14127 non-null  float64\n",
      " 17  final.output.recovery                               14149 non-null  float64\n",
      " 18  rougher.output.tail_sol                             14149 non-null  float64\n",
      " 19  primary_cleaner.output.tail_sol                     14103 non-null  float64\n",
      " 20  rougher.output.tail_ag                              14148 non-null  float64\n",
      " 21  rougher.calculation.floatbank11_sulfate_to_au_feed  14148 non-null  float64\n",
      " 22  final.output.tail_sol                               14144 non-null  float64\n",
      " 23  secondary_cleaner.output.tail_au                    14149 non-null  float64\n",
      " 24  final.output.concentrate_sol                        13938 non-null  float64\n",
      " 25  secondary_cleaner.output.tail_ag                    14147 non-null  float64\n",
      " 26  final.output.tail_au                                14149 non-null  float64\n",
      " 27  primary_cleaner.output.concentrate_pb               14063 non-null  float64\n",
      " 28  rougher.output.tail_pb                              14149 non-null  float64\n",
      " 29  primary_cleaner.output.tail_au                      14149 non-null  float64\n",
      " 30  final.output.concentrate_pb                         14148 non-null  float64\n",
      " 31  primary_cleaner.output.concentrate_sol              13863 non-null  float64\n",
      " 32  rougher.output.concentrate_pb                       14149 non-null  float64\n",
      " 33  final.output.tail_ag                                14149 non-null  float64\n",
      "dtypes: float64(34)\n",
      "memory usage: 4.3+ MB\n"
     ]
    }
   ],
   "source": [
    "#Вычислим различия по признакам между обучающим и тестовым датасетами.\n",
    "abcent_columns = set(train.columns) - set(test.columns)\n",
    "train[abcent_columns].info()"
   ]
  },
  {
   "cell_type": "markdown",
   "id": "b574b8fd",
   "metadata": {},
   "source": [
    "В тестовой выборке отсутвтвуют параметры продукта, расчётные характеристики, включая целевые признаки. По условиям задания эти данные получаются в результате технологического процесса, и поэтому будет необходимость их убирать для обучния модели."
   ]
  },
  {
   "cell_type": "markdown",
   "id": "ba832044",
   "metadata": {},
   "source": [
    "### 4. Проведите предобработку данных"
   ]
  },
  {
   "cell_type": "markdown",
   "id": "79182a63",
   "metadata": {},
   "source": [
    "Заполним пропуски, остальное перед обучением модели.иcходя из информации в задании, что соседние по времени параметры часто похожи, выбираю метод ffill\n"
   ]
  },
  {
   "cell_type": "code",
   "execution_count": 10,
   "id": "6f4dce65",
   "metadata": {},
   "outputs": [],
   "source": [
    "train = train.fillna(method='ffill')\n",
    "test = test.fillna(method='ffill')\n",
    "full = full.fillna(method='ffill')"
   ]
  },
  {
   "cell_type": "code",
   "execution_count": 11,
   "id": "bb323187",
   "metadata": {
    "scrolled": true
   },
   "outputs": [
    {
     "name": "stdout",
     "output_type": "stream",
     "text": [
      "final.output.concentrate_ag                   0\n",
      "final.output.concentrate_pb                   0\n",
      "final.output.concentrate_sol                  0\n",
      "final.output.concentrate_au                   0\n",
      "final.output.recovery                         0\n",
      "                                             ..\n",
      "secondary_cleaner.state.floatbank5_a_level    0\n",
      "secondary_cleaner.state.floatbank5_b_air      0\n",
      "secondary_cleaner.state.floatbank5_b_level    0\n",
      "secondary_cleaner.state.floatbank6_a_air      0\n",
      "secondary_cleaner.state.floatbank6_a_level    0\n",
      "Length: 86, dtype: int64\n",
      "-----------------------------------------------------------------\n",
      "primary_cleaner.input.sulfate                 0\n",
      "primary_cleaner.input.depressant              0\n",
      "primary_cleaner.input.feed_size               0\n",
      "primary_cleaner.input.xanthate                0\n",
      "primary_cleaner.state.floatbank8_a_air        0\n",
      "primary_cleaner.state.floatbank8_a_level      0\n",
      "primary_cleaner.state.floatbank8_b_air        0\n",
      "primary_cleaner.state.floatbank8_b_level      0\n",
      "primary_cleaner.state.floatbank8_c_air        0\n",
      "primary_cleaner.state.floatbank8_c_level      0\n",
      "primary_cleaner.state.floatbank8_d_air        0\n",
      "primary_cleaner.state.floatbank8_d_level      0\n",
      "rougher.input.feed_ag                         0\n",
      "rougher.input.feed_pb                         0\n",
      "rougher.input.feed_rate                       0\n",
      "rougher.input.feed_size                       0\n",
      "rougher.input.feed_sol                        0\n",
      "rougher.input.feed_au                         0\n",
      "rougher.input.floatbank10_sulfate             0\n",
      "rougher.input.floatbank10_xanthate            0\n",
      "rougher.input.floatbank11_sulfate             0\n",
      "rougher.input.floatbank11_xanthate            0\n",
      "rougher.state.floatbank10_a_air               0\n",
      "rougher.state.floatbank10_a_level             0\n",
      "rougher.state.floatbank10_b_air               0\n",
      "rougher.state.floatbank10_b_level             0\n",
      "rougher.state.floatbank10_c_air               0\n",
      "rougher.state.floatbank10_c_level             0\n",
      "rougher.state.floatbank10_d_air               0\n",
      "rougher.state.floatbank10_d_level             0\n",
      "rougher.state.floatbank10_e_air               0\n",
      "rougher.state.floatbank10_e_level             0\n",
      "rougher.state.floatbank10_f_air               0\n",
      "rougher.state.floatbank10_f_level             0\n",
      "secondary_cleaner.state.floatbank2_a_air      0\n",
      "secondary_cleaner.state.floatbank2_a_level    0\n",
      "secondary_cleaner.state.floatbank2_b_air      0\n",
      "secondary_cleaner.state.floatbank2_b_level    0\n",
      "secondary_cleaner.state.floatbank3_a_air      0\n",
      "secondary_cleaner.state.floatbank3_a_level    0\n",
      "secondary_cleaner.state.floatbank3_b_air      0\n",
      "secondary_cleaner.state.floatbank3_b_level    0\n",
      "secondary_cleaner.state.floatbank4_a_air      0\n",
      "secondary_cleaner.state.floatbank4_a_level    0\n",
      "secondary_cleaner.state.floatbank4_b_air      0\n",
      "secondary_cleaner.state.floatbank4_b_level    0\n",
      "secondary_cleaner.state.floatbank5_a_air      0\n",
      "secondary_cleaner.state.floatbank5_a_level    0\n",
      "secondary_cleaner.state.floatbank5_b_air      0\n",
      "secondary_cleaner.state.floatbank5_b_level    0\n",
      "secondary_cleaner.state.floatbank6_a_air      0\n",
      "secondary_cleaner.state.floatbank6_a_level    0\n",
      "dtype: int64\n",
      "-----------------------------------------------------------------\n",
      "final.output.concentrate_ag                   0\n",
      "final.output.concentrate_pb                   0\n",
      "final.output.concentrate_sol                  0\n",
      "final.output.concentrate_au                   0\n",
      "final.output.recovery                         0\n",
      "                                             ..\n",
      "secondary_cleaner.state.floatbank5_a_level    0\n",
      "secondary_cleaner.state.floatbank5_b_air      0\n",
      "secondary_cleaner.state.floatbank5_b_level    0\n",
      "secondary_cleaner.state.floatbank6_a_air      0\n",
      "secondary_cleaner.state.floatbank6_a_level    0\n",
      "Length: 86, dtype: int64\n"
     ]
    }
   ],
   "source": [
    "print(train.isna().sum())\n",
    "print('-----------------------------------------------------------------')\n",
    "print(test.isna().sum())\n",
    "print('-----------------------------------------------------------------')\n",
    "print(full.isna().sum())"
   ]
  },
  {
   "cell_type": "markdown",
   "id": "4e5824db",
   "metadata": {},
   "source": [
    "ИТОГ:Изучив данные, обнаружены пропуски и различия по количеству признаков в выборках train и test.\n",
    "Значения признака rougher.output.recovery указаны верно. Пропуски были заполнены методов ffill.\n"
   ]
  },
  {
   "cell_type": "markdown",
   "id": "91e3889b",
   "metadata": {},
   "source": [
    "## Анализ данных"
   ]
  },
  {
   "cell_type": "markdown",
   "id": "6ba0d7e8",
   "metadata": {},
   "source": [
    "### 1. Посмотрите, как меняется концентрация металлов (Au, Ag, Pb) на различных этапах очистки. Опишите выводы. "
   ]
  },
  {
   "cell_type": "code",
   "execution_count": 12,
   "id": "b8eed098",
   "metadata": {},
   "outputs": [
    {
     "data": {
      "image/png": "[encoded data removed]",
      "text/plain": [
       "<Figure size 1500x700 with 1 Axes>"
      ]
     },
     "metadata": {},
     "output_type": "display_data"
    }
   ],
   "source": [
    "#Построим график по медианным значениям концентраций металлов\n",
    "ag_conc = full[['rougher.input.feed_ag','rougher.output.concentrate_ag', \n",
    "                'primary_cleaner.output.concentrate_ag', 'final.output.concentrate_ag']].median()\n",
    "pb_conc = full[['rougher.input.feed_pb','rougher.output.concentrate_pb', \n",
    "                'primary_cleaner.output.concentrate_pb', 'final.output.concentrate_pb']].median()\n",
    "au_conc = full[['rougher.input.feed_au','rougher.output.concentrate_au', \n",
    "                'primary_cleaner.output.concentrate_au', 'final.output.concentrate_au']].median()\n",
    "ag_conc.plot(figsize = (15, 7), label = 'Ag', style = 'o-')\n",
    "pb_conc.plot(figsize = (15, 7), label = 'Pb', style = 'o-')\n",
    "au_conc.plot(figsize = (15, 7), label = 'Au', style = 'o-')\n",
    "plt.title('Концентрация металлов')\n",
    "plt.legend()\n",
    "plt.xlabel('Этапы очистки')\n",
    "plt.ylabel('Значения концентраций')\n",
    "x_ticks = [0,1,2,3]\n",
    "x_labels = ['rougher.input.feed', 'rougher.output.concentrate', 'primary_cleaner.output.concentrate', 'final.output.concentrate'] \n",
    "plt.xticks(ticks=x_ticks, labels=x_labels)\n",
    "\n",
    "plt.show()"
   ]
  },
  {
   "cell_type": "markdown",
   "id": "d9f08711",
   "metadata": {},
   "source": [
    "На графике видим, что концентрация золота закономерно увеличивается в процессе обогащения и после второй очистки имеет наивысший результат. Колебания концентрации других металов могут быть связаны с разными химическими реакциями во время произв.процесса."
   ]
  },
  {
   "cell_type": "code",
   "execution_count": 13,
   "id": "fdd683e5",
   "metadata": {},
   "outputs": [
    {
     "data": {
      "image/png": "[encoded data removed]",
      "text/plain": [
       "<Figure size 640x480 with 1 Axes>"
      ]
     },
     "metadata": {},
     "output_type": "display_data"
    }
   ],
   "source": [
    "plt.hist(full['rougher.input.feed_ag'],  bins=200, color='yellow', label='rougher.input', range=(0, 20), alpha=0.4)\n",
    "plt.hist(full['rougher.output.concentrate_ag'],  bins=200, color='green', label='rougher.output', range=(0, 20), alpha=0.4)\n",
    "plt.hist(full['primary_cleaner.output.concentrate_ag'],  bins=200, color='red', label='primary_cleaner.output', range=(0, 20), alpha=0.4)\n",
    "plt.hist(full['final.output.concentrate_ag'],  bins=200, color='blue', label='final.output', range=(0, 20), alpha=0.4)\n",
    "plt.title('Распределения концентрации Ag на разных этапах')\n",
    "plt.xlabel('Значения концентраций')\n",
    "plt.ylabel('Количество значений')\n",
    "plt.legend()\n",
    "plt.show()"
   ]
  },
  {
   "cell_type": "markdown",
   "id": "4998ef8a",
   "metadata": {},
   "source": [
    "Концентрация Ag уменьшается к завершению цикла обогащения."
   ]
  },
  {
   "cell_type": "code",
   "execution_count": 14,
   "id": "f1082642",
   "metadata": {},
   "outputs": [
    {
     "data": {
      "image/png": "[encoded data removed]",
      "text/plain": [
       "<Figure size 640x480 with 1 Axes>"
      ]
     },
     "metadata": {},
     "output_type": "display_data"
    }
   ],
   "source": [
    "plt.hist(full['rougher.input.feed_pb'],  bins=200, color='yellow', label='rougher.input', range=(0, 15), alpha=0.4)\n",
    "plt.hist(full['rougher.output.concentrate_pb'],  bins=200, color='green', label='rougher.output', range=(0, 15), alpha=0.4)\n",
    "plt.hist(full['primary_cleaner.output.concentrate_pb'],  bins=200, color='red', label='primary_cleaner.output', range=(0, 15), alpha=0.4)\n",
    "plt.hist(full['final.output.concentrate_pb'],  bins=200, color='blue', label='final.output', range=(0, 15), alpha=0.4)\n",
    "plt.title('Распределения концентрации Pb на разных этапах')\n",
    "plt.xlabel('Значения концентраций')\n",
    "plt.ylabel('Количество значений')\n",
    "plt.legend()\n",
    "plt.show()"
   ]
  },
  {
   "cell_type": "markdown",
   "id": "7ad8c204",
   "metadata": {},
   "source": [
    "Концентрация Pb увеличивается после первой очистки"
   ]
  },
  {
   "cell_type": "code",
   "execution_count": 15,
   "id": "bdeaf122",
   "metadata": {},
   "outputs": [
    {
     "data": {
      "image/png": "[encoded data removed]",
      "text/plain": [
       "<Figure size 640x480 with 1 Axes>"
      ]
     },
     "metadata": {},
     "output_type": "display_data"
    }
   ],
   "source": [
    "plt.hist(full['rougher.input.feed_au'],  bins=200, color='yellow', label='rougher.input', range=(0, 55), alpha=0.4)\n",
    "plt.hist(full['rougher.output.concentrate_au'],  bins=200, color='green', label='rougher.output', range=(0, 55), alpha=0.4)\n",
    "plt.hist(full['primary_cleaner.output.concentrate_au'],  bins=200, color='red', label='primary_cleaner.output', range=(0, 55), alpha=0.4)\n",
    "plt.hist(full['final.output.concentrate_au'],  bins=200, color='blue', label='final.output', range=(0, 55), alpha=0.4)\n",
    "plt.title('Распределения концентрации Au на разных этапах')\n",
    "plt.xlabel('Значения концентраций')\n",
    "plt.ylabel('Количество значений')\n",
    "plt.legend(fontsize=5)\n",
    "plt.show()"
   ]
  },
  {
   "cell_type": "markdown",
   "id": "53c2279b",
   "metadata": {},
   "source": [
    "Концентрация золота увеличивается в процессе обогащения и после второй очистки имеет наивысший результат."
   ]
  },
  {
   "cell_type": "markdown",
   "id": "494b19d1",
   "metadata": {},
   "source": [
    "    Итог: целью процесса обогащения в данном случае является ощичение золота(повышение концентрации) от других составляющих золотоносной руды. При этом в процессе могут повышаться или понижаться концентрации сопутствующих металлов, в зависимотсти от реагентов и по иным причинам.\n",
    "    Мы видим нулевые концентрации, это выбросы, которые обрабатываются ниже."
   ]
  },
  {
   "cell_type": "markdown",
   "id": "6026de73",
   "metadata": {},
   "source": [
    "### 2.Сравните распределения размеров гранул сырья на обучающей и тестовой выборках. Если распределения сильно отличаются друг от друга, оценка модели будет неправильной."
   ]
  },
  {
   "cell_type": "code",
   "execution_count": 16,
   "id": "423e8840",
   "metadata": {},
   "outputs": [
    {
     "data": {
      "image/png": "[encoded data removed]",
      "text/plain": [
       "<Figure size 640x480 with 1 Axes>"
      ]
     },
     "metadata": {},
     "output_type": "display_data"
    }
   ],
   "source": [
    "# Построим плотности распределения, тк объемы выборок отличаются.\n",
    "plt.hist(train['rougher.input.feed_size'], bins=200, color='yellow', label='train', range=(20, 140), alpha=0.4, density=True)\n",
    "plt.hist(test['rougher.input.feed_size'], bins=200, color='green', label='test', range=(20, 140), alpha=0.3, density=True)\n",
    "plt.title('Распределения размеров гранул сырья на этапе флотации')\n",
    "plt.xlabel('Размер гранул')\n",
    "plt.ylabel('Количество значений')\n",
    "plt.legend()\n",
    "plt.show()"
   ]
  },
  {
   "cell_type": "code",
   "execution_count": 17,
   "id": "652dbb21",
   "metadata": {},
   "outputs": [
    {
     "data": {
      "image/png": "[encoded data removed]",
      "text/plain": [
       "<Figure size 640x480 with 1 Axes>"
      ]
     },
     "metadata": {},
     "output_type": "display_data"
    }
   ],
   "source": [
    "plt.hist(train['primary_cleaner.input.feed_size'], bins=250, color='yellow', label='train', range=(5, 10), alpha=0.5, density=True)\n",
    "plt.hist(test['primary_cleaner.input.feed_size'], bins=250, color='green', label='test', range=(5, 10), alpha=0.25, density=True)\n",
    "plt.title('Распределения размеров гранул сырья после первичной очистки')\n",
    "plt.xlabel('Размер гранул')\n",
    "plt.ylabel('Количество значений')\n",
    "plt.legend()\n",
    "plt.show()"
   ]
  },
  {
   "cell_type": "markdown",
   "id": "cd76b370",
   "metadata": {},
   "source": [
    "Распределения размеров гранул сырья на обучающей и тестовой выборках очень похожи между собой."
   ]
  },
  {
   "cell_type": "markdown",
   "id": "4d57bea7",
   "metadata": {},
   "source": [
    "### 3. Исследуйте суммарную концентрацию всех веществ на разных стадиях: в сырье, в черновом и финальном концентратах.  "
   ]
  },
  {
   "cell_type": "code",
   "execution_count": 18,
   "id": "439d3557",
   "metadata": {},
   "outputs": [],
   "source": [
    "#Вытащим нужные признаки\n",
    "rougher_input_feed = full['rougher.input.feed_ag'] + full['rougher.input.feed_pb'] + full['rougher.input.feed_au']\n",
    "rougher_output_conc = full['rougher.output.concentrate_pb']+full['rougher.output.concentrate_ag']+full['rougher.output.concentrate_au']\n",
    "primary_cleaner_output_conc = full['primary_cleaner.output.concentrate_au']+full['primary_cleaner.output.concentrate_ag']+full['primary_cleaner.output.concentrate_pb']\n",
    "final_output_conc = full['final.output.concentrate_au']+full['final.output.concentrate_ag']+full['final.output.concentrate_pb']\n"
   ]
  },
  {
   "cell_type": "code",
   "execution_count": 19,
   "id": "d57e7069",
   "metadata": {},
   "outputs": [
    {
     "data": {
      "image/png": "[encoded data removed]",
      "text/plain": [
       "<Figure size 640x480 with 1 Axes>"
      ]
     },
     "metadata": {},
     "output_type": "display_data"
    }
   ],
   "source": [
    "plt.hist(rougher_input_feed, bins=150, color='blue', label='input', range=(-1, 80), alpha=0.4)\n",
    "plt.hist(rougher_output_conc, bins=150, color='green', label='rougher_output', range=(-1, 80), alpha=0.4)\n",
    "plt.hist(primary_cleaner_output_conc, bins=150, color='yellow', label='primary_cleaner', range=(-1, 80), alpha=0.4)\n",
    "plt.hist(final_output_conc, bins=150, color='red', label='final_output', range=(-1, 80), alpha=0.4)\n",
    "plt.title('Суммарная концентрация всех веществ на разных стадиях')\n",
    "plt.xlabel('Значения концентраций')\n",
    "plt.ylabel('Количество значений')\n",
    "plt.legend()\n",
    "plt.show()"
   ]
  },
  {
   "cell_type": "markdown",
   "id": "9286d196",
   "metadata": {},
   "source": [
    "Суммарная концентрация вещества увеличивается с каждым этапом очистки. После второй очистки распределение концентраций веществ достигает максимума по сравнению с предыдущими стадиями."
   ]
  },
  {
   "cell_type": "code",
   "execution_count": 20,
   "id": "91d80fdf",
   "metadata": {},
   "outputs": [
    {
     "data": {
      "image/png": "[encoded data removed]",
      "text/plain": [
       "<Figure size 640x480 with 1 Axes>"
      ]
     },
     "metadata": {},
     "output_type": "display_data"
    }
   ],
   "source": [
    "# Видим на графике значения около нуля, приблизим график.\n",
    "plt.hist(rougher_input_feed, bins=150, color='blue', label='input', range=(-1, 80), alpha=0.4)\n",
    "plt.hist(rougher_output_conc, bins=150, color='green', label='rougher_output', range=(-1, 80), alpha=0.4)\n",
    "plt.hist(primary_cleaner_output_conc, bins=150, color='yellow', label='primary_cleaner', range=(-1, 80), alpha=0.4)\n",
    "plt.hist(final_output_conc, bins=150, color='red', label='final_output', range=(-1, 80), alpha=0.4)\n",
    "plt.title('Суммарная концентрация всех веществ на разных стадиях')\n",
    "plt.legend()\n",
    "plt.xlim([-1, 2])\n",
    "plt.show()"
   ]
  },
  {
   "cell_type": "markdown",
   "id": "50fc9d1c",
   "metadata": {},
   "source": [
    "Мы видим, что суммарные концентрции очень близки к 0 и даже есть отрицательные значения, эти аномалии стоит удалить."
   ]
  },
  {
   "cell_type": "code",
   "execution_count": 21,
   "id": "3b21e93b",
   "metadata": {},
   "outputs": [],
   "source": [
    "# Удалим аномалии\n",
    "def anomaly(data):\n",
    "    data = data[(data['rougher.input.feed_ag'] >= 1) &\n",
    "            (data['rougher.input.feed_pb'] >= 1) &\n",
    "            (data['rougher.input.feed_sol'] >= 1) &\n",
    "            (data['rougher.input.feed_au'] >= 1) &\n",
    "            (data['rougher.output.concentrate_ag'] >= 1) &\n",
    "            (data['rougher.output.concentrate_pb'] >= 1) &\n",
    "            (data['rougher.output.concentrate_sol'] >= 1) &\n",
    "            (data['rougher.output.concentrate_au'] >= 1) &\n",
    "            (data['primary_cleaner.output.concentrate_ag'] >= 1) &\n",
    "            (data['primary_cleaner.output.concentrate_pb'] >= 1) &\n",
    "            (data['primary_cleaner.output.concentrate_sol'] >= 1) &\n",
    "            (data['primary_cleaner.output.concentrate_au'] >= 1) &\n",
    "            (data['final.output.concentrate_ag'] >= 1) &\n",
    "            (data['final.output.concentrate_pb'] >= 1) &\n",
    "            (data['final.output.concentrate_sol'] >= 1) &\n",
    "            (data['final.output.concentrate_au'] >= 1)]\n",
    "    \n",
    "    return data\n",
    "train = anomaly(train)\n",
    "full = anomaly(full)\n",
    "#аналогично удаляю из датафрейма test концентрации до 1:\n",
    "test = test[(test['rougher.input.feed_ag'] >= 1) &\n",
    "            (test['rougher.input.feed_pb'] >= 1) &\n",
    "            (test['rougher.input.feed_sol'] >= 1) &\n",
    "            (test['rougher.input.feed_au'] >= 1)]"
   ]
  },
  {
   "cell_type": "markdown",
   "id": "ea66ee86",
   "metadata": {},
   "source": [
    "ИТОГ: Концентрация золота закономерно увеличивается в процессе обогащения. Также суммарная концентрация вещества увеличивается с каждым этапом очистки.\n"
   ]
  },
  {
   "cell_type": "markdown",
   "id": "8b772e2b",
   "metadata": {},
   "source": [
    "## Построение модели\n"
   ]
  },
  {
   "cell_type": "markdown",
   "id": "46628edb",
   "metadata": {},
   "source": [
    "Перед построение модели данные нужно подготовить.\n",
    "Из-за выявленных аномалий подготовку данных для обучения проведем в этом этапе."
   ]
  },
  {
   "cell_type": "code",
   "execution_count": 22,
   "id": "bb4e25b6",
   "metadata": {},
   "outputs": [],
   "source": [
    "# Удалим признаки, которых нет в тестовой выборке\n",
    "train.drop(abcent_columns, axis=1, inplace=True)\n",
    "# Верну в train и добавлю в test целевые признаки.\n",
    "train = train.join(full[['final.output.recovery', 'rougher.output.recovery']], how='left')\n",
    "test = test.join(full[['final.output.recovery', 'rougher.output.recovery']], how='left')"
   ]
  },
  {
   "cell_type": "code",
   "execution_count": 23,
   "id": "7b609ad4",
   "metadata": {},
   "outputs": [
    {
     "data": {
      "text/plain": [
       "['primary_cleaner.input.sulfate',\n",
       " 'primary_cleaner.input.depressant',\n",
       " 'primary_cleaner.input.feed_size',\n",
       " 'primary_cleaner.input.xanthate',\n",
       " 'primary_cleaner.state.floatbank8_a_air',\n",
       " 'primary_cleaner.state.floatbank8_a_level',\n",
       " 'primary_cleaner.state.floatbank8_b_air',\n",
       " 'primary_cleaner.state.floatbank8_b_level',\n",
       " 'primary_cleaner.state.floatbank8_c_air',\n",
       " 'primary_cleaner.state.floatbank8_c_level',\n",
       " 'primary_cleaner.state.floatbank8_d_air',\n",
       " 'primary_cleaner.state.floatbank8_d_level',\n",
       " 'rougher.input.feed_ag',\n",
       " 'rougher.input.feed_pb',\n",
       " 'rougher.input.feed_rate',\n",
       " 'rougher.input.feed_size',\n",
       " 'rougher.input.feed_sol',\n",
       " 'rougher.input.feed_au',\n",
       " 'rougher.input.floatbank10_sulfate',\n",
       " 'rougher.input.floatbank10_xanthate',\n",
       " 'rougher.input.floatbank11_sulfate',\n",
       " 'rougher.input.floatbank11_xanthate',\n",
       " 'rougher.state.floatbank10_a_air',\n",
       " 'rougher.state.floatbank10_a_level',\n",
       " 'rougher.state.floatbank10_b_air',\n",
       " 'rougher.state.floatbank10_b_level',\n",
       " 'rougher.state.floatbank10_c_air',\n",
       " 'rougher.state.floatbank10_c_level',\n",
       " 'rougher.state.floatbank10_d_air',\n",
       " 'rougher.state.floatbank10_d_level',\n",
       " 'rougher.state.floatbank10_e_air',\n",
       " 'rougher.state.floatbank10_e_level',\n",
       " 'rougher.state.floatbank10_f_air',\n",
       " 'rougher.state.floatbank10_f_level',\n",
       " 'secondary_cleaner.state.floatbank2_a_air',\n",
       " 'secondary_cleaner.state.floatbank2_a_level',\n",
       " 'secondary_cleaner.state.floatbank2_b_air',\n",
       " 'secondary_cleaner.state.floatbank2_b_level',\n",
       " 'secondary_cleaner.state.floatbank3_a_air',\n",
       " 'secondary_cleaner.state.floatbank3_a_level',\n",
       " 'secondary_cleaner.state.floatbank3_b_air',\n",
       " 'secondary_cleaner.state.floatbank3_b_level',\n",
       " 'secondary_cleaner.state.floatbank4_a_air',\n",
       " 'secondary_cleaner.state.floatbank4_a_level',\n",
       " 'secondary_cleaner.state.floatbank4_b_air',\n",
       " 'secondary_cleaner.state.floatbank4_b_level',\n",
       " 'secondary_cleaner.state.floatbank5_a_air',\n",
       " 'secondary_cleaner.state.floatbank5_a_level',\n",
       " 'secondary_cleaner.state.floatbank5_b_air',\n",
       " 'secondary_cleaner.state.floatbank5_b_level',\n",
       " 'secondary_cleaner.state.floatbank6_a_air',\n",
       " 'secondary_cleaner.state.floatbank6_a_level',\n",
       " 'final.output.recovery',\n",
       " 'rougher.output.recovery']"
      ]
     },
     "execution_count": 23,
     "metadata": {},
     "output_type": "execute_result"
    }
   ],
   "source": [
    "list(train.columns)"
   ]
  },
  {
   "cell_type": "code",
   "execution_count": 24,
   "id": "5fee5f63",
   "metadata": {},
   "outputs": [],
   "source": [
    "# Разделим выборки на признаки и целевые признаки\n",
    "features_train = train.drop(['final.output.recovery', 'rougher.output.recovery'], axis=1)\n",
    "target_rougher_train = train['rougher.output.recovery']\n",
    "target_final_train = train['final.output.recovery']\n",
    "\n",
    "features_test = test.drop(['final.output.recovery', 'rougher.output.recovery'], axis=1) \n",
    "target_rougher_test = test['rougher.output.recovery']\n",
    "target_final_test = test['final.output.recovery']"
   ]
  },
  {
   "cell_type": "code",
   "execution_count": 25,
   "id": "ca3c080b",
   "metadata": {},
   "outputs": [],
   "source": [
    " #Масштабируем признаки  \n",
    "pd.options.mode.chained_assignment = None\n",
    "scaler = StandardScaler()\n",
    "scaler.fit(features_train[features_train.columns])\n",
    "features_train[features_train.columns] = scaler.transform(features_train[features_train.columns])\n",
    "features_test[features_train.columns] = scaler.transform(features_test[features_train.columns])"
   ]
  },
  {
   "cell_type": "markdown",
   "id": "13fe1397",
   "metadata": {},
   "source": [
    "### 1.Напишите функцию для вычисления итоговой sMAPE. "
   ]
  },
  {
   "cell_type": "code",
   "execution_count": 26,
   "id": "3b58c738",
   "metadata": {},
   "outputs": [],
   "source": [
    "def smape(target, predict):\n",
    "    return (np.mean(abs(target - predict) / ((abs(target) + abs(predict)) / 2)) * 100)\n",
    "    \n",
    "def final_smape(smape_rougher, smape_final):\n",
    "    return 0.25*smape_rougher + 0.75*smape_final "
   ]
  },
  {
   "cell_type": "markdown",
   "id": "66b9cde0",
   "metadata": {},
   "source": [
    "### 2.Обучите разные модели и оцените их качество кросс-валидацией. Выберите лучшую модель и проверьте её на тестовой выборке. Опишите выводы"
   ]
  },
  {
   "cell_type": "code",
   "execution_count": 27,
   "id": "72e4be12",
   "metadata": {},
   "outputs": [],
   "source": [
    "#  Используем метод make_scorer для преобразования smape в оценочную метрику для использвания при кросс-валидации\n",
    "score = make_scorer(smape, greater_is_better = False) "
   ]
  },
  {
   "cell_type": "code",
   "execution_count": 28,
   "id": "425f5de8",
   "metadata": {},
   "outputs": [
    {
     "name": "stdout",
     "output_type": "stream",
     "text": [
      "sMAPE на тестовой выборке = 12.737\n"
     ]
    }
   ],
   "source": [
    "# Строим Dummy модель и обучаем\n",
    "\n",
    "model_dummy = DummyRegressor()\n",
    "model_dummy_rougher = model_dummy.fit(features_train, target_rougher_train)\n",
    "model_dummy_final = model_dummy.fit(features_train, target_final_train)\n",
    "predicted_test_rougher = model_dummy_rougher.predict(features_test)\n",
    "predicted_test_final = model_dummy_final.predict(features_test)\n",
    "\n",
    "rouger_smape_dummy = smape(target_rougher_test, predicted_test_rougher)\n",
    "final_smape_dummy = smape(target_final_test, predicted_test_final)\n",
    "\n",
    "result = final_smape(rouger_smape_dummy, final_smape_dummy)\n",
    "print('sMAPE на тестовой выборке =', round(result,3))"
   ]
  },
  {
   "cell_type": "markdown",
   "id": "8daf0eb1",
   "metadata": {},
   "source": [
    "Итоговое sMAPE при использовании константной модели = 12,737"
   ]
  },
  {
   "cell_type": "code",
   "execution_count": 29,
   "id": "82326a2b",
   "metadata": {},
   "outputs": [
    {
     "name": "stdout",
     "output_type": "stream",
     "text": [
      "Fitting 3 folds for each of 1 candidates, totalling 3 fits\n",
      "Fitting 3 folds for each of 1 candidates, totalling 3 fits\n"
     ]
    },
    {
     "data": {
      "text/plain": [
       "RandomizedSearchCV(cv=3, estimator=LinearRegression(), n_jobs=-1,\n",
       "                   param_distributions={}, random_state=12345,\n",
       "                   scoring=make_scorer(smape, greater_is_better=False),\n",
       "                   verbose=10)"
      ]
     },
     "execution_count": 29,
     "metadata": {},
     "output_type": "execute_result"
    }
   ],
   "source": [
    "# Строим LinearRegression и обучаем\n",
    "params_lr = {}\n",
    "model_lr_rougher = RandomizedSearchCV(LinearRegression(), params_lr, scoring=score, n_jobs=-1, random_state=12345, cv=3, verbose=10)\n",
    "model_lr_final = RandomizedSearchCV(LinearRegression(), params_lr, scoring=score, n_jobs=-1, random_state=12345, cv=3, verbose=10)\n",
    "model_lr_rougher.fit(features_train, target_rougher_train)\n",
    "model_lr_final.fit(features_train, target_final_train)"
   ]
  },
  {
   "cell_type": "code",
   "execution_count": 30,
   "id": "d5b38e97",
   "metadata": {},
   "outputs": [
    {
     "name": "stdout",
     "output_type": "stream",
     "text": [
      "Fitting 3 folds for each of 10 candidates, totalling 30 fits\n",
      "0:\tlearn: 7.5164369\ttotal: 141ms\tremaining: 11.4s\n",
      "1:\tlearn: 7.3153315\ttotal: 145ms\tremaining: 5.8s\n",
      "2:\tlearn: 7.1273848\ttotal: 149ms\tremaining: 3.92s\n",
      "3:\tlearn: 6.9650957\ttotal: 155ms\tremaining: 3.02s\n",
      "4:\tlearn: 6.8000219\ttotal: 158ms\tremaining: 2.44s\n",
      "5:\tlearn: 6.6801314\ttotal: 162ms\tremaining: 2.06s\n",
      "6:\tlearn: 6.5684856\ttotal: 167ms\tremaining: 1.79s\n",
      "7:\tlearn: 6.4624820\ttotal: 171ms\tremaining: 1.58s\n",
      "8:\tlearn: 6.3507335\ttotal: 175ms\tremaining: 1.42s\n",
      "9:\tlearn: 6.2502357\ttotal: 179ms\tremaining: 1.29s\n",
      "10:\tlearn: 6.1776625\ttotal: 183ms\tremaining: 1.18s\n",
      "11:\tlearn: 6.0966765\ttotal: 187ms\tremaining: 1.09s\n",
      "12:\tlearn: 6.0265646\ttotal: 190ms\tremaining: 1.01s\n",
      "13:\tlearn: 5.9600436\ttotal: 194ms\tremaining: 944ms\n",
      "14:\tlearn: 5.9009640\ttotal: 199ms\tremaining: 889ms\n",
      "15:\tlearn: 5.8466108\ttotal: 203ms\tremaining: 835ms\n",
      "16:\tlearn: 5.7952200\ttotal: 206ms\tremaining: 788ms\n",
      "17:\tlearn: 5.7533370\ttotal: 210ms\tremaining: 746ms\n",
      "18:\tlearn: 5.7114636\ttotal: 214ms\tremaining: 710ms\n",
      "19:\tlearn: 5.6676208\ttotal: 219ms\tremaining: 680ms\n",
      "20:\tlearn: 5.6205726\ttotal: 226ms\tremaining: 656ms\n",
      "21:\tlearn: 5.5869573\ttotal: 231ms\tremaining: 630ms\n",
      "22:\tlearn: 5.5520947\ttotal: 235ms\tremaining: 602ms\n",
      "23:\tlearn: 5.5224985\ttotal: 239ms\tremaining: 577ms\n",
      "24:\tlearn: 5.4906893\ttotal: 243ms\tremaining: 554ms\n",
      "25:\tlearn: 5.4634141\ttotal: 248ms\tremaining: 534ms\n",
      "26:\tlearn: 5.4370032\ttotal: 253ms\tremaining: 515ms\n",
      "27:\tlearn: 5.4168097\ttotal: 257ms\tremaining: 495ms\n",
      "28:\tlearn: 5.3941634\ttotal: 261ms\tremaining: 477ms\n",
      "29:\tlearn: 5.3709719\ttotal: 266ms\tremaining: 461ms\n",
      "30:\tlearn: 5.3508798\ttotal: 271ms\tremaining: 445ms\n",
      "31:\tlearn: 5.3280961\ttotal: 275ms\tremaining: 430ms\n",
      "32:\tlearn: 5.3075210\ttotal: 279ms\tremaining: 414ms\n",
      "33:\tlearn: 5.2908296\ttotal: 282ms\tremaining: 399ms\n",
      "34:\tlearn: 5.2769035\ttotal: 286ms\tremaining: 385ms\n",
      "35:\tlearn: 5.2636650\ttotal: 291ms\tremaining: 371ms\n",
      "36:\tlearn: 5.2460570\ttotal: 295ms\tremaining: 359ms\n",
      "37:\tlearn: 5.2273164\ttotal: 301ms\tremaining: 348ms\n",
      "38:\tlearn: 5.2150271\ttotal: 305ms\tremaining: 336ms\n",
      "39:\tlearn: 5.2015466\ttotal: 308ms\tremaining: 324ms\n",
      "40:\tlearn: 5.1902507\ttotal: 313ms\tremaining: 313ms\n",
      "41:\tlearn: 5.1752211\ttotal: 317ms\tremaining: 302ms\n",
      "42:\tlearn: 5.1581569\ttotal: 321ms\tremaining: 291ms\n",
      "43:\tlearn: 5.1415843\ttotal: 325ms\tremaining: 281ms\n",
      "44:\tlearn: 5.1312599\ttotal: 330ms\tremaining: 272ms\n",
      "45:\tlearn: 5.1179414\ttotal: 336ms\tremaining: 263ms\n",
      "46:\tlearn: 5.1073190\ttotal: 341ms\tremaining: 254ms\n",
      "47:\tlearn: 5.0955890\ttotal: 349ms\tremaining: 247ms\n",
      "48:\tlearn: 5.0836249\ttotal: 357ms\tremaining: 240ms\n",
      "49:\tlearn: 5.0747474\ttotal: 361ms\tremaining: 231ms\n",
      "50:\tlearn: 5.0649996\ttotal: 367ms\tremaining: 223ms\n",
      "51:\tlearn: 5.0567012\ttotal: 372ms\tremaining: 214ms\n",
      "52:\tlearn: 5.0484588\ttotal: 377ms\tremaining: 206ms\n",
      "53:\tlearn: 5.0388676\ttotal: 382ms\tremaining: 198ms\n",
      "54:\tlearn: 5.0293950\ttotal: 388ms\tremaining: 190ms\n",
      "55:\tlearn: 5.0164717\ttotal: 396ms\tremaining: 184ms\n",
      "56:\tlearn: 5.0092417\ttotal: 401ms\tremaining: 176ms\n",
      "57:\tlearn: 5.0029709\ttotal: 405ms\tremaining: 168ms\n",
      "58:\tlearn: 4.9946212\ttotal: 410ms\tremaining: 160ms\n",
      "59:\tlearn: 4.9845050\ttotal: 414ms\tremaining: 152ms\n",
      "60:\tlearn: 4.9721130\ttotal: 418ms\tremaining: 144ms\n",
      "61:\tlearn: 4.9652929\ttotal: 422ms\tremaining: 136ms\n",
      "62:\tlearn: 4.9568608\ttotal: 426ms\tremaining: 129ms\n",
      "63:\tlearn: 4.9511134\ttotal: 431ms\tremaining: 121ms\n",
      "64:\tlearn: 4.9423575\ttotal: 436ms\tremaining: 114ms\n",
      "65:\tlearn: 4.9321027\ttotal: 440ms\tremaining: 107ms\n",
      "66:\tlearn: 4.9239920\ttotal: 443ms\tremaining: 99.3ms\n",
      "67:\tlearn: 4.9154882\ttotal: 447ms\tremaining: 92.1ms\n",
      "68:\tlearn: 4.9101248\ttotal: 451ms\tremaining: 85ms\n",
      "69:\tlearn: 4.9014991\ttotal: 455ms\tremaining: 77.9ms\n",
      "70:\tlearn: 4.8964512\ttotal: 459ms\tremaining: 71ms\n",
      "71:\tlearn: 4.8906449\ttotal: 462ms\tremaining: 64.2ms\n",
      "72:\tlearn: 4.8831396\ttotal: 468ms\tremaining: 57.6ms\n",
      "73:\tlearn: 4.8694936\ttotal: 471ms\tremaining: 51ms\n",
      "74:\tlearn: 4.8620032\ttotal: 476ms\tremaining: 44.4ms\n",
      "75:\tlearn: 4.8543192\ttotal: 479ms\tremaining: 37.8ms\n",
      "76:\tlearn: 4.8453606\ttotal: 483ms\tremaining: 31.4ms\n",
      "77:\tlearn: 4.8387988\ttotal: 487ms\tremaining: 25ms\n",
      "78:\tlearn: 4.8320372\ttotal: 492ms\tremaining: 18.7ms\n",
      "79:\tlearn: 4.8264199\ttotal: 498ms\tremaining: 12.4ms\n",
      "80:\tlearn: 4.8115947\ttotal: 502ms\tremaining: 6.2ms\n",
      "81:\tlearn: 4.8052702\ttotal: 506ms\tremaining: 0us\n",
      "Fitting 3 folds for each of 10 candidates, totalling 30 fits\n",
      "0:\tlearn: 8.9445964\ttotal: 5.54ms\tremaining: 725ms\n",
      "1:\tlearn: 8.9275732\ttotal: 12.3ms\tremaining: 797ms\n",
      "2:\tlearn: 8.9111930\ttotal: 17.5ms\tremaining: 751ms\n",
      "3:\tlearn: 8.8941727\ttotal: 23.4ms\tremaining: 748ms\n",
      "4:\tlearn: 8.8777472\ttotal: 40.7ms\tremaining: 1.03s\n",
      "5:\tlearn: 8.8619035\ttotal: 48.4ms\tremaining: 1.02s\n",
      "6:\tlearn: 8.8463615\ttotal: 53.8ms\tremaining: 961ms\n",
      "7:\tlearn: 8.8309667\ttotal: 59.5ms\tremaining: 922ms\n",
      "8:\tlearn: 8.8152591\ttotal: 64.6ms\tremaining: 883ms\n",
      "9:\tlearn: 8.8000626\ttotal: 70.2ms\tremaining: 857ms\n",
      "10:\tlearn: 8.7851195\ttotal: 75.3ms\tremaining: 829ms\n",
      "11:\tlearn: 8.7701098\ttotal: 80.8ms\tremaining: 808ms\n",
      "12:\tlearn: 8.7566809\ttotal: 86.1ms\tremaining: 788ms\n",
      "13:\tlearn: 8.7422091\ttotal: 91.5ms\tremaining: 772ms\n",
      "14:\tlearn: 8.7279458\ttotal: 98.9ms\tremaining: 772ms\n",
      "15:\tlearn: 8.7145284\ttotal: 104ms\tremaining: 755ms\n",
      "16:\tlearn: 8.7008170\ttotal: 109ms\tremaining: 739ms\n",
      "17:\tlearn: 8.6872314\ttotal: 113ms\tremaining: 714ms\n",
      "18:\tlearn: 8.6737782\ttotal: 117ms\tremaining: 698ms\n",
      "19:\tlearn: 8.6605553\ttotal: 122ms\tremaining: 683ms\n",
      "20:\tlearn: 8.6478085\ttotal: 126ms\tremaining: 667ms\n",
      "21:\tlearn: 8.6351680\ttotal: 132ms\tremaining: 659ms\n",
      "22:\tlearn: 8.6233271\ttotal: 136ms\tremaining: 644ms\n",
      "23:\tlearn: 8.6119575\ttotal: 140ms\tremaining: 631ms\n",
      "24:\tlearn: 8.6005874\ttotal: 145ms\tremaining: 622ms\n",
      "25:\tlearn: 8.5904202\ttotal: 152ms\tremaining: 619ms\n",
      "26:\tlearn: 8.5789382\ttotal: 158ms\tremaining: 615ms\n",
      "27:\tlearn: 8.5674019\ttotal: 163ms\tremaining: 606ms\n",
      "28:\tlearn: 8.5564662\ttotal: 169ms\tremaining: 599ms\n",
      "29:\tlearn: 8.5460705\ttotal: 174ms\tremaining: 591ms\n",
      "30:\tlearn: 8.5351806\ttotal: 179ms\tremaining: 584ms\n",
      "31:\tlearn: 8.5244877\ttotal: 184ms\tremaining: 574ms\n",
      "32:\tlearn: 8.5138840\ttotal: 190ms\tremaining: 569ms\n",
      "33:\tlearn: 8.5035526\ttotal: 194ms\tremaining: 560ms\n",
      "34:\tlearn: 8.4927623\ttotal: 201ms\tremaining: 558ms\n",
      "35:\tlearn: 8.4819387\ttotal: 216ms\tremaining: 577ms\n",
      "36:\tlearn: 8.4710630\ttotal: 228ms\tremaining: 584ms\n",
      "37:\tlearn: 8.4612636\ttotal: 243ms\tremaining: 602ms\n",
      "38:\tlearn: 8.4517700\ttotal: 252ms\tremaining: 602ms\n",
      "39:\tlearn: 8.4415305\ttotal: 261ms\tremaining: 601ms\n",
      "40:\tlearn: 8.4312530\ttotal: 274ms\tremaining: 608ms\n",
      "41:\tlearn: 8.4220723\ttotal: 284ms\tremaining: 608ms\n",
      "42:\tlearn: 8.4122681\ttotal: 289ms\tremaining: 598ms\n",
      "43:\tlearn: 8.4027706\ttotal: 297ms\tremaining: 595ms\n",
      "44:\tlearn: 8.3926017\ttotal: 304ms\tremaining: 588ms\n",
      "45:\tlearn: 8.3828169\ttotal: 313ms\tremaining: 584ms\n",
      "46:\tlearn: 8.3734619\ttotal: 318ms\tremaining: 576ms\n",
      "47:\tlearn: 8.3631534\ttotal: 325ms\tremaining: 568ms\n",
      "48:\tlearn: 8.3540167\ttotal: 330ms\tremaining: 560ms\n",
      "49:\tlearn: 8.3448662\ttotal: 336ms\tremaining: 550ms\n",
      "50:\tlearn: 8.3350008\ttotal: 341ms\tremaining: 542ms\n",
      "51:\tlearn: 8.3256981\ttotal: 348ms\tremaining: 535ms\n",
      "52:\tlearn: 8.3165311\ttotal: 355ms\tremaining: 529ms\n",
      "53:\tlearn: 8.3070453\ttotal: 360ms\tremaining: 520ms\n",
      "54:\tlearn: 8.2983581\ttotal: 364ms\tremaining: 510ms\n",
      "55:\tlearn: 8.2898369\ttotal: 371ms\tremaining: 503ms\n",
      "56:\tlearn: 8.2815936\ttotal: 375ms\tremaining: 494ms\n",
      "57:\tlearn: 8.2719884\ttotal: 383ms\tremaining: 489ms\n",
      "58:\tlearn: 8.2639396\ttotal: 395ms\tremaining: 488ms\n",
      "59:\tlearn: 8.2562541\ttotal: 400ms\tremaining: 480ms\n",
      "60:\tlearn: 8.2480085\ttotal: 405ms\tremaining: 471ms\n",
      "61:\tlearn: 8.2398499\ttotal: 409ms\tremaining: 462ms\n",
      "62:\tlearn: 8.2318241\ttotal: 415ms\tremaining: 455ms\n",
      "63:\tlearn: 8.2233982\ttotal: 421ms\tremaining: 448ms\n",
      "64:\tlearn: 8.2150895\ttotal: 426ms\tremaining: 439ms\n",
      "65:\tlearn: 8.2065081\ttotal: 431ms\tremaining: 431ms\n",
      "66:\tlearn: 8.1976079\ttotal: 436ms\tremaining: 423ms\n",
      "67:\tlearn: 8.1894336\ttotal: 441ms\tremaining: 415ms\n",
      "68:\tlearn: 8.1810211\ttotal: 447ms\tremaining: 408ms\n",
      "69:\tlearn: 8.1731992\ttotal: 452ms\tremaining: 400ms\n",
      "70:\tlearn: 8.1642687\ttotal: 458ms\tremaining: 394ms\n",
      "71:\tlearn: 8.1565033\ttotal: 462ms\tremaining: 385ms\n",
      "72:\tlearn: 8.1492713\ttotal: 467ms\tremaining: 377ms\n",
      "73:\tlearn: 8.1416147\ttotal: 471ms\tremaining: 369ms\n",
      "74:\tlearn: 8.1335989\ttotal: 476ms\tremaining: 362ms\n",
      "75:\tlearn: 8.1260426\ttotal: 480ms\tremaining: 354ms\n",
      "76:\tlearn: 8.1193493\ttotal: 485ms\tremaining: 347ms\n",
      "77:\tlearn: 8.1109704\ttotal: 490ms\tremaining: 339ms\n",
      "78:\tlearn: 8.1037012\ttotal: 495ms\tremaining: 332ms\n",
      "79:\tlearn: 8.0970986\ttotal: 499ms\tremaining: 324ms\n",
      "80:\tlearn: 8.0905229\ttotal: 503ms\tremaining: 317ms\n",
      "81:\tlearn: 8.0840895\ttotal: 508ms\tremaining: 310ms\n",
      "82:\tlearn: 8.0769524\ttotal: 511ms\tremaining: 302ms\n",
      "83:\tlearn: 8.0696285\ttotal: 516ms\tremaining: 295ms\n",
      "84:\tlearn: 8.0633257\ttotal: 522ms\tremaining: 288ms\n",
      "85:\tlearn: 8.0564503\ttotal: 527ms\tremaining: 282ms\n",
      "86:\tlearn: 8.0497340\ttotal: 532ms\tremaining: 275ms\n",
      "87:\tlearn: 8.0419238\ttotal: 540ms\tremaining: 270ms\n",
      "88:\tlearn: 8.0361348\ttotal: 546ms\tremaining: 264ms\n",
      "89:\tlearn: 8.0297737\ttotal: 552ms\tremaining: 257ms\n",
      "90:\tlearn: 8.0232007\ttotal: 566ms\tremaining: 255ms\n",
      "91:\tlearn: 8.0174580\ttotal: 569ms\tremaining: 248ms\n",
      "92:\tlearn: 8.0105550\ttotal: 574ms\tremaining: 241ms\n",
      "93:\tlearn: 8.0049009\ttotal: 579ms\tremaining: 234ms\n",
      "94:\tlearn: 7.9988791\ttotal: 583ms\tremaining: 227ms\n",
      "95:\tlearn: 7.9928693\ttotal: 588ms\tremaining: 220ms\n",
      "96:\tlearn: 7.9868342\ttotal: 594ms\tremaining: 214ms\n",
      "97:\tlearn: 7.9813902\ttotal: 599ms\tremaining: 208ms\n",
      "98:\tlearn: 7.9750975\ttotal: 604ms\tremaining: 201ms\n",
      "99:\tlearn: 7.9692875\ttotal: 608ms\tremaining: 195ms\n",
      "100:\tlearn: 7.9632160\ttotal: 615ms\tremaining: 189ms\n",
      "101:\tlearn: 7.9574181\ttotal: 624ms\tremaining: 183ms\n",
      "102:\tlearn: 7.9502647\ttotal: 630ms\tremaining: 177ms\n",
      "103:\tlearn: 7.9435046\ttotal: 637ms\tremaining: 172ms\n",
      "104:\tlearn: 7.9382532\ttotal: 645ms\tremaining: 166ms\n",
      "105:\tlearn: 7.9321907\ttotal: 651ms\tremaining: 160ms\n",
      "106:\tlearn: 7.9271071\ttotal: 658ms\tremaining: 154ms\n",
      "107:\tlearn: 7.9217676\ttotal: 663ms\tremaining: 147ms\n",
      "108:\tlearn: 7.9162059\ttotal: 667ms\tremaining: 141ms\n",
      "109:\tlearn: 7.9100894\ttotal: 673ms\tremaining: 135ms\n",
      "110:\tlearn: 7.9046528\ttotal: 677ms\tremaining: 128ms\n",
      "111:\tlearn: 7.8986541\ttotal: 683ms\tremaining: 122ms\n",
      "112:\tlearn: 7.8924347\ttotal: 688ms\tremaining: 116ms\n",
      "113:\tlearn: 7.8875865\ttotal: 693ms\tremaining: 109ms\n",
      "114:\tlearn: 7.8824640\ttotal: 698ms\tremaining: 103ms\n",
      "115:\tlearn: 7.8765437\ttotal: 704ms\tremaining: 97.1ms\n",
      "116:\tlearn: 7.8715177\ttotal: 709ms\tremaining: 90.9ms\n",
      "117:\tlearn: 7.8661558\ttotal: 716ms\tremaining: 85ms\n",
      "118:\tlearn: 7.8607923\ttotal: 721ms\tremaining: 78.7ms\n",
      "119:\tlearn: 7.8547124\ttotal: 725ms\tremaining: 72.5ms\n",
      "120:\tlearn: 7.8494712\ttotal: 730ms\tremaining: 66.4ms\n",
      "121:\tlearn: 7.8446125\ttotal: 736ms\tremaining: 60.3ms\n",
      "122:\tlearn: 7.8390807\ttotal: 740ms\tremaining: 54.1ms\n",
      "123:\tlearn: 7.8338837\ttotal: 746ms\tremaining: 48.1ms\n",
      "124:\tlearn: 7.8293428\ttotal: 751ms\tremaining: 42ms\n",
      "125:\tlearn: 7.8251686\ttotal: 756ms\tremaining: 36ms\n",
      "126:\tlearn: 7.8197759\ttotal: 761ms\tremaining: 30ms\n",
      "127:\tlearn: 7.8148442\ttotal: 766ms\tremaining: 23.9ms\n",
      "128:\tlearn: 7.8103430\ttotal: 771ms\tremaining: 17.9ms\n",
      "129:\tlearn: 7.8054242\ttotal: 776ms\tremaining: 11.9ms\n",
      "130:\tlearn: 7.8003995\ttotal: 780ms\tremaining: 5.95ms\n",
      "131:\tlearn: 7.7955661\ttotal: 784ms\tremaining: 0us\n"
     ]
    },
    {
     "data": {
      "text/plain": [
       "RandomizedSearchCV(cv=3,\n",
       "                   estimator=<catboost.core.CatBoostRegressor object at 0x000001FCC2FC7220>,\n",
       "                   n_jobs=-1,\n",
       "                   param_distributions={'depth': [None, 2, 3, 4, 5, 6, 7, 8, 9,\n",
       "                                                  10, 11],\n",
       "                                        'learning_rate': [0.01, 0.1],\n",
       "                                        'n_estimators': [50, 51, 52, 53, 54, 55,\n",
       "                                                         56, 57, 58, 59, 60, 61,\n",
       "                                                         62, 63, 64, 65, 66, 67,\n",
       "                                                         68, 69, 70, 71, 72, 73,\n",
       "                                                         74, 75, 76, 77, 78, 79, ...]},\n",
       "                   random_state=12345,\n",
       "                   scoring=make_scorer(smape, greater_is_better=False),\n",
       "                   verbose=10)"
      ]
     },
     "execution_count": 30,
     "metadata": {},
     "output_type": "execute_result"
    }
   ],
   "source": [
    "# Строим CatBoostRegressor\n",
    "params_cbr = {\n",
    "    'learning_rate': [0.01, 0.1],\n",
    "    'depth': [None] + [i for i in range(2, 12)],\n",
    "    'n_estimators': [i for i in range(50, 200)]\n",
    "}\n",
    "model_cbr_rougher = RandomizedSearchCV(CatBoostRegressor(random_state=12345), params_cbr, n_iter=10, scoring=score, random_state=12345, n_jobs=-1, cv=3, verbose=10)\n",
    "model_cbr_final = RandomizedSearchCV(CatBoostRegressor(random_state=12345), params_cbr, n_iter=10, scoring=score, random_state=12345, n_jobs=-1, cv=3, verbose=10)\n",
    "# Обучаем CatBoostRegressor\n",
    "model_cbr_rougher.fit(features_train, target_rougher_train)\n",
    "model_cbr_final.fit(features_train, target_final_train)"
   ]
  },
  {
   "cell_type": "code",
   "execution_count": 34,
   "id": "d24bfc4a",
   "metadata": {},
   "outputs": [
    {
     "name": "stdout",
     "output_type": "stream",
     "text": [
      "Fitting 3 folds for each of 10 candidates, totalling 30 fits\n",
      "Fitting 3 folds for each of 10 candidates, totalling 30 fits\n"
     ]
    },
    {
     "data": {
      "text/plain": [
       "RandomizedSearchCV(cv=3, estimator=RandomForestRegressor(random_state=12345),\n",
       "                   n_jobs=-1,\n",
       "                   param_distributions={'max_depth': [None, 2, 3, 4, 5, 6, 7, 8,\n",
       "                                                      9, 10],\n",
       "                                        'n_estimators': [10, 11, 12, 13, 14, 15,\n",
       "                                                         16, 17, 18, 19, 20, 21,\n",
       "                                                         22, 23, 24, 25, 26, 27,\n",
       "                                                         28, 29, 30, 31, 32, 33,\n",
       "                                                         34, 35, 36, 37, 38, 39, ...]},\n",
       "                   random_state=12345,\n",
       "                   scoring=make_scorer(smape, greater_is_better=False),\n",
       "                   verbose=10)"
      ]
     },
     "execution_count": 34,
     "metadata": {},
     "output_type": "execute_result"
    }
   ],
   "source": [
    "params_rfr = {\n",
    "    'n_estimators':[i for i in range(10, 100)],\n",
    "    'max_depth': [None] + [i for i in range(2, 11)]\n",
    "}\n",
    "model_rfr_rougher = RandomizedSearchCV(RandomForestRegressor(random_state=12345), params_rfr, n_iter=10, random_state=12345, scoring=score, n_jobs=-1, cv=3, verbose=10)\n",
    "model_rfr_final = RandomizedSearchCV(RandomForestRegressor(random_state=12345), params_rfr, n_iter=10, random_state=12345, scoring=score, n_jobs=-1, cv=3, verbose=10)\n",
    "\n",
    "# Обучаем DRandomForestRegressor\n",
    "model_rfr_rougher.fit(features_train, target_rougher_train)\n",
    "model_rfr_final.fit(features_train, target_final_train)"
   ]
  },
  {
   "cell_type": "code",
   "execution_count": 35,
   "id": "49dae630",
   "metadata": {},
   "outputs": [
    {
     "name": "stdout",
     "output_type": "stream",
     "text": [
      "LinearRegression лучший результат rougher = 10.435831710777265\n",
      "CatBoostRegressor лучший результат rougher = 7.481009727384154\n",
      "RandomForestRegressor лучший результат rougher = 7.704603494813685\n",
      "\n",
      "LinearRegression лучший результат final = 13.394385520866606\n",
      "CatBoostRegressor лучший результат final = 9.669444261549897\n",
      "RandomForestRegressor лучший результат final = 9.68483243082182\n"
     ]
    }
   ],
   "source": [
    "# Определяем самую удачную модель\n",
    "lr_rougher = model_lr_rougher.best_score_\n",
    "cbr_rougher = model_cbr_rougher.best_score_\n",
    "rfr_rougher = model_rfr_rougher.best_score_\n",
    "lr_final = model_lr_final.best_score_\n",
    "cbr_final = model_cbr_final.best_score_\n",
    "rfr_final = model_rfr_final.best_score_\n",
    "\n",
    "\n",
    "print('LinearRegression лучший результат rougher =', -lr_rougher)\n",
    "print('CatBoostRegressor лучший результат rougher =', -cbr_rougher)\n",
    "print('RandomForestRegressor лучший результат rougher =', -rfr_rougher)\n",
    "print()\n",
    "\n",
    "print('LinearRegression лучший результат final =', -lr_final)\n",
    "print('CatBoostRegressor лучший результат final =', -cbr_final)\n",
    "print('RandomForestRegressor лучший результат final =', -rfr_final)"
   ]
  },
  {
   "cell_type": "markdown",
   "id": "02ad1d31",
   "metadata": {},
   "source": [
    "Выбираем CatBoostRegressor за самый лучший результат. CatBoostRegressor лучший результат rougher = 7,48, лучший результат final = 9,67"
   ]
  },
  {
   "cell_type": "code",
   "execution_count": 36,
   "id": "10d68c23",
   "metadata": {},
   "outputs": [
    {
     "name": "stdout",
     "output_type": "stream",
     "text": [
      "CatBoostRegressor итоговое sMAPE = 9.12233562800846\n"
     ]
    }
   ],
   "source": [
    "# Вычислим итоговое sMAPE для лучшей модели\n",
    "smape_cbt = final_smape(cbr_rougher, cbr_final)\n",
    "print('CatBoostRegressor итоговое sMAPE =', -smape_cbt)"
   ]
  },
  {
   "cell_type": "markdown",
   "id": "c1b17868",
   "metadata": {},
   "source": [
    "итоговое sMAPE на тренировочной выборке = 9.122"
   ]
  },
  {
   "cell_type": "markdown",
   "id": "df6bafd2",
   "metadata": {},
   "source": [
    "#### Проверим результаты на тестовой выборке"
   ]
  },
  {
   "cell_type": "code",
   "execution_count": 37,
   "id": "1f7d1679",
   "metadata": {},
   "outputs": [
    {
     "name": "stdout",
     "output_type": "stream",
     "text": [
      "sMAPE на тестовой выборке = 6.424\n"
     ]
    }
   ],
   "source": [
    "# Получаем предсказания по лучшей модели для test\n",
    "predicted_rougher = model_cbr_rougher.predict(features_test)\n",
    "predicted_final = model_cbr_final.predict(features_test)\n",
    "\n",
    "#вычисляем иоговое sMAPE\n",
    "rouger_smape_test = smape(target_rougher_test, predicted_rougher)\n",
    "final_smape_test = smape(target_final_test, predicted_final)\n",
    "\n",
    "res_smape = final_smape(rouger_smape_test, final_smape_test)\n",
    "print('sMAPE на тестовой выборке =', round(res_smape,3))\n"
   ]
  },
  {
   "cell_type": "markdown",
   "id": "bd0e9d23",
   "metadata": {},
   "source": [
    "    Выводы:\n",
    "    По сравнению с Dummy моделью метрики других моделей лучше - модели вменяемые. Итоговый sMAPE на константной модели =  12,737\n",
    "    Модель градиентного бустинга CatBoostRegressor оказалось лучшей, ее симметричная средняя абсолютная процентная ошибка самая маленькая, на тестовой выборке показатель улучшается. sMAPE на тестовой выборке = 6,424.\n",
    "    Прототипом модели машинного обучения для «Цифры» выбираем CatBoostRegressor."
   ]
  }
 ],
 "metadata": {
  "ExecuteTimeLog": [
   {
    "duration": 9,
    "start_time": "2023-04-03T00:06:53.000Z"
   },
   {
    "duration": 243,
    "start_time": "2023-04-03T00:07:00.941Z"
   },
   {
    "duration": 2355,
    "start_time": "2023-04-03T06:37:06.408Z"
   },
   {
    "duration": 1612,
    "start_time": "2023-04-03T06:37:14.017Z"
   },
   {
    "duration": 119,
    "start_time": "2023-04-03T06:38:29.168Z"
   },
   {
    "duration": 41,
    "start_time": "2023-04-03T06:38:37.836Z"
   },
   {
    "duration": 2041,
    "start_time": "2023-04-03T06:38:46.319Z"
   },
   {
    "duration": 5,
    "start_time": "2023-04-03T06:38:50.411Z"
   },
   {
    "duration": 2169,
    "start_time": "2023-04-03T06:39:07.535Z"
   },
   {
    "duration": 1593,
    "start_time": "2023-04-03T06:39:09.706Z"
   },
   {
    "duration": 139,
    "start_time": "2023-04-03T06:39:11.301Z"
   },
   {
    "duration": 0,
    "start_time": "2023-04-03T06:39:11.443Z"
   },
   {
    "duration": 0,
    "start_time": "2023-04-03T06:39:11.445Z"
   },
   {
    "duration": 0,
    "start_time": "2023-04-03T06:39:11.446Z"
   },
   {
    "duration": 0,
    "start_time": "2023-04-03T06:39:11.447Z"
   },
   {
    "duration": 0,
    "start_time": "2023-04-03T06:39:11.448Z"
   },
   {
    "duration": 0,
    "start_time": "2023-04-03T06:39:11.450Z"
   },
   {
    "duration": 0,
    "start_time": "2023-04-03T06:39:11.451Z"
   },
   {
    "duration": 0,
    "start_time": "2023-04-03T06:39:11.452Z"
   },
   {
    "duration": 0,
    "start_time": "2023-04-03T06:39:11.453Z"
   },
   {
    "duration": 0,
    "start_time": "2023-04-03T06:39:11.454Z"
   },
   {
    "duration": 0,
    "start_time": "2023-04-03T06:39:11.455Z"
   },
   {
    "duration": 0,
    "start_time": "2023-04-03T06:39:11.457Z"
   },
   {
    "duration": 0,
    "start_time": "2023-04-03T06:39:11.458Z"
   },
   {
    "duration": 0,
    "start_time": "2023-04-03T06:39:11.459Z"
   },
   {
    "duration": 0,
    "start_time": "2023-04-03T06:39:11.461Z"
   },
   {
    "duration": 0,
    "start_time": "2023-04-03T06:39:11.461Z"
   },
   {
    "duration": 0,
    "start_time": "2023-04-03T06:39:11.463Z"
   },
   {
    "duration": 0,
    "start_time": "2023-04-03T06:39:11.464Z"
   },
   {
    "duration": 0,
    "start_time": "2023-04-03T06:39:11.465Z"
   },
   {
    "duration": 0,
    "start_time": "2023-04-03T06:39:11.467Z"
   },
   {
    "duration": 0,
    "start_time": "2023-04-03T06:39:11.468Z"
   },
   {
    "duration": 0,
    "start_time": "2023-04-03T06:39:11.469Z"
   },
   {
    "duration": 0,
    "start_time": "2023-04-03T06:39:11.470Z"
   },
   {
    "duration": 0,
    "start_time": "2023-04-03T06:39:11.471Z"
   },
   {
    "duration": 0,
    "start_time": "2023-04-03T06:39:11.472Z"
   },
   {
    "duration": 0,
    "start_time": "2023-04-03T06:39:11.474Z"
   },
   {
    "duration": 0,
    "start_time": "2023-04-03T06:39:11.475Z"
   },
   {
    "duration": 0,
    "start_time": "2023-04-03T06:39:11.524Z"
   },
   {
    "duration": 0,
    "start_time": "2023-04-03T06:39:11.524Z"
   },
   {
    "duration": 2180,
    "start_time": "2023-04-03T06:41:29.236Z"
   },
   {
    "duration": 2129,
    "start_time": "2023-04-03T06:41:41.512Z"
   },
   {
    "duration": 1422,
    "start_time": "2023-04-03T06:41:43.644Z"
   },
   {
    "duration": 153,
    "start_time": "2023-04-03T06:41:45.068Z"
   },
   {
    "duration": 0,
    "start_time": "2023-04-03T06:41:45.223Z"
   },
   {
    "duration": 0,
    "start_time": "2023-04-03T06:41:45.225Z"
   },
   {
    "duration": 0,
    "start_time": "2023-04-03T06:41:45.226Z"
   },
   {
    "duration": 0,
    "start_time": "2023-04-03T06:41:45.228Z"
   },
   {
    "duration": 0,
    "start_time": "2023-04-03T06:41:45.230Z"
   },
   {
    "duration": 0,
    "start_time": "2023-04-03T06:41:45.231Z"
   },
   {
    "duration": 0,
    "start_time": "2023-04-03T06:41:45.233Z"
   },
   {
    "duration": 0,
    "start_time": "2023-04-03T06:41:45.235Z"
   },
   {
    "duration": 0,
    "start_time": "2023-04-03T06:41:45.237Z"
   },
   {
    "duration": 0,
    "start_time": "2023-04-03T06:41:45.238Z"
   },
   {
    "duration": 0,
    "start_time": "2023-04-03T06:41:45.239Z"
   },
   {
    "duration": 0,
    "start_time": "2023-04-03T06:41:45.240Z"
   },
   {
    "duration": 0,
    "start_time": "2023-04-03T06:41:45.242Z"
   },
   {
    "duration": 0,
    "start_time": "2023-04-03T06:41:45.243Z"
   },
   {
    "duration": 0,
    "start_time": "2023-04-03T06:41:45.245Z"
   },
   {
    "duration": 0,
    "start_time": "2023-04-03T06:41:45.246Z"
   },
   {
    "duration": 0,
    "start_time": "2023-04-03T06:41:45.247Z"
   },
   {
    "duration": 0,
    "start_time": "2023-04-03T06:41:45.248Z"
   },
   {
    "duration": 0,
    "start_time": "2023-04-03T06:41:45.249Z"
   },
   {
    "duration": 0,
    "start_time": "2023-04-03T06:41:45.250Z"
   },
   {
    "duration": 0,
    "start_time": "2023-04-03T06:41:45.251Z"
   },
   {
    "duration": 0,
    "start_time": "2023-04-03T06:41:45.253Z"
   },
   {
    "duration": 0,
    "start_time": "2023-04-03T06:41:45.254Z"
   },
   {
    "duration": 0,
    "start_time": "2023-04-03T06:41:45.255Z"
   },
   {
    "duration": 0,
    "start_time": "2023-04-03T06:41:45.256Z"
   },
   {
    "duration": 0,
    "start_time": "2023-04-03T06:41:45.257Z"
   },
   {
    "duration": 0,
    "start_time": "2023-04-03T06:41:45.258Z"
   },
   {
    "duration": 0,
    "start_time": "2023-04-03T06:41:45.259Z"
   },
   {
    "duration": 0,
    "start_time": "2023-04-03T06:41:45.260Z"
   },
   {
    "duration": 38,
    "start_time": "2023-04-03T06:41:57.738Z"
   },
   {
    "duration": 38,
    "start_time": "2023-04-03T06:42:58.523Z"
   },
   {
    "duration": 1818,
    "start_time": "2023-04-03T06:45:40.575Z"
   },
   {
    "duration": 28,
    "start_time": "2023-04-03T06:45:50.359Z"
   },
   {
    "duration": 2123,
    "start_time": "2023-04-03T06:46:33.828Z"
   },
   {
    "duration": 1425,
    "start_time": "2023-04-03T06:46:35.954Z"
   },
   {
    "duration": 677,
    "start_time": "2023-04-03T06:46:37.381Z"
   },
   {
    "duration": 125,
    "start_time": "2023-04-03T06:46:38.060Z"
   },
   {
    "duration": 21,
    "start_time": "2023-04-03T06:46:38.188Z"
   },
   {
    "duration": 26,
    "start_time": "2023-04-03T06:46:38.210Z"
   },
   {
    "duration": 15,
    "start_time": "2023-04-03T06:46:38.238Z"
   },
   {
    "duration": 14,
    "start_time": "2023-04-03T06:46:38.255Z"
   },
   {
    "duration": 14,
    "start_time": "2023-04-03T06:46:38.271Z"
   },
   {
    "duration": 48,
    "start_time": "2023-04-03T06:46:38.287Z"
   },
   {
    "duration": 16,
    "start_time": "2023-04-03T06:46:38.336Z"
   },
   {
    "duration": 244,
    "start_time": "2023-04-03T06:46:38.354Z"
   },
   {
    "duration": 895,
    "start_time": "2023-04-03T06:46:38.600Z"
   },
   {
    "duration": 1103,
    "start_time": "2023-04-03T06:46:39.499Z"
   },
   {
    "duration": 19,
    "start_time": "2023-04-03T06:46:40.604Z"
   },
   {
    "duration": 1290,
    "start_time": "2023-04-03T06:46:40.625Z"
   },
   {
    "duration": 1201,
    "start_time": "2023-04-03T06:46:41.916Z"
   },
   {
    "duration": 30,
    "start_time": "2023-04-03T06:46:43.123Z"
   },
   {
    "duration": 17,
    "start_time": "2023-04-03T06:46:43.155Z"
   },
   {
    "duration": 4,
    "start_time": "2023-04-03T06:46:43.174Z"
   },
   {
    "duration": 25,
    "start_time": "2023-04-03T06:46:43.180Z"
   },
   {
    "duration": 49,
    "start_time": "2023-04-03T06:46:43.207Z"
   },
   {
    "duration": 4,
    "start_time": "2023-04-03T06:46:43.258Z"
   },
   {
    "duration": 16,
    "start_time": "2023-04-03T06:46:43.264Z"
   },
   {
    "duration": 76,
    "start_time": "2023-04-03T06:46:43.282Z"
   },
   {
    "duration": 3166,
    "start_time": "2023-04-03T06:46:43.360Z"
   },
   {
    "duration": 5,
    "start_time": "2023-04-03T06:46:46.527Z"
   }
  ],
  "kernelspec": {
   "display_name": "Python 3 (ipykernel)",
   "language": "python",
   "name": "python3"
  },
  "language_info": {
   "codemirror_mode": {
    "name": "ipython",
    "version": 3
   },
   "file_extension": ".py",
   "mimetype": "text/x-python",
   "name": "python",
   "nbconvert_exporter": "python",
   "pygments_lexer": "ipython3",
   "version": "3.9.13"
  },
  "toc": {
   "base_numbering": 1,
   "nav_menu": {},
   "number_sections": true,
   "sideBar": true,
   "skip_h1_title": true,
   "title_cell": "Table of Contents",
   "title_sidebar": "Contents",
   "toc_cell": false,
   "toc_position": {
    "height": "calc(100% - 180px)",
    "left": "10px",
    "top": "150px",
    "width": "165px"
   },
   "toc_section_display": true,
   "toc_window_display": true
  }
 },
 "nbformat": 4,
 "nbformat_minor": 5
}
